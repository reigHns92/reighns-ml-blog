{
 "cells": [
  {
   "cell_type": "markdown",
   "id": "60adb63e-c299-46ea-9796-bd8f77d0b335",
   "metadata": {},
   "source": [
    "## Imports"
   ]
  },
  {
   "cell_type": "code",
   "execution_count": 5,
   "id": "38025e39-08ad-4eb6-9f60-a8601a9cec98",
   "metadata": {},
   "outputs": [],
   "source": [
    "from typing import *\n",
    "from dataclasses import dataclass, field\n",
    "from typing import List, Union, Dict\n",
    "import uuid"
   ]
  },
  {
   "cell_type": "markdown",
   "id": "3fe58210-b543-4871-8a2d-0a6d1b4b16bc",
   "metadata": {},
   "source": [
    "## Common Pitfalls"
   ]
  },
  {
   "cell_type": "markdown",
   "id": "a88c8f1e-ab31-4248-887a-9514c3174306",
   "metadata": {},
   "source": [
    "### References\n",
    "\n",
    "- [Common Gotchas in Python](https://docs.python-guide.org/writing/gotchas/)"
   ]
  },
  {
   "cell_type": "markdown",
   "id": "3fad2d71-33a1-4c27-8154-7bfd7094fd8b",
   "metadata": {},
   "source": [
    "### [Is None vs == None](https://stackoverflow.com/questions/3257919/what-is-the-difference-between-is-none-and-none/3257957#3257957)\n",
    "\n",
    "Not much of a big difference but better to use `is` to compare."
   ]
  },
  {
   "cell_type": "markdown",
   "id": "e3e14e17-ebfe-4e9f-a121-74ec2421a85c",
   "metadata": {},
   "source": [
    "A small caution is below."
   ]
  },
  {
   "cell_type": "code",
   "execution_count": 80,
   "id": "7adc737d-2887-48dc-824a-13db05c75980",
   "metadata": {},
   "outputs": [
    {
     "data": {
      "text/plain": [
       "False"
      ]
     },
     "execution_count": 80,
     "metadata": {},
     "output_type": "execute_result"
    }
   ],
   "source": [
    "p = [1]\n",
    "q = [1]"
   ]
  },
  {
   "cell_type": "code",
   "execution_count": null,
   "id": "b0578a8c-1401-4654-9f99-6694dce4d38d",
   "metadata": {},
   "outputs": [],
   "source": [
    "p is q # False because they are not the same actual object"
   ]
  },
  {
   "cell_type": "code",
   "execution_count": 79,
   "id": "2307e683-3909-41ab-b9c8-b2804d8ebd6f",
   "metadata": {},
   "outputs": [
    {
     "data": {
      "text/plain": [
       "True"
      ]
     },
     "execution_count": 79,
     "metadata": {},
     "output_type": "execute_result"
    }
   ],
   "source": [
    "p == q # True because they are equivalent"
   ]
  },
  {
   "cell_type": "markdown",
   "id": "91359fd4-92bc-4d12-b0c0-78d5451886c4",
   "metadata": {},
   "source": [
    "### None/0 is False\n",
    "\n",
    "`None` and $0$ are `False` by default in python, but the catch is:\n",
    "\n",
    "- `0 is False` evaluates to `True` but;\n",
    "- `None is False` evaluates to `False` but;\n",
    "- `None is True` is also `False`;\n",
    "- `(not None) is True` evaluates to `True` since `(not None)` is `(not False)` which is `True`;\n",
    "- `not None is False` evaluates to `True` since one should evaluate `not (None is False)` and since `(None is False)` is `False` so `not False` is `True`."
   ]
  },
  {
   "cell_type": "code",
   "execution_count": 120,
   "id": "b2f14f51-490a-4669-87cf-ae28875ecf4d",
   "metadata": {},
   "outputs": [
    {
     "data": {
      "text/plain": [
       "True"
      ]
     },
     "execution_count": 120,
     "metadata": {},
     "output_type": "execute_result"
    }
   ],
   "source": [
    "not None is False # not (None is False)"
   ]
  },
  {
   "cell_type": "markdown",
   "id": "6376d9c0-10f8-4b10-a244-05bb24058757",
   "metadata": {},
   "source": [
    "## Hash"
   ]
  },
  {
   "cell_type": "code",
   "execution_count": 121,
   "id": "79f84825-e800-46d7-83d9-9b1822cb1d96",
   "metadata": {},
   "outputs": [
    {
     "data": {
      "text/plain": [
       "(7474225329682574832, -283857846903866188, 1)"
      ]
     },
     "execution_count": 121,
     "metadata": {},
     "output_type": "execute_result"
    }
   ],
   "source": [
    "hash(\"mystring\"), hash(('foo', 'bar')), hash(1)"
   ]
  },
  {
   "cell_type": "markdown",
   "id": "40c4e0c3-c51e-45f1-8ccd-6d0499bf3bad",
   "metadata": {},
   "source": [
    "## Dataclasses"
   ]
  },
  {
   "cell_type": "markdown",
   "id": "606aa3dc-75fe-401c-8e10-bd9a00443ff1",
   "metadata": {},
   "source": [
    "### General Properties\n",
    "\n",
    "- [Dataclass as boiler plate as a Class](https://stackoverflow.com/questions/47955263/what-are-data-classes-and-how-are-they-different-from-common-classes)\n",
    "    - For example if you want to `hash` your class, then you need to write `__hash__` and etc which takes time, `dataclass` can be done easily. [Why need hash?](https://stackoverflow.com/questions/14535730/what-does-hashable-mean-in-python)\n",
    "    - For example the dunder method `__repr__` are done for you in an easy to read manner rather than the default one which points to memory address."
   ]
  },
  {
   "cell_type": "markdown",
   "id": "fc423423-9634-43ff-9e1e-ff97f33a9576",
   "metadata": {},
   "source": [
    "### Default Factory"
   ]
  },
  {
   "cell_type": "markdown",
   "id": "39a13d2f-c389-4ec8-b22e-cb3e38c87762",
   "metadata": {},
   "source": [
    "#### Intuition\n",
    "\n",
    "By design, `dataclass` does not take in **mutable default**. What does that mean? Let us see a quick example."
   ]
  },
  {
   "cell_type": "markdown",
   "id": "beab36a3-179a-4531-99a9-8d7638f6b54e",
   "metadata": {},
   "source": [
    "#### Passing Mutable Default Directly to Dataclass\n",
    "\n",
    "The following `C_dataclass` has `init=True` by default, and setting the attributes in the `dataclass` simply translates to a normal class with the `__init__(a: int, b: int = 0)`."
   ]
  },
  {
   "cell_type": "code",
   "execution_count": 33,
   "id": "fc1225e1-a91c-4ea1-b2a8-be07e2d066fd",
   "metadata": {},
   "outputs": [],
   "source": [
    "@dataclass(init=True)\n",
    "class C_dataclass:\n",
    "    a: int      # 'a' has no default value\n",
    "    b: int = 0  # assign a default value for 'b'"
   ]
  },
  {
   "cell_type": "code",
   "execution_count": 34,
   "id": "87742bed-4d20-491c-b485-df89eefb1a4b",
   "metadata": {},
   "outputs": [],
   "source": [
    "class C_class:\n",
    "    def __init__(self, a: int, b: int = 0):\n",
    "        self.a = a\n",
    "        self.b = b"
   ]
  },
  {
   "cell_type": "code",
   "execution_count": 35,
   "id": "1fb22728-674a-420f-8d36-b5180380c0e7",
   "metadata": {},
   "outputs": [],
   "source": [
    "c_dataclass = C_dataclass(a = 1)\n",
    "c_class = C_class(a=1)"
   ]
  },
  {
   "cell_type": "markdown",
   "id": "e896995a-dbbc-4e18-9721-4b8b8b2a61da",
   "metadata": {},
   "source": [
    "Notice that both classes have a default **attribute** `b = 0`. This is totally fine! We can also set default attributes as a list for example in a normal class:"
   ]
  },
  {
   "cell_type": "code",
   "execution_count": 36,
   "id": "0766f589-d270-4d1e-93d1-4d2cc4e9e287",
   "metadata": {},
   "outputs": [],
   "source": [
    "class C_class:\n",
    "    def __init__(self, a: int, b: int = 0, c: List[int] = [1, 2, 3]):\n",
    "        self.a = a\n",
    "        self.b = b\n",
    "        self.c = c"
   ]
  },
  {
   "cell_type": "markdown",
   "id": "629e941d-f8c0-4c87-853e-4057460f7676",
   "metadata": {},
   "source": [
    "However, if one tries to do that for `dataclass`, an error will pop out:\n",
    "\n",
    "```python\n",
    "ValueError: mutable default <class 'list'> for field c is not allowed: use default_factory\n",
    "```"
   ]
  },
  {
   "cell_type": "code",
   "execution_count": 38,
   "id": "fc3a929a-cf81-47d7-8abb-48ec62d30698",
   "metadata": {},
   "outputs": [],
   "source": [
    "@dataclass(init=True)\n",
    "class C_dataclass:\n",
    "    a: int      # 'a' has no default value\n",
    "    b: int = 0  # assign a default value for 'b'\n",
    "    c: List[int] = [1, 2, 3]"
   ]
  },
  {
   "cell_type": "markdown",
   "id": "ab21c53f-f708-4fb9-8458-207059fe5108",
   "metadata": {},
   "source": [
    "But why? One major reason is that to **to enforce avoidance of the mutable default argument problem**."
   ]
  },
  {
   "cell_type": "markdown",
   "id": "019c4bb4-5e7f-4543-9d0c-f5bd3689742a",
   "metadata": {},
   "source": [
    "#### The Mutable Default Argument"
   ]
  },
  {
   "cell_type": "code",
   "execution_count": 50,
   "id": "9249907c-44b8-4cf4-98a7-b6740175f140",
   "metadata": {},
   "outputs": [],
   "source": [
    "def append_to(element, to=[]):\n",
    "    to.append(element)\n",
    "    return to"
   ]
  },
  {
   "cell_type": "markdown",
   "id": "b90b2c0a-0e56-4aac-b8ad-93cbf07351d4",
   "metadata": {},
   "source": [
    "Let us append some values to 2 different variables:"
   ]
  },
  {
   "cell_type": "code",
   "execution_count": 51,
   "id": "0bb89acd-676d-446f-be66-11102b836dfb",
   "metadata": {},
   "outputs": [
    {
     "name": "stdout",
     "output_type": "stream",
     "text": [
      "[12]\n",
      "[12, 42]\n"
     ]
    }
   ],
   "source": [
    "my_list = append_to(12)\n",
    "print(my_list)\n",
    "\n",
    "my_other_list = append_to(42)\n",
    "print(my_other_list)"
   ]
  },
  {
   "cell_type": "markdown",
   "id": "7adb2717-a3ec-4767-9062-fd3bda622f71",
   "metadata": {},
   "source": [
    "One would expect the output to be:\n",
    "\n",
    "```python\n",
    "my_list = append_to(12)\n",
    "print(my_list)\n",
    "[12]\n",
    "\n",
    "my_other_list = append_to(42)\n",
    "print(my_other_list)\n",
    "[42]\n",
    "```\n",
    "\n",
    "but the result is:\n",
    "\n",
    "```python\n",
    "my_list = append_to(12)\n",
    "print(my_list)\n",
    "[12]\n",
    "\n",
    "my_other_list = append_to(42)\n",
    "print(my_other_list)\n",
    "[12, 42]\n",
    "```"
   ]
  },
  {
   "cell_type": "markdown",
   "id": "7b8cf768-4753-4483-ac17-76dbb464456f",
   "metadata": {},
   "source": [
    "A new list is created once when the function is defined, and the same list is used in each successive call.\n",
    "\n",
    "Python’s default arguments are evaluated once when the function is defined, not each time the function is called (like it is in say, Ruby). This means that if you use a mutable default argument and mutate it, you will and have mutated that object for all future calls to the function as well."
   ]
  },
  {
   "cell_type": "markdown",
   "id": "4f4e697c-8218-4e69-aefa-51c4627f7ac2",
   "metadata": {},
   "source": [
    "We hence see the same issue when passing in **mutable defaults** to a class:"
   ]
  },
  {
   "cell_type": "code",
   "execution_count": 58,
   "id": "58843c9d-29df-427d-a238-6b9cfe2b8ac6",
   "metadata": {},
   "outputs": [],
   "source": [
    "class C_class:\n",
    "    def __init__(self, a: int, b: int = 0, c: List[int] = [1, 2, 3]):\n",
    "        self.a = a\n",
    "        self.b = b\n",
    "        self.c = c"
   ]
  },
  {
   "cell_type": "code",
   "execution_count": 59,
   "id": "4fc01d5d-88fe-475f-936a-d1a25778bd7d",
   "metadata": {},
   "outputs": [
    {
     "name": "stdout",
     "output_type": "stream",
     "text": [
      "[1, 2, 3, 4]\n",
      "[1, 2, 3, 4, 5]\n"
     ]
    }
   ],
   "source": [
    "c1 = C_class(a=1)\n",
    "c2 = C_class(a=1)\n",
    "\n",
    "c1.c.append(4)\n",
    "print(c1.c)\n",
    "\n",
    "c2.c.append(5)\n",
    "print(c2.c)\n",
    "\n",
    "assert c1.c == [1, 2, 3, 4, 5]\n",
    "assert c1.c is c2.c"
   ]
  },
  {
   "cell_type": "markdown",
   "id": "f6028829-49ce-446a-b2eb-5c67964d65d2",
   "metadata": {},
   "source": [
    "Thus this is deeemed dangerous and dataclass does not allow you to do it out of the bat.\n",
    "\n",
    "More info on this design can be read here [Mutable Default Values](https://docs.python.org/3/library/dataclasses.html#mutable-default-values)."
   ]
  },
  {
   "cell_type": "markdown",
   "id": "f88a969a-7718-4f3b-aabe-9ac20df3a55e",
   "metadata": {},
   "source": [
    "#### Examples (Using Default Factory to Pass Mutable Defaults)"
   ]
  },
  {
   "cell_type": "markdown",
   "id": "447ffa35-5481-424f-b9e9-b7122a944629",
   "metadata": {},
   "source": [
    "The parameters to `field()` are:\n",
    "\n",
    "`default_factory`: If provided, it must be a **zero-argument callable** that will be called when a default value is needed for this field. Among other purposes, this can be used to specify fields with mutable default values, as discussed below. It is an error to specify both default and default_factory."
   ]
  },
  {
   "cell_type": "code",
   "execution_count": 60,
   "id": "8f175abd-f2b4-4de8-9fea-e8d4c99e70d6",
   "metadata": {},
   "outputs": [],
   "source": [
    "@dataclass(init=True)\n",
    "class C_dataclass:\n",
    "    a: int      # 'a' has no default value\n",
    "    b: int = 0  # assign a default value for 'b'\n",
    "    c: List[int] = field(default_factory=[1, 2, 3])"
   ]
  },
  {
   "cell_type": "code",
   "execution_count": null,
   "id": "1ef4e2a6-4cc7-46bd-873d-8381f0403736",
   "metadata": {},
   "outputs": [],
   "source": [
    "C_dataclass(a=1)"
   ]
  },
  {
   "cell_type": "markdown",
   "id": "c9a2d124-fa9d-4c66-93ab-a2a7c909fbe9",
   "metadata": {},
   "source": [
    "Calling this `dataclass` will result in an error:\n",
    "\n",
    "```python\n",
    "TypeError: 'list' object is not callable\n",
    "```\n",
    "\n",
    "because you are passing in a list of values and not what `default_factory` expects, a **zero-argument callable**."
   ]
  },
  {
   "cell_type": "markdown",
   "id": "b299565b-6444-4a73-bdf1-8bc3309baf5a",
   "metadata": {},
   "source": [
    "What is a **zero-argument callable**? The examples below illustrates:"
   ]
  },
  {
   "cell_type": "markdown",
   "id": "181894fb-fe58-4e71-b725-168530042d86",
   "metadata": {},
   "source": [
    "Indeed, a list with values is not a function or class method, and hence not **callable** if you put the \"parenthesis\" `()` behind. The same error occurs."
   ]
  },
  {
   "cell_type": "code",
   "execution_count": 71,
   "id": "adf825a3-1977-416b-978d-55ae0f57c422",
   "metadata": {},
   "outputs": [
    {
     "ename": "TypeError",
     "evalue": "'list' object is not callable",
     "output_type": "error",
     "traceback": [
      "\u001b[1;31m---------------------------------------------------------------------------\u001b[0m",
      "\u001b[1;31mTypeError\u001b[0m                                 Traceback (most recent call last)",
      "\u001b[1;32m~\\AppData\\Local\\Temp/ipykernel_4064/3467513020.py\u001b[0m in \u001b[0;36m<module>\u001b[1;34m\u001b[0m\n\u001b[0;32m      1\u001b[0m \u001b[0mdefault_factory\u001b[0m \u001b[1;33m=\u001b[0m \u001b[1;33m[\u001b[0m\u001b[1;36m1\u001b[0m\u001b[1;33m,\u001b[0m \u001b[1;36m2\u001b[0m\u001b[1;33m,\u001b[0m \u001b[1;36m3\u001b[0m\u001b[1;33m]\u001b[0m\u001b[1;33m\u001b[0m\u001b[1;33m\u001b[0m\u001b[0m\n\u001b[1;32m----> 2\u001b[1;33m \u001b[0mdefault_factory\u001b[0m\u001b[1;33m(\u001b[0m\u001b[1;33m)\u001b[0m\u001b[1;33m\u001b[0m\u001b[1;33m\u001b[0m\u001b[0m\n\u001b[0m",
      "\u001b[1;31mTypeError\u001b[0m: 'list' object is not callable"
     ]
    }
   ],
   "source": [
    "default_factory = [1, 2, 3]\n",
    "default_factory() "
   ]
  },
  {
   "cell_type": "markdown",
   "id": "1b317061-f59e-4ba6-86b0-7c7668d81590",
   "metadata": {},
   "source": [
    "Now if we set `default_factory` as a function that returns the list `[1, 2, 3]`, then it is indeed callable and in fact, it's **zero-argument callable** since this function call takes in **zero arguments**:"
   ]
  },
  {
   "cell_type": "code",
   "execution_count": 69,
   "id": "c66fc995-a13e-4344-b457-213fbff2bc9e",
   "metadata": {},
   "outputs": [],
   "source": [
    "default_factory = lambda: [1, 2, 3]\n",
    "default_factory()"
   ]
  },
  {
   "cell_type": "markdown",
   "id": "1c79ed3d-a40e-4b1f-a5ca-9ff3f9fac681",
   "metadata": {},
   "source": [
    "So remember, if you want pass in a default mutable object with values inside, set a `lambda` as such:"
   ]
  },
  {
   "cell_type": "code",
   "execution_count": 72,
   "id": "e036fc4f-ee4b-4b35-9497-1f1e0b7f6ef2",
   "metadata": {},
   "outputs": [],
   "source": [
    "@dataclass(init=True)\n",
    "class C_dataclass:\n",
    "    a: int      # 'a' has no default value\n",
    "    b: int = 0  # assign a default value for 'b'\n",
    "    c: List[int] = field(default_factory= lambda: [1, 2, 3])"
   ]
  },
  {
   "cell_type": "code",
   "execution_count": 73,
   "id": "0f278bf1-604c-4ba1-abe0-dcb86318a02b",
   "metadata": {},
   "outputs": [
    {
     "data": {
      "text/plain": [
       "[1, 2, 3]"
      ]
     },
     "execution_count": 73,
     "metadata": {},
     "output_type": "execute_result"
    }
   ],
   "source": [
    "c1 = C_dataclass(a=1)\n",
    "c1.c"
   ]
  },
  {
   "cell_type": "markdown",
   "id": "4bcf213a-df0d-4dbe-8a9a-367a8b667017",
   "metadata": {},
   "source": [
    "#### Generate Functions in Default Factory (**Important for Model Registry!**)\n",
    "\n",
    "This is very very useful especially if you are doing a ML project with multiple experiments, each experiments should be stored in an unique folder as a form of model registry.\n",
    "\n",
    "```tree title=\"sample directory\" linenums=\"1\"\n",
    "model_registry/\n",
    "    exp1_uuid4/\n",
    "        weights/\n",
    "        logs/\n",
    "        ...\n",
    "    exp2_uuid4/\n",
    "        weights/\n",
    "        logs/\n",
    "```\n",
    "\n",
    "We can simply say create a function called `generate_uuid4()` and pass it to `field`'s `default_factory` and it will generate a new unique id for each run of experiment."
   ]
  },
  {
   "cell_type": "code",
   "execution_count": 21,
   "id": "b1855f7b-0f4c-4416-bc7e-e664cb771cb4",
   "metadata": {},
   "outputs": [],
   "source": [
    "def generate_uuid4() -> str:\n",
    "    \"\"\"Generate a random UUID4.\n",
    "\n",
    "    Returns:\n",
    "        str: Random UUID4\n",
    "    \"\"\"\n",
    "    return str(uuid.uuid4())\n",
    "\n",
    "\n",
    "@dataclass(init=True, frozen=False)\n",
    "class ModelRegistry:\n",
    "    \"\"\"A class to keep track of model artifacts.\"\"\"\n",
    "\n",
    "    project_name: str = \"pkd\"\n",
    "    unique_id: str = field(default_factory=generate_uuid4)"
   ]
  },
  {
   "cell_type": "code",
   "execution_count": 22,
   "id": "776ab5a7-a043-4271-a6a2-21192e733b10",
   "metadata": {},
   "outputs": [
    {
     "data": {
      "text/plain": [
       "'d6f3eb61-72f7-4ed4-9637-6df42a179bdf'"
      ]
     },
     "execution_count": 22,
     "metadata": {},
     "output_type": "execute_result"
    }
   ],
   "source": [
    "exp1 = ModelRegistry(project_name=\"pkd\")\n",
    "exp1.unique_id"
   ]
  },
  {
   "cell_type": "code",
   "execution_count": 23,
   "id": "25fcec95-4bfb-4490-b729-7407004c0e1c",
   "metadata": {},
   "outputs": [
    {
     "data": {
      "text/plain": [
       "'56d5f4f8-adca-4e2c-a5f3-9207da7d1c9a'"
      ]
     },
     "execution_count": 23,
     "metadata": {},
     "output_type": "execute_result"
    }
   ],
   "source": [
    "exp2 = ModelRegistry()\n",
    "exp2.unique_id"
   ]
  },
  {
   "cell_type": "markdown",
   "id": "545149c7-833f-477a-a2f9-7229f4adae4d",
   "metadata": {},
   "source": [
    "Although the `unique_id` should be run by the random generator `uuid`, users are allowed to modify it and that is something we do not want. We can therefore set `init=False` inside the `field` so it \"won't\" initialize let's see example below:"
   ]
  },
  {
   "cell_type": "code",
   "execution_count": 24,
   "id": "293914f6-18a7-4ac8-bc54-b3ab973db92c",
   "metadata": {},
   "outputs": [
    {
     "data": {
      "text/plain": [
       "'123'"
      ]
     },
     "execution_count": 24,
     "metadata": {},
     "output_type": "execute_result"
    }
   ],
   "source": [
    "# example where user can modify\n",
    "exp3 = ModelRegistry(project_name=\"pkd\", unique_id=\"123\")\n",
    "exp3.unique_id"
   ]
  },
  {
   "cell_type": "code",
   "execution_count": 25,
   "id": "ba70b5d7-92a9-4511-8d27-99c861ee26f7",
   "metadata": {},
   "outputs": [],
   "source": [
    "@dataclass(init=True, frozen=False)\n",
    "class ModelRegistry:\n",
    "    \"\"\"A class to keep track of model artifacts.\"\"\"\n",
    "\n",
    "    project_name: str = \"PeekingDuck\"\n",
    "    unique_id: str = field(init=False, default_factory=generate_uuid4)"
   ]
  },
  {
   "cell_type": "code",
   "execution_count": 26,
   "id": "e00623f7-6069-49ec-b3d4-99c98680e447",
   "metadata": {},
   "outputs": [
    {
     "ename": "TypeError",
     "evalue": "__init__() got an unexpected keyword argument 'unique_id'",
     "output_type": "error",
     "traceback": [
      "\u001b[1;31m---------------------------------------------------------------------------\u001b[0m",
      "\u001b[1;31mTypeError\u001b[0m                                 Traceback (most recent call last)",
      "\u001b[1;32m~\\AppData\\Local\\Temp/ipykernel_20736/826619969.py\u001b[0m in \u001b[0;36m<module>\u001b[1;34m\u001b[0m\n\u001b[0;32m      1\u001b[0m \u001b[1;31m# example where user CANNOT modify and throws error\u001b[0m\u001b[1;33m\u001b[0m\u001b[1;33m\u001b[0m\u001b[0m\n\u001b[1;32m----> 2\u001b[1;33m \u001b[0mexp3\u001b[0m \u001b[1;33m=\u001b[0m \u001b[0mModelRegistry\u001b[0m\u001b[1;33m(\u001b[0m\u001b[0mproject_name\u001b[0m\u001b[1;33m=\u001b[0m\u001b[1;34m\"pkd\"\u001b[0m\u001b[1;33m,\u001b[0m \u001b[0munique_id\u001b[0m\u001b[1;33m=\u001b[0m\u001b[1;34m\"123\"\u001b[0m\u001b[1;33m)\u001b[0m\u001b[1;33m\u001b[0m\u001b[1;33m\u001b[0m\u001b[0m\n\u001b[0m\u001b[0;32m      3\u001b[0m \u001b[0mexp3\u001b[0m\u001b[1;33m.\u001b[0m\u001b[0munique_id\u001b[0m\u001b[1;33m\u001b[0m\u001b[1;33m\u001b[0m\u001b[0m\n",
      "\u001b[1;31mTypeError\u001b[0m: __init__() got an unexpected keyword argument 'unique_id'"
     ]
    }
   ],
   "source": [
    "# example where user CANNOT modify and throws error\n",
    "exp3 = ModelRegistry(project_name=\"pkd\", unique_id=\"123\")\n",
    "exp3.unique_id"
   ]
  },
  {
   "cell_type": "code",
   "execution_count": 27,
   "id": "3160d01c-e6c2-421d-b52f-6d726752b0f0",
   "metadata": {},
   "outputs": [
    {
     "data": {
      "text/plain": [
       "'91679660-a805-423a-bb76-feffede8c731'"
      ]
     },
     "execution_count": 27,
     "metadata": {},
     "output_type": "execute_result"
    }
   ],
   "source": [
    "# you should not set the unique id yourself.\n",
    "exp3 = ModelRegistry(project_name=\"pkd\")\n",
    "exp3.unique_id"
   ]
  },
  {
   "cell_type": "markdown",
   "id": "5c6bc291-a9a4-4065-a87b-2ac13e3ed6ff",
   "metadata": {},
   "source": [
    "#### References\n",
    "\n",
    "- [Passing default list argument to dataclasses](https://stackoverflow.com/questions/52063759/passing-default-list-argument-to-dataclasses)\n",
    "- [Why can't dataclasses have mutable defaults in their class attributes declaration?](https://stackoverflow.com/questions/53632152/why-cant-dataclasses-have-mutable-defaults-in-their-class-attributes-declaratio)\n",
    "- [Mutable Default Values](https://docs.python.org/3/library/dataclasses.html#mutable-default-values)\n",
    "- [This is why python dataclasses are awesome](https://www.youtube.com/watch?v=CvQ7e6yUtnw)"
   ]
  },
  {
   "cell_type": "markdown",
   "id": "100d5cdc-282a-4905-92e3-93798ecb4734",
   "metadata": {},
   "source": [
    "### Frozen (Hashable/Mutable)"
   ]
  },
  {
   "cell_type": "markdown",
   "id": "5d2ea0df-4eb8-4f64-bfdd-d7fcca6d3f0c",
   "metadata": {},
   "source": [
    "#### Intuition\n",
    "\n",
    "When `frozen` is True, the `dataclass` is an immuatable object and [immutable](https://stackoverflow.com/questions/622664/what-is-immutability-and-why-should-i-worry-about-it) means you can't change the attributes or characteristics of an object after it's initialised. \n",
    "\n",
    "Note hash and immutable is a bit similar[^hash_immutable].\n",
    "\n",
    "!!! tip\n",
    "    Generally, making an object mutable is good since it stays constant. No surprises :)\n",
    "\n",
    "[^hash_immutable]: [Immutable vs Hash](https://stackoverflow.com/questions/2671376/hashable-immutable)."
   ]
  },
  {
   "cell_type": "markdown",
   "id": "9c23b02e-d782-4c91-8264-54d2e419043b",
   "metadata": {},
   "source": [
    "#### Examples"
   ]
  },
  {
   "cell_type": "markdown",
   "id": "60015018-eeb3-495c-95ce-fe16a4446c34",
   "metadata": {},
   "source": [
    "Let us see the below example, both `AugParamsFrozenTrue` and `AugParamsFrozenFalse` have the same attributes, the only difference is that one is frozen and the other isn't."
   ]
  },
  {
   "cell_type": "code",
   "execution_count": 16,
   "id": "ca2717b4-4ed7-48ea-a1fd-514544250a85",
   "metadata": {},
   "outputs": [],
   "source": [
    "@dataclass(init=True, frozen=True)\n",
    "class AugParamsFrozenTrue:\n",
    "    \"\"\"Class to keep track of the augmentation parameters.\"\"\"\n",
    "\n",
    "    mean: List[float] = field(default_factory=lambda: [0.485, 0.456, 0.406])\n",
    "    std: List[float] = field(default_factory=lambda: [0.229, 0.224, 0.225])\n",
    "    image_size: int = 256\n",
    "    mixup: bool = False\n",
    "    mixup_params: Dict[str, Any] = field(\n",
    "        default_factory=lambda: {\"mixup_alpha\": 1, \"use_cuda\": True}\n",
    "    )"
   ]
  },
  {
   "cell_type": "markdown",
   "id": "3b42556d-a63d-42ea-927e-0eae292bb4f5",
   "metadata": {},
   "source": [
    "When we freeze the dataclass `AugParamsFrozenTrue` then we can no longer change its **attribute instances**. For example, we cannot re-assign the `mean` attribute. "
   ]
  },
  {
   "cell_type": "code",
   "execution_count": 20,
   "id": "17f32868-4a8b-43c0-aab4-69b4f212bec1",
   "metadata": {},
   "outputs": [
    {
     "name": "stdout",
     "output_type": "stream",
     "text": [
      "1693345842112\n"
     ]
    },
    {
     "ename": "FrozenInstanceError",
     "evalue": "cannot assign to field 'mean'",
     "output_type": "error",
     "traceback": [
      "\u001b[1;31m---------------------------------------------------------------------------\u001b[0m",
      "\u001b[1;31mFrozenInstanceError\u001b[0m                       Traceback (most recent call last)",
      "\u001b[1;32m~\\AppData\\Local\\Temp/ipykernel_4064/656634435.py\u001b[0m in \u001b[0;36m<module>\u001b[1;34m\u001b[0m\n\u001b[0;32m      1\u001b[0m \u001b[0maug_frozen_true\u001b[0m \u001b[1;33m=\u001b[0m \u001b[0mAugParamsFrozenTrue\u001b[0m\u001b[1;33m(\u001b[0m\u001b[1;33m)\u001b[0m\u001b[1;33m\u001b[0m\u001b[1;33m\u001b[0m\u001b[0m\n\u001b[0;32m      2\u001b[0m \u001b[0mprint\u001b[0m\u001b[1;33m(\u001b[0m\u001b[0mid\u001b[0m\u001b[1;33m(\u001b[0m\u001b[0maug_frozen_true\u001b[0m\u001b[1;33m.\u001b[0m\u001b[0mmean\u001b[0m\u001b[1;33m)\u001b[0m\u001b[1;33m)\u001b[0m\u001b[1;33m\u001b[0m\u001b[1;33m\u001b[0m\u001b[0m\n\u001b[1;32m----> 3\u001b[1;33m \u001b[0maug_frozen_true\u001b[0m\u001b[1;33m.\u001b[0m\u001b[0mmean\u001b[0m \u001b[1;33m=\u001b[0m \u001b[1;33m[\u001b[0m\u001b[1;36m1\u001b[0m\u001b[1;33m,\u001b[0m \u001b[1;36m2\u001b[0m\u001b[1;33m,\u001b[0m \u001b[1;36m3\u001b[0m\u001b[1;33m]\u001b[0m \u001b[1;31m# same as setattr(aug_frozen_true, \"mean\", [1, 2, 3])\u001b[0m\u001b[1;33m\u001b[0m\u001b[1;33m\u001b[0m\u001b[0m\n\u001b[0m",
      "\u001b[1;32m<string>\u001b[0m in \u001b[0;36m__setattr__\u001b[1;34m(self, name, value)\u001b[0m\n",
      "\u001b[1;31mFrozenInstanceError\u001b[0m: cannot assign to field 'mean'"
     ]
    }
   ],
   "source": [
    "aug_frozen_true = AugParamsFrozenTrue()\n",
    "print(id(aug_frozen_true.mean))\n",
    "aug_frozen_true.mean = [1, 2, 3] # same as setattr(aug_frozen_true, \"mean\", [1, 2, 3])"
   ]
  },
  {
   "cell_type": "markdown",
   "id": "68fc2e00-b655-4e89-b5e0-2fc4c4d47810",
   "metadata": {},
   "source": [
    "However, `frozen` only applies to the dataclass instance itself – a `frozen` dataclass can contain mutable items such as lists, and a regular dataclass can contain frozen/immutable items such as tuples. This means that I can change the state of the attribute by mutating the list itself.\n",
    "\n",
    "Therefore, one must be careful that **freezing** a dataclass does not guarantee immutability of all its attributes."
   ]
  },
  {
   "cell_type": "code",
   "execution_count": 21,
   "id": "ad1eab56-2c98-4f81-b7b6-d33d4c13fd82",
   "metadata": {},
   "outputs": [
    {
     "name": "stdout",
     "output_type": "stream",
     "text": [
      "[1, 2, 3]\n",
      "1693345842112\n"
     ]
    }
   ],
   "source": [
    "aug_frozen_true.mean[0] = 1\n",
    "aug_frozen_true.mean[1] = 2\n",
    "aug_frozen_true.mean[2] = 3\n",
    "\n",
    "print(aug_frozen_true.mean)\n",
    "print(id(aug_frozen_true.mean))"
   ]
  },
  {
   "cell_type": "markdown",
   "id": "d0a591e2-f2a8-4638-96e6-f58e71cd7c42",
   "metadata": {},
   "source": [
    "On the other hand, if one set `frozen=False`, then it is just like any other class in Python, you can re-assign the attributes freely."
   ]
  },
  {
   "cell_type": "code",
   "execution_count": 12,
   "id": "44d981c1-6143-4200-b8e4-a49107fbbf10",
   "metadata": {},
   "outputs": [],
   "source": [
    "@dataclass(init=True, frozen=False)\n",
    "class AugParamsFrozenFalse:\n",
    "    \"\"\"Class to keep track of the augmentation parameters.\"\"\"\n",
    "\n",
    "    mean: List[float] = field(default_factory=lambda: [0.485, 0.456, 0.406])\n",
    "    std: List[float] = field(default_factory=lambda: [0.229, 0.224, 0.225])\n",
    "    image_size: int = 256\n",
    "    mixup: bool = False\n",
    "    mixup_params: Dict[str, Any] = field(\n",
    "        default_factory=lambda: {\"mixup_alpha\": 1, \"use_cuda\": True}\n",
    "    )"
   ]
  },
  {
   "cell_type": "code",
   "execution_count": 24,
   "id": "4f950235-a3cf-4c7c-bf85-6f2ae539cc84",
   "metadata": {},
   "outputs": [
    {
     "name": "stdout",
     "output_type": "stream",
     "text": [
      "1693347054912\n",
      "[0.485, 0.456, 0.406]\n",
      "\n",
      "1693345843648\n",
      "[1, 2, 3]\n"
     ]
    }
   ],
   "source": [
    "aug_frozen_false = AugParamsFrozenFalse()\n",
    "print(id(aug_frozen_false.mean))\n",
    "print(aug_frozen_false.mean)\n",
    "\n",
    "print()\n",
    "\n",
    "aug_frozen_false.mean = [1, 2, 3]\n",
    "print(id(aug_frozen_false.mean))\n",
    "print(aug_frozen_false.mean)"
   ]
  },
  {
   "cell_type": "markdown",
   "id": "405c1d2f-d737-46c6-9974-694d091c65f8",
   "metadata": {},
   "source": [
    "#### References\n",
    "\n",
    "- [What is immutability and why should I worry about it?](https://stackoverflow.com/questions/622664/what-is-immutability-and-why-should-i-worry-about-it)\n",
    "- [What does frozen mean for dataclasses?](https://stackoverflow.com/questions/66194804/what-does-frozen-mean-for-dataclasses)"
   ]
  },
  {
   "cell_type": "markdown",
   "id": "3315df5f-dd4c-485a-b940-9f2b79970ace",
   "metadata": {},
   "source": [
    "### Post Init [^post_init]\n",
    "\n",
    "Notice the example below that `average_marks` is an attribute that can only be known after `marks` is known. So we can set `field(init=False)` and tabulate using `__post_init__`.\n",
    "\n",
    "[^post_init]: [Post Init Example](https://hackthedeveloper.com/python-post-init-data-class/)"
   ]
  },
  {
   "cell_type": "markdown",
   "id": "45f29e7b-6a88-4ea4-a691-e078b837be72",
   "metadata": {},
   "source": [
    "#### Examples (Post Init)\n",
    "\n",
    "A dunder method:\n",
    "\n",
    "- Motivation: you want an \"attribute\" that is derived from your other instance attributes;\n",
    "- Average marks of a student for example can only be known when all his \"marks\" are known;\n",
    "- We set `average_marks` as an attribute BUT `init` is `False` so it is not initialized by the class as we won't know it yet + we won't pass it in the dataclass;\n",
    "- `post_init` helps us to calculate and return back the average marks.\n",
    "\n",
    "!!! tip\n",
    "    `average_marks` should be a private member cause it is not something you want the user to call and change!"
   ]
  },
  {
   "cell_type": "code",
   "execution_count": 28,
   "id": "6b5b0148-937f-4ef5-af55-3986dc68db56",
   "metadata": {},
   "outputs": [],
   "source": [
    "@dataclass(init=True, frozen=False)\n",
    "class Student:\n",
    "    name: str\n",
    "    student_id: int\n",
    "    marks: List[Union[int, float]]\n",
    "    _average_marks: float = field(init=False)\n",
    "\n",
    "    def __post_init__(self)-> Union[int, float]:\n",
    "        self._average_marks = sum(self.marks) / len(self.marks)"
   ]
  },
  {
   "cell_type": "code",
   "execution_count": 29,
   "id": "7ca70c94-5b0e-41b7-8487-7474d98dfc59",
   "metadata": {},
   "outputs": [
    {
     "name": "stdout",
     "output_type": "stream",
     "text": [
      "Student(name='hongnan', student_id='123', marks=[88, 92, 96], average_marks=92.0)\n",
      "92.0\n"
     ]
    }
   ],
   "source": [
    "student = Student(name=\"hongnan\", student_id=\"123\", marks=[88, 92, 96])\n",
    "print(student)\n",
    "print(student.average_marks)"
   ]
  },
  {
   "cell_type": "markdown",
   "id": "fbe5af0c-675a-4f37-b3d3-3545e2f7f57e",
   "metadata": {},
   "source": [
    "### Using Dataclass as Config File"
   ]
  },
  {
   "cell_type": "markdown",
   "id": "7534b595-50cf-4fec-b6e3-0852942f698b",
   "metadata": {},
   "source": [
    "#### Intuition\n",
    "\n",
    "Usually we store configurations in a `.yaml` file or the likes and load it as dict in our script and subsequently use the dict as a way to get the config values.\n",
    "\n",
    "We will now introduce a way to store our config in a `dataclass`:\n",
    "\n",
    "This method has a ton of benefits:\n",
    "\n",
    "- We get code completion and type hints in the editor\n",
    "- It's easier to maintain, since you only have to change a config property name in one place\n",
    "- Can implement version reconciliation in the from_dict method\n",
    "- Refactoring is a breeze, since editors can auto-refactor class property names\n",
    "- Allows you to define configurations with python code, since you can instantiate the dataclasses directly in a settings.py file, for example\n",
    "- It's testable."
   ]
  },
  {
   "cell_type": "markdown",
   "id": "f62d77cf-6879-430f-87eb-0a3f0a1acf71",
   "metadata": {},
   "source": [
    "#### Parsing from Dict\n",
    "\n",
    "Consider a config file in `yaml` to be the following:\n",
    "\n",
    "```yaml\n",
    "model_params: {\n",
    "    model_name: resnet50d,\n",
    "    out_features: 2,\n",
    "    in_channels: 3,\n",
    "    pretrained: false,\n",
    "    use_meta: false\n",
    "}\n",
    "\n",
    "aug_params: {\n",
    "    image_size: 224,\n",
    "    mean: [0.485, 0.456, 0.406],\n",
    "    std: [0.229, 0.224, 0.225]\n",
    "}\n",
    "\n",
    "train_params: {\n",
    "    epochs: 10,\n",
    "    use_amp: true\n",
    "}\n",
    "```\n",
    "\n",
    "We can easily parse it into a python dict by:\n",
    "\n",
    "```python\n",
    "import yaml\n",
    "from pathlib import Path\n",
    "\n",
    "config_dict = yaml.safe_load(Path(\"tmp.yaml\").read_text())\n",
    "```\n",
    "\n",
    "to get \n",
    "\n",
    "```python\n",
    "{\n",
    "    \"model_params\": {\n",
    "        \"model_name\": \"resnet50d\",\n",
    "        \"out_features\": 2,\n",
    "        \"in_channels\": 3,\n",
    "        \"pretrained\": False,\n",
    "        \"use_meta\": False,\n",
    "    },\n",
    "    \"aug_params\": {\n",
    "        \"image_size\": 224,\n",
    "        \"mean\": [0.485, 0.456, 0.406],\n",
    "        \"std\": [0.229, 0.224, 0.225],\n",
    "    },\n",
    "    \"train_params\": {\"epochs\": 10, \"use_amp\": True},\n",
    "}\n",
    "```"
   ]
  },
  {
   "cell_type": "markdown",
   "id": "49a962c5-8309-499e-aa7b-52a073b4300c",
   "metadata": {},
   "source": [
    "Whenever we want to use the config, we can call say `config_dict[model_params][\"model_name\"]`. \n",
    "\n",
    "- This is cumbersome if the dict is very nested;\n",
    "- This is prone to error as you need to write the correct keys;\n",
    "- This is difficult to refactor and hard to read.\n",
    "- Most importantly, we can parse the config file to multiple sub-configs that is responsible for each part of the configuration, for example, we can create 3 dataclasses named `ModelParams`, `AugParams` and `TrainParams` to indicate what each config does."
   ]
  },
  {
   "cell_type": "code",
   "execution_count": 74,
   "id": "f24e17be-6043-4f29-893c-bb85cd8e2107",
   "metadata": {},
   "outputs": [],
   "source": [
    "@dataclass(init=True, frozen=False)\n",
    "class ModelParams:\n",
    "    \"\"\"Model Params.\"\"\"\n",
    "\n",
    "    model_name: str\n",
    "    pretrained: bool\n",
    "    input_channels: int\n",
    "    output_dimension: int\n",
    "    use_meta: bool\n",
    "\n",
    "    @classmethod\n",
    "    def from_dict(\n",
    "        cls: Type[\"ModelParams\"], params_dict: Dict[str, Any]\n",
    "    ) -> Type[\"ModelParams\"]:\n",
    "\n",
    "        return cls(\n",
    "            model_name=params_dict[\"model_name\"],\n",
    "            pretrained=params_dict[\"pretrained\"],\n",
    "            input_channels=params_dict[\"input_channels\"],\n",
    "            output_dimension=params_dict[\"output_dimension\"],\n",
    "            use_meta=params_dict[\"use_meta\"],\n",
    "        )\n",
    "\n",
    "\n",
    "@dataclass(init=True, frozen=False)\n",
    "class AugParams:\n",
    "    \"\"\"Augmentation Params.\"\"\"\n",
    "\n",
    "    mean: List[float] = field(default_factory=lambda: [0.485, 0.456, 0.406])\n",
    "    std: List[float] = field(default_factory=lambda: [0.229, 0.224, 0.225])\n",
    "    image_size: int = 256\n",
    "\n",
    "    @classmethod\n",
    "    def from_dict(\n",
    "        cls: Type[\"AugParams\"], params_dict: Dict[str, Any]\n",
    "    ) -> Type[\"AugParams\"]:\n",
    "\n",
    "        return cls(\n",
    "            mean=params_dict[\"mean\"],\n",
    "            std=params_dict[\"std\"],\n",
    "            image_size=params_dict[\"image_size\"],\n",
    "        )\n",
    "\n",
    "\n",
    "@dataclass(init=True, frozen=False)\n",
    "class TrainParams:\n",
    "    \"\"\"Global Train Params.\"\"\"\n",
    "\n",
    "    epochs: int\n",
    "    use_amp: bool\n",
    "\n",
    "    @classmethod\n",
    "    def from_dict(\n",
    "        cls: Type[\"TrainParams\"], params_dict: Dict[str, Any]\n",
    "    ) -> Type[\"TrainParams\"]:\n",
    "\n",
    "        return cls(\n",
    "            epochs=params_dict[\"epochs\"], use_amp=params_dict[\"use_amp\"]\n",
    "        )"
   ]
  },
  {
   "cell_type": "code",
   "execution_count": 75,
   "id": "15bb2967-d888-47ff-95b0-aabe3ce5d8c6",
   "metadata": {},
   "outputs": [],
   "source": [
    "config_dict = {\n",
    "    \"model_params\": {\n",
    "        \"model_name\": \"resnet50d\",\n",
    "        \"out_features\": 2,\n",
    "        \"in_channels\": 3,\n",
    "        \"pretrained\": False,\n",
    "        \"use_meta\": False,\n",
    "    },\n",
    "    \"aug_params\": {\n",
    "        \"image_size\": 224,\n",
    "        \"mean\": [0.485, 0.456, 0.406],\n",
    "        \"std\": [0.229, 0.224, 0.225],\n",
    "    },\n",
    "    \"train_params\": {\"epochs\": 10, \"use_amp\": True},\n",
    "}"
   ]
  },
  {
   "cell_type": "code",
   "execution_count": 79,
   "id": "23da94d4-5c91-4224-8acb-8c4cbbd9da4a",
   "metadata": {},
   "outputs": [
    {
     "name": "stdout",
     "output_type": "stream",
     "text": [
      "TrainParams(epochs=10, use_amp=True)\n",
      "10\n"
     ]
    }
   ],
   "source": [
    "train_dict = config_dict[\"train_params\"]\n",
    "\n",
    "train_config = TrainParams.from_dict(params_dict = train_dict)\n",
    "print(train_config)\n",
    "print(train_config.epochs)"
   ]
  },
  {
   "cell_type": "markdown",
   "id": "5999e383-bb1d-439d-98fb-5836dcfa7ddc",
   "metadata": {},
   "source": [
    "We can do the same for the rest."
   ]
  },
  {
   "cell_type": "markdown",
   "id": "9ad531f4-0cff-4d6b-a30d-082a31464454",
   "metadata": {},
   "source": [
    "#### To Dict or Yaml\n",
    "\n",
    "You can also define method to `to_dict` to convert `dataclass` to dict."
   ]
  },
  {
   "cell_type": "markdown",
   "id": "c80b5ee3-bf8d-42a2-83f7-fc88c875a856",
   "metadata": {},
   "source": [
    "#### Can define variable name\n",
    "\n",
    "In `yaml` file, it is very difficult to define python variable inside! For example, \n",
    "\n",
    "```python\n",
    "@dataclass\n",
    "class FilePaths:\n",
    "    \"\"\"Class to keep track of the files.\"\"\"\n",
    "\n",
    "    train_images: Path = Path(config.DATA_DIR, \"train\")\n",
    "```\n",
    "\n",
    "I can call `Path` directly on the config key whereas if you put in `yaml` it needs a lot of tweaks."
   ]
  },
  {
   "cell_type": "markdown",
   "id": "755bd6f8-5ed4-4de5-80d4-9bd688b1aa5c",
   "metadata": {},
   "source": [
    "#### Testing\n",
    "\n",
    "We can even test our `dataclass` config to ensure no mistakes were made when populating the keys."
   ]
  },
  {
   "cell_type": "code",
   "execution_count": 80,
   "id": "23f9252b-86cd-4b42-af74-1b190b8e457f",
   "metadata": {},
   "outputs": [],
   "source": [
    "# Testing\n",
    "import unittest\n",
    "\n",
    "class TestTrainConfig(unittest.TestCase):\n",
    "    def test_example_config(self):\n",
    "        raw_train_dict = {\"epochs\": 10, \"use_amp\": True}\n",
    "        expected_dict_from_dataclass = TrainParams(epochs=10, use_amp=True)\n",
    "        self.assertEqual(TrainParams.from_dict(raw_train_dict), expected_dict_from_dataclass)"
   ]
  },
  {
   "cell_type": "code",
   "execution_count": 81,
   "id": "27494625-76c0-4336-9104-608bfeb30060",
   "metadata": {},
   "outputs": [],
   "source": [
    "TestTrainConfig().test_example_config()"
   ]
  },
  {
   "cell_type": "markdown",
   "id": "93cb5124-0753-47ec-b41c-3505edaa9e86",
   "metadata": {
    "tags": []
   },
   "source": [
    "#### References\n",
    "\n",
    "- [Using Dataclasses for Configuration in Python](https://dev.to/eblocha/using-dataclasses-for-configuration-in-python-4o53)"
   ]
  },
  {
   "cell_type": "markdown",
   "id": "0f059364-0334-49bc-ba36-af656f19cef0",
   "metadata": {},
   "source": [
    "### Main References\n",
    "\n",
    "- https://www.youtube.com/watch?v=CvQ7e6yUtnw and his other dataclass videos.s"
   ]
  },
  {
   "cell_type": "markdown",
   "id": "b946f729-3072-4766-bea3-ec1f1d47057b",
   "metadata": {},
   "source": [
    "## Object-Oriented Programming (OOP) in Python 3\n",
    "\n",
    "The main [reference](https://thepythonguru.com/python-classes-and-interfaces/https://thepythonguru.com/python-classes-and-interfaces/) details a lot of practices on classes in Python."
   ]
  },
  {
   "cell_type": "markdown",
   "id": "27f8bda2-1f9f-4c26-826e-6bb5baaa2e70",
   "metadata": {},
   "source": [
    "### Creating a Class\n",
    "\n",
    "- `#!python [Line 1]`: This defines a **class** `Dog`.\n",
    "- `#!python [Line 5]`: The `init` method must take in `self` alongside with other optional arguments. The optional arguments are **attributes**."
   ]
  },
  {
   "cell_type": "code",
   "execution_count": 60,
   "id": "8a26e1b7-569c-467c-aec3-959cbc9ee854",
   "metadata": {},
   "outputs": [],
   "source": [
    "class Dog:\n",
    "    # Class attribute\n",
    "    species = \"Pomeranian\"\n",
    "\n",
    "    def __init__(self, name, age) -> None:\n",
    "        print(f\"Class Instance id: {id(Dog)}\")\n",
    "\n",
    "        # instance attributes\n",
    "        self.name = name\n",
    "        self.age = age\n",
    "\n",
    "        print(f\"Object Instance id: {id(self)}\\n\")"
   ]
  },
  {
   "cell_type": "markdown",
   "id": "427d0bfa-6b81-494f-8823-7ee593457911",
   "metadata": {},
   "source": [
    "### Terminologies"
   ]
  },
  {
   "cell_type": "markdown",
   "id": "8e99ca50-ea6a-4838-9e77-3a49e7ee918a",
   "metadata": {},
   "source": [
    "#### A Class Instance\n",
    "\n",
    "Note that if you call `Dog`, you are creating a **class instance**. The unique `id` of this class instance should preserve the whole session."
   ]
  },
  {
   "cell_type": "code",
   "execution_count": 61,
   "id": "27e1d5b4-1d96-4ac4-a7ee-b60302fae627",
   "metadata": {},
   "outputs": [
    {
     "name": "stdout",
     "output_type": "stream",
     "text": [
      "<class '__main__.Dog'>\n",
      "1834272044992\n"
     ]
    }
   ],
   "source": [
    "class_instance = Dog\n",
    "print(class_instance)\n",
    "print(id(class_instance))"
   ]
  },
  {
   "cell_type": "markdown",
   "id": "24efa29e-fd81-463b-b453-c6df63bbe183",
   "metadata": {},
   "source": [
    "#### An Object Instance\n",
    "\n",
    "Once you **instantiated** the **class instance** with the `__init__` method, then you have created an **object instance**. Note that every time you create a new **object instance**, that is a brand new **object** and thus the unique `id` of these objects are different.\n",
    "\n",
    "Let us see the example below:"
   ]
  },
  {
   "cell_type": "code",
   "execution_count": 122,
   "id": "fc7cdaec-237e-401e-b048-de55960a2e12",
   "metadata": {},
   "outputs": [
    {
     "name": "stdout",
     "output_type": "stream",
     "text": [
      "Class Instance id: 1834272031776\n",
      "Object Instance id: 1834276348784\n",
      "\n",
      "Class Instance id: 1834272031776\n",
      "Object Instance id: 1834276141520\n",
      "\n",
      "Class Instance id: 1834272031776\n",
      "Object Instance id: 1834276142336\n",
      "\n",
      "id(d1)=1834276348784, id(d2)=1834276141520, id(d3)=1834276142336\n",
      "True\n"
     ]
    }
   ],
   "source": [
    "d1 = Dog(name=\"ben\", age=2)\n",
    "d2 = Dog(name=\"ben\", age=2)\n",
    "d3 = Dog(name=\"ken\", age=10)\n",
    "print(f\"id(d1)={id(d1)}, id(d2)={id(d2)}, id(d3)={id(d3)}\")\n",
    "print(id(d1) != id(d2))"
   ]
  },
  {
   "cell_type": "markdown",
   "id": "f947fea8-8241-4251-9312-0354e3ca93cb",
   "metadata": {},
   "source": [
    "Notice even though `d1` and `d2` has exactly the same attributes, they belong to **different** objects. However, notice that their **class instance** `id` is the same throughout."
   ]
  },
  {
   "cell_type": "markdown",
   "id": "036a6f67-354b-400b-8b3e-f3bea21721c5",
   "metadata": {},
   "source": [
    "#### Class Attributes\n",
    "\n",
    "A **class attribute** can be defined before the `__init__` method. We can call them as such:"
   ]
  },
  {
   "cell_type": "code",
   "execution_count": 63,
   "id": "7c3c94be-23d4-4667-846e-bfa606c38bee",
   "metadata": {},
   "outputs": [
    {
     "data": {
      "text/plain": [
       "'Pomeranian'"
      ]
     },
     "execution_count": 63,
     "metadata": {},
     "output_type": "execute_result"
    }
   ],
   "source": [
    "class_instance.species"
   ]
  },
  {
   "cell_type": "markdown",
   "id": "f707dfb9-0799-442e-a45d-ada022015f4b",
   "metadata": {},
   "source": [
    "#### Object Attributes\n",
    "\n",
    "This is the more common **attribute** that we usually see. They are usually defined by assigning it to `self`:\n",
    "\n",
    "```python\n",
    "self.name = name\n",
    "self.age =age\n",
    "```"
   ]
  },
  {
   "cell_type": "code",
   "execution_count": 64,
   "id": "642407d0-a560-4134-9f19-2c54f756c5f2",
   "metadata": {},
   "outputs": [
    {
     "data": {
      "text/plain": [
       "('ben', 2, 'Pomeranian')"
      ]
     },
     "execution_count": 64,
     "metadata": {},
     "output_type": "execute_result"
    }
   ],
   "source": [
    "d1.name, d1.age, d1.species"
   ]
  },
  {
   "cell_type": "markdown",
   "id": "81ccb492-01b7-4e92-a83b-b2baf31054aa",
   "metadata": {},
   "source": [
    "You can also call the **class attribute** from the **object**."
   ]
  },
  {
   "cell_type": "markdown",
   "id": "5453d6de-440c-4da8-a6ee-c452a8adc3cb",
   "metadata": {},
   "source": [
    "### Class/Object is Mutable by Default\n",
    "\n",
    "In this example, you change the `.age` attribute of the `d1` object to $10$. Then your `d1`'s age will no longer be $2$.\n",
    "\n",
    "The key takeaway here is that **custom objects are mutable by default**. An object is mutable if it can be altered dynamically. For example, lists and dictionaries are mutable, but strings and tuples are immutable."
   ]
  },
  {
   "cell_type": "code",
   "execution_count": 65,
   "id": "bf6d6e18-f1e0-41cb-8432-e4602c70f3ea",
   "metadata": {},
   "outputs": [
    {
     "name": "stdout",
     "output_type": "stream",
     "text": [
      "2\n",
      "100\n"
     ]
    }
   ],
   "source": [
    "print(d1.age)\n",
    "d1.age = 100\n",
    "print(d1.age)"
   ]
  },
  {
   "cell_type": "markdown",
   "id": "d6c76c24-5e14-47cb-a408-9dc0bfcbaad9",
   "metadata": {},
   "source": [
    "A fancier way is to use `setattr` to do the same thing:"
   ]
  },
  {
   "cell_type": "code",
   "execution_count": 66,
   "id": "a05a7036-2fe1-4690-873c-cf6101b9c519",
   "metadata": {},
   "outputs": [
    {
     "name": "stdout",
     "output_type": "stream",
     "text": [
      "ben\n",
      "mary\n"
     ]
    }
   ],
   "source": [
    "print(d1.name)\n",
    "setattr(d1, \"name\", \"mary\")\n",
    "print(d1.name)"
   ]
  },
  {
   "cell_type": "markdown",
   "id": "2f406127-68ef-4bcf-90b4-2a956c80b59f",
   "metadata": {},
   "source": [
    "### Object Instance Methods"
   ]
  },
  {
   "cell_type": "markdown",
   "id": "6604a7f8-712c-4b76-baa1-767ce6375209",
   "metadata": {},
   "source": [
    "#### Dunder Methods\n",
    "\n",
    "- https://www.tutorialsteacher.com/python/magic-methods-in-python"
   ]
  },
  {
   "cell_type": "markdown",
   "id": "438d9f69-c8af-4c77-88a8-2c0056935431",
   "metadata": {},
   "source": [
    "##### Str vs Repr\n",
    "\n",
    "We define two common **dunder methods** `__str__` and `__repr__`."
   ]
  },
  {
   "cell_type": "code",
   "execution_count": 72,
   "id": "a828bd54-5b8f-4a99-a3b4-d23042b3db7a",
   "metadata": {},
   "outputs": [],
   "source": [
    "class Dog:\n",
    "    # Class attribute\n",
    "    species = \"Pomeranian\"\n",
    "\n",
    "    def __init__(self, name, age) -> None:\n",
    "        print(f\"Class Instance id: {id(Dog)}\")\n",
    "\n",
    "        # instance attributes\n",
    "        self.name = name\n",
    "        self.age = age\n",
    "\n",
    "        print(f\"Object Instance id: {id(self)}\\n\")\n",
    "\n",
    "    def __str__(self) -> str:\n",
    "        return f\"Species {self.species} is called {self.name} and is {self.age} years old!\"\n",
    "\n",
    "    def __repr__(self) -> str:\n",
    "        return f\"Dog('name'={self.name}', 'age'={self.age})\""
   ]
  },
  {
   "cell_type": "markdown",
   "id": "0b613698-390c-4754-845f-d6df16acb67d",
   "metadata": {},
   "source": [
    "- Basically if you print the `str(d4)` you get a human readable string talking about the class.\n",
    "- `repr(d4)` also returns a string, but the difference is we usually want to return the \"class object representation\".\n",
    "- See example below for intuition."
   ]
  },
  {
   "cell_type": "code",
   "execution_count": 74,
   "id": "81597194-a49f-4d33-bd20-d5f6c6499973",
   "metadata": {},
   "outputs": [
    {
     "name": "stdout",
     "output_type": "stream",
     "text": [
      "Class Instance id: 1834272031776\n",
      "Object Instance id: 1834277502304\n",
      "\n",
      "Species Pomeranian is called ken and is 10 years old!\n",
      "Dog('name'=ken', 'age'=10)\n"
     ]
    }
   ],
   "source": [
    "d4 = Dog(name=\"ken\", age=10)\n",
    "print(str(d4))\n",
    "print(repr(d4))"
   ]
  },
  {
   "cell_type": "markdown",
   "id": "87dae78d-25c9-4509-818d-d3121bc2f232",
   "metadata": {},
   "source": [
    "#### Instance Methods"
   ]
  },
  {
   "cell_type": "code",
   "execution_count": null,
   "id": "206e5d54-4797-480a-a99d-c9e92862d020",
   "metadata": {},
   "outputs": [],
   "source": [
    "class Pizza:\n",
    "    def __init__(self, size: float):\n",
    "        self.size = size\n",
    "        self.class_instance_id = id(Pizza)\n",
    "    \n",
    "    def get_pizza_size(self):\n",
    "        return self.size, self\n",
    "    \n",
    "    @classmethod\n",
    "    def return_classmethod(cls):\n",
    "        assert id(cls) == id(Pizza), \"The id of both must be the same!\"\n",
    "        return cls"
   ]
  },
  {
   "cell_type": "markdown",
   "id": "3c856e92-de63-4dd3-a8db-d934451b08d6",
   "metadata": {},
   "source": [
    "Initialize an **instance** of `Pizza` object with `size` 10 named `p1`. Note the `id` of this `p1` is `id(p1)`."
   ]
  },
  {
   "cell_type": "code",
   "execution_count": null,
   "id": "8d032b6e-37b7-4eb5-85e0-ba8026c51f3e",
   "metadata": {},
   "outputs": [
    {
     "name": "stdout",
     "output_type": "stream",
     "text": [
      "1470722576792\n"
     ]
    }
   ],
   "source": [
    "p1 = Pizza(size=10)\n",
    "print(id(p1)) "
   ]
  },
  {
   "cell_type": "markdown",
   "id": "2b10fa4a-c787-4d08-9b57-912aae174ac1",
   "metadata": {},
   "source": [
    "You can see the method `get_pizza_size()` takes one parameter, `self`, which points to an instance of `Pizza` when the method is called (but of course instance methods can accept more than just one parameter).\n",
    "\n",
    "I returned `self.size` and `self` for this method."
   ]
  },
  {
   "cell_type": "code",
   "execution_count": null,
   "id": "bbb376fd-faf8-45e3-8b34-87ccebe39c15",
   "metadata": {},
   "outputs": [],
   "source": [
    "pizza_size, instance_of_pizza = p1.get_pizza_size()"
   ]
  },
  {
   "cell_type": "markdown",
   "id": "789c23ed-ce44-4468-82b2-34a4d0a8d2bd",
   "metadata": {},
   "source": [
    "Note that `id(instance_of_pizza)` is equals to `id(p1)` since `self` points directly to `p1`."
   ]
  },
  {
   "cell_type": "code",
   "execution_count": null,
   "id": "2e69a27f-33bc-4183-9a38-df6ffb2dd22e",
   "metadata": {},
   "outputs": [],
   "source": [
    "assert id(instance_of_pizza) == id(p1)"
   ]
  },
  {
   "cell_type": "markdown",
   "id": "2fc033ab-59e9-4aaf-ab53-75756f0cbe7d",
   "metadata": {},
   "source": [
    "Through the `self` parameter, instance methods can freely access attributes and other methods on the same object. This gives them a lot of power when it comes to modifying an object’s state.\n",
    "\n",
    "In our example, under this `get_pizza_size` method, we can access the attribute `size` of the `Pizza` object by calling `self.size`, which is equivalent to `Pizza(size=10).size`."
   ]
  },
  {
   "cell_type": "markdown",
   "id": "335f8602-f321-4723-b957-bd8610cd127e",
   "metadata": {},
   "source": [
    "**This is powerful cause we can modify the object instance's state!** For example:\n",
    "\n",
    "```python\n",
    "class Pizza:\n",
    "    def __init__(self, size: float):\n",
    "        self.size = size\n",
    "    \n",
    "    def get_pizza_size(self):\n",
    "        self.size = 100\n",
    "        return self.size, self\n",
    "```\n",
    "\n",
    "Now if we call:\n",
    "\n",
    "```python\n",
    "p1 = Pizza(size=10)\n",
    "pizza_size, _ = p1.get_pizza_size()\n",
    "print(p1.size)\n",
    "100\n",
    "```\n",
    "\n",
    "and note that the attribute of `p1` is no longer 10 but 100 since we changed it using `self`. It is like doing:\n",
    "\n",
    "```python\n",
    "p1 = Pizza(size=10)\n",
    "p1.size = 100\n",
    "print(p1.size)\n",
    "```"
   ]
  },
  {
   "cell_type": "markdown",
   "id": "e9cb89c4-6065-480c-8699-683308c133d6",
   "metadata": {},
   "source": [
    "#### Class Methods"
   ]
  },
  {
   "cell_type": "markdown",
   "id": "d55a2d12-c561-4d46-b680-3d92cbe5a9d9",
   "metadata": {},
   "source": [
    "Instead of accepting a `self` parameter, class methods take a `cls` parameter that points to the class—and not the object instance—when the method is called.\n",
    "\n",
    "Recall earlier the minor difference between a **class instance vs an object instance**."
   ]
  },
  {
   "cell_type": "code",
   "execution_count": null,
   "id": "bd73cf29-f00a-4bb4-be28-ca9eb240df68",
   "metadata": {},
   "outputs": [
    {
     "data": {
      "text/plain": [
       "(__main__.Pizza, __main__.Pizza)"
      ]
     },
     "execution_count": 105,
     "metadata": {},
     "output_type": "execute_result"
    }
   ],
   "source": [
    "# 1. recall that class instance is:\n",
    "Pizza, p1.return_classmethod()"
   ]
  },
  {
   "cell_type": "code",
   "execution_count": null,
   "id": "09b4fccc-c43a-4b01-915d-be0557de3205",
   "metadata": {},
   "outputs": [
    {
     "data": {
      "text/plain": [
       "(1470710370600, 1470710370600)"
      ]
     },
     "execution_count": 106,
     "metadata": {},
     "output_type": "execute_result"
    }
   ],
   "source": [
    "# 2. now compare id!\n",
    "\n",
    "class_instance_id = p1.class_instance_id\n",
    "class_method_id = id(p1.return_classmethod())\n",
    "class_instance_id, class_method_id"
   ]
  },
  {
   "cell_type": "markdown",
   "id": "7d7ed46c-10bf-40cc-a208-2de88fce091b",
   "metadata": {},
   "source": [
    "So now one should be clear that within the object instance `p1`, the `Pizza` class id must be the same as the id of `cls`."
   ]
  },
  {
   "cell_type": "markdown",
   "id": "105103ab-bc75-44f1-8b3c-d435a846958b",
   "metadata": {},
   "source": [
    "##### Example Usage"
   ]
  },
  {
   "cell_type": "code",
   "execution_count": null,
   "id": "2cb6681e-751f-4fb8-bef2-49a362b0a76e",
   "metadata": {},
   "outputs": [],
   "source": [
    "class Pizza:\n",
    "    def __init__(self, ingredients: List[str]):\n",
    "        self.ingredients = ingredients\n",
    "        \n",
    "    def __repr__(self):\n",
    "        return f'Pizza({self.ingredients!r})'\n",
    "    \n",
    "    @classmethod\n",
    "    def margherita(cls):\n",
    "        return cls(['mozzarella', 'tomatoes'])\n",
    "    \n",
    "    @classmethod\n",
    "    def prosciutto(cls):\n",
    "        return cls(['mozzarella', 'tomatoes', 'ham'])"
   ]
  },
  {
   "cell_type": "markdown",
   "id": "1a3843ba-cbe1-4859-901d-fa5b870a9bba",
   "metadata": {},
   "source": [
    "First, if we want to create two **object instances** named `margherita` and `prosciutto` that are created by:"
   ]
  },
  {
   "cell_type": "code",
   "execution_count": null,
   "id": "e080065f-2552-429b-b9a7-f42d6920db7c",
   "metadata": {},
   "outputs": [],
   "source": [
    "margherita = Pizza(['mozzarella', 'tomatoes'])\n",
    "\n",
    "prosciutto = Pizza(['mozzarella', 'tomatoes', 'ham'])"
   ]
  },
  {
   "cell_type": "markdown",
   "id": "a40d86f5-4cde-499f-a8c4-230a5171396c",
   "metadata": {},
   "source": [
    "A neater way is to use `classmethod`."
   ]
  },
  {
   "cell_type": "code",
   "execution_count": null,
   "id": "b39df156-2331-4eed-9505-abf8306f1894",
   "metadata": {},
   "outputs": [
    {
     "data": {
      "text/plain": [
       "(Pizza(['mozzarella', 'tomatoes']), Pizza(['mozzarella', 'tomatoes', 'ham']))"
      ]
     },
     "execution_count": 110,
     "metadata": {},
     "output_type": "execute_result"
    }
   ],
   "source": [
    "Pizza.margherita(), Pizza.prosciutto()"
   ]
  },
  {
   "cell_type": "markdown",
   "id": "619efa5e-6ee8-4ed8-ba3a-a251f736596d",
   "metadata": {},
   "source": [
    "#### Static Method"
   ]
  },
  {
   "cell_type": "markdown",
   "id": "8ddb01b3-8d98-4a62-8c54-db97559cbfab",
   "metadata": {},
   "source": [
    "Note static method has no `self` or `cls`, so it can neither access to the **class instance** nor the **object instance**. Then why is it useful sometimes since it is as good as I were to define the static method outside the class as a function.\n",
    "\n",
    "One reason can be understood as follows, albeit a bit of a forced example:"
   ]
  },
  {
   "cell_type": "code",
   "execution_count": null,
   "id": "632f9732-5f60-411b-a1f2-52eca1fa23b0",
   "metadata": {},
   "outputs": [],
   "source": [
    "class Pizza:\n",
    "    def __init__(self, radius, ingredients):\n",
    "        self.radius = radius\n",
    "        self.ingredients = ingredients\n",
    "        \n",
    "    def __repr__(self):\n",
    "        return (f'Pizza({self.radius!r}, '\n",
    "                f'{self.ingredients!r})')\n",
    "    \n",
    "    def calculate_pizza_area(self):\n",
    "        return self.calculate_circle_area(self.radius)\n",
    "    \n",
    "    @staticmethod\n",
    "    def calculate_circle_area(r):\n",
    "        return r ** 2 * math.pi"
   ]
  },
  {
   "cell_type": "markdown",
   "id": "8f3f03ed-d122-4ce4-83d3-cfadab1efae6",
   "metadata": {},
   "source": [
    "- Maintain your class design, even though `calculate_circle_area` is **independent** of the class/object state, one can still argue that calculating circle area is still relevant to the whole architecture of the `Pizza` class since we have a method to calculate pizza area.\n",
    "- Ease of testing, one can just test the static method without initializing the object instance itself."
   ]
  },
  {
   "cell_type": "markdown",
   "id": "3a5d0d9c-8ed6-420c-b8d9-9c7fb0e078e8",
   "metadata": {},
   "source": [
    "#### Abstract Methods\n",
    "\n",
    "This provides us a template or blueprint in a sense."
   ]
  },
  {
   "cell_type": "code",
   "execution_count": null,
   "id": "e36debbd-2526-41e8-a179-d25ca46c2840",
   "metadata": {},
   "outputs": [],
   "source": [
    "from abc import ABCMeta, abstractmethod\n",
    "\n",
    "class AbstractPizza(metaclass=ABCMeta):\n",
    "    def __init__(self, radius: float):\n",
    "        self.radius = radius\n",
    "        \n",
    "    @abstractmethod\n",
    "    def calculate_pizza_area(self):\n",
    "        raise NotImplementedError(\"This method needs to be implemented\")\n",
    "        "
   ]
  },
  {
   "cell_type": "code",
   "execution_count": null,
   "id": "dd730efa-ae96-4b26-94ce-868d597fbeca",
   "metadata": {},
   "outputs": [
    {
     "ename": "TypeError",
     "evalue": "Can't instantiate abstract class AbstractPizza with abstract method calculate_pizza_area",
     "output_type": "error",
     "traceback": [
      "\u001b[1;31m---------------------------------------------------------------------------\u001b[0m",
      "\u001b[1;31mTypeError\u001b[0m                                 Traceback (most recent call last)",
      "\u001b[1;32m~\\AppData\\Local\\Temp/ipykernel_4064/1152115237.py\u001b[0m in \u001b[0;36m<module>\u001b[1;34m\u001b[0m\n\u001b[1;32m----> 1\u001b[1;33m \u001b[0mAbstractPizza\u001b[0m\u001b[1;33m(\u001b[0m\u001b[0mradius\u001b[0m\u001b[1;33m=\u001b[0m\u001b[1;36m10\u001b[0m\u001b[1;33m)\u001b[0m\u001b[1;33m\u001b[0m\u001b[1;33m\u001b[0m\u001b[0m\n\u001b[0m",
      "\u001b[1;31mTypeError\u001b[0m: Can't instantiate abstract class AbstractPizza with abstract method calculate_pizza_area"
     ]
    }
   ],
   "source": [
    "AbstractPizza(radius=10)"
   ]
  },
  {
   "cell_type": "code",
   "execution_count": null,
   "id": "0efd063f-410a-40f6-93b9-da24570613b7",
   "metadata": {},
   "outputs": [],
   "source": [
    "class Pizza(AbstractPizza):\n",
    "    def __init__(self, radius: float):\n",
    "        self.radius = radius"
   ]
  },
  {
   "cell_type": "code",
   "execution_count": null,
   "id": "6e7e28f6-f1ba-4cf6-9d68-9d6f843c5add",
   "metadata": {},
   "outputs": [
    {
     "ename": "TypeError",
     "evalue": "Can't instantiate abstract class Pizza with abstract method calculate_pizza_area",
     "output_type": "error",
     "traceback": [
      "\u001b[1;31m---------------------------------------------------------------------------\u001b[0m",
      "\u001b[1;31mTypeError\u001b[0m                                 Traceback (most recent call last)",
      "\u001b[1;32m~\\AppData\\Local\\Temp/ipykernel_4064/4082189809.py\u001b[0m in \u001b[0;36m<module>\u001b[1;34m\u001b[0m\n\u001b[1;32m----> 1\u001b[1;33m \u001b[0mPizza\u001b[0m\u001b[1;33m(\u001b[0m\u001b[0mradius\u001b[0m\u001b[1;33m=\u001b[0m\u001b[1;36m10\u001b[0m\u001b[1;33m)\u001b[0m\u001b[1;33m\u001b[0m\u001b[1;33m\u001b[0m\u001b[0m\n\u001b[0m",
      "\u001b[1;31mTypeError\u001b[0m: Can't instantiate abstract class Pizza with abstract method calculate_pizza_area"
     ]
    }
   ],
   "source": [
    "Pizza(radius=10)"
   ]
  },
  {
   "cell_type": "code",
   "execution_count": null,
   "id": "8e00ca10-2b91-49dc-a3d2-61f43ce40bb5",
   "metadata": {},
   "outputs": [],
   "source": [
    "class Pizza(AbstractPizza):\n",
    "    def __init__(self, radius: float):\n",
    "        self.radius = radius\n",
    "        \n",
    "    def calculate_pizza_area(self):\n",
    "        return self.radius ** 2 * math.pi"
   ]
  },
  {
   "cell_type": "code",
   "execution_count": null,
   "id": "e1afe593-6b90-465f-98c7-c53190e82954",
   "metadata": {},
   "outputs": [
    {
     "data": {
      "text/plain": [
       "<__main__.Pizza at 0x18a435d3a00>"
      ]
     },
     "execution_count": 90,
     "metadata": {},
     "output_type": "execute_result"
    }
   ],
   "source": [
    "Pizza(radius=10)"
   ]
  },
  {
   "cell_type": "markdown",
   "id": "bc3470df-a597-4650-b948-6138bfe37163",
   "metadata": {},
   "source": [
    "### Inheritance\n",
    "\n",
    "> [Inheritance](https://realpython.com/inheritance-composition-python/) is the process by which one class takes on the **attributes** and **methods** of another. Newly formed classes are called child classes, and the classes that child classes are derived from are called parent classes."
   ]
  },
  {
   "cell_type": "markdown",
   "id": "0ee15338-847c-466f-a768-9e0c5b550347",
   "metadata": {},
   "source": [
    "#### [Intuition](https://realpython.com/python3-object-oriented-programming/)\n",
    "\n",
    "Child classes can override or extend the attributes and methods of parent classes. In other words, child classes inherit all of the parent’s attributes and methods but can also specify attributes and methods that are unique to themselves.\n",
    "\n",
    "Although the analogy isn’t perfect, you can think of object inheritance sort of like genetic inheritance.\n",
    "\n",
    "You may have inherited your hair color from your mother. It’s an attribute you were born with. Let’s say you decide to color your hair purple. Assuming your mother doesn’t have purple hair, you’ve just overridden the hair color attribute that you inherited from your mom.\n",
    "\n",
    "You also inherit, in a sense, your language from your parents. If your parents speak English, then you’ll also speak English. Now imagine you decide to learn a second language, like German. In this case you’ve extended your attributes because you’ve added an attribute that your parents don’t have."
   ]
  },
  {
   "cell_type": "markdown",
   "id": "8c0cba63-9cc6-49e9-bea9-3a097faf85f9",
   "metadata": {},
   "source": [
    "#### How to use Inheritance"
   ]
  },
  {
   "cell_type": "markdown",
   "id": "b3fbe3a6-5a9f-4244-81fe-2634f9137dd0",
   "metadata": {},
   "source": [
    "- A base parent class `Employee` with 2 attributes:\n",
    "    - `employee_id`\n",
    "    - `employee_name`\n",
    "\n",
    "- A child class that inherits the parent class called `SalaryEmployee`; note the `__init__` of this child class takes in 3 attributes:\n",
    "    - `employee_id`: from parent\n",
    "    - `employee_name`: from parent\n",
    "    - `monthly_salary`: from child\n",
    "\n",
    "- It is also worth noting we used `super().__init__` to take in the parent class's attributes which is the same as calling `Employee.__init__(employee_id, employee_name)`, both of which initializes the parents class in the child class. Intuitively, you can think of that the child class has **all the attributes** and **methods** that the parent class has."
   ]
  },
  {
   "cell_type": "code",
   "execution_count": 114,
   "id": "b0725e92-9e86-4c2e-8acc-35a876ffb767",
   "metadata": {},
   "outputs": [],
   "source": [
    "class Employee:\n",
    "    def __init__(self, employee_id: int, employee_name: str) -> None:\n",
    "        self.employee_id = employee_id\n",
    "        self.employee_name = employee_name\n",
    "\n",
    "\n",
    "class SalaryEmployee(Employee):\n",
    "    def __init__(\n",
    "        self,\n",
    "        employee_id: int,\n",
    "        employee_name: str,\n",
    "        monthly_salary: Union[int, float],\n",
    "    ) -> None:\n",
    "        super().__init__(employee_id, employee_name)\n",
    "        self.monthly_salary = monthly_salary\n",
    "\n",
    "    def calculate_annual_salary(self) -> Union[int, float]:\n",
    "        \"\"\"Calculate annual salary.\n",
    "\n",
    "        Returns:\n",
    "            Union[int, float]: Monthly salary * 12\n",
    "        \"\"\"\n",
    "        return self.monthly_salary * 12\n",
    "\n",
    "\n",
    "class CommissionEmployee(SalaryEmployee):\n",
    "    def __init__(\n",
    "        self,\n",
    "        employee_id: int,\n",
    "        employee_name: str,\n",
    "        monthly_salary: Union[int, float],\n",
    "        commission: Union[int, float],\n",
    "    ) -> None:\n",
    "\n",
    "        super().__init__(employee_id, employee_name, monthly_salary)\n",
    "        self.commission = commission\n",
    "\n",
    "    def calculate_annual_salary(self) -> Union[int, float]:\n",
    "        \"\"\"Calculate annual salary + commission.\n",
    "\n",
    "        Returns:\n",
    "            Union[int, float]: Monthly salary * 12 + commission\n",
    "        \"\"\"\n",
    "        fixed_annual_salary = super().calculate_annual_salary()\n",
    "        return fixed_annual_salary + self.commission"
   ]
  },
  {
   "cell_type": "markdown",
   "id": "fe146555-b4fb-4719-9a43-473d4835d5c4",
   "metadata": {},
   "source": [
    "- Simple example of inheritance."
   ]
  },
  {
   "cell_type": "code",
   "execution_count": 115,
   "id": "702af4c2-3961-41c8-a970-dcc661c716b6",
   "metadata": {},
   "outputs": [
    {
     "data": {
      "text/plain": [
       "60000"
      ]
     },
     "execution_count": 115,
     "metadata": {},
     "output_type": "execute_result"
    }
   ],
   "source": [
    "ken_salary = SalaryEmployee(employee_id=123,  employee_name=\"ken\", monthly_salary=5000)\n",
    "ken_salary.calculate_annual_salary()"
   ]
  },
  {
   "cell_type": "markdown",
   "id": "5bfc36e8-54e6-4ca5-b131-af472554ae5c",
   "metadata": {},
   "source": [
    "- Slightly more complicated logic where one used `super()` in line 44. Why don't we just use `fixed_annual_salary = self.monthly_salary * 12` to get the fixed year wage like how we did in `SalaryEmployee`. The problem with accessing the property directly is that if the implementation of `SalaryEmployee.calculate_annual_salary()` changes, then you’ll have to also change the implementation of `CommissionEmployee.calculate_annual_salary()`. It’s better to rely on the already implemented method in the base class and extend the functionality as needed.\n",
    "\n",
    "- Calling `super()` in this child class will invoke the method in the parent class.\n",
    "\n",
    "- So if `calculate_annual_salary()` in the parent class becomes something like `monthly_salary * 13`, then you don't need to worry about changing the logic again in the child `CommissionEmployee` when calculating the total annual salary."
   ]
  },
  {
   "cell_type": "code",
   "execution_count": 113,
   "id": "c4bda556-aa1a-42a0-a7e4-ad3f2d93aac7",
   "metadata": {},
   "outputs": [
    {
     "data": {
      "text/plain": [
       "70000"
      ]
     },
     "execution_count": 113,
     "metadata": {},
     "output_type": "execute_result"
    }
   ],
   "source": [
    "ken_salary_and_commision = CommissionEmployee(employee_id=123,  employee_name=\"ken\", monthly_salary=5000, commission=10000)\n",
    "ken_salary_and_commision.calculate_annual_salary()"
   ]
  },
  {
   "cell_type": "markdown",
   "id": "e3e3e1b2-b3bc-46fa-b526-6b56c659122e",
   "metadata": {},
   "source": [
    "#### Super Init and Inheritance Diamond\n",
    "\n",
    "- https://stackoverflow.com/questions/29173299/super-init-vs-parent-init\n",
    "- https://thepythonguru.com/python-classes-and-interfaces/"
   ]
  },
  {
   "cell_type": "markdown",
   "id": "c651685c-ad9f-472b-9832-bb3906108332",
   "metadata": {},
   "source": [
    "### Main References\n",
    "\n",
    "- [Main Reference for Python Classes Designs](https://thepythonguru.com/python-classes-and-interfaces/)\n",
    "    - Overall well rounder for many concepts.\n",
    "    - So if one has to choose one, this will be the one to read first or together with other references.\n",
    "- [Main Reference for Inheritance and Composition](https://realpython.com/inheritance-composition-python/)\n",
    "    - Mentions ABC class as well.\n",
    "- [Basic OOP Guide](https://realpython.com/python3-object-oriented-programming/)\n",
    "\n",
    "**Object Instance Methods**\n",
    "\n",
    "- [Main Reference for Python Classes Designs](https://thepythonguru.com/python-classes-and-interfaces/)\n",
    "- [Python's Instance, Class, and Static Methods Demystified](https://realpython.com/instance-class-and-static-methods-demystified/)\n",
    "- [The definitive guide on how to use static, class or abstract methods in Python](https://julien.danjou.info/guide-python-static-class-abstract-methods/): Mostly Python 2 so slightly outdated but did mention about Python 3 inside.\n",
    "- [What is the advantage of using static methods?](https://stackoverflow.com/questions/2438473/what-is-the-advantage-of-using-static-methods)"
   ]
  },
  {
   "cell_type": "markdown",
   "id": "44863ff6-24e2-4dd5-ad75-18c08194590d",
   "metadata": {},
   "source": [
    "## Class Methods in Python"
   ]
  },
  {
   "cell_type": "markdown",
   "id": "983a46c2-dfa0-44da-b49e-1826a9aff8e2",
   "metadata": {},
   "source": [
    "## Args and Kwargs\n",
    "\n",
    "- https://stackoverflow.com/questions/9872824/calling-a-python-function-with-args-kwargs-and-optional-default-arguments"
   ]
  }
 ],
 "metadata": {
  "kernelspec": {
   "display_name": "Python 3 (ipykernel)",
   "language": "python",
   "name": "python3"
  },
  "language_info": {
   "codemirror_mode": {
    "name": "ipython",
    "version": 3
   },
   "file_extension": ".py",
   "mimetype": "text/x-python",
   "name": "python",
   "nbconvert_exporter": "python",
   "pygments_lexer": "ipython3",
   "version": "3.9.13"
  }
 },
 "nbformat": 4,
 "nbformat_minor": 5
}
