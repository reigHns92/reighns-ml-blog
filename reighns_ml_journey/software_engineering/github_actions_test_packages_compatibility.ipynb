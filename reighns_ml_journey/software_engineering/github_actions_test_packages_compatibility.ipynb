{
 "cells": [
  {
   "cell_type": "markdown",
   "id": "f40dba0a-b836-45aa-8449-464c1666ff3e",
   "metadata": {},
   "source": [
    "We can use GitHub Actions to test for compatibility on different Operating Systems (OS) such as Windows/Linux."
   ]
  },
  {
   "cell_type": "markdown",
   "id": "c9d48c17-50cf-4b46-8a68-a97f5634ccbc",
   "metadata": {},
   "source": [
    "```yaml title=\"packages_compatibility.yml\" linenums=\"1\"\n",
    "name: Commit Checks\n",
    "on: [push, pull_request] \n",
    "\n",
    "jobs:\n",
    "  check_code:\n",
    "    runs-on: ${{ matrix.os }}\n",
    "    strategy:\n",
    "      fail-fast: true \n",
    "      matrix:\n",
    "        os: [ubuntu-latest, windows-latest]\n",
    "        python-version: [3.7]\n",
    "    steps: \n",
    "      - name: Checkout code \n",
    "        uses: actions/checkout@v2 \n",
    "      - name: Setup Python\n",
    "        uses: actions/setup-python@v2 \n",
    "        with:\n",
    "          python-version: ${{ matrix.python-version }}\n",
    "          cache: \"pip\"\n",
    "      - name: Install dependencies\n",
    "        run: | \n",
    "          python -m pip install --upgrade pip setuptools wheel\n",
    "          pip install -r requirements.txt\n",
    "```"
   ]
  },
  {
   "cell_type": "markdown",
   "id": "c4c6054b-12c0-4c57-bfea-0256a1c6d3f8",
   "metadata": {},
   "source": [
    "- `#!python [Line 10]`: This line tells us that we want to test the installation on both Ubuntu and Windows Latest version.\n",
    "- `#!python [Line 11]`: This line tells us that we want to test the installation on python version 3.7.\n",
    "- `#!python [Lines 21-23]`: This line tells us that we will run the installation using `pip` on `requirements.txt` file."
   ]
  }
 ],
 "metadata": {
  "kernelspec": {
   "display_name": "Python 3 (ipykernel)",
   "language": "python",
   "name": "python3"
  },
  "language_info": {
   "codemirror_mode": {
    "name": "ipython",
    "version": 3
   },
   "file_extension": ".py",
   "mimetype": "text/x-python",
   "name": "python",
   "nbconvert_exporter": "python",
   "pygments_lexer": "ipython3",
   "version": "3.9.13"
  }
 },
 "nbformat": 4,
 "nbformat_minor": 5
}
