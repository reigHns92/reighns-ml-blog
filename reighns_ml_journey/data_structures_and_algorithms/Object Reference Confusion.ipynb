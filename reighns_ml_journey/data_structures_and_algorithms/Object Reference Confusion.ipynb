{
 "cells": [
  {
   "cell_type": "markdown",
   "id": "f36aeb65-e6cd-4eff-8756-c326f06734ab",
   "metadata": {},
   "source": [
    "## Primer\n",
    "\n",
    "Consider the class `dummy` below."
   ]
  },
  {
   "cell_type": "code",
   "execution_count": 53,
   "id": "0f6c8d2e-1d81-45b3-a692-dc3cae8edf49",
   "metadata": {},
   "outputs": [],
   "source": [
    "class dummy:\n",
    "    def __init__(self, name):\n",
    "        self.name = name"
   ]
  },
  {
   "cell_type": "markdown",
   "id": "31dcfd7c-2e75-41cf-83e8-68521a283edc",
   "metadata": {},
   "source": [
    "We start off with assigning two variables `a` and `b` to two `dummy` objects with their attribute `name` to be $1$ and $2$ respectively.\n",
    "\n",
    "Then we set a new variable `c` to be equals to `a`, we call `c` a **reference** to `a` and they are of the same object referenced to `dummy(name=1)` as the assertion holds.\n",
    "\n",
    "Now at **line 9**, we re-assign `c` to `b`, and we assert that both `a` and `c` are different objects now. Main point is that the variable `a` is untouched, remaining $1$ the whole time.\n",
    "\n",
    "> We say that `c` is merely a reference to `a` and if we assign a new value (variable) to `c`, you don't change `a`."
   ]
  },
  {
   "cell_type": "code",
   "execution_count": 57,
   "id": "9941facd-2e8c-4fce-96b8-f33f89035b33",
   "metadata": {},
   "outputs": [
    {
     "name": "stdout",
     "output_type": "stream",
     "text": [
      "a=1, b=2\n",
      "a=1, c=1\n",
      "a=1, c=2\n"
     ]
    }
   ],
   "source": [
    "a = dummy(name = 1)\n",
    "b = dummy(name = 2)\n",
    "print(f\"a={a.name}, b={b.name}\")\n",
    "\n",
    "c = a\n",
    "print(f\"a={a.name}, c={c.name}\")\n",
    "assert id(a) == id(c)\n",
    "\n",
    "c = b\n",
    "print(f\"a={a.name}, c={c.name}\")\n",
    "assert id(a) != id(c)"
   ]
  },
  {
   "cell_type": "markdown",
   "id": "a86b8dcc-c774-497c-b1a3-2c791b009332",
   "metadata": {},
   "source": [
    "The setup is exactly the same as previous up till **line 7**. Instead of assigning `c` to another variable directly, we first change the attribute (property) of the object `c` to become $3$ by `c.name = 3`. \n",
    "\n",
    "Now if we print `a.name` and `c.name` again, we magically find that `a.name` is changed from $1$ to $3$, moreover, both `a` and `c` are still referencing to the same object.\n",
    "\n",
    "> We conclude that if you access a member (attribute) of the reference variable `c`, you're actually accessing a member (attribute) of `a`. So, if you assign a new value to the member (attribute) of `c`, you're assigning the same value to that member (attribute) of `a`."
   ]
  },
  {
   "cell_type": "code",
   "execution_count": 60,
   "id": "2b653a78-366a-4d29-9fe2-e6bd7b3f2c12",
   "metadata": {},
   "outputs": [
    {
     "name": "stdout",
     "output_type": "stream",
     "text": [
      "a=1, b=2\n",
      "a=1, c=1\n",
      "a=3, c=3\n"
     ]
    }
   ],
   "source": [
    "a = dummy(name = 1)\n",
    "b = dummy(name = 2)\n",
    "print(f\"a={a.name}, b={b.name}\")\n",
    "\n",
    "c = a\n",
    "print(f\"a={a.name}, c={c.name}\")\n",
    "assert id(a) == id(c)\n",
    "\n",
    "c.name = 3\n",
    "print(f\"a={a.name}, c={c.name}\")\n",
    "assert id(a) == id(c)"
   ]
  },
  {
   "cell_type": "markdown",
   "id": "97667944-0237-47a4-93c0-ef9a442e7e94",
   "metadata": {},
   "source": [
    "## Confusion 1"
   ]
  },
  {
   "cell_type": "code",
   "execution_count": 5,
   "id": "0dde34ca-c196-4150-b0a0-82cc16916097",
   "metadata": {},
   "outputs": [
    {
     "name": "stdout",
     "output_type": "stream",
     "text": [
      "1\n",
      "4\n",
      "5\n"
     ]
    }
   ],
   "source": [
    "from typing import *\n",
    "\n",
    "class Node:\n",
    "    curr_node_value: Any\n",
    "    # next_node: Node\n",
    "    def __init__(self, curr_node_value: Any = None):\n",
    "        self.curr_node_value = curr_node_value\n",
    "        self.next_node = None\n",
    "        \n",
    "class LinkedList:\n",
    "    def __init__(self):\n",
    "        self.head = None\n",
    "        \n",
    "        \n",
    "ll1_first = Node(1)\n",
    "ll1_second = Node(2)\n",
    "ll1_third = Node(3)\n",
    "\n",
    "ll2_first = Node(4)\n",
    "ll2_second = Node(5)\n",
    "ll2_third = Node(6)\n",
    "\n",
    "# create llist 1\n",
    "ll1 = LinkedList()\n",
    "ll1.head = ll1_first\n",
    "ll1.head.next_node = ll1_second\n",
    "ll1.head.next_node.next_node = ll1_third\n",
    "\n",
    "# create llist 2\n",
    "ll2 = LinkedList()\n",
    "ll2.head = ll2_first\n",
    "ll2.head.next_node = ll2_second\n",
    "ll2.head.next_node.next_node = ll2_third\n",
    "\n",
    "\n",
    "merged_sorted_llist = LinkedList()\n",
    "\n",
    "ll1_temp_curr_node = ll1.head\n",
    "ll2_temp_curr_node = ll2.head\n",
    "\n",
    "while ll1_temp_curr_node is not None and ll2_temp_curr_node is not None:\n",
    "    print(ll1_temp_curr_node.curr_node_value)\n",
    "    ll1_curr_node = ll1_temp_curr_node\n",
    "    ll2_curr_node = ll2_temp_curr_node\n",
    " \n",
    "    if ll1_curr_node.curr_node_value <= ll2_curr_node.curr_node_value:\n",
    "        merged_sorted_llist.head = ll1_curr_node\n",
    "        merged_sorted_llist.head.next_node = ll2_curr_node\n",
    " \n",
    "\n",
    "    ll1_temp_curr_node = ll1_temp_curr_node.next_node\n",
    "    ll2_temp_curr_node = ll2_temp_curr_node.next_node"
   ]
  },
  {
   "cell_type": "markdown",
   "id": "396bccef-a876-46c9-9010-cdf509782b4b",
   "metadata": {},
   "source": [
    "### Scenario 1\n",
    "\n",
    "If you comment out **line 48**, then **line 42**'s print statement `print(ll1_temp_curr_node.curr_node_value)` will give you the following output:\n",
    "\n",
    "```python\n",
    "print(ll1_temp_curr_node.curr_node_value)print(ll1_temp_curr_node.curr_node_value)\n",
    "1\n",
    "2\n",
    "3\n",
    "```\n",
    "\n",
    "Intuitively, this should be the case since our `ll1_temp_curr_node` starts off with `ll1.head`, and at **line 51**, we re-assign `ll1_temp_curr_node` to its next node `ll1_temp_curr_node.next_node` so that in our next iteration it prints out the node value $2$, and so on.\n",
    "\n",
    "The scenario gets out of hand soon if you uncomment **line 42**."
   ]
  },
  {
   "cell_type": "markdown",
   "id": "e61ac138-3b41-48c1-9b81-79e81741f1b2",
   "metadata": {},
   "source": [
    "### Scenario 2\n",
    "\n",
    "If you uncomment out **line 48**, then **line 42**'s print statement `print(ll1_temp_curr_node.curr_node_value)` will give you the following output:\n",
    "\n",
    "```python\n",
    "print(ll1_temp_curr_node.curr_node_value)print(ll1_temp_curr_node.curr_node_value)\n",
    "1\n",
    "4\n",
    "5\n",
    "```\n",
    "\n",
    "This gets confusing since I did not **explicitly made any changes besides adding a harmless looking line**. Why then did in the second iteration, `ll1_temp_curr_node.curr_node_value` gives us $4$ instead of $2$? This has to originate from the logic we laid out in the section **Primer**. The logic goes:\n",
    "\n",
    "```python\n",
    "ll1_temp_curr_node = ll1.head # ll1_temp_curr_node is a reference to ll1.head\n",
    "ll1_curr_node = ll1_temp_curr_node # ll1_curr_node is a reference to ll1_temp_curr_node\n",
    "merged_sorted_llist.head = ll1_curr_node # this part is ok but main thing is to remember that merged_sorted_llist.head is a reference to ll1_curr_node\n",
    "merged_sorted_llist.head.next_node = ll2_curr_node # this part is where things go tricky, we explain more below.\n",
    "ll1_temp_curr_node = ll1_temp_curr_node.next_node # we explain more below\n",
    "```\n",
    "\n",
    "The second last line is problematic, we made a change to the attribute `next_node` of `merged_sorted_llist.head` and so our `merged_sorted_llist.head.next_node` holds a value of $4$ (the current value of `ll2_curr_node`), and by our logic in **Primer**, this changes the attribute `next_node` in `ll1_curr_node`, so now `ll1_curr_node`'s `next_node` holds a value of $4$; and recall that `ll1_curr_node` is also a reference to `ll1_temp_curr_node`, so changing the attribute of `ll1_curr_node` changes the attribute of `ll1_temp_curr_node`, so that `ll1_temp_curr_node` has a `next_node` of $4$. \n",
    "\n",
    "To recap, a small change in **line 48** changes the next node of `ll1_temp_curr_node` and that is why when you call **line 51**, our poor `ll1_temp_curr_node` did go to the next node, but the next node is no longer $2$ and is now $4$."
   ]
  },
  {
   "cell_type": "markdown",
   "id": "53fc66c0-f614-4056-84eb-341029d43029",
   "metadata": {},
   "source": [
    "## Confusion 2\n",
    "\n",
    "So the name of the game is that:\n",
    "\n",
    "> Using **Primer** as an example: in most cases in Python, when you perform an assignment on a variable, `c` in this case, the value of `c` changes, but the object `a` that it was originally referring to does not. This is because Python variables are simply references/pointers to objects. However, when you perform an assignment such that the reference variable changes its properties (attribute), then the original referenced object will change!\n",
    "\n",
    "However, when calling the `reverse()` method in a Linked List, one would think that **line 43** changing `temp`'s attribute will affect the value of `curr_node`.\n",
    "\n",
    "The original logic was that:\n",
    "\n",
    "- We assigned `temp` as a reference to `curr_node` in **line 36**.\n",
    "- We changed the attribute of the reference variable `temp` by setting its `next_node` to `prev_node`. Thus, `curr_node`'s `next_node` should also be `prev_node` (which is `None`). This is not the case, why?\n",
    "\n",
    "The reason is simple, at **line 40**, we **overwrite** `curr_node` to be something else, at this point in time, `temp` will lose its connection to `curr_node`, and is no longer a reference to it. Thus, when we did something to its attribute in **line 43**, `curr_node` is unchanged."
   ]
  },
  {
   "cell_type": "code",
   "execution_count": 75,
   "id": "71bbe2af-ee9b-4cce-8aef-0e83374296f7",
   "metadata": {},
   "outputs": [
    {
     "name": "stdout",
     "output_type": "stream",
     "text": [
      "Traverse current head node:\n",
      "1\n",
      "2\n",
      "3\n",
      "None\n",
      "loop 1: curr_node=1\n",
      "loop 1: curr_node=2\n",
      "loop 2: curr_node=2\n",
      "loop 2: curr_node=3\n",
      "loop 3: curr_node=3\n"
     ]
    },
    {
     "ename": "AttributeError",
     "evalue": "'NoneType' object has no attribute 'curr_node_value'",
     "output_type": "error",
     "traceback": [
      "\u001b[1;31m---------------------------------------------------------------------------\u001b[0m",
      "\u001b[1;31mAttributeError\u001b[0m                            Traceback (most recent call last)",
      "\u001b[1;32m~\\AppData\\Local\\Temp/ipykernel_27492/346498127.py\u001b[0m in \u001b[0;36m<module>\u001b[1;34m\u001b[0m\n\u001b[0;32m     66\u001b[0m \u001b[1;33m\u001b[0m\u001b[0m\n\u001b[0;32m     67\u001b[0m \u001b[1;33m\u001b[0m\u001b[0m\n\u001b[1;32m---> 68\u001b[1;33m \u001b[0m_\u001b[0m \u001b[1;33m=\u001b[0m \u001b[0mll1\u001b[0m\u001b[1;33m.\u001b[0m\u001b[0mreverse\u001b[0m\u001b[1;33m(\u001b[0m\u001b[0mll1\u001b[0m\u001b[1;33m.\u001b[0m\u001b[0mhead\u001b[0m\u001b[1;33m)\u001b[0m\u001b[1;33m\u001b[0m\u001b[1;33m\u001b[0m\u001b[0m\n\u001b[0m",
      "\u001b[1;32m~\\AppData\\Local\\Temp/ipykernel_27492/346498127.py\u001b[0m in \u001b[0;36mreverse\u001b[1;34m(cls, head_node)\u001b[0m\n\u001b[0;32m     43\u001b[0m                 \u001b[0mtemp\u001b[0m\u001b[1;33m.\u001b[0m\u001b[0mnext_node\u001b[0m \u001b[1;33m=\u001b[0m \u001b[0mprev_node\u001b[0m\u001b[1;33m\u001b[0m\u001b[1;33m\u001b[0m\u001b[0m\n\u001b[0;32m     44\u001b[0m                 \u001b[1;31m# print(id(temp), id(curr_node))\u001b[0m\u001b[1;33m\u001b[0m\u001b[1;33m\u001b[0m\u001b[0m\n\u001b[1;32m---> 45\u001b[1;33m                 \u001b[0mprint\u001b[0m\u001b[1;33m(\u001b[0m\u001b[1;34mf\"loop {counter}: curr_node={curr_node.curr_node_value}\"\u001b[0m\u001b[1;33m)\u001b[0m\u001b[1;33m\u001b[0m\u001b[1;33m\u001b[0m\u001b[0m\n\u001b[0m\u001b[0;32m     46\u001b[0m \u001b[1;33m\u001b[0m\u001b[0m\n\u001b[0;32m     47\u001b[0m                 \u001b[0mprev_node\u001b[0m \u001b[1;33m=\u001b[0m \u001b[0mtemp\u001b[0m\u001b[1;33m\u001b[0m\u001b[1;33m\u001b[0m\u001b[0m\n",
      "\u001b[1;31mAttributeError\u001b[0m: 'NoneType' object has no attribute 'curr_node_value'"
     ]
    }
   ],
   "source": [
    "from typing import *\n",
    "\n",
    "class Node:\n",
    "    curr_node_value: Any\n",
    "    # next_node: Node\n",
    "    def __init__(self, curr_node_value: Any = None):\n",
    "        self.curr_node_value = curr_node_value\n",
    "        self.next_node = None\n",
    "        \n",
    "class LinkedList:\n",
    "    def __init__(self):\n",
    "        self.head = None\n",
    "\n",
    "    @staticmethod\n",
    "    def traverse(head_node: Node):\n",
    "        # stay true to the idea of having None as the \"last last Node\"\n",
    "        temp = head_node\n",
    "        \n",
    "        while temp is not None:\n",
    "            print(temp.curr_node_value)\n",
    "            temp = temp.next_node\n",
    "            if temp is None:\n",
    "                print(\"None\")\n",
    "                \n",
    "    @classmethod\n",
    "    def reverse(cls, head_node: Node):\n",
    "        print(\"Traverse current head node:\")\n",
    "        cls.traverse(head_node)\n",
    "        \n",
    "        prev_node = None\n",
    "        curr_node = head_node\n",
    "        # print(id(head_node), id(curr_node))\n",
    "            \n",
    "        counter = 1\n",
    "        while curr_node is not None:\n",
    "                temp = curr_node\n",
    "                # print(id(temp), id(curr_node))\n",
    "                print(f\"loop {counter}: curr_node={curr_node.curr_node_value}\")\n",
    "\n",
    "                curr_node = curr_node.next_node\n",
    "                # print(id(temp), id(curr_node))\n",
    "\n",
    "                temp.next_node = prev_node\n",
    "                # print(id(temp), id(curr_node))\n",
    "                print(f\"loop {counter}: curr_node={curr_node.curr_node_value}\")\n",
    "\n",
    "                prev_node = temp\n",
    "\n",
    "                counter += 1\n",
    "        \n",
    "        reversed_head_node = prev_node\n",
    "        \n",
    "        print(\"Traverse reversed head node:\")\n",
    "        cls.traverse(reversed_head_node)\n",
    "        return reversed_head_node\n",
    "        \n",
    "ll1_first = Node(1)\n",
    "ll1_second = Node(2)\n",
    "ll1_third = Node(3)\n",
    "\n",
    "# create llist 1\n",
    "ll1 = LinkedList()\n",
    "ll1.head = ll1_first\n",
    "ll1.head.next_node = ll1_second\n",
    "ll1.head.next_node.next_node = ll1_third\n",
    "\n",
    "\n",
    "_ = ll1.reverse(ll1.head)"
   ]
  },
  {
   "cell_type": "markdown",
   "id": "2d1abfc2-5b52-4509-9e7b-d30c847762ff",
   "metadata": {},
   "source": [
    "## Reference\n",
    "\n",
    "- https://stackoverflow.com/questions/58759348/when-does-a-pointer-to-a-linked-list-change-the-actual-list"
   ]
  }
 ],
 "metadata": {
  "kernelspec": {
   "display_name": "Python 3 (ipykernel)",
   "language": "python",
   "name": "python3"
  },
  "language_info": {
   "codemirror_mode": {
    "name": "ipython",
    "version": 3
   },
   "file_extension": ".py",
   "mimetype": "text/x-python",
   "name": "python",
   "nbconvert_exporter": "python",
   "pygments_lexer": "ipython3",
   "version": "3.9.10"
  }
 },
 "nbformat": 4,
 "nbformat_minor": 5
}
