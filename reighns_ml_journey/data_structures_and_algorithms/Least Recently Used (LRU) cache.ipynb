{
 "cells": [
  {
   "cell_type": "markdown",
   "id": "160aefd3-6dd7-491b-97d3-90e7b08f0d3a",
   "metadata": {},
   "source": [
    "## Tags\n",
    "\n",
    "- Linked List\n",
    "- Hash Maps\n",
    "- Linked List + Hash Maps = OrderedDict"
   ]
  },
  {
   "cell_type": "code",
   "execution_count": 1,
   "id": "2c86fa19-6377-4ed3-9960-236bb79e4126",
   "metadata": {},
   "outputs": [],
   "source": [
    "from typing import *"
   ]
  },
  {
   "cell_type": "code",
   "execution_count": 16,
   "id": "f24d0876-e73e-46f8-a1f7-454e399e3c82",
   "metadata": {},
   "outputs": [],
   "source": [
    "from collections import OrderedDict\n",
    "class LRUCache(OrderedDict):\n",
    "\n",
    "    def __init__(self, capacity):\n",
    "        \"\"\"\n",
    "        :type capacity: int\n",
    "        \"\"\"\n",
    "        self.capacity = capacity\n",
    "\n",
    "    def get(self, key):\n",
    "        \"\"\"\n",
    "        :type key: int\n",
    "        :rtype: int\n",
    "        \"\"\"\n",
    "        print(self)\n",
    "        if key not in self:\n",
    "            return -1\n",
    "        \n",
    "        self.move_to_end(key, last=True)\n",
    "        print(\"self[key]\", self[key])\n",
    "        return self[key]\n",
    "\n",
    "    def put(self, key, value):\n",
    "        \"\"\"\n",
    "        :type key: int\n",
    "        :type value: int\n",
    "        :rtype: void\n",
    "        \"\"\"\n",
    "        if key in self:\n",
    "            self.move_to_end(key, last=True)\n",
    "        self[key] = value\n",
    "        if len(self) > self.capacity:\n",
    "            self.popitem(last = False)\n",
    "\n",
    "# Your LRUCache object will be instantiated and called as such:\n",
    "# obj = LRUCache(capacity)\n",
    "# param_1 = obj.get(key)\n",
    "# obj.put(key,value)"
   ]
  },
  {
   "cell_type": "code",
   "execution_count": 35,
   "id": "38b7fcfa-75a6-48a7-93ce-649b63709975",
   "metadata": {},
   "outputs": [
    {
     "name": "stdout",
     "output_type": "stream",
     "text": [
      "OrderedDict([(1, 2), (2, 3), (3, 4)])\n",
      "OrderedDict([(1, 2), (3, 4), (2, 3)])\n"
     ]
    }
   ],
   "source": [
    "od = OrderedDict({1:2, 2:3, 3:4})\n",
    "print(od)\n",
    "od.move_to_end(2, last=True)\n",
    "print(od)"
   ]
  },
  {
   "cell_type": "code",
   "execution_count": 36,
   "id": "7b6ca521-50ae-4233-ab72-c42279a1f06b",
   "metadata": {},
   "outputs": [
    {
     "data": {
      "text/plain": [
       "(1, 2)"
      ]
     },
     "execution_count": 36,
     "metadata": {},
     "output_type": "execute_result"
    }
   ],
   "source": [
    "od.popitem(last=False)"
   ]
  },
  {
   "cell_type": "code",
   "execution_count": 17,
   "id": "dd1139d6-7e2e-4535-8eab-0901927c9b3d",
   "metadata": {},
   "outputs": [
    {
     "name": "stdout",
     "output_type": "stream",
     "text": [
      "LRUCache()\n"
     ]
    },
    {
     "data": {
      "text/plain": [
       "-1"
      ]
     },
     "execution_count": 17,
     "metadata": {},
     "output_type": "execute_result"
    }
   ],
   "source": [
    "capacity = 2\n",
    "obj = LRUCache(capacity) # self refers to obj\n",
    "obj.get(1)"
   ]
  },
  {
   "cell_type": "code",
   "execution_count": 21,
   "id": "4d0e5a7f-4fc2-406b-b629-6e1097d7aa75",
   "metadata": {},
   "outputs": [],
   "source": [
    "obj[1] = 10"
   ]
  },
  {
   "cell_type": "code",
   "execution_count": 22,
   "id": "52a13332-4fa8-436f-b5ca-96c4a13eac1b",
   "metadata": {},
   "outputs": [
    {
     "data": {
      "text/plain": [
       "LRUCache([(2, 10), (1, 10)])"
      ]
     },
     "execution_count": 22,
     "metadata": {},
     "output_type": "execute_result"
    }
   ],
   "source": [
    "obj"
   ]
  },
  {
   "cell_type": "code",
   "execution_count": 18,
   "id": "c05fb780-e301-44ef-bc5c-b28a42a60470",
   "metadata": {},
   "outputs": [],
   "source": [
    "obj.put(2, 10)"
   ]
  },
  {
   "cell_type": "code",
   "execution_count": 20,
   "id": "3cb896a8-b0ad-4f07-b257-973e8a7f0569",
   "metadata": {},
   "outputs": [
    {
     "data": {
      "text/plain": [
       "10"
      ]
     },
     "execution_count": 20,
     "metadata": {},
     "output_type": "execute_result"
    }
   ],
   "source": [
    "obj[2]"
   ]
  }
 ],
 "metadata": {
  "kernelspec": {
   "display_name": "Python 3 (ipykernel)",
   "language": "python",
   "name": "python3"
  },
  "language_info": {
   "codemirror_mode": {
    "name": "ipython",
    "version": 3
   },
   "file_extension": ".py",
   "mimetype": "text/x-python",
   "name": "python",
   "nbconvert_exporter": "python",
   "pygments_lexer": "ipython3",
   "version": "3.9.10"
  }
 },
 "nbformat": 4,
 "nbformat_minor": 5
}
