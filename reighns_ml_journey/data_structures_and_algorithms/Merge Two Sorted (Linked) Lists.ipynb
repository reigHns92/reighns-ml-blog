{
 "cells": [
  {
   "cell_type": "markdown",
   "id": "c033e7ba-df95-4bc2-a717-fdbd5ad11a84",
   "metadata": {},
   "source": [
    "$$\n",
    "\\newcommand{\\O}{\\mathcal{O}}\n",
    "$$"
   ]
  },
  {
   "cell_type": "markdown",
   "id": "446768c6-8395-457e-b888-c8a89d513b37",
   "metadata": {},
   "source": [
    "## Merge Two Sorted (Linked) Lists\n",
    "\n",
    "https://www.geeksforgeeks.org/merge-two-sorted-linked-lists/\n",
    "\n",
    "Explain problem first, I got confused at first."
   ]
  },
  {
   "cell_type": "markdown",
   "id": "238f666a-7f43-4914-9500-8a14c0cd9769",
   "metadata": {},
   "source": [
    "### Assumptions\n",
    "\n",
    "- Each given input will have exactly one solution\n",
    "- Same element cannot be used twice\n",
    "- Order of indices does not matter"
   ]
  },
  {
   "cell_type": "markdown",
   "id": "8488e1fa-e1dc-4f07-ae53-92470912d1c4",
   "metadata": {},
   "source": [
    "### Test Cases"
   ]
  },
  {
   "cell_type": "markdown",
   "id": "ee326739-80fd-4eaa-9d5c-735e1e37cdcd",
   "metadata": {},
   "source": [
    "### Intuition"
   ]
  },
  {
   "cell_type": "markdown",
   "id": "4836388b-f9dc-4cb3-8713-ac5c71aa8fea",
   "metadata": {},
   "source": [
    "### Code Walkthrough"
   ]
  },
  {
   "cell_type": "code",
   "execution_count": 295,
   "id": "468bb685-91fa-44f4-aaa7-7f8a4513aefc",
   "metadata": {},
   "outputs": [],
   "source": [
    "from typing import *\n",
    "\n",
    "class Node:\n",
    "    curr_node_value: Any\n",
    "    # next_node: Node\n",
    "    def __init__(self, curr_node_value: Any = None):\n",
    "        # a node can hold a current value and by default its next node is None\n",
    "        # however we can assign values to the next of a node, but the next must be of object node as denoted\n",
    "        # note the distinction between curr node value and next node, they are diff\n",
    "        self.curr_node_value = curr_node_value\n",
    "        self.next_node = None"
   ]
  },
  {
   "cell_type": "code",
   "execution_count": 296,
   "id": "a48760d1-7063-43f4-a83d-edbcaa891a83",
   "metadata": {},
   "outputs": [],
   "source": [
    "class LinkedList:\n",
    "    def __init__(self):\n",
    "        # key point is that end of every llist, it points to None always\n",
    "        self.head = None\n",
    "        \n",
    "    @staticmethod\n",
    "    def traverse(head_node: Node):\n",
    "        # stay true to the idea of having None as the \"last last Node\"\n",
    "        temp = head_node\n",
    "        \n",
    "        while temp is not None:\n",
    "            print(temp.curr_node_value)\n",
    "            temp = temp.next_node\n",
    "            if temp is None:\n",
    "                print(\"None\")\n",
    "                "
   ]
  },
  {
   "cell_type": "code",
   "execution_count": 297,
   "id": "2e589b28-4373-463a-be07-8210f4400436",
   "metadata": {},
   "outputs": [],
   "source": [
    "ll1_first = Node(1)\n",
    "ll1_second = Node(2)\n",
    "ll1_third = Node(3)\n",
    "\n",
    "ll2_first = Node(4)\n",
    "ll2_second = Node(5)\n",
    "ll2_third = Node(6)\n",
    "\n",
    "# create llist 1\n",
    "ll1 = LinkedList()\n",
    "ll1.head = ll1_first\n",
    "ll1.head.next_node = ll1_second\n",
    "ll1.head.next_node.next_node = ll1_third\n",
    "\n",
    "# create llist 2\n",
    "ll2 = LinkedList()\n",
    "ll2.head = ll2_first\n",
    "ll2.head.next_node = ll2_second\n",
    "ll2.head.next_node.next_node = ll2_third"
   ]
  },
  {
   "cell_type": "code",
   "execution_count": 298,
   "id": "68204716-e188-4045-b9f7-b933c0137722",
   "metadata": {},
   "outputs": [],
   "source": [
    "merged_sorted_llist = LinkedList()\n",
    "merged_sorted_llist.head = Node(-100)\n",
    "\n",
    "prehead_node = Node(-100)\n",
    "temp_node = prehead_node\n",
    "\n",
    "\n",
    "ll1_head = ll1.head\n",
    "ll2_head = ll2.head\n",
    "\n",
    "while ll1_head is not None and ll2_head is not None:\n",
    "    \n",
    "    # start with list 1\n",
    "    \n",
    "    if ll1_head.curr_node_value <= ll2_head.curr_node_value:\n",
    "        temp_node.next_node = ll1_head\n",
    "        ll1_head = ll1_head.next_node\n",
    "    \n",
    "    else:\n",
    "        temp_node.next_node = ll2_head\n",
    "        ll2_head = ll2_head.next_node\n",
    "    \n",
    "    temp_node = temp_node.next_node\n",
    "        \n",
    "temp_node.next_node = ll1_head or ll2_head\n",
    "        "
   ]
  },
  {
   "cell_type": "code",
   "execution_count": 299,
   "id": "2299aa21-8d61-4339-a38f-a13744051e29",
   "metadata": {},
   "outputs": [
    {
     "name": "stdout",
     "output_type": "stream",
     "text": [
      "1\n",
      "2\n",
      "3\n",
      "4\n",
      "5\n",
      "6\n",
      "None\n"
     ]
    }
   ],
   "source": [
    "merged_sorted_llist.traverse(prehead_node.next_node)"
   ]
  },
  {
   "cell_type": "markdown",
   "id": "05dae8ae-a802-4373-8b43-bf99264a81f9",
   "metadata": {},
   "source": [
    "https://leetcode.com/problems/merge-two-sorted-lists/discuss/759870/Python3-Solution-with-a-Detailed-Explanation-dummy-explained"
   ]
  },
  {
   "cell_type": "markdown",
   "id": "29c2cbe9-01c2-4c25-926b-f19b50886cfc",
   "metadata": {},
   "source": [
    "### Time Complexity\n",
    "\n",
    "Time complexity: $\\O(n)$. We traverse the list containing $n$ elements only once. Each lookup in the table costs only $\\O(1)$ time. \n",
    "\n",
    "Loosely speaking, this means in each for loop from line 22 to 26, each line takes $\\O(1)$ time, so in a typical single iteration, we use around $\\O(3)$ time, and looping it $n$ times takes \n",
    "\n",
    "$$\n",
    "n \\cdot \\O(3) \\approx \\O(3n) \\approx \\O(n)\n",
    "$$"
   ]
  },
  {
   "cell_type": "markdown",
   "id": "4c4954d0-afb7-4143-a9b7-d30e3c9dd578",
   "metadata": {},
   "source": [
    "### Space Complexity\n",
    "\n",
    "Space complexity: $\\O(n)$. The extra space required depends on the number of items stored in the dictionary `seen`, which stores at most $n$ elements."
   ]
  }
 ],
 "metadata": {
  "kernelspec": {
   "display_name": "Python 3 (ipykernel)",
   "language": "python",
   "name": "python3"
  },
  "language_info": {
   "codemirror_mode": {
    "name": "ipython",
    "version": 3
   },
   "file_extension": ".py",
   "mimetype": "text/x-python",
   "name": "python",
   "nbconvert_exporter": "python",
   "pygments_lexer": "ipython3",
   "version": "3.9.11"
  }
 },
 "nbformat": 4,
 "nbformat_minor": 5
}
