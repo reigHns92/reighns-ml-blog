{
 "cells": [
  {
   "cell_type": "code",
   "execution_count": 1,
   "id": "735cf234-5a8c-4a21-9c26-d4eec2373f4d",
   "metadata": {},
   "outputs": [],
   "source": [
    "from typing import *"
   ]
  },
  {
   "cell_type": "markdown",
   "id": "241c50ed-42f2-4eb1-99e7-a3c5e4aa9633",
   "metadata": {},
   "source": [
    "## Primer\n",
    "\n",
    "Some solutions using pythons in-built function is not recommended to do in front of interviewer."
   ]
  },
  {
   "cell_type": "markdown",
   "id": "6ef6775c-8827-48aa-8184-ec92fa08cdc6",
   "metadata": {},
   "source": [
    "## Greatest Sum Divisible by Three [^1262. Greatest Sum Divisible by Three]\n",
    "\n",
    "[^1262. Greatest Sum Divisible by Three]: [Greatest Sum Divisible by Three](https://leetcode.com/problems/greatest-sum-divisible-by-three/)"
   ]
  },
  {
   "cell_type": "code",
   "execution_count": 2,
   "id": "f179a980-d7c0-47f7-b737-5bd122f85552",
   "metadata": {},
   "outputs": [],
   "source": [
    "def maxSumDivThree(nums: List[int]) -> int:\n",
    "    \"\"\"\n",
    "    https://leetcode.com/problems/greatest-sum-divisible-by-three/discuss/431077/JavaC%2B%2BPython-One-Pass-O(1)-space\n",
    "\n",
    "    Args:\n",
    "        nums (List[int]): The input list of integers.\n",
    "\n",
    "    Returns:\n",
    "        int: The maximum sum of the integers that can be divided by three.\n",
    "\n",
    "    Examples:\n",
    "        >>> nums = [3,6,5,1,8]\n",
    "        >>> maxSumDivThree(nums)\n",
    "        18\n",
    "    \"\"\"\n",
    "    dp = [0, 0, 0]\n",
    "    for num in nums:\n",
    "        for i in dp[:]:\n",
    "            dp[(i + num) % 3] = max(dp[(i + num) % 3], i + num)\n",
    "    return dp[0]"
   ]
  },
  {
   "cell_type": "markdown",
   "id": "9c53ca3e-15be-41e1-b128-255e1251a875",
   "metadata": {},
   "source": [
    "- https://leetcode.com/problems/greatest-sum-divisible-by-three/discuss/431077/JavaC%2B%2BPython-One-Pass-O(1)-space\n",
    "- https://leetcode.com/problems/greatest-sum-divisible-by-three/discuss/559999/Come-here-if-you-can't-seem-to-get-it-(Full-Explanation-%2B-uncondensed-code)"
   ]
  },
  {
   "cell_type": "markdown",
   "id": "c2685e44-b028-40f0-a383-5f532da9dbd1",
   "metadata": {},
   "source": [
    "## Palindrome Pairs [^336. Palindrome Pairs]\n",
    "\n",
    "[^336. Palindrome Pairs]: [Palindrome Pairs](https://leetcode.com/problems/palindrome-pairs/)"
   ]
  },
  {
   "cell_type": "code",
   "execution_count": 3,
   "id": "364cab86-1e9c-4c14-bf74-c4d9a6df72a7",
   "metadata": {},
   "outputs": [],
   "source": [
    "def palindromePairs(words: List[str]) -> List[List[int]]:\n",
    "    \"\"\"https://leetcode.com/problems/palindrome-pairs/discuss/79219/Python-solution~\n",
    "    Args:\n",
    "        words (List[str]): _description_\n",
    "\n",
    "    Returns:\n",
    "        List[List[int]]: _description_\n",
    "    \"\"\"\n",
    "    d = {}\n",
    "    for i, w in enumerate(words):\n",
    "        d[w[::-1]] = i\n",
    "    indices = set()\n",
    "    for i, w in enumerate(words):\n",
    "        for j in range(len(w) + 1):\n",
    "            prefix = w[:j]\n",
    "            postfix = w[j:]\n",
    "            if prefix in d and i != d[prefix] and postfix == postfix[::-1]:\n",
    "                indices.add((i, d[prefix]))\n",
    "            if postfix in d and i != d[postfix] and prefix == prefix[::-1]:\n",
    "                indices.add((d[postfix], i))\n",
    "\n",
    "    return [list(p) for p in indices]\n"
   ]
  },
  {
   "cell_type": "markdown",
   "id": "26094003-1a34-4c65-8fa4-e78f0837cda2",
   "metadata": {},
   "source": [
    "## Construct Binary Tree from Inorder and Postorder Traversal [^106. Construct Binary Tree from Inorder and Postorder Traversal]\n",
    "\n",
    "[^106. Construct Binary Tree from Inorder and Postorder Traversal]: [Construct Binary Tree from Inorder and Postorder Traversal](https://leetcode.com/problems/construct-binary-tree-from-inorder-and-postorder-traversal/)"
   ]
  },
  {
   "cell_type": "code",
   "execution_count": 9,
   "id": "e07040a9-cea9-44af-ae03-04df2029c2b0",
   "metadata": {},
   "outputs": [],
   "source": [
    "# Definition for a binary tree node.\n",
    "class TreeNode:\n",
    "    def __init__(self, val=0, left=None, right=None):\n",
    "        self.val = val\n",
    "        self.left = left\n",
    "        self.right = right\n",
    "        \n",
    "def buildTree(inorder: List[int], postorder: List[int]) -> TreeNode:\n",
    "    \"\"\"https://leetcode.com/problems/construct-binary-tree-from-inorder-and-postorder-traversal/discuss/221681/A-better-Python-solution\n",
    "    See henrygas solution.\n",
    "\n",
    "    Args:\n",
    "        inorder (List[int]): _description_\n",
    "        postorder (List[int]): _description_\n",
    "\n",
    "    Returns:\n",
    "        TreeNode: _description_\n",
    "    \"\"\"\n",
    "    value_to_idx = dict()\n",
    "    for idx, value in enumerate(inorder):\n",
    "        value_to_idx[value] = idx\n",
    "\n",
    "    def build(inorder, postorder, in_start, in_end, post_start, post_end):\n",
    "        if in_start <= in_end:\n",
    "            root = TreeNode(postorder[post_end])\n",
    "            in_idx = value_to_idx[root.val]\n",
    "            in_idx_delta = in_idx - in_start\n",
    "            root.left = build(inorder, postorder,\n",
    "                              in_start, in_idx - 1,\n",
    "                              post_start, post_start + in_idx_delta - 1)\n",
    "            root.right = build(inorder, postorder,\n",
    "                               in_idx + 1, in_end,\n",
    "                               post_start + in_idx_delta, post_end - 1)\n",
    "            return root\n",
    "        else:\n",
    "            return None\n",
    "\n",
    "    return build(inorder, postorder, 0, len(inorder) - 1, 0, len(postorder) - 1)"
   ]
  },
  {
   "cell_type": "code",
   "execution_count": 11,
   "id": "a9b7f6a8-2177-49ed-98d4-1d7fb513863e",
   "metadata": {},
   "outputs": [
    {
     "data": {
      "text/plain": [
       "1"
      ]
     },
     "execution_count": 11,
     "metadata": {},
     "output_type": "execute_result"
    }
   ],
   "source": [
    "inorder = [4, 8, 2, 5, 1, 6, 3, 7]\n",
    "postorder = [8, 4, 5, 2, 6, 7, 3, 1]\n",
    "    \n",
    "tree = buildTree(inorder,postorder)\n",
    "tree.val\n",
    "tree.left.val\n",
    "tree.left.right.val"
   ]
  },
  {
   "cell_type": "markdown",
   "id": "4aadd8fd-0130-46a1-9198-2d3eb40ccb01",
   "metadata": {},
   "source": [
    "- https://www.geeksforgeeks.org/construct-a-binary-tree-from-postorder-and-inorder/"
   ]
  },
  {
   "cell_type": "markdown",
   "id": "2c8181bc-430a-4da9-a057-4fab69e05eba",
   "metadata": {},
   "source": [
    "## Minimum Cost For Tickets [^983. Minimum Cost For Tickets]\n",
    "\n",
    "\n",
    "[^983. Minimum Cost For Tickets]: [Minimum Cost For Tickets](https://leetcode.com/problems/minimum-cost-for-tickets/)"
   ]
  },
  {
   "cell_type": "code",
   "execution_count": 15,
   "id": "bb2bffaf-9a9c-470d-94fa-bc82cf61c04c",
   "metadata": {},
   "outputs": [],
   "source": [
    "def mincostTickets(days: List[int], costs: List[int]) -> int:\n",
    "    \"\"\"https://leetcode.com/problems/minimum-cost-for-tickets/discuss/228421/Python-solution\n",
    "\n",
    "    Args:\n",
    "        days (List[int]): _description_\n",
    "        costs (List[int]): _description_\n",
    "\n",
    "    Returns:\n",
    "        int: _description_\n",
    "    \"\"\"\n",
    "    # Logic 1: Solving with Dynamic Programming\n",
    "    # This logic as inreference to the discuss thread - https://leetcode.com/problems/minimum-cost-for-tickets/discuss/228421/Python-solution\n",
    "\n",
    "    # Create dictionary for faster lookup of days\n",
    "    import collections\n",
    "\n",
    "    days_dict = collections.Counter(days)\n",
    "\n",
    "    # Create a table of all the day cost\n",
    "    # * Instead of creating a 365 days table, we create until the last day on the days list\n",
    "    table = [0 for i in range(0, days[-1] + 1)]\n",
    "\n",
    "    for i in range(0, days[-1] + 1):\n",
    "        # If the current day is not present in the travel days dictionary, it takes the previous value\n",
    "        if i not in days_dict:\n",
    "            table[i] = table[i - 1]\n",
    "        else:\n",
    "            # Used max to identify if the index exists\n",
    "            table[i] = min(\n",
    "                table[max(0, i - 1)] + costs[0],  # per days value\n",
    "                table[max(0, i - 7)] + costs[1],  # per week value\n",
    "                table[max(0, i - 30)] + costs[2],  # per year value\n",
    "            )\n",
    "\n",
    "    return table[-1]\n"
   ]
  },
  {
   "cell_type": "code",
   "execution_count": 17,
   "id": "5b770674-f839-4492-9a73-19a5cf5e808a",
   "metadata": {},
   "outputs": [
    {
     "data": {
      "text/plain": [
       "17"
      ]
     },
     "execution_count": 17,
     "metadata": {},
     "output_type": "execute_result"
    }
   ],
   "source": [
    "days = [1,2,3,4,5,6,7,8,9,10,30,31]\n",
    "costs = [2,7,15]\n",
    "\n",
    "mincostTickets(days, costs)"
   ]
  },
  {
   "cell_type": "markdown",
   "id": "660c7996-c4fd-4528-9668-4497b9d91325",
   "metadata": {},
   "source": [
    "## LRU Cache [^146. LRU Cache]\n",
    "\n",
    "Good to know solution using `OrderedDict` but need to know underlying is using Hashmap + DoubleLinkedList.\n",
    "\n",
    "[^146. LRU Cache]: [LRU Cache](https://leetcode.com/problems/lru-cache/)"
   ]
  },
  {
   "cell_type": "code",
   "execution_count": 18,
   "id": "6ea7d0b3-58aa-48b9-9889-1ddd2690b6ee",
   "metadata": {},
   "outputs": [],
   "source": [
    "from collections import OrderedDict\n",
    "class LRUCache(OrderedDict):\n",
    "    # \n",
    "\n",
    "    def __init__(self, capacity):\n",
    "        \"\"\"\n",
    "        :type capacity: int\n",
    "        \"\"\"\n",
    "        self.capacity = capacity\n",
    "\n",
    "    def get(self, key):\n",
    "        \"\"\"\n",
    "        :type key: int\n",
    "        :rtype: int\n",
    "        \"\"\"\n",
    "        if key not in self:\n",
    "            return - 1\n",
    "        \n",
    "        self.move_to_end(key)\n",
    "        return self[key]\n",
    "\n",
    "    def put(self, key, value):\n",
    "        \"\"\"\n",
    "        :type key: int\n",
    "        :type value: int\n",
    "        :rtype: void\n",
    "        \"\"\"\n",
    "        if key in self:\n",
    "            self.move_to_end(key)\n",
    "        self[key] = value\n",
    "        if len(self) > self.capacity:\n",
    "            self.popitem(last = False)\n",
    "\n",
    "# Your LRUCache object will be instantiated and called as such:\n",
    "# obj = LRUCache(capacity)\n",
    "# param_1 = obj.get(key)\n",
    "# obj.put(key,value)"
   ]
  },
  {
   "cell_type": "markdown",
   "id": "572ba8d4-a735-4e63-bc5a-6b6d661cb1aa",
   "metadata": {},
   "source": [
    "## Merge Intervals [^56. Merge Intervals]\n",
    "\n",
    "Discussion says don't bother with first solution using graphs.\n",
    "\n",
    "[^56. Merge Intervals]: [Merge Intervals](https://leetcode.com/problems/merge-intervals/)"
   ]
  },
  {
   "cell_type": "code",
   "execution_count": 26,
   "id": "0ec447b0-1eea-4c95-a294-b5bdf66d32eb",
   "metadata": {},
   "outputs": [],
   "source": [
    "\n",
    "def merge(intervals: List[List[int]]) -> List[List[int]]:\n",
    "    # https://leetcode.com/problems/merge-intervals/solution/\n",
    "\n",
    "    intervals.sort(key=lambda x: x[0])\n",
    "    print(intervals)\n",
    "\n",
    "    merged = []\n",
    "    for interval in intervals:\n",
    "        # if the list of merged intervals is empty or if the current\n",
    "        # interval does not overlap with the previous, simply append it.\n",
    "        if len(merged) == 0 or merged[-1][1] < interval[0]:\n",
    "            merged.append(interval)\n",
    "        else:\n",
    "        # otherwise, there is overlap, so we merge the current and previous\n",
    "        # intervals.\n",
    "            merged[-1][1] = max(merged[-1][1], interval[1])\n",
    "\n",
    "    return merged"
   ]
  },
  {
   "cell_type": "code",
   "execution_count": 28,
   "id": "56c960a9-bbbc-4b4a-b5f4-40a7d6492d9a",
   "metadata": {},
   "outputs": [
    {
     "name": "stdout",
     "output_type": "stream",
     "text": [
      "[[1, 3], [2, 6], [8, 10], [15, 18]]\n"
     ]
    },
    {
     "data": {
      "text/plain": [
       "[[1, 6], [8, 10], [15, 18]]"
      ]
     },
     "execution_count": 28,
     "metadata": {},
     "output_type": "execute_result"
    }
   ],
   "source": [
    "intervals = [[1,3],[8,10],[2,6],[15,18]]\n",
    "\n",
    "merge(intervals)"
   ]
  },
  {
   "cell_type": "markdown",
   "id": "33125c0d-7881-42af-85a2-ca287dc3d0fd",
   "metadata": {},
   "source": [
    "## Merge Sorted Array [^88. Merge Sorted Array]\n",
    "\n",
    "[^88. Merge Sorted Array]: [Merge Sorted Array](https://leetcode.com/problems/merge-sorted-array/)"
   ]
  },
  {
   "cell_type": "code",
   "execution_count": 33,
   "id": "5e21e3f2-5f90-4f80-80eb-833fbaeb2069",
   "metadata": {},
   "outputs": [],
   "source": [
    "def merge_naive(nums1: List[int], m: int, nums2: List[int], n: int) -> None:\n",
    "    \"\"\"\n",
    "    https://leetcode.com/problems/merge-sorted-array/solution/\n",
    "    Approach 1: Merge and sort\n",
    "    Do not return anything, modify nums1 in-place instead.\n",
    "    \"\"\"\n",
    "    # Write the elements of num2 into the end of nums1.\n",
    "    for i in range(n):\n",
    "        nums1[i + m] = nums2[i]\n",
    "\n",
    "    # Sort nums1 list in-place.\n",
    "    nums1.sort()"
   ]
  },
  {
   "cell_type": "code",
   "execution_count": 35,
   "id": "68ca6278-d3b7-4cfa-85ed-db014d664d77",
   "metadata": {},
   "outputs": [
    {
     "name": "stdout",
     "output_type": "stream",
     "text": [
      "[1, 2, 2, 3, 5, 6]\n"
     ]
    }
   ],
   "source": [
    "nums1 = [1,2,3,0,0,0]\n",
    "m = 3\n",
    "nums2 = [2,5,6]\n",
    "n = 3\n",
    "merge_naive(nums1,m,nums2,n)\n",
    "print(nums1)"
   ]
  },
  {
   "cell_type": "markdown",
   "id": "ff6df45c-b26b-42e4-a4c4-37c32968421c",
   "metadata": {},
   "source": [
    "## Number of Islands [^200. Number of Islands]\n",
    "\n",
    "\n",
    "[^200. Number of Islands]: [Number of Islands](https://leetcode.com/problems/number-of-islands/)"
   ]
  },
  {
   "cell_type": "code",
   "execution_count": 36,
   "id": "d64249cb-086d-47b7-9c97-8fd973125e03",
   "metadata": {},
   "outputs": [],
   "source": [
    "def numIslands(grid: List[List[str]]) -> int:\n",
    "    # https://leetcode.com/problems/number-of-islands/discuss/56340/Python-Simple-DFS-Solution\n",
    "    if not grid:\n",
    "        return 0\n",
    "        \n",
    "    count = 0\n",
    "    for i in range(len(grid)):\n",
    "        for j in range(len(grid[0])):\n",
    "            if grid[i][j] == '1':\n",
    "                self.dfs(grid, i, j)\n",
    "                count += 1\n",
    "    return count\n",
    "\n",
    "def dfs(self, grid, i, j):\n",
    "    if i<0 or j<0 or i>=len(grid) or j>=len(grid[0]) or grid[i][j] != '1':\n",
    "        return\n",
    "    grid[i][j] = '#'\n",
    "    self.dfs(grid, i+1, j)\n",
    "    self.dfs(grid, i-1, j)\n",
    "    self.dfs(grid, i, j+1)\n",
    "    self.dfs(grid, i, j-1)"
   ]
  },
  {
   "cell_type": "markdown",
   "id": "d17cec39-7efa-4e0a-a3e2-366e787d4bca",
   "metadata": {},
   "source": [
    "## Maximum Subarray [^53. Maximum Subarray]\n",
    "\n",
    "\n",
    "[^53. Maximum Subarray]: [Maximum Subarray](https://leetcode.com/problems/maximum-subarray/)"
   ]
  },
  {
   "cell_type": "code",
   "execution_count": 40,
   "id": "a0d4bfb8-357b-402d-bb4b-78c2378588ca",
   "metadata": {},
   "outputs": [],
   "source": [
    "def maxSubArray_kadane(nums: List[int]) -> int:\n",
    "    # Approach 2: Dynamic Programming, Kadane's Algorithm\n",
    "    # https://leetcode.com/problems/maximum-subarray/solution/\n",
    "    # THE LOGIC in the gif in leetcode soln is quite intuitive.\n",
    "    \n",
    "    # Initialize our variables using the first element.\n",
    "    current_subarray = max_subarray = nums[0]\n",
    "\n",
    "    # Start with the 2nd element since we already used the first one.\n",
    "    for num in nums[1:]:\n",
    "        # If current_subarray is negative, throw it away. Otherwise, keep adding to it.\n",
    "        current_subarray = max(num, current_subarray + num)\n",
    "        max_subarray = max(max_subarray, current_subarray)\n",
    "\n",
    "    return max_subarray"
   ]
  },
  {
   "cell_type": "code",
   "execution_count": 39,
   "id": "df19280d-5fb5-4819-864c-446d625d7cc9",
   "metadata": {},
   "outputs": [
    {
     "data": {
      "text/plain": [
       "6"
      ]
     },
     "execution_count": 39,
     "metadata": {},
     "output_type": "execute_result"
    }
   ],
   "source": [
    "nums = [-2, 1, -3, 4, -1, 2, 1, -5, 4]\n",
    "maxSubArray_kadane(nums)"
   ]
  },
  {
   "cell_type": "markdown",
   "id": "2dd351a4-4233-4bda-b3f3-23cc73c7cbc4",
   "metadata": {},
   "source": [
    "## Top K Frequent Elements [^347. Top K Frequent Elements]\n",
    "\n",
    "[^347. Top K Frequent Elements]: [Top K Frequent Elements](https://leetcode.com/problems/top-k-frequent-elements/)"
   ]
  },
  {
   "cell_type": "code",
   "execution_count": 41,
   "id": "44e9e7f2-007f-4a2c-95db-be130e658c9b",
   "metadata": {},
   "outputs": [],
   "source": [
    "class Solution:\n",
    "    def topKFrequent(self, nums, k):\n",
    "        bucket = [[] for _ in range(len(nums) + 1)]\n",
    "        Count = Counter(nums).items()  \n",
    "        for num, freq in Count: bucket[freq].append(num) \n",
    "        flat_list = list(chain(*bucket))\n",
    "        return flat_list[::-1][:k]"
   ]
  },
  {
   "cell_type": "markdown",
   "id": "389706f1-7aa4-4895-ad1a-2a34df358495",
   "metadata": {},
   "source": [
    "## Merge k Sorted Lists [^23. Merge k Sorted Lists]\n",
    "\n",
    "[^23. Merge k Sorted Lists]: [Merge k Sorted Lists](https://leetcode.com/problems/merge-k-sorted-lists/)"
   ]
  },
  {
   "cell_type": "code",
   "execution_count": null,
   "id": "8dc4e881-7340-4a06-b0b3-7fbbd3a7ca27",
   "metadata": {},
   "outputs": [],
   "source": [
    "from Queue import PriorityQueue\n",
    "class Solution(object):\n",
    "    def mergeKLists(self, lists):\n",
    "        dummy = ListNode(None)\n",
    "        curr = dummy\n",
    "        q = PriorityQueue()\n",
    "        for node in lists:\n",
    "            if node: q.put((node.val,node))\n",
    "        while q.qsize()>0:\n",
    "            curr.next = q.get()[1]\n",
    "            curr=curr.next\n",
    "            if curr.next: q.put((curr.next.val, curr.next))\n",
    "        return dummy.next"
   ]
  },
  {
   "cell_type": "markdown",
   "id": "d1bae9c8-ba27-403f-8889-7754e405924c",
   "metadata": {},
   "source": [
    "## Merge Two Sorted Lists [^21. Merge Two Sorted Lists]\n",
    "\n",
    "[^Merge Two Sorted Lists]: [Merge Two Sorted Lists](https://leetcode.com/problems/merge-two-sorted-lists/)"
   ]
  },
  {
   "cell_type": "code",
   "execution_count": 42,
   "id": "cddfa24d-5b3e-4d18-82ca-aecbc1e97f24",
   "metadata": {},
   "outputs": [],
   "source": [
    "class Solution:\n",
    "    # shud see my own soln\n",
    "    def mergeTwoLists(self, l1, l2):\n",
    "        # maintain an unchanging reference to node ahead of the return node.\n",
    "        prehead = ListNode(-1)\n",
    "\n",
    "        prev = prehead\n",
    "        while l1 and l2:\n",
    "            if l1.val <= l2.val:\n",
    "                prev.next = l1\n",
    "                l1 = l1.next\n",
    "            else:\n",
    "                prev.next = l2\n",
    "                l2 = l2.next            \n",
    "            prev = prev.next\n",
    "\n",
    "        # At least one of l1 and l2 can still have nodes at this point, so connect\n",
    "        # the non-null list to the end of the merged list.\n",
    "        prev.next = l1 if l1 is not None else l2\n",
    "\n",
    "        return prehead.next"
   ]
  },
  {
   "cell_type": "markdown",
   "id": "7dd373c2-010c-4526-956c-fc79c37ea535",
   "metadata": {},
   "source": [
    "## Kth Largest Element in an Array [^215. Kth Largest Element in an Array]\n",
    "\n",
    "[^215. Kth Largest Element in an Array]: [Kth Largest Element in an Array](https://leetcode.com/problems/kth-largest-element-in-an-array/)\n",
    "\n"
   ]
  },
  {
   "cell_type": "code",
   "execution_count": 43,
   "id": "01a6c89b-5616-4f7a-882b-dd8960961282",
   "metadata": {},
   "outputs": [],
   "source": [
    "# O(nlgn) time\n",
    "# https://leetcode.com/problems/kth-largest-element-in-an-array/discuss/60306/Python-different-solutions-with-comments-(bubble-sort-selection-sort-heap-sort-and-quick-sort).\n",
    "def findKthLargest1(self, nums, k):\n",
    "    return sorted(nums, reverse=True)[k-1]"
   ]
  },
  {
   "cell_type": "markdown",
   "id": "29f5469c-40bd-468a-b2fb-b2f495d7bc08",
   "metadata": {},
   "source": [
    "## Design HashMap [^706. Design HashMap]\n",
    "\n",
    "[^706. Design HashMap]: [Design HashMap](https://leetcode.com/problems/design-hashmap/)"
   ]
  },
  {
   "cell_type": "code",
   "execution_count": 44,
   "id": "666ed893-98c4-4e60-9627-5febbed628fd",
   "metadata": {},
   "outputs": [],
   "source": [
    "class Bucket:\n",
    "    def __init__(self):\n",
    "        self.bucket = []\n",
    "\n",
    "    def get(self, key):\n",
    "        for (k, v) in self.bucket:\n",
    "            if k == key:\n",
    "                return v\n",
    "        return -1\n",
    "\n",
    "    def update(self, key, value):\n",
    "        found = False\n",
    "        for i, kv in enumerate(self.bucket):\n",
    "            if key == kv[0]:\n",
    "                self.bucket[i] = (key, value)\n",
    "                found = True\n",
    "                break\n",
    "\n",
    "        if not found:\n",
    "            self.bucket.append((key, value))\n",
    "\n",
    "    def remove(self, key):\n",
    "        for i, kv in enumerate(self.bucket):\n",
    "            if key == kv[0]:\n",
    "                del self.bucket[i]\n"
   ]
  },
  {
   "cell_type": "markdown",
   "id": "29dd1a78-2e7e-4f1f-b21e-9de371d68be1",
   "metadata": {},
   "source": [
    "## Design HashSet [^706. Design HashSet]\n",
    "\n",
    "[^705. Design HashSet]: [Design HashSet](https://leetcode.com/problems/design-hashset/)"
   ]
  },
  {
   "cell_type": "code",
   "execution_count": 45,
   "id": "65f784cf-67d6-462d-886b-7874638d4b8e",
   "metadata": {},
   "outputs": [],
   "source": [
    "\n",
    "class MyHashSet(object):\n",
    "\n",
    "    def __init__(self):\n",
    "        \"\"\"\n",
    "        Initialize your data structure here.\n",
    "        \"\"\"\n",
    "        self.keyRange = 769\n",
    "        self.bucketArray = [Bucket() for i in range(self.keyRange)]\n",
    "\n",
    "    def _hash(self, key):\n",
    "        return key % self.keyRange\n",
    "\n",
    "    def add(self, key):\n",
    "        \"\"\"\n",
    "        :type key: int\n",
    "        :rtype: None\n",
    "        \"\"\"\n",
    "        bucketIndex = self._hash(key)\n",
    "        self.bucketArray[bucketIndex].insert(key)\n",
    "\n",
    "    def remove(self, key):\n",
    "        \"\"\"\n",
    "        :type key: int\n",
    "        :rtype: None\n",
    "        \"\"\"\n",
    "        bucketIndex = self._hash(key)\n",
    "        self.bucketArray[bucketIndex].delete(key)\n",
    "\n",
    "    def contains(self, key):\n",
    "        \"\"\"\n",
    "        Returns true if this set contains the specified element\n",
    "        :type key: int\n",
    "        :rtype: bool\n",
    "        \"\"\"\n",
    "        bucketIndex = self._hash(key)\n",
    "        return self.bucketArray[bucketIndex].exists(key)\n",
    "\n",
    "\n",
    "class Node:\n",
    "    def __init__(self, value, nextNode=None):\n",
    "        self.value = value\n",
    "        self.next = nextNode\n",
    "\n",
    "class Bucket:\n",
    "    def __init__(self):\n",
    "        # a pseudo head\n",
    "        self.head = Node(0)\n",
    "\n",
    "    def insert(self, newValue):\n",
    "        # if not existed, add the new element to the head.\n",
    "        if not self.exists(newValue):\n",
    "            newNode = Node(newValue, self.head.next)\n",
    "            # set the new head.\n",
    "            self.head.next = newNode\n",
    "\n",
    "    def delete(self, value):\n",
    "        prev = self.head\n",
    "        curr = self.head.next\n",
    "        while curr is not None:\n",
    "            if curr.value == value:\n",
    "                # remove the current node\n",
    "                prev.next = curr.next\n",
    "                return\n",
    "            prev = curr\n",
    "            curr = curr.next\n",
    "\n",
    "    def exists(self, value):\n",
    "        curr = self.head.next\n",
    "        while curr is not None:\n",
    "            if curr.value == value:\n",
    "                # value existed already, do nothing\n",
    "                return True\n",
    "            curr = curr.next\n",
    "        return False\n",
    "\n",
    "\n",
    "# Your MyHashSet object will be instantiated and called as such:\n",
    "# obj = MyHashSet()\n",
    "# obj.add(key)\n",
    "# obj.remove(key)\n",
    "# param_3 = obj.contains(key)"
   ]
  },
  {
   "cell_type": "markdown",
   "id": "8931960d-1900-4bea-b5d0-c130fc5b619a",
   "metadata": {},
   "source": [
    "## Design Circular Deque [^641. Design Circular Deque]\n",
    "\n",
    "[^641. Design Circular Deque]: [Design Circular Deque](https://leetcode.com/problems/design-circular-deque/)"
   ]
  },
  {
   "cell_type": "code",
   "execution_count": 47,
   "id": "cef25814-eb79-49be-a88c-33c13c2040e3",
   "metadata": {},
   "outputs": [],
   "source": [
    "class MyCircularDeque:\n",
    "    # https://leetcode.com/problems/design-circular-deque/discuss/154055/python3-using-list-easy-to-understand\n",
    "    def __init__(self, k):\n",
    "        \"\"\"\n",
    "        Initialize your data structure here. Set the size of the deque to be k.\n",
    "        :type k: int\n",
    "        \"\"\"\n",
    "        self._size = 0\n",
    "        self._front, self._rear = 0, 0\n",
    "        self._capacity = k\n",
    "        self._data = [-1] * k\n",
    "\n",
    "    def insertFront(self, value):\n",
    "        \"\"\"\n",
    "        Adds an item at the front of Deque. Return true if the operation is successful.\n",
    "        :type value: int\n",
    "        :rtype: bool\n",
    "        \"\"\"\n",
    "        if self.isFull():\n",
    "            return False\n",
    "        if self.isEmpty():\n",
    "            self._data[self._front] = value\n",
    "        else:\n",
    "            self._front = (self._front - 1) % self._capacity\n",
    "            self._data[self._front] = value\n",
    "        self._size += 1\n",
    "        return True\n",
    "\n",
    "    def insertLast(self, value):\n",
    "        \"\"\"\n",
    "        Adds an item at the rear of Deque. Return true if the operation is successful.\n",
    "        :type value: int\n",
    "        :rtype: bool\n",
    "        \"\"\"\n",
    "        if self.isFull():\n",
    "            return False\n",
    "        if self.isEmpty():\n",
    "            self._data[self._rear] = value\n",
    "        else:\n",
    "            self._rear = (self._rear + 1) % self._capacity\n",
    "            self._data[self._rear] = value\n",
    "        self._size += 1\n",
    "        return True\n",
    "\n",
    "    def deleteFront(self):\n",
    "        \"\"\"\n",
    "        Deletes an item from the front of Deque. Return true if the operation is successful.\n",
    "        :rtype: bool\n",
    "        \"\"\"\n",
    "        if self.isEmpty():\n",
    "            return False\n",
    "        self._data[self._front] = -1\n",
    "        self._front = (self._front + 1) % self._capacity\n",
    "        self._size -= 1\n",
    "        if self.isEmpty():\n",
    "            self._rear = self._front\n",
    "        return True\n",
    "\n",
    "    def deleteLast(self):\n",
    "        \"\"\"\n",
    "        Deletes an item from the rear of Deque. Return true if the operation is successful.\n",
    "        :rtype: bool\n",
    "        \"\"\"\n",
    "        if self.isEmpty():\n",
    "            return False\n",
    "        self._data[self._rear] = -1\n",
    "        self._rear = (self._rear - 1) % self._capacity\n",
    "        self._size -= 1\n",
    "        if self.isEmpty():\n",
    "            self._front = self._rear\n",
    "        return True\n",
    "\n",
    "    def getFront(self):\n",
    "        \"\"\"\n",
    "        Get the front item from the deque.\n",
    "        :rtype: int\n",
    "        \"\"\"\n",
    "        return self._data[self._front]\n",
    "\n",
    "    def getRear(self):\n",
    "        \"\"\"\n",
    "        Get the last item from the deque.\n",
    "        :rtype: int\n",
    "        \"\"\"\n",
    "        return self._data[self._rear]\n",
    "\n",
    "    def isEmpty(self):\n",
    "        \"\"\"\n",
    "        Checks whether the circular deque is empty or not.\n",
    "        :rtype: bool\n",
    "        \"\"\"\n",
    "        return self._size == 0\n",
    "\n",
    "    def isFull(self):\n",
    "        \"\"\"\n",
    "        Checks whether the circular deque is full or not.\n",
    "        :rtype: bool\n",
    "        \"\"\"\n",
    "        return self._size == self._capacity"
   ]
  },
  {
   "cell_type": "markdown",
   "id": "1c8dcb8b-23bb-449c-b0fa-0c347cf4f65f",
   "metadata": {},
   "source": [
    "## Spiral Matrix [^54. Spiral Matrix]\n",
    "\n",
    "[^54. Spiral Matrix]: [Spiral Matrix](https://leetcode.com/problems/spiral-matrix/)"
   ]
  },
  {
   "cell_type": "code",
   "execution_count": 48,
   "id": "b326e4ec-2ab6-4d79-a938-029e27a26b02",
   "metadata": {},
   "outputs": [],
   "source": [
    "class Solution:\n",
    "    def spiralOrder(self, matrix: List[List[int]]) -> List[int]:\n",
    "        result = []\n",
    "        rows, columns = len(matrix), len(matrix[0])\n",
    "        up = left = 0\n",
    "        right = columns - 1\n",
    "        down = rows - 1\n",
    "\n",
    "        while len(result) < rows * columns:\n",
    "            # Traverse from left to right.\n",
    "            for col in range(left, right + 1):\n",
    "                result.append(matrix[up][col])\n",
    "\n",
    "            # Traverse downwards.\n",
    "            for row in range(up + 1, down + 1):\n",
    "                result.append(matrix[row][right])\n",
    "\n",
    "            # Make sure we are now on a different row.\n",
    "            if up != down:\n",
    "                # Traverse from right to left.\n",
    "                for col in range(right - 1, left - 1, -1):\n",
    "                    result.append(matrix[down][col])\n",
    "\n",
    "            # Make sure we are now on a different column.\n",
    "            if left != right:\n",
    "                # Traverse upwards.\n",
    "                for row in range(down - 1, up, -1):\n",
    "                    result.append(matrix[row][left])\n",
    "\n",
    "            left += 1\n",
    "            right -= 1\n",
    "            up += 1\n",
    "            down -= 1\n",
    "\n",
    "        return result"
   ]
  },
  {
   "cell_type": "markdown",
   "id": "27d9b086-8fd5-4cb2-9c72-cc4e388c7a79",
   "metadata": {},
   "source": [
    "## 19. Remove Nth Node From End of List\n",
    "\n",
    "https://leetcode.com/problems/remove-nth-node-from-end-of-list/"
   ]
  },
  {
   "cell_type": "code",
   "execution_count": 49,
   "id": "fc02ce53-aac9-40fa-ba8b-0f68a5b703cf",
   "metadata": {},
   "outputs": [],
   "source": [
    "class Solution:\n",
    "    def removeNthFromEnd(self, head, n):\n",
    "        fast = slow = head\n",
    "        for _ in range(n):\n",
    "            fast = fast.next\n",
    "        if not fast:\n",
    "            return head.next\n",
    "        while fast.next:\n",
    "            fast = fast.next\n",
    "            slow = slow.next\n",
    "        slow.next = slow.next.next\n",
    "        return head"
   ]
  },
  {
   "cell_type": "markdown",
   "id": "de5cbb9a-f46b-45f4-b660-bd6003bfe597",
   "metadata": {},
   "source": [
    "## 143. Reorder List\n",
    "\n",
    "https://leetcode.com/problems/reorder-list/"
   ]
  },
  {
   "cell_type": "code",
   "execution_count": null,
   "id": "6b8c8131-34dc-49be-bb6d-cf63a3805dae",
   "metadata": {},
   "outputs": [],
   "source": [
    "class Solution:\n",
    "    # https://leetcode.com/problems/reorder-list/discuss/801883/Python-3-steps-to-success-explained\n",
    "    def reorderList(self, head):\n",
    "        #step 1: find middle\n",
    "        if not head: return []\n",
    "        slow, fast = head, head\n",
    "        while fast.next and fast.next.next:\n",
    "            slow = slow.next\n",
    "            fast = fast.next.next\n",
    "        \n",
    "        #step 2: reverse second half\n",
    "        prev, curr = None, slow.next\n",
    "        while curr:\n",
    "            nextt = curr.next\n",
    "            curr.next = prev\n",
    "            prev = curr\n",
    "            curr = nextt    \n",
    "        slow.next = None\n",
    "        \n",
    "        #step 3: merge lists\n",
    "        head1, head2 = head, prev\n",
    "        while head2:\n",
    "            nextt = head1.next\n",
    "            head1.next = head2\n",
    "            head1 = head2\n",
    "            head2 = nextt"
   ]
  }
 ],
 "metadata": {
  "kernelspec": {
   "display_name": "Python 3 (ipykernel)",
   "language": "python",
   "name": "python3"
  },
  "language_info": {
   "codemirror_mode": {
    "name": "ipython",
    "version": 3
   },
   "file_extension": ".py",
   "mimetype": "text/x-python",
   "name": "python",
   "nbconvert_exporter": "python",
   "pygments_lexer": "ipython3",
   "version": "3.9.11"
  }
 },
 "nbformat": 4,
 "nbformat_minor": 5
}
