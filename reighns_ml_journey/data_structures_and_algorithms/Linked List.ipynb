{
 "cells": [
  {
   "cell_type": "markdown",
   "id": "fc06d5f3-b8e9-48af-a381-80de08ce0970",
   "metadata": {},
   "source": [
    "[![Open in Colab](https://colab.research.google.com/assets/colab-badge.svg)](https://colab.research.google.com/github/reighns92/reighns-ml-blog/blob/master/docs/reighns_ml_journey/data_structures_and_algorithms/Linked%20List.ipynb)"
   ]
  },
  {
   "cell_type": "code",
   "execution_count": 13,
   "id": "d5c1ae4a-84c5-468b-88e5-5d2177b6d00e",
   "metadata": {},
   "outputs": [],
   "source": [
    "from typing import *"
   ]
  },
  {
   "cell_type": "markdown",
   "id": "92822e08-51d7-47fd-a534-316204ca6d1c",
   "metadata": {},
   "source": [
    "## Node Object\n",
    "\n",
    "We create the `Node` object below. This object is currently going to be used for Singly Linked List. "
   ]
  },
  {
   "cell_type": "code",
   "execution_count": 14,
   "id": "5f31941d-f9f2-43dc-8879-bc1e95ceeeb6",
   "metadata": {},
   "outputs": [],
   "source": [
    "class Node:\n",
    "    \"\"\"\n",
    "    The Node object is initialized with a value and can be linked to the next node by setting the next_node attribute to a Node object.\n",
    "    This node is Singular associated with Singly Linked List.\n",
    "\n",
    "    Attributes:\n",
    "        curr_node_value (Any): The value associated with the created node.\n",
    "        next_node (Node): The next node in the linked list. Note the distinction between curr_node_value and next_node, the former is the value of the node, the latter is the pointer to the next node.\n",
    "\n",
    "    Examples:\n",
    "        >>> node = Node(1)\n",
    "        >>> print(node.curr_node_value)\n",
    "        1\n",
    "        >>> print(node.next_node)\n",
    "        None\n",
    "        >>> node.next_node = Node(2)\n",
    "        >>> print(node.next_node.curr_node_value)\n",
    "        2\n",
    "        >>> print(node.next_node.next_node)\n",
    "        None\n",
    "    \"\"\"\n",
    "\n",
    "    curr_node_value: Any\n",
    "    next_node: Optional[\"Node\"]\n",
    "\n",
    "    def __init__(self, curr_node_value: Any = None) -> None:\n",
    "        self.curr_node_value = curr_node_value\n",
    "        self.next_node = None"
   ]
  },
  {
   "cell_type": "markdown",
   "id": "0fcde3ab-714c-458a-bc02-4cf40acd0d7a",
   "metadata": {},
   "source": [
    "One thing for me to visualize is the `Node` object is not just a single object. If we are talking about one node, then our node object should hold a `curr_node_value` and the `next_node` attribute should point to `None`.\n",
    "\n",
    "If the `Node` object holds more than one node, then we can imagine the whole `Node` object as a series of nodes. We can only access the nodes sequentially, starting from the first node. \n",
    "\n",
    "<img src=\"https://storage.googleapis.com/reighns/reighns_ml_projects/docs/data_structures_and_algorithms/linked_list/nodes.png\" style=\"margin-left:auto; margin-right:auto\"/>\n",
    "<p style=\"text-align: center\">\n",
    "    <b>Nodes</b>\n",
    "</p>"
   ]
  },
  {
   "cell_type": "code",
   "execution_count": 15,
   "id": "6aea0c22-4c29-40ef-8248-06be1384089a",
   "metadata": {},
   "outputs": [
    {
     "name": "stdout",
     "output_type": "stream",
     "text": [
      "1\n",
      "None\n",
      "2\n",
      "None\n"
     ]
    }
   ],
   "source": [
    ">>> node = Node(1)\n",
    ">>> print(node.curr_node_value)\n",
    "\n",
    ">>> print(node.next_node)\n",
    "\n",
    ">>> node.next_node = Node(2)\n",
    ">>> print(node.next_node.curr_node_value)\n",
    "\n",
    ">>> print(node.next_node.next_node)\n"
   ]
  },
  {
   "cell_type": "markdown",
   "id": "fdbd87da-6158-45f5-82fb-98c009927f77",
   "metadata": {},
   "source": [
    "## Linked List Object"
   ]
  },
  {
   "cell_type": "markdown",
   "id": "26a5b169-1b80-4bb5-b0be-a58a4ab42b26",
   "metadata": {},
   "source": [
    "### Base Class"
   ]
  },
  {
   "cell_type": "markdown",
   "id": "7e68ba3c-0aa8-423b-b1ee-7eaf61c843cd",
   "metadata": {},
   "source": [
    "The `head` node (the first node) of a **Linked List** is of a `Node` object. The `head` **entirely determines** the entirety of the whole **Linked List**. Why? Because knowing the head node of the **Linked List**, we will be able to know every single node that comes after it sequentially (if exists)."
   ]
  },
  {
   "cell_type": "code",
   "execution_count": 16,
   "id": "9c71f9c3-aae8-47f9-be29-08d984172bb8",
   "metadata": {},
   "outputs": [],
   "source": [
    "class LinkedList:\n",
    "    \"\"\"\n",
    "    The LinkedList object is initialized with a head node.\n",
    "\n",
    "    The `head` node (the first node) of a **Linked List** is of a `Node` object.\n",
    "    The `head` **entirely determines** the entirety of the whole **Linked List**. \n",
    "    Because knowing the head node of the **Linked List**, we will be able to know every single node that comes after it sequentially (if exists).\n",
    "\n",
    "    Attributes:\n",
    "        head (Node): The head node of the linked list.\n",
    "    \"\"\"\n",
    "\n",
    "    head: Node = None\n",
    "\n",
    "    def __init__(self) -> None:\n",
    "        self.head = None"
   ]
  },
  {
   "cell_type": "markdown",
   "id": "d29d5a80-26b0-4921-8793-2b99325c6ade",
   "metadata": {},
   "source": [
    "Let us walk through how to create a **Linked List**.\n",
    "\n",
    "1. Start with an empty linked list object. The head of the linked list is None.\n",
    "\n",
    "```python\n",
    "llist = LinkedList()\n",
    "```\n",
    "\n",
    "2. We create 3 `Node` objects as of now, these 3 node object holds value of 1, 2 and 3 respectively. They are not linked, which can be verified by printing `.next` which returns `None`.\n",
    "\n",
    "```python\n",
    "first_node= Node(1)\n",
    "second_node = Node(2)\n",
    "third_node = Node(3)\n",
    "```\n",
    "\n",
    "3. Now we assign the first node object `first_node = Node(1)` to the `head` attribute of the `llist` object. We further note that both `first_node` and `llist.head` now point to the same object and both are of type `Node` and each of them holds a `value` of $1$. We also have to be clear that we did not link the head (first) node to the next (second) node yet.\n",
    "\n",
    "    $$\n",
    "    \\textbf{first_node} \\to \\textbf{None}\n",
    "    $$\n",
    "\n",
    "```python\n",
    "llist.head = first_node\n",
    "\n",
    "assert id(llist.head) == id(first_node)\n",
    "assert isinstance(llist.head, Node) == isinstance(first_node, Node)\n",
    "assert llist.head.curr_node_value == first_node.curr_node_value == 1\n",
    "```\n",
    "\n",
    "4. We now link the first node with the second by populating the `next_node` attribute of the `head` of the linked list `llist` (i.e. `llist.head.next_node = second_node`).\n",
    "\n",
    "    We further note that both `llist.head.next_node` and `second_node` now point to the same object and both are of type `Node` and each of them holds a `curr_node_value` of $2$.\n",
    "\n",
    "    Now the linked list `llist` has connected the first node and the second node in a linear fashion: \n",
    "\n",
    "    $$\n",
    "    \\textbf{first_node} \\to \\textbf{second_node} \\to \\textbf{None}\n",
    "    $$\n",
    "\n",
    "    So to reiterate, our linked list `llist` at this stage is akin to a list `[1, 2]`. To access the first value of the linked list we can do `llist.head.curr_node_value` and to get the next value we can call `llist.head.next_node.curr_node_value`.\n",
    "    \n",
    "5. We now link the second node with the third by populating the `next_node` attribute of the second node of the linked list `llist`, but to do so, we must actually reach the second node. (i.e. `llist.head.next_node.next_node = third_node`).\n",
    "\n",
    "    We further note that both `llist.head.next_node.next_node` and `third_node` now point to the same object and both are of type `Node` and each of them holds a `curr_node_value` of $3$.\n",
    "\n",
    "    Now the linked list `llist` has connected the second node and the third node in a linear fashion: \n",
    "\n",
    "    $$\n",
    "    \\textbf{first_node} \\to \\textbf{second_node} \\to \\textbf{third_node} \\to \\textbf{None}\n",
    "    $$\n",
    "\n",
    "    So to reiterate, our linked list `llist` at this stage is akin to a list `[1, 2, 3]`. To access the first value of the linked list we can do `llist.head.curr_node_value` and to get the next value we can call `llist.head.next_node.curr_node_value` and to get the third value, `llist.head.next_node.next_node.value`. There should be no confusion why we can chain attribute `next_node` here, since `llist.head.next_node` and `llist.head.next_node.next_node` are two different `Node` objects, so there won't be any overwriting of the `next_node` attribute."
   ]
  },
  {
   "cell_type": "code",
   "execution_count": 17,
   "id": "05679e47-40b3-465d-aed2-1cb2a6b93c4c",
   "metadata": {},
   "outputs": [],
   "source": [
    "# 1\n",
    "llist = LinkedList()\n",
    "\n",
    "# 2\n",
    "first_node= Node(1)\n",
    "second_node = Node(2)\n",
    "third_node = Node(3)\n",
    "\n",
    "# 3\n",
    "llist.head = first_node\n",
    "\n",
    "assert id(llist.head) == id(first_node)\n",
    "assert isinstance(llist.head, Node) == isinstance(first_node, Node)\n",
    "assert llist.head.curr_node_value == first_node.curr_node_value == 1\n",
    "\n",
    "# 4\n",
    "llist.head.next_node = second_node; # Link first node with second\n",
    "\n",
    "assert id(llist.head.next_node) == id(second_node)\n",
    "assert isinstance(llist.head.next_node, Node) == isinstance(second_node, Node)\n",
    "assert llist.head.next_node.curr_node_value == second_node.curr_node_value == 2\n",
    "\n",
    "# 5\n",
    "llist.head.next_node.next_node = third_node; # Link second node with the third node\n",
    "\n",
    "assert id(llist.head.next_node.next_node) == id(third_node)\n",
    "assert isinstance(llist.head.next_node.next_node, Node) == isinstance(third_node, Node)\n",
    "assert llist.head.next_node.next_node.curr_node_value == third_node.curr_node_value == 3"
   ]
  },
  {
   "cell_type": "markdown",
   "id": "97cfab8e-ba89-4739-914f-596c7c4e9936",
   "metadata": {},
   "source": [
    "### Traversing a Linked List"
   ]
  },
  {
   "cell_type": "markdown",
   "id": "85d5a585-2636-412e-9ddd-c2defe6dab53",
   "metadata": {},
   "source": [
    "#### A Wrong Attempt"
   ]
  },
  {
   "cell_type": "markdown",
   "id": "eddaabe2-c682-4335-8184-b03e590b5d4b",
   "metadata": {},
   "source": [
    "We first show a wrong attempt. The logic in `traverse` is as follows:\n",
    "\n",
    "1. We want to terminate the printing when we reach the last node, that is to say, when the last node is reached, the `.next_node` attribute should return `None`.\n",
    "2. We start off with the head node `self.head` and print `self.head.curr_node_value` in the first while loop to get the first node value.\n",
    "3. Subsequently, we overwrite `self.head` to be `self.head.next_node` after printing, so when the next while loop happens, printing `self.head.curr_node_value` actually points to `self.head.next_node.curr_node_value`. The logic continues until we reach the last node."
   ]
  },
  {
   "cell_type": "code",
   "execution_count": 18,
   "id": "da9d2623-339d-4c4a-acd7-ff02204b0dd6",
   "metadata": {},
   "outputs": [],
   "source": [
    "class LinkedList:\n",
    "    \"\"\"\n",
    "    The LinkedList object is initialized with a head node.\n",
    "\n",
    "    The `head` node (the first node) of a **Linked List** is of a `Node` object.\n",
    "    The `head` **entirely determines** the entirety of the whole **Linked List**.\n",
    "    Because knowing the head node of the **Linked List**, we will be able to know every single node that comes after it sequentially (if exists).\n",
    "\n",
    "    Attributes:\n",
    "        head (Node): The head node of the linked list.\n",
    "    \"\"\"\n",
    "\n",
    "    head: Node = None\n",
    "\n",
    "    def __init__(self) -> None:\n",
    "        self.head = None\n",
    "\n",
    "    def traverse(self) -> None:\n",
    "        \"\"\"Traverse the linked list and print the values of each node.\n",
    "\n",
    "        Examples:\n",
    "            >>> first = Node(1)\n",
    "            >>> second = Node(2)\n",
    "            >>> third = Node(3)\n",
    "            >>> ll = LinkedList()\n",
    "            >>> ll.head = first\n",
    "            >>> ll.head.next_node = second\n",
    "            >>> ll.head.next_node.next_node = third\n",
    "            >>> ll.traverse(ll.head)\n",
    "        \"\"\"\n",
    "        \n",
    "        while self.head is not None:\n",
    "            print(self.head.curr_node_value)\n",
    "            self.head = self.head.next_node\n",
    "            \n",
    "            if self.head is None:\n",
    "                print(\"None\")"
   ]
  },
  {
   "cell_type": "code",
   "execution_count": 19,
   "id": "cb0f092b-a5bd-4ba1-8e16-cba0e6724172",
   "metadata": {},
   "outputs": [
    {
     "name": "stdout",
     "output_type": "stream",
     "text": [
      "1\n",
      "2\n",
      "3\n",
      "None\n"
     ]
    }
   ],
   "source": [
    ">>> first = Node(1)\n",
    ">>> second = Node(2)\n",
    ">>> third = Node(3)\n",
    ">>> ll = LinkedList()\n",
    ">>> ll.head = first\n",
    ">>> ll.head.next_node = second\n",
    ">>> ll.head.next_node.next_node = third\n",
    ">>> ll.traverse()"
   ]
  },
  {
   "cell_type": "markdown",
   "id": "2dd8e5e1-ff2a-4c59-a114-c7d18351f0fe",
   "metadata": {},
   "source": [
    "The code above works fine, but is not ideal since if we want to access `llist.head.curr_node_value` after calling `llist.traverse()`, there will be `AttributeError: 'NoneType' object has no attribute 'value'` since we already set `self.head` to `None` in our last loop. Thus, we should change the code a bit where we assign a `temp` variable to `self.head`.\n",
    "\n",
    "```python\n",
    "temp_node = self.head\n",
    "while temp_node is not None:\n",
    "    print(temp_node.curr_node_value)\n",
    "    temp_node = temp_node.next_node\n",
    "\n",
    "    if temp_node is None:\n",
    "        print(\"None\")\n",
    "```"
   ]
  },
  {
   "cell_type": "code",
   "execution_count": 10,
   "id": "bb6f0142-f6d2-416f-9b32-6c0701a07afe",
   "metadata": {},
   "outputs": [
    {
     "data": {
      "text/plain": [
       "True"
      ]
     },
     "execution_count": 10,
     "metadata": {},
     "output_type": "execute_result"
    }
   ],
   "source": [
    "isinstance(ll.head, type(None))\n",
    "# print(ll.head.curr_node_value)"
   ]
  },
  {
   "cell_type": "markdown",
   "id": "2f5efb51-b085-4eae-8140-388b35bc95c8",
   "metadata": {},
   "source": [
    "#### Static Method\n",
    "\n",
    "Since I am just starting out on this topic, I want to keep the `traverse` method as a standalone function. This is easier for me to debug."
   ]
  },
  {
   "cell_type": "code",
   "execution_count": 20,
   "id": "87ceb870-3712-4197-b8fa-5a84ddb83a5b",
   "metadata": {},
   "outputs": [],
   "source": [
    "class LinkedList:\n",
    "    \"\"\"\n",
    "    The LinkedList object is initialized with a head node.\n",
    "\n",
    "    The `head` node (the first node) of a **Linked List** is of a `Node` object.\n",
    "    The `head` **entirely determines** the entirety of the whole **Linked List**.\n",
    "    Because knowing the head node of the **Linked List**, we will be able to know every single node that comes after it sequentially (if exists).\n",
    "\n",
    "    Attributes:\n",
    "        head (Node): The head node of the linked list.\n",
    "    \"\"\"\n",
    "\n",
    "    head: Node = None\n",
    "\n",
    "    def __init__(self) -> None:\n",
    "        self.head = None\n",
    "\n",
    "    @staticmethod\n",
    "    def traverse(head_node: Node) -> None:\n",
    "        \"\"\"Traverse the linked list and print the values of each node.\n",
    "\n",
    "        Args:\n",
    "            head_node (Node): The head node of a linked list.\n",
    "\n",
    "        Examples:\n",
    "            >>> first = Node(1)\n",
    "            >>> second = Node(2)\n",
    "            >>> third = Node(3)\n",
    "            >>> ll = LinkedList()\n",
    "            >>> ll.head = first\n",
    "            >>> ll.head.next_node = second\n",
    "            >>> ll.head.next_node.next_node = third\n",
    "            >>> ll.traverse(ll.head)\n",
    "        \"\"\"\n",
    "\n",
    "        temp_node = head_node\n",
    "\n",
    "        while temp_node is not None:\n",
    "            print(temp_node.curr_node_value)\n",
    "            temp_node = temp_node.next_node\n",
    "            if temp_node is None:\n",
    "                print(\"None\")"
   ]
  },
  {
   "cell_type": "code",
   "execution_count": 21,
   "id": "fc3f44e5-acfc-4331-a733-217ab369d861",
   "metadata": {},
   "outputs": [
    {
     "name": "stdout",
     "output_type": "stream",
     "text": [
      "1\n",
      "2\n",
      "3\n",
      "None\n"
     ]
    }
   ],
   "source": [
    ">>> first = Node(1)\n",
    ">>> second = Node(2)\n",
    ">>> third = Node(3)\n",
    ">>> ll = LinkedList()\n",
    ">>> ll.head = first\n",
    ">>> ll.head.next_node = second\n",
    ">>> ll.head.next_node.next_node = third\n",
    ">>> ll.traverse(ll.head)"
   ]
  },
  {
   "cell_type": "markdown",
   "id": "89d8dac8-b449-42c2-9035-5275eebbeb04",
   "metadata": {},
   "source": [
    "## Linked List Walkthrough"
   ]
  },
  {
   "cell_type": "code",
   "execution_count": 18,
   "id": "c5b06c4d-605e-4984-abcf-c3de42dd778d",
   "metadata": {},
   "outputs": [
    {
     "name": "stdout",
     "output_type": "stream",
     "text": [
      "Traverse current head node:\n",
      "1\n",
      "2\n",
      "3\n",
      "None\n",
      "Traverse reversed head node:\n",
      "3\n",
      "2\n",
      "1\n",
      "None\n"
     ]
    }
   ],
   "source": [
    "from typing import *\n",
    "\n",
    "class Node:\n",
    "    curr_node_value: Any\n",
    "    # next_node: self\n",
    "    def __init__(self, curr_node_value: Any = None):\n",
    "        # a node can hold a current value and by default its next node is None\n",
    "        # however we can assign values to the next of a node, but the next must be of object node as denoted\n",
    "        # note the distinction between curr node value and next node, they are diff\n",
    "        self.curr_node_value = curr_node_value\n",
    "        self.next_node = None\n",
    "\n",
    "class LinkedList:\n",
    "    def __init__(self):\n",
    "        # key point is that end of every llist, it points to None always\n",
    "        self.head = None\n",
    "        \n",
    "    @staticmethod\n",
    "    def add_node_before_head(head_node: Node, node_value: Any):\n",
    "        # if you set head_node to self.head\n",
    "        # first = Node(1)\n",
    "        # second = Node(2)\n",
    "        # third = Node(3)\n",
    "        \n",
    "        # ll = LinkedList()\n",
    "        # ll.head = first\n",
    "        # ll.head.next_node = second\n",
    "        # ll.head.next_node.next_node = third\n",
    "        \n",
    "        # ll.add_node_before_head(0)\n",
    "        \n",
    "        # if you do these above, it won't get you 0123None, it gives 0None\n",
    "        # because we are referring to self.head in this code block and self.head is None\n",
    "        # therefore for clarity of my learning, I will do all staticmethods first then internalize one day.\n",
    "        \n",
    "        print(\"Before inserting in the beginning\")\n",
    "        LinkedList.traverse(head_node)\n",
    "        new_node = Node(node_value)\n",
    "        new_node.next_node = head_node\n",
    "        head_node= new_node \n",
    "        \n",
    "        print(\"After inserting in the beginning\")\n",
    "        LinkedList.traverse(head_node)\n",
    "        return head_node\n",
    "        \n",
    "    @staticmethod\n",
    "    def add_node_after_node(prev_node: Node, node_value: Any):\n",
    "        assert prev_node is not None, \"There should be a previous node in the given LinkedList!\"\n",
    "        next_node = Node(node_value)\n",
    "        next_node.next_node = prev_node.next_node\n",
    "        prev_node.next_node = next_node\n",
    "        LinkedList.traverse(prev_node)\n",
    "        return prev_node\n",
    "        \n",
    "        \n",
    "    # def add_single_node(self, node_value: Any) -> Node:\n",
    "    #     if self.head is None:\n",
    "    #         self.head = Node(node_value)\n",
    "    #     else:\n",
    "    #         self.head.next_node = Node(node_value)\n",
    "        \n",
    "    def add_multiple_nodes(self, list_of_node_values: List[Any]):\n",
    "        for node_value in list_of_node_values:\n",
    "            self.head.next_node = node_value\n",
    "        \n",
    "    @staticmethod\n",
    "    def traverse(head_node: Node):\n",
    "        # stay true to the idea of having None as the \"last last Node\"\n",
    "        temp = head_node\n",
    "        \n",
    "        while temp is not None:\n",
    "            print(temp.curr_node_value)\n",
    "            temp = temp.next_node\n",
    "            if temp is None:\n",
    "                print(\"None\")\n",
    "                \n",
    "    @classmethod\n",
    "    def reverse(cls, head_node: Node):\n",
    "        print(\"Traverse current head node:\")\n",
    "        cls.traverse(head_node)\n",
    "        \n",
    "        prev_node = None\n",
    "        curr_node = head_node\n",
    "            \n",
    "        while curr_node is not None:\n",
    "            temp = curr_node\n",
    "            curr_node = curr_node.next_node\n",
    "            temp.next_node = prev_node\n",
    "            prev_node = temp\n",
    "        \n",
    "        reversed_head_node = prev_node\n",
    "        \n",
    "        print(\"Traverse reversed head node:\")\n",
    "        cls.traverse(reversed_head_node)\n",
    "        return reversed_head_node\n",
    "    \n",
    "\n",
    "# to be more clear we isolate the reverse linked list fn\n",
    "def reverse(head):\n",
    "\n",
    "    prev_node = None\n",
    "    curr_node = head\n",
    "        \n",
    "    while curr_node is not None:\n",
    "        temp = curr_node\n",
    "        curr_node = curr_node.next_node\n",
    "        temp.next_node = prev_node\n",
    "        prev_node = temp\n",
    "    \n",
    "    reversed_head_node = prev_node\n",
    "\n",
    "    return reversed_head_node\n",
    "\n",
    "    \n",
    "\n",
    "if __name__ == \"__main__\":\n",
    "    # a = dummy_convert_to_redcap()\n",
    "    first = Node(1)\n",
    "    second = Node(2)\n",
    "    third = Node(3)\n",
    "    \n",
    "    ll = LinkedList()\n",
    "    ll.head = first\n",
    "    ll.head.next_node = second\n",
    "    ll.head.next_node.next_node = third\n",
    "    \n",
    "    # ll.add_node_before_head(ll.head, 0)\n",
    "    \n",
    "    ll.reverse(ll.head)\n",
    "    "
   ]
  },
  {
   "cell_type": "markdown",
   "id": "b3b5667c-4ec4-4a0f-b13b-6ab2b34cdd70",
   "metadata": {},
   "source": [
    "## References\n",
    "\n",
    "- [Linked List | Set 1 (Introduction) (GeeksforGeeks)](https://www.geeksforgeeks.org/linked-list-set-1-introduction/?ref=lbp)\n",
    "- [Amazon Coding Interview Question: Reverse a Linked List (Leetcode 206 in Python)](https://www.youtube.com/watch?v=XDO6I8jxHtA)\n",
    "- [How to Implement a Linked List in Python](https://towardsdatascience.com/python-linked-lists-c3622205da81)"
   ]
  }
 ],
 "metadata": {
  "kernelspec": {
   "display_name": "Python 3 (ipykernel)",
   "language": "python",
   "name": "python3"
  },
  "language_info": {
   "codemirror_mode": {
    "name": "ipython",
    "version": 3
   },
   "file_extension": ".py",
   "mimetype": "text/x-python",
   "name": "python",
   "nbconvert_exporter": "python",
   "pygments_lexer": "ipython3",
   "version": "3.9.12"
  }
 },
 "nbformat": 4,
 "nbformat_minor": 5
}
