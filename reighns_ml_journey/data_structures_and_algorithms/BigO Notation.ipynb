{
 "cells": [
  {
   "cell_type": "markdown",
   "id": "b9681916-50ae-449a-b9c2-68c66cf558ad",
   "metadata": {},
   "source": [
    "$$\n",
    "\\newcommand{\\O}{\\mathcal{O}}\n",
    "$$"
   ]
  },
  {
   "cell_type": "markdown",
   "id": "2e62b1c3-febe-499e-80bc-ff4bfb557ea9",
   "metadata": {},
   "source": [
    "Most times if your for loop loops $n$ times and each the for loop block, each statement takes $\\O(1)$ time, then we conveniently deduce that\n",
    "\n",
    "$$\n",
    "n \\cdot \\O(1) = \\O(n \\cdot 1) = \\O(n)\n",
    "$$\n",
    "\n",
    "but the confusion may lie in whether this is mathematically correct. One can find out more here[^what-goes-wrong-with-sums-of-landau-terms].\n",
    "\n",
    "[^what-goes-wrong-with-sums-of-landau-terms]: https://cs.stackexchange.com/questions/366/what-goes-wrong-with-sums-of-landau-terms"
   ]
  }
 ],
 "metadata": {
  "kernelspec": {
   "display_name": "Python 3 (ipykernel)",
   "language": "python",
   "name": "python3"
  },
  "language_info": {
   "codemirror_mode": {
    "name": "ipython",
    "version": 3
   },
   "file_extension": ".py",
   "mimetype": "text/x-python",
   "name": "python",
   "nbconvert_exporter": "python",
   "pygments_lexer": "ipython3",
   "version": "3.9.10"
  }
 },
 "nbformat": 4,
 "nbformat_minor": 5
}
