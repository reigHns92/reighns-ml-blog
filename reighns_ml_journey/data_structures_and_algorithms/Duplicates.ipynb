{
 "cells": [
  {
   "cell_type": "markdown",
   "id": "c033e7ba-df95-4bc2-a717-fdbd5ad11a84",
   "metadata": {},
   "source": [
    "$$\n",
    "\\newcommand{\\O}{\\mathcal{O}}\n",
    "$$"
   ]
  },
  {
   "cell_type": "markdown",
   "id": "446768c6-8395-457e-b888-c8a89d513b37",
   "metadata": {},
   "source": [
    "## Contains Duplicates\n",
    "\n",
    "Insert Problem Statement."
   ]
  },
  {
   "cell_type": "markdown",
   "id": "238f666a-7f43-4914-9500-8a14c0cd9769",
   "metadata": {},
   "source": [
    "### Assumptions\n",
    "\n",
    "- Each given input will have exactly one solution\n",
    "- Same element cannot be used twice\n",
    "- Order of indices does not matter"
   ]
  },
  {
   "cell_type": "markdown",
   "id": "8488e1fa-e1dc-4f07-ae53-92470912d1c4",
   "metadata": {},
   "source": [
    "### Test Cases"
   ]
  },
  {
   "cell_type": "markdown",
   "id": "ee326739-80fd-4eaa-9d5c-735e1e37cdcd",
   "metadata": {},
   "source": [
    "### Intuition"
   ]
  },
  {
   "cell_type": "markdown",
   "id": "4836388b-f9dc-4cb3-8713-ac5c71aa8fea",
   "metadata": {},
   "source": [
    "### Code Walkthrough\n",
    "\n",
    "Consider writing pseudo code."
   ]
  },
  {
   "cell_type": "code",
   "execution_count": 1,
   "id": "468bb685-91fa-44f4-aaa7-7f8a4513aefc",
   "metadata": {},
   "outputs": [],
   "source": [
    "from typing import *\n",
    "\n",
    "def containsDuplicate(nums: List[int]) -> bool:\n",
    "    \"\"\"Check if a list contains duplicate elements.\n",
    "\n",
    "    Args:\n",
    "        nums (List[int]): List of integers.\n",
    "\n",
    "    Returns:\n",
    "        bool: Boolean value to indicate if the list contains duplicate elements.\n",
    "    \n",
    "    Examples:\n",
    "        >>> containsDuplicate(nums=[1,2,3,2,11])\n",
    "    \"\"\"\n",
    "    dup_dict = {}\n",
    "\n",
    "    for _, num in enumerate(nums):\n",
    "        if num not in dup_dict:\n",
    "            dup_dict[num] = 0\n",
    "        else:\n",
    "            return True\n",
    "    return False"
   ]
  },
  {
   "cell_type": "code",
   "execution_count": 2,
   "id": "a48760d1-7063-43f4-a83d-edbcaa891a83",
   "metadata": {},
   "outputs": [
    {
     "data": {
      "text/plain": [
       "[1, 3]"
      ]
     },
     "execution_count": 2,
     "metadata": {},
     "output_type": "execute_result"
    }
   ],
   "source": [
    ">>> nums = [15, 2, 3, 7]\n",
    ">>> target = 9\n",
    ">>> twoSum(nums, target)"
   ]
  },
  {
   "cell_type": "markdown",
   "id": "29c2cbe9-01c2-4c25-926b-f19b50886cfc",
   "metadata": {},
   "source": [
    "### Time Complexity\n",
    "\n",
    "Time complexity:"
   ]
  },
  {
   "cell_type": "markdown",
   "id": "4c4954d0-afb7-4143-a9b7-d30e3c9dd578",
   "metadata": {},
   "source": [
    "### Space Complexity\n",
    "\n",
    "Space complexity: "
   ]
  }
 ],
 "metadata": {
  "kernelspec": {
   "display_name": "Python 3 (ipykernel)",
   "language": "python",
   "name": "python3"
  },
  "language_info": {
   "codemirror_mode": {
    "name": "ipython",
    "version": 3
   },
   "file_extension": ".py",
   "mimetype": "text/x-python",
   "name": "python",
   "nbconvert_exporter": "python",
   "pygments_lexer": "ipython3",
   "version": "3.9.10"
  }
 },
 "nbformat": 4,
 "nbformat_minor": 5
}
