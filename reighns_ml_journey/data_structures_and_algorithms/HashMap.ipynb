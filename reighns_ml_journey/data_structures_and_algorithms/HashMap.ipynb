{
 "cells": [
  {
   "cell_type": "markdown",
   "id": "c033e7ba-df95-4bc2-a717-fdbd5ad11a84",
   "metadata": {},
   "source": [
    "$$\n",
    "\\newcommand{\\O}{\\mathcal{O}}\n",
    "$$"
   ]
  },
  {
   "cell_type": "markdown",
   "id": "29c2cbe9-01c2-4c25-926b-f19b50886cfc",
   "metadata": {},
   "source": [
    "## Time Complexity\n",
    "\n",
    "Time complexity: $\\O(n)$. We traverse the list containing $n$ elements only once. Each lookup in the table costs only $\\O(1)$ time. \n",
    "\n",
    "Loosely speaking, this means in each for loop from line 22 to 26, each line takes $\\O(1)$ time, so in a typical single iteration, we use around $\\O(3)$ time, and looping it $n$ times takes \n",
    "\n",
    "$$W\n",
    "n \\cdot \\O(3) \\approx \\O(3n) \\approx \\O(n)\n",
    "$$"
   ]
  },
  {
   "cell_type": "markdown",
   "id": "4c4954d0-afb7-4143-a9b7-d30e3c9dd578",
   "metadata": {},
   "source": [
    "## Space Complexity\n",
    "\n",
    "Space complexity: $\\O(n)$. The extra space required depends on the number of items stored in the dictionary `seen`, which stores at most $n$ elements."
   ]
  }
 ],
 "metadata": {
  "kernelspec": {
   "display_name": "Python 3 (ipykernel)",
   "language": "python",
   "name": "python3"
  },
  "language_info": {
   "codemirror_mode": {
    "name": "ipython",
    "version": 3
   },
   "file_extension": ".py",
   "mimetype": "text/x-python",
   "name": "python",
   "nbconvert_exporter": "python",
   "pygments_lexer": "ipython3",
   "version": "3.9.10"
  }
 },
 "nbformat": 4,
 "nbformat_minor": 5
}
