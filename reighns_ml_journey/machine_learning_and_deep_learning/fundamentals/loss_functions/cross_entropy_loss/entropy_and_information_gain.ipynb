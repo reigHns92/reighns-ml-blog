{
 "cells": [
  {
   "cell_type": "markdown",
   "id": "dfa436f7",
   "metadata": {},
   "source": [
    "## Introduction\n",
    "\n",
    "Entropy will appear in two areas of Machine Learning:\n",
    "\n",
    "- Entropy and Information Gain in Decision Trees.\n",
    "- Entropy as a Loss Function"
   ]
  },
  {
   "cell_type": "markdown",
   "id": "18983383-07c5-4448-b640-277ccde3da73",
   "metadata": {},
   "source": [
    "## Entropy in Decision Trees\n",
    "\n",
    "**Please read [entropy-how-decision-trees-make-decisions](https://towardsdatascience.com/entropy-how-decision-trees-make-decisions-2946b9c18c8) first. If you are like me, who touched on Entropy as a loss function, then it is slightly confusing for the entropy here. Entropy is a measure of disorder and chaos.**"
   ]
  },
  {
   "cell_type": "markdown",
   "id": "f1d505ac",
   "metadata": {},
   "source": [
    "## Definition (Entropy)\n",
    "\n",
    "In [information theory](information_theory \"wikilink\"), the **entropy** of a [random variable](random_variable \"wikilink\") is the average level of \\\"information\\\", \\\"surprise\\\", or \\\"uncertainty\\\" inherent to the variable\\'s possible outcomes. Given a discrete random variable $Y$, with possible outcomes $y_1, ..., y_n$, which occur with probability\n",
    "\n",
    "$$\\mathrm{P}(Y=y_1), ..., \\mathrm{P}(Y=y_n)$$\n",
    "\n",
    "the entropy of $Y$ is formally defined as:\n",
    "\n",
    "$$\\mathrm{H}(Y)= -\\sum _{i=1}^{n}{\\mathrm{P}(y_{i})\\log \\mathrm{P}(y_{i})}$$\n",
    "\n",
    "where $\\Sigma$ denotes the sum over the variable\\'s possible values. The\n",
    "choice of base for $\\log$, the [logarithm](logarithm \"wikilink\"), varies\n",
    "for different applications. Base 2 gives the unit of\n",
    "[bits](bit \"wikilink\") (or \\\"[shannons](shannon_(unit) \"wikilink\")\\\"),\n",
    "while base [*e*](Euler's_number \"wikilink\") gives \\\"natural units\\\"\n",
    "[nat](nat_(unit) \"wikilink\"), and base 10 gives units of \\\"dits\\\",\n",
    "\\\"bans\\\", or \\\"[hartleys](Hartley_(unit) \"wikilink\")\\\". An equivalent\n",
    "definition of entropy is the [expected value](expected_value \"wikilink\")\n",
    "of the [self-information](self-information \"wikilink\") of a\n",
    "variable."
   ]
  },
  {
   "cell_type": "markdown",
   "id": "d0570251-d768-4be9-bb2b-ffb07f65c3fa",
   "metadata": {},
   "source": [
    "### Intuition (Entropy and Information Theory)\n",
    "\n",
    "From Wikipedia: Consider making my own example to reinforce concept."
   ]
  },
  {
   "cell_type": "markdown",
   "id": "8e750582",
   "metadata": {},
   "source": [
    "Intuitively, if we are predicting an image of a cat vs dog, and we pass in a query image $x_{q}$ of pixels, we expect the $y_{q}$ to take on class 0 or 1. However, taking a step back, in ML setting, we often have a calibrated probability $y_{q}$ before the classifier tells us whether it is a 0 or 1 based on a decision (say if probability more than 0.5, then its 1, and 0 otherwwise). This probability is a soft label and in our scenario, should output an array \n",
    "\n",
    "```python\n",
    "y_q = [probability of x_q being a cat 0, probability of x_q being a dog 1] = [0.5, 0.5]\n",
    "```\n",
    "\n",
    "In this case, we can say that our prediction $Y$ is a DISCRETE random variable with probability distribution $p$, and thus the entropy of $Y$ can be formally defined as:\n",
    "\n",
    "$$\\mathrm{H}(Y)= -\\sum _{i=1}^{n}{\\mathrm{P}(y_{i})\\log \\mathrm{P}(y_{i})}$$\n",
    "\n",
    "where we are summing over all values that $Y$ took on.\n",
    "\n",
    "In this case, it is \n",
    "\n",
    "```python\n",
    "entropy of y_q = -( 0.5 * lg 0.5 + 0.5 * lg 0.5 ) = -(-0.5 + -0.5) = 1\n",
    "```\n",
    "\n",
    "Note we are using lg base 2 here and so our maximum entropy is 1."
   ]
  },
  {
   "cell_type": "markdown",
   "id": "7fb2416f",
   "metadata": {},
   "source": [
    "- Entropy is maximum if each random variable is equi-probable.\n",
    "- Entropy Loss is usually used as a loss function in ML as it penalizes \"wrong predictions\" and favours confident predictions."
   ]
  },
  {
   "cell_type": "markdown",
   "id": "8e3f2134",
   "metadata": {},
   "source": [
    "In the image below, let's say $Y$ is a random variable taking on a uniform distribution, for example, if we are predicting a cat or dog image, where $y$ is the probability output from a classifier, taking on 0 to 1. If we were to assume $y \\sim U[0,1]$, then it follows that $H(y) = 1$ as $y$ will always be of $[0.5, 0.5]$ in prediction.\n",
    "\n",
    "Let us now see two different cases if $y$ follows a gaussian distribution, $y_{1} \\sim \\mathcal{N_1}[0,1]$ and $y_{2} \\sim \\mathcal{N_2}[0,1]$\n",
    "\n",
    "Visually, we can see that the second gaussian has a higher peak than the first, hence we can deduce that $H(y_{2}) < H(y_{1})$ because since the higher peak suggest that the points of $y_{2}$ are tightly spread around each other, and since the points are close, there is less penalty in the $\\log$. Even more geometrically, if we take \"uniform distribution\" as the one with highest entropy, we can say that as the gaussian curve smoothes out -> becoming more uniform, then the entropy rises.\n",
    "\n",
    "\n",
    "<img src=\"https://storage.googleapis.com/reighns/reighns_ml_projects/docs/deep_learning/fundamental_concepts/loss_functions/entropy_and_information_gain_uniform_gaussian_entropy_graph.jpg\" width=\"500\" height=\"500\" style=\"margin-left:auto; margin-right:auto\"/>\n",
    "<p style=\"text-align: center\">\n",
    "    <b>Fig; By Hongnan G.</b>\n",
    "</p>\n"
   ]
  },
  {
   "cell_type": "markdown",
   "id": "a21fe38d-9235-4b4a-ab5b-27854b7a570b",
   "metadata": {},
   "source": [
    "### Python Code (Entropy in Information Gain)"
   ]
  },
  {
   "cell_type": "code",
   "execution_count": 16,
   "id": "827c5218-86fd-421b-930d-a01033e349be",
   "metadata": {},
   "outputs": [],
   "source": [
    "from math import log2\n",
    "from typing import *\n",
    "from typing import List\n",
    "\n",
    "import numpy as np\n",
    "import scipy"
   ]
  },
  {
   "cell_type": "markdown",
   "id": "27165219-e608-4802-95d3-671d16cb44f7",
   "metadata": {},
   "source": [
    "Given a list of labels, (i.e. ground truth labels of 5 images of cats and dogs):\n",
    "\n",
    "- Ground Truth Labels: `['dog', 'dog', 'cat', 'cat', 'dog'] = [0, 0, 1, 1, 0]`\n",
    "- Class Probabilities: Note carefully in this entropy context, this class probabilities **IS NOT** the softmax activation, instead, it is just the **FREQUENCY** of each class. `[3/5, 2/5]` where dog has frequency of $\\frac{3}{5}$ and cat $\\frac{2}{5}$.\n",
    "\n"
   ]
  },
  {
   "cell_type": "code",
   "execution_count": 35,
   "id": "3f723390",
   "metadata": {},
   "outputs": [],
   "source": [
    "from math import log2\n",
    "from typing import *\n",
    "from typing import List\n",
    "\n",
    "import numpy as np\n",
    "import scipy\n",
    "\n",
    "\n",
    "def compute_class_probabilities(labels: List[Any]) -> List[float]:\n",
    "    \"\"\"Calculate frequency of each class.\n",
    "\n",
    "\n",
    "    From DSFS book, it mentions that we do not actually care about which label is associated with which probability. Thus it is okay to use a dictionary which does not preserve order.\n",
    "\n",
    "    Args:\n",
    "        labels (List[Any]): The labels of the data.\n",
    "\n",
    "    Returns:\n",
    "        label_probs (List[float]): The frequency of each class.\n",
    "\n",
    "    Example:\n",
    "        >>> labels = ['dog', 'dog', 'cat', 'cat', 'dog'] = [0, 0, 1, 1, 0]\n",
    "        >>> assert compute_class_probabilities(labels) == [2/5, 3/5] or class_probabilities(labels) == [3/5, 2/5]\n",
    "    \"\"\"\n",
    "\n",
    "    num_samples = len(labels)\n",
    "\n",
    "    label_count: Dict = {}\n",
    "    label_probs: List = []\n",
    "\n",
    "    for label in labels:\n",
    "        if label not in label_count:\n",
    "            label_count[label] = 1\n",
    "        else:\n",
    "            label_count[label] += 1\n",
    "\n",
    "    for label, count in label_count.items():\n",
    "\n",
    "        label_probs.append(count / num_samples)\n",
    "\n",
    "    return label_probs\n",
    "\n",
    "\n",
    "def compute_entropy_with_class_probability(\n",
    "    class_probabilities: List[float],\n",
    "    epsilon: float = 1e-15,\n",
    "    log_base: int = 2,\n",
    ") -> float:\n",
    "    \"\"\"The formula for entropy is:\n",
    "    $$\\mathrm{H}(Y)= -\\sum _{i=1}^{n}{\\mathrm{P}(y_{i})\\log \\mathrm{P}(y_{i})}$$\n",
    "\n",
    "    Args:\n",
    "        class_probabilities (List[float]): Frequency probability of class occurences.\n",
    "\n",
    "    Returns:\n",
    "        entropy (float): The entropy of the dataset.\n",
    "\n",
    "    Example:\n",
    "        >>> # maximum chaos -> entropy = 1\n",
    "        >>> class_probabilities = [1/2, 1/2]\n",
    "        >>> assert compute_entropy_with_class_probability(class_probabilities) == 1\n",
    "        >>> # minimum chaos -> entropy = 0\n",
    "        >>> class_probabilities = [1, 0] # or [0, 1]\n",
    "        >>> assert np.isclose(compute_entropy_with_class_probability(class_probabilities), 0)\n",
    "        >>> class_probabilities = [2/5, 3/5]\n",
    "        >>> assert compute_entropy_with_class_probability(class_probabilities) == 0.9709505944546686\n",
    "    \"\"\"\n",
    "\n",
    "    assert (\n",
    "        np.sum(class_probabilities) == 1\n",
    "    ), f\"Probabilities do not sum to 1 and is {np.sum(class_probabilities)}!\"\n",
    "\n",
    "    assert log_base in [\n",
    "        2,\n",
    "        10,\n",
    "    ], f\"log_base must be either 2 or 10. Got {log_base}!\"\n",
    "\n",
    "    if log_base == 2:\n",
    "        log_fn = getattr(np, \"log2\")\n",
    "    else:\n",
    "        log_fn = getattr(np, \"log10\")\n",
    "\n",
    "    entropy = 0\n",
    "    for y in class_probabilities:\n",
    "        if y == 0:\n",
    "            y = epsilon\n",
    "        entropy += y * log_fn(y)\n",
    "    entropy = -1 * entropy\n",
    "\n",
    "    return entropy\n",
    "\n",
    "\n",
    "def compute_entropy_with_class_labels(\n",
    "    labels: List[Any], *args, **kwargs\n",
    ") -> float:\n",
    "    \"\"\"Compute the entropy of the dataset given class labels.\n",
    "\n",
    "    Args:\n",
    "        labels (List[Any]): The labels of the data.\n",
    "\n",
    "    Returns:\n",
    "        entropy (float): The entropy of the dataset.\n",
    "\n",
    "    Example:\n",
    "        >>> from scipy.stats import entropy\n",
    "        >>> labels = [0, 0, 1, 1, 0] # ['dog', 'dog', 'cat', 'cat', 'dog']\n",
    "        >>> # Note scipy's entropy takes in class freq\n",
    "        >>> np.isclose(compute_entropy_with_class_labels(labels=labels, epsilon=1e-15, log_base=2), entropy([3/5, 2/5], base=2))\n",
    "    \"\"\"\n",
    "\n",
    "    return compute_entropy_with_class_probability(\n",
    "        compute_class_probabilities(labels), *args, **kwargs\n",
    "    )\n"
   ]
  },
  {
   "cell_type": "code",
   "execution_count": 36,
   "id": "3f559182",
   "metadata": {},
   "outputs": [],
   "source": [
    ">>> # maximum chaos -> entropy = 1\n",
    ">>> class_probabilities = [1/2, 1/2]\n",
    ">>> assert compute_entropy_with_class_probability(class_probabilities) == 1\n",
    ">>> # minimum chaos -> entropy = 0\n",
    ">>> class_probabilities = [1, 0] # or [0, 1]\n",
    ">>> assert np.isclose(compute_entropy_with_class_probability(class_probabilities), 0)\n",
    ">>> class_probabilities = [2/5, 3/5]\n",
    ">>> assert compute_entropy_with_class_probability(class_probabilities) == 0.9709505944546686"
   ]
  },
  {
   "cell_type": "code",
   "execution_count": 39,
   "id": "d85eaf01",
   "metadata": {},
   "outputs": [
    {
     "data": {
      "text/plain": [
       "True"
      ]
     },
     "execution_count": 39,
     "metadata": {},
     "output_type": "execute_result"
    }
   ],
   "source": [
    ">>> from scipy.stats import entropy\n",
    ">>> labels = [0, 0, 1, 1, 0] # ['dog', 'dog', 'cat', 'cat', 'dog'] \n",
    ">>> # Note scipy's entropy takes in class freq\n",
    ">>> np.isclose(compute_entropy_with_class_labels(labels=labels, epsilon=1e-15, log_base=2), entropy([3/5, 2/5], base=2))"
   ]
  },
  {
   "cell_type": "markdown",
   "id": "843b3eb3-3aa4-40d6-b838-fda39f5bdf6f",
   "metadata": {},
   "source": [
    "### Entropy Graph vs Different Class Distributions\n",
    "\n",
    "We see that the Entropy of each point in the plot below, and find that on the extreme, `[0, 1]` and `[1, 0]`, our entropy is the lowest with 0. The plot below is akin to our dataset having 2 distinct classes, but with different class frequencies.\n",
    "\n",
    "Consider a dataset with 10 cats and dogs (0 and 1 respectively), then the scenario below illustrates:\n",
    "\n",
    "- `[0, 1]` represents there are 0 cats and 10 dogs. This dataset is considered pure and has 0 entropy. Think of it as easy for us to distinguish cats and dogs in a dataset with only dogs.\n",
    "- `[0.1, 0.9]` represents 1 cats and 9 dogs. The entropy is a little higher since we need to spend some effort to distinguish the 1 cat from 9 dogs.\n",
    "- `[0.5, 0.5]` represents 5 cats and 5 dogs. The entropy is highest here and the most impure since there is an equal mixture and distribution of cats and dogs.\n",
    "- `[1, 0]` similar case to `[0, 1]`."
   ]
  },
  {
   "cell_type": "code",
   "execution_count": 40,
   "id": "1a61ff48",
   "metadata": {},
   "outputs": [
    {
     "data": {
      "image/png": "[encoded data removed]",
      "text/plain": [
       "<Figure size 1280x640 with 1 Axes>"
      ]
     },
     "metadata": {
      "needs_background": "light"
     },
     "output_type": "display_data"
    }
   ],
   "source": [
    "# Reference to machine learning mastery\n",
    "# compare probability distributions vs entropy\n",
    "from math import log2\n",
    "from matplotlib import pyplot\n",
    "from matplotlib.pyplot import figure\n",
    "\n",
    "figure(figsize=(16, 8), dpi=80)\n",
    "# calculate entropy\n",
    "def entropy(events, ets=1e-15):\n",
    "    return -sum([p * log2(p + ets) for p in events])\n",
    " \n",
    "# define probabilities\n",
    "probs = [0.0, 0.1, 0.2, 0.3, 0.4, 0.5, 0.6, 0.7, 0.8, 0.9, 1.]\n",
    "# create probability distribution\n",
    "dists = [[round(p, 1) , round((1.0 - p), 1)] for p in probs]\n",
    "\n",
    "# calculate entropy for each distribution\n",
    "ents = [entropy(d) for d in dists]\n",
    "# plot probability distribution vs entropy\n",
    "pyplot.plot(probs, ents, marker='.')\n",
    "pyplot.title('Probability Distribution vs Entropy')\n",
    "pyplot.xticks(probs, [str(d) for d in dists])\n",
    "pyplot.xlabel('Probability Distribution')\n",
    "pyplot.ylabel('Entropy (bits)')\n",
    "pyplot.show()"
   ]
  },
  {
   "cell_type": "markdown",
   "id": "646d23ed",
   "metadata": {},
   "source": [
    "## Entropy as a loss function\n",
    "\n",
    "Read more in the section **cross_entropy_loss**."
   ]
  },
  {
   "cell_type": "markdown",
   "id": "b5797442",
   "metadata": {},
   "source": [
    "- [machinelearningmastery-information-entropy](https://machinelearningmastery.com/what-is-information-entropy/)\n",
    "- [analytics-vidhya-entropy-loss](https://medium.com/analytics-vidhya/understanding-entropy-the-golden-measurement-of-machine-learning-4ea97c663dc3#:~:text=By%20using%20entropy%20in%20machine,be%20desired%20in%20model%2Dbuilding.)\n",
    "- [cross-entropy-loss-machine-learning-mastery](https://machinelearningmastery.com/cross-entropy-for-machine-learning/)\n",
    "- [entropy-how-decision-trees-make-decisions](https://towardsdatascience.com/entropy-how-decision-trees-make-decisions-2946b9c18c8)\n",
    "- https://ramsane.github.io/articles/cross-entropy-explained-with-entropy-and-kl-divergence\n",
    "- https://neptune.ai/blog/cross-entropy-loss-and-its-applications-in-deep-learning"
   ]
  }
 ],
 "metadata": {
  "interpreter": {
   "hash": "916dbcbb3f70747c44a77c7bcd40155683ae19c65e1c03b4aa3499c5328201f1"
  },
  "kernelspec": {
   "display_name": "Python 3 (ipykernel)",
   "language": "python",
   "name": "python3"
  },
  "language_info": {
   "codemirror_mode": {
    "name": "ipython",
    "version": 3
   },
   "file_extension": ".py",
   "mimetype": "text/x-python",
   "name": "python",
   "nbconvert_exporter": "python",
   "pygments_lexer": "ipython3",
   "version": "3.9.10"
  },
  "toc": {
   "base_numbering": 1,
   "nav_menu": {},
   "number_sections": true,
   "sideBar": true,
   "skip_h1_title": false,
   "title_cell": "Table of Contents",
   "title_sidebar": "Contents",
   "toc_cell": false,
   "toc_position": {},
   "toc_section_display": true,
   "toc_window_display": false
  }
 },
 "nbformat": 4,
 "nbformat_minor": 5
}
