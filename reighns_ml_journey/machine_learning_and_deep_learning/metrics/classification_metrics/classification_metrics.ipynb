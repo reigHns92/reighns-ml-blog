{
 "cells": [
  {
   "cell_type": "markdown",
   "id": "29c5fe2b-bc17-4384-ac37-34a4814b6785",
   "metadata": {},
   "source": [
    "This notebook attempts to describe the commonly used Classification Metrics in details; you will find the pros and cons of each metric, alongside with examples to illustrate. I will refer to scikit-learn's official website for reference, specifically, the [section on Model Evaluation](https://scikit-learn.org/stable/modules/model_evaluation.html). I may quote some definitions verbatim, if necessary.\n",
    "\n",
    "We will be going through three major types of classification problems.\n",
    "\n",
    "- Binary Classification\n",
    "- Multiclass Classification\n",
    "- Multilabel Classification\n",
    "\n",
    "---\n",
    "\n",
    "## Motivation\n",
    "\n",
    "Unlike Kaggle competitions, metrics have to be carefully chosen in business. A wrong metric may lead to disastrous outcomes. We open with a classic example.\n",
    "\n",
    "---\n",
    "\n",
    "!!! failure \n",
    "    Consider a training dataset consisting of 1000 patients where we want to train a classifier to \"accurately\" classify whether a patient has cancer (positive class 1) or no cancer (negative class 0). The dataset is dichotimized by 950 benign patients and the remaining 50, cancerous.\n",
    "\n",
    "    The ZeroR classifier (baseline classification model) predicts only the majority class. And in our case, the in-sample training set accuracy will be $0.95\\%$ since it predicts all sample to be benign; for completeness, we also assume a validation set with 1000 patients (990 benign and 10 cancerous), it follows that our validation set's accuracy will be $0.99\\%$. \n",
    "\n",
    "    Euphoria is at all time high over this result, surprised that a baseline model can perform so well, you then happily reported this result to your boss, and gets fired immediately. You drown in tears and googled \"Is accuracy a bad metric?\", only to learn a valuable lesson: since the model you trained will predict benign no matter the input, this means it completely missed out every single cancerous patient even though you get a 99 percent accuracy. Should your model ever be deployed as a \"cancer detector\", you will be responsible for indirectly causing many patients' death.\n",
    "  \n"
   ]
  },
  {
   "cell_type": "markdown",
   "id": "47734cdb-e714-4a02-ab46-a2e562db06e3",
   "metadata": {},
   "source": [
    "## TODOs\n",
    "\n",
    "### Thresholds\n",
    "\n",
    "To add threshold explanation in future changes. For example, talk more about how we can use different thresholds to make business decisions.\n",
    "\n",
    "### Benefit Structure"
   ]
  }
 ],
 "metadata": {
  "kernelspec": {
   "display_name": "Python 3 (ipykernel)",
   "language": "python",
   "name": "python3"
  },
  "language_info": {
   "codemirror_mode": {
    "name": "ipython",
    "version": 3
   },
   "file_extension": ".py",
   "mimetype": "text/x-python",
   "name": "python",
   "nbconvert_exporter": "python",
   "pygments_lexer": "ipython3",
   "version": "3.9.10"
  }
 },
 "nbformat": 4,
 "nbformat_minor": 5
}
