{
 "cells": [
  {
   "cell_type": "code",
   "execution_count": null,
   "metadata": {
    "id": "yXAr75E8d4nw"
   },
   "outputs": [],
   "source": [
    "!pip install -q scikit-learn==1.0.1"
   ]
  },
  {
   "cell_type": "code",
   "execution_count": 1,
   "metadata": {
    "ExecuteTime": {
     "end_time": "2020-04-22T04:38:04.461975Z",
     "start_time": "2020-04-22T04:38:04.456987Z"
    },
    "executionInfo": {
     "elapsed": 304,
     "status": "ok",
     "timestamp": 1636172292450,
     "user": {
      "displayName": "Hongnan Gao",
      "photoUrl": "https://lh3.googleusercontent.com/a/default-user=s64",
      "userId": "04730584788169020152"
     },
     "user_tz": -480
    },
    "id": "B8TYj5dm79z9"
   },
   "outputs": [],
   "source": [
    "import numpy as np\n",
    "import pandas as pd\n",
    "from sklearn.metrics import confusion_matrix, roc_auc_score, brier_score_loss, cohen_kappa_score, make_scorer\n",
    "import itertools\n",
    "from sklearn import datasets\n",
    "import seaborn as sns\n",
    "import matplotlib.pyplot as plt\n",
    "import random\n",
    "from typing import Dict, List\n",
    "\n",
    "from IPython.core.interactiveshell import InteractiveShell\n",
    "InteractiveShell.ast_node_interactivity = \"all\""
   ]
  },
  {
   "cell_type": "markdown",
   "metadata": {
    "id": "WdtmSlNS790O"
   },
   "source": [
    "# Quadratic Weighted Kappa\n",
    "\n",
    "The below explanation will correspond to my [notebook during the PANDAS competition](https://www.kaggle.com/reighns/understanding-the-quadratic-weighted-kappa/)."
   ]
  },
  {
   "cell_type": "markdown",
   "metadata": {
    "id": "MSVZt1Ff790P"
   },
   "source": [
    " ## Table of Contents\n",
    "1. [Intuition of QWK](#intuition)\n",
    "2. [Step 1: Create the NxN histogram matrix O](#confusion) <br>\n",
    "3. [Step 2: Create the Weighted Matrix w](#weighted)<br>\n",
    "4. [Step 3: Create the Expected Matrix](#expected) <br>\n",
    "5. [Step 4: Final Step: Weighted Kappa formula and Its python codes](#qwk) \n",
    "\n",
    "    "
   ]
  },
  {
   "cell_type": "markdown",
   "metadata": {
    "id": "uz0jlUI6790P"
   },
   "source": [
    "## **Intuition of QWK** <a id=\"intuition\"></a> <a id=\"intuition\"></a>\n",
    "\n",
    "TLDR: one can skip to the last section on the python code implementation of QWK and also take reference to [CPMP's Fast QWK Computation](https://www.kaggle.com/c/prostate-cancer-grade-assessment/discussion/145105) as well.\n",
    "\n",
    "Kappa or Cohen’s Kappa is like classification accuracy, except that it is normalized at the baseline of random chance on your dataset: It basically tells you how much better your classifier is performing over the performance of a classifier that simply guesses at random according to the frequency of each class."
   ]
  },
  {
   "cell_type": "markdown",
   "metadata": {
    "id": "dYTGJkcC790P"
   },
   "source": [
    "First off, we define the formula exactly as mentioned. Quoting from the evaluation page: **Submissions are scored based on the quadratic weighted kappa, which measures the agreement between two outcomes. This metric typically varies from 0 (random agreement) to 1 (complete agreement). In the event that there is less agreement than expected by chance, the metric may go below 0.** \n",
    "\n",
    "**The quadratic weighted kappa is calculated as follows. First, an N x N histogram matrix O is constructed, such that $O_{i,j}$ corresponds to the number of `isup_grade`'s i (actual) that received a predicted value j. An N-by-N matrix of weights, w, is calculated based on the difference between actual and predicted values:**\n",
    "\n",
    "$$w_{i,j} = \\dfrac{(i-j)^2}{(N-1)^2}$$\n",
    "\n",
    "<br>\n",
    "\n",
    "**An N-by-N histogram matrix of expected outcomes, E, is calculated assuming that there is** ***no correlation*** **between values.This is calculated as the outer product between the actual histogram vector of outcomes and the predicted histogram vector, normalized such that E and O have the same sum. **\n",
    "\n",
    "<br>\n",
    "\n",
    "Finally, from these three matrices, the quadratic weighted kappa is calculated as:\n",
    "\n",
    "\n",
    "$$\\kappa = 1 - \\dfrac{\\sum_{i,j}\\text{w}_{i,j}O_{i,j}}{\\sum_{i,j}\\text{w}_{i,j}E_{i,j}}$$\n",
    "\n",
    "where $w$ is the weighted matrix, $O$ is the histogram matrix and $E$ being the expected matrix."
   ]
  },
  {
   "cell_type": "markdown",
   "metadata": {
    "id": "FIJS0fy_790P"
   },
   "source": [
    "## **Step 1: Create the NxN histogram matrix O** <a id=\"confusion\"></a>"
   ]
  },
  {
   "cell_type": "markdown",
   "metadata": {
    "id": "PjPHlids790P"
   },
   "source": [
    "***Warning: This is a counter example to the wrong usage of Quadratic Weighted Kappa. We shall see why soon.***\n",
    "\n",
    "***Warning: This is a counter example to the wrong usage of Quadratic Weighted Kappa. We shall see why soon.***\n",
    "\n",
    "***Warning: This is a counter example to the wrong usage of Quadratic Weighted Kappa. We shall see why soon.***\n",
    "\n",
    "<br>\n",
    "\n",
    "***Reminder: Although it is a counter example, it still illustrates what a NxN histogram matrix is! We will now call our histogram matrix C instead because in actual fact, the histogram matrix is merely a multi class confusion matrix between actual and predicted values***"
   ]
  },
  {
   "cell_type": "markdown",
   "metadata": {
    "id": "f15mIIMU790P"
   },
   "source": [
    "We use a naive example where there are 5 classes (note our competition is_up grade has 6 classes; but this is just an example. Our `y_true` is the ground truth labels and correspondingly, our `y_pred` is the predicted values."
   ]
  },
  {
   "cell_type": "code",
   "execution_count": null,
   "metadata": {
    "ExecuteTime": {
     "end_time": "2020-04-22T04:15:51.378798Z",
     "start_time": "2020-04-22T04:15:51.372814Z"
    },
    "id": "fy8yfzVu790P",
    "outputId": "0dd19b84-5fec-42f5-8fef-32abbf21db89"
   },
   "outputs": [
    {
     "name": "stdout",
     "output_type": "stream",
     "text": [
      "Ground truth:\n",
      "0    cat\n",
      "1    cat\n",
      "2    dog\n",
      "3    cat\n",
      "4    cat\n",
      "5    cat\n",
      "6    pig\n",
      "7    pig\n",
      "8    hen\n",
      "9    pig\n",
      "Name: Actual, dtype: object\n",
      "----------------------------------------\n",
      "Predicted Values:\n",
      "0    bird\n",
      "1     hen\n",
      "2     pig\n",
      "3    bird\n",
      "4    bird\n",
      "5    bird\n",
      "6     pig\n",
      "7     pig\n",
      "8     hen\n",
      "9     pig\n",
      "Name: Predicted, dtype: object\n"
     ]
    }
   ],
   "source": [
    "y_true = pd.Series(['cat',  'cat', 'dog', 'cat',   'cat',  'cat', 'pig',  'pig', 'hen', 'pig'], name = 'Actual')\n",
    "y_pred   = pd.Series(['bird', 'hen', 'pig','bird',  'bird', 'bird', 'pig', 'pig', 'hen', 'pig'], name = 'Predicted')\n",
    "\n",
    "print(\"Ground truth:\\n{}\".format(y_true))\n",
    "print(\"-\"*40)\n",
    "print(\"Predicted Values:\\n{}\".format(y_pred))"
   ]
  },
  {
   "cell_type": "markdown",
   "metadata": {
    "id": "r3tdBh9M790P"
   },
   "source": [
    "First, an N x N confusion matrix **C** is constructed, such that $\\text{C}_{i,j}$ is the entry that corresponds to the **number of animal i (actual) that received a predicted value j**. "
   ]
  },
  {
   "cell_type": "code",
   "execution_count": null,
   "metadata": {
    "ExecuteTime": {
     "end_time": "2020-04-22T04:17:36.46162Z",
     "start_time": "2020-04-22T04:17:36.288531Z"
    },
    "id": "h2OmdcWj790P",
    "outputId": "dd87d854-5ee0-4803-e862-096bd5e79318"
   },
   "outputs": [
    {
     "data": {
      "text/plain": [
       "<Figure size 432x288 with 0 Axes>"
      ]
     },
     "execution_count": 49,
     "metadata": {},
     "output_type": "execute_result"
    },
    {
     "name": "stdout",
     "output_type": "stream",
     "text": [
      "Confusion matrix, without normalization\n"
     ]
    },
    {
     "data": {
      "image/png": "[encoded data removed]",
      "text/plain": [
       "<Figure size 432x288 with 2 Axes>"
      ]
     },
     "metadata": {},
     "output_type": "display_data"
    }
   ],
   "source": [
    "classes= ['bird','cat','dog','hen', 'pig']\n",
    "\n",
    "# thank you https://datascience.stackexchange.com/questions/40067/confusion-matrix-three-classes-python \n",
    "def plot_confusion_matrix(cm, classes,\n",
    "                          normalize=False,\n",
    "                          title='Confusion matrix',\n",
    "                          cmap=plt.cm.Blues):\n",
    "    \"\"\"\n",
    "    This function prints and plots the confusion matrix.\n",
    "    Normalization can be applied by setting `normalize=True`.\n",
    "    \"\"\"\n",
    "    \n",
    "    if normalize:\n",
    "        cm = cm.astype('float') / cm.sum(axis=1)[:, np.newaxis]\n",
    "        print(\"Normalized confusion matrix\")\n",
    "    else:\n",
    "        print('Confusion matrix, without normalization')\n",
    "\n",
    "    plt.imshow(cm, interpolation='nearest', cmap=cmap)\n",
    "    plt.title(title)\n",
    "    plt.colorbar()\n",
    "    tick_marks = np.arange(len(classes))\n",
    "    plt.xticks(tick_marks, classes, rotation=45)\n",
    "    plt.yticks(tick_marks, classes)\n",
    "\n",
    "    fmt = '.2f' if normalize else 'd'\n",
    "    thresh = cm.max() / 2.\n",
    "    for i, j in itertools.product(range(cm.shape[0]), range(cm.shape[1])):\n",
    "        plt.text(j, i, format(cm[i, j], fmt),\n",
    "                 horizontalalignment=\"center\",\n",
    "                 color=\"white\" if cm[i, j] > thresh else \"black\")\n",
    "\n",
    "    plt.ylabel('True label')\n",
    "    plt.xlabel('Predicted label')\n",
    "    plt.tight_layout()\n",
    "    \n",
    "cnf_matrix = confusion_matrix(y_true, y_pred,labels=['bird','cat','dog','hen', 'pig'],)\n",
    "np.set_printoptions(precision=2)\n",
    "\n",
    "# Plot non-normalized confusion matrix\n",
    "plt.figure()\n",
    "plot_confusion_matrix(cnf_matrix, classes=['bird','cat','dog','hen', 'pig'],\n",
    "                      title='Confusion matrix C, without normalization')"
   ]
  },
  {
   "cell_type": "markdown",
   "metadata": {
    "id": "dBqEYazo790P"
   },
   "source": [
    "### Example using our competition's dataset"
   ]
  },
  {
   "cell_type": "markdown",
   "metadata": {
    "id": "1QIS0qVR790P"
   },
   "source": [
    "The above matrix is a **multi class confusion matrix**. As an example, for the 2nd row, we predicted 4 cats to be birds, and 1 cat to be predicted as hen. More compactly, it can be represented as the matrix $C_{2,1}$ = 4."
   ]
  },
  {
   "cell_type": "markdown",
   "metadata": {
    "id": "zH6Wk7Ba790P"
   },
   "source": [
    "We can easily reconcile our example above to relate back to our competition: **After the biopsy is assigned a Gleason score, it is converted into an ISUP grade on a 1-5 scale**. For now, I will include the label **0** because it is the background/non-tissue. \n",
    "\n",
    "What I do next is to take the ground truth and call it `y_true` which is a series. I then generate a dummy `y_pred` by using `np.random.choice` and randomly generate numbers from 0 to 5."
   ]
  },
  {
   "cell_type": "code",
   "execution_count": null,
   "metadata": {
    "ExecuteTime": {
     "end_time": "2020-04-22T04:43:40.584317Z",
     "start_time": "2020-04-22T04:43:40.566357Z"
    },
    "id": "8tsvJ7WD790P",
    "outputId": "87f9b287-c2cf-477e-9bbc-ae00c1979ec1"
   },
   "outputs": [
    {
     "data": {
      "text/plain": [
       "0        0\n",
       "1        0\n",
       "2        4\n",
       "3        4\n",
       "4        0\n",
       "        ..\n",
       "10611    0\n",
       "10612    5\n",
       "10613    0\n",
       "10614    2\n",
       "10615    4\n",
       "Name: isup_grade, Length: 10616, dtype: int64"
      ]
     },
     "execution_count": 50,
     "metadata": {},
     "output_type": "execute_result"
    },
    {
     "data": {
      "text/plain": [
       "0        2\n",
       "1        2\n",
       "2        4\n",
       "3        1\n",
       "4        5\n",
       "        ..\n",
       "10611    2\n",
       "10612    2\n",
       "10613    1\n",
       "10614    5\n",
       "10615    1\n",
       "Length: 10616, dtype: int32"
      ]
     },
     "execution_count": 50,
     "metadata": {},
     "output_type": "execute_result"
    }
   ],
   "source": [
    "train = pd.read_csv(\"../data/datasets/prostate-cancer-grade-assessment-train.csv\")\n",
    "y_true = train.isup_grade\n",
    "y_true\n",
    "\n",
    "y_pred = np.random.choice(6, 10616, replace=True)\n",
    "y_pred = pd.Series(y_pred)\n",
    "y_pred"
   ]
  },
  {
   "cell_type": "markdown",
   "metadata": {
    "id": "-HOetye5790P"
   },
   "source": [
    "The following confusion matrix, is what we mean by the \"N by N\" (6 by 6) **histogram matrix**. "
   ]
  },
  {
   "cell_type": "code",
   "execution_count": null,
   "metadata": {
    "ExecuteTime": {
     "end_time": "2020-04-22T04:43:43.243947Z",
     "start_time": "2020-04-22T04:43:42.998584Z"
    },
    "id": "wYeGvbpy790Q",
    "outputId": "5f87cc27-81d3-4dc8-f70e-f022f314bd3b"
   },
   "outputs": [
    {
     "name": "stdout",
     "output_type": "stream",
     "text": [
      "Confusion matrix, without normalization\n"
     ]
    },
    {
     "data": {
      "image/png": "[encoded data removed]",
      "text/plain": [
       "<Figure size 432x288 with 2 Axes>"
      ]
     },
     "metadata": {},
     "output_type": "display_data"
    }
   ],
   "source": [
    "cm = confusion_matrix(y_true, y_pred,labels=[0,1,2,3,4,5],)\n",
    "plot_confusion_matrix(cm, classes=[0,1,2,3,4,5],\n",
    "                      title='Confusion matrix C, without normalization')"
   ]
  },
  {
   "cell_type": "markdown",
   "metadata": {
    "id": "OqG7n5VM790Q"
   },
   "source": [
    "***So far we have settled the first portion, construction the histogram matrix.***"
   ]
  },
  {
   "cell_type": "markdown",
   "metadata": {
    "id": "--svinek790Q"
   },
   "source": [
    "## **Step 2: Create the Weighted Matrix w** <a id =\"weighted\"></a>"
   ]
  },
  {
   "cell_type": "markdown",
   "metadata": {
    "id": "0Zq9JwnI790Q"
   },
   "source": [
    "An N-by-N matrix of weights, w, is calculated based on the difference between actual and predicted rating scores. The formula is as follows:  $$w_{i,j} = \\dfrac{(i-j)^2}{(N-1)^2}$$\n",
    "\n",
    "\n",
    "Under Step-2, each element is weighted. Predictions that are further away from actuals are marked harshly than predictions that are closer to actuals. However, I suddenly realized that these animals above have no obvious hierarchy in them. Therefore, it is not correct to say that predicting a cat as a bird is any better/worse off than predicting a cat as hen.\n",
    "\n",
    "**Consequently, this is a realization. Because now I start to understand why certain competitions use metrics like quadratic weighted kappa!** Consider the same example as animals just now, but instead of animals, we change to **isup_grade**). So there is an inherent order within the **isup_grade** 0 - 5 such that 0 and 1 is closer than 0 and 2, 1 and 2 is closer to 1 and 3 etc. $$0 > 1 > 2 > 3 > 4 > 5$$\n",
    "\n",
    "<br>\n",
    "\n",
    "For example, let's use a simplified example:\n",
    "\n",
    "    y_true = [2,2,2,1,2,3,4,5,0,1]\n",
    "    y_pred = [1,2,4,1,2,3,4,5,0,1]\n",
    "    \n",
    "As a result, our purpose of the weighted matrix is to allocate a higher penalty score if our prediction is further away from the actual value. That is, if our **isup_grade** is 2 but we predicted it as 1 (see the example), then based on our formula above, we have i = 2 and j = 1 (entry $C_{2,1}$), the penalty is $$\\dfrac{(2-1)^2}{(5-1)^2}  = 0.0625$$ but if our **isup_grade** is 2 and we predicted it as 4 (see the example), then the penalty involved is higher $$\\dfrac{(2-4)^2}{(5-1)^2} = 0.25$$\n",
    "\n",
    "Indeed, the weight matrix helped us assign a heavier penalty to predicting 2 as 4 than 2 as 1.\n",
    "\n",
    "***Lastly, we also observe that the formula will give us 0 for the diagonals of the weighted matrix. This means penalty is 0 whenever we correctly predict something.***"
   ]
  },
  {
   "cell_type": "markdown",
   "metadata": {
    "id": "lGaEYso2790Q"
   },
   "source": [
    "To calculate weighted matrix in python code, here is the code with reference to [Aman Arora](https://www.kaggle.com/aroraaman/quadratic-kappa-metric-explained-in-5-simple-steps)."
   ]
  },
  {
   "cell_type": "code",
   "execution_count": null,
   "metadata": {
    "ExecuteTime": {
     "end_time": "2020-04-22T05:08:16.156024Z",
     "start_time": "2020-04-22T05:08:16.152037Z"
    },
    "id": "6VzUganj790Q",
    "outputId": "8971d3f0-cb7b-405c-ee4a-9418a3af523d"
   },
   "outputs": [
    {
     "name": "stdout",
     "output_type": "stream",
     "text": [
      "[[0.   0.06 0.25 0.56 1.  ]\n",
      " [0.06 0.   0.06 0.25 0.56]\n",
      " [0.25 0.06 0.   0.06 0.25]\n",
      " [0.56 0.25 0.06 0.   0.06]\n",
      " [1.   0.56 0.25 0.06 0.  ]]\n"
     ]
    }
   ],
   "source": [
    "# We construct the weighted matrix starting from a zero matrix, it is like constructing a \n",
    "# list, we usually start from an empty list and add things inside using loops.\n",
    "\n",
    "def weighted_matrix(N):\n",
    "    weighted = np.zeros((N,N)) \n",
    "    for i in range(len(weighted)):\n",
    "        for j in range(len(weighted)):\n",
    "            weighted[i][j] = float(((i-j)**2)/(N-1)**2) \n",
    "    return weighted\n",
    "        \n",
    "print(weighted_matrix(5))"
   ]
  },
  {
   "cell_type": "markdown",
   "metadata": {
    "id": "s9Z0yYEV790Q"
   },
   "source": [
    "***Remember, the further away from the diagonal you get, the worse off is your prediction and it will be penalized harder by a bigger weight.***  As you can easily infer from the weighted matrix above, we use the first row as an example in case one did not understand. Basically, the weighted matrix's first row's first element is 0, because it means we predicted correctly and no penalty is meted out; but as we move further to the left, you can see that the punishment gets harsher and harsher: $$0 < 0.06 < 0.25 < 0.56 < 1$$"
   ]
  },
  {
   "cell_type": "markdown",
   "metadata": {
    "id": "1SPX3QaS790Q"
   },
   "source": [
    "## **Step 3: Create the Expected Matrix** <a id =\"expected\"></a>"
   ]
  },
  {
   "cell_type": "code",
   "execution_count": null,
   "metadata": {
    "ExecuteTime": {
     "end_time": "2020-04-21T17:19:43.669296Z",
     "start_time": "2020-04-21T17:19:43.664309Z"
    },
    "id": "BS8yYl7b790Q",
    "outputId": "b37957e5-1d2e-4711-bef9-4af5cdf4fc7f"
   },
   "outputs": [
    {
     "name": "stdout",
     "output_type": "stream",
     "text": [
      "Actuals value counts:[0. 3. 1. 1. 5.], \n",
      "Prediction value counts:[4. 4. 2. 0. 0.]\n"
     ]
    }
   ],
   "source": [
    "## dummy example \n",
    "actual = pd.Series([2,2,2,3,4,5,5,5,5,5]) \n",
    "pred   = pd.Series([2,2,2,3,2,1,1,1,1,3]) \n",
    "C = confusion_matrix(actual, pred)\n",
    "\n",
    "N=5\n",
    "act_hist=np.zeros([N])\n",
    "for item in actual: \n",
    "    act_hist[item - 1]+=1\n",
    "    \n",
    "pred_hist=np.zeros([N])\n",
    "for item in pred: \n",
    "    pred_hist[item - 1]+=1\n",
    "    \n",
    "\n",
    "print(f'Actuals value counts:{act_hist}, \\nPrediction value counts:{pred_hist}')"
   ]
  },
  {
   "cell_type": "markdown",
   "metadata": {
    "id": "1fPWfOy_790Q"
   },
   "source": [
    "This part is the most difficult to understand, especially for someone who has little statistic backgrounds (mind you when I was majoring in applied math back then, I only took **one** statistic module in my whole tenure.) Googling the idea of expected matrix is not apparently clear to me, but luckily someone pointed to me to read expected frequency of Chi-Square test and then and, there I start to slowly understand.\n",
    "\n",
    "For the purpose of better understanding, we call our actual values to be rater A and our prediction model to be rater B. We want to quantify the agreement between rater A and rater B. Here are some terminologies to get hold of first.\n",
    "\n",
    "- There are a total number of $k = 5$ classes in this example;\n",
    "- There are a total number of $n = 10$ observations in this example;\n",
    "- Define Y to be the random variable that rater A has chosen (aka our actual classes 1,2,3,4,5);\n",
    "- and $\\widehat{Y}$ be the random variable that rater $B$ has chosen (aka our predicted classes 1,2,3,4,5 by rater B)\n",
    "- $r_i$ be the i-th entry of the column vector for actual value counts shown above, $c_i$ be the i-th entry of the column vector for prediction value counts shown above.\n",
    "<br>\n",
    "\n",
    "Then the probability of rater A choosing class 2 and rater B choosing class 2 for example, is given by $$P(Y = 2 \\text{ and } \\widehat{Y} = 2)  = P(Y = 2) \\cdot P(\\widehat{Y} = 2) = 30\\% \\times 40\\%  = 12\\%$$\n",
    "\n",
    "This is under the assumption that both raters are **independent of each other**. Note that $P(Y = 2) = 30\\%$ because as we see from the actual value counts of rater $A$, there are a total of 3 class 2's and therefore the probability of Y being 2 is just the proportion. Similarly, we calculate $\\widehat{Y}$ the same way.\n",
    "\n",
    "In general, the formula of rater A choosing class i and rater B choosing (predicting) class j is given as follows: $$P(Y = i \\text{ and }  \\widehat{Y} = j) =  P(Y = i) \\times P (\\widehat{Y} = j)$$\n",
    "\n",
    "<br>\n",
    "\n",
    "\n",
    "Now the real question comes: On average, if you have $n$ number of points to predict, how many times (what is the frequency) would you **expect** to see rater A choose class i and rater B choose class j.\n",
    "\n",
    "To reiterate, recall that the probability of the actual class being 1 **and (super important word here, it means a joint distribution)** and the predicted class to be 1 as well is $P(Y = 1 \\text{ and }  \\widehat{Y} = 1)$, similarly, the probability of the actual class being 1 and the predicted class to be 2 is $P(Y = 1 \\text{ and }  \\widehat{Y} = 2)$. Generalizing, the probability of the actual class being $i$ and the predicted class being $j$ is the joint probability $$P(Y = i \\text{ and }  \\widehat{Y} = j)$$\n",
    "\n",
    "So the intuition lies here: based on the joint probability above, what is the expected number of times (frequency) that $Y = i$ and $\\widehat{Y} = j$ happened (this means Y is i but rater B predict $\\widehat{Y}$ as j) out of 10 times? Easy, just use $n \\times P(Y = i \\text{ and }  \\widehat{Y} = j)$. So for rater B, our prediction model, **by just using theoretical probability**, should have $n \\times P(Y = i \\text{ and }  \\widehat{Y} = j)$ for each $i,j$. But in reality, this may not be the case. Reconcile this idea with the classic coin toss example:\n",
    "\n",
    "- **Example on coin toss:** Expected frequency is defined as the number of times that we predict an event will occur based on a calculation using theoretical probabilities. You know how a coin has two sides, heads or tails? That means that the probability of the coin landing on any one side is 50% (or 1/2, because it can land on one side out of two possible sides). If you flip a coin 1,000 times, how many times would you expect to get heads? About half the time, or 500 out of the 1,000 flips. To calculate the expected frequency, all we need to do is multiply the total number of tosses (1,000) by the probability of getting a heads (1/2), and we get 1,000 * 1/2 = 500 heads. if event A has prob of p happening, and sample size of n, then the average or expected number of times that A happens is $np$. The expected frequency of heads is 500 out of 1,000 total tosses. The expected frequency is based on our knowledge of probability - we haven't actually done any coin tossing. However, if we had enough time on our hands, we could actually flip a coin 1,000 times to experimentally test our prediction. If we did this, we would be calculating the experimental frequency. The experimental frequency is defined as the number of times that we observe an event to occur when we actually perform an experiment, test, or trial in real life. If you flipped a coin 1,000 times and it landed on heads 479 times, then the experimental frequency of heads is 479.\n",
    "\n",
    "    But wait - didn't we predict the coin would land on heads 500 times? Why did it actually land on heads only 479 times? Well, the expected frequency was just that - what we expected to happen, based on our knowledge of probability. There are no guarantees when it comes to probability, what we expect to happen might differ from what actually happens. \n",
    "\n",
    "<br>\n",
    "\n",
    "Since we know $$E_{2,2} = 10 \\times P(Y = 2 \\text{ and } \\widehat{Y} = 2)  = 10 \\times P(Y = 2) \\cdot P(\\widehat{Y} = 2) = 10 \\times 30\\% \\times 40\\%  = 1.2$$\n",
    "\n",
    "This $E_{2,2}$ means that we only expect the rater A to choose 2 and rater B to choose 2 at the same time only 1.2 times out of 10 times. In other words, our predicted model classify 2 as 2 1.2 times. However, from our observations in our matrix C (confusion/histogram matrix), rater A choosing 2 and rater B choosing 2 have a frequency of 3! In other words, our predicted model classified 2 as 2 three times! So we kinda exceeded expectation for this particular configuration.\n",
    "\n",
    "$$C = \\begin{bmatrix}\n",
    "0 & 0 & 0 & 0 & 0\\\\\n",
    "0 & 3 & 0 & 0 & 0 \\\\\n",
    "0 & 0 & 1 & 0 & 0\\\\\n",
    "0 & 1 & 0 & 0 & 0\\\\\n",
    "4 & 0 & 1 & 0 & 0\\\\\n",
    "\\end{bmatrix}$$\n",
    "\n",
    "Let me give you one more example, $$E_{5,2} = 10 \\times P(Y = 5 \\text{ and } \\widehat{Y} = 2) = 10 \\times P(Y = 5) \\cdot P(\\widehat{Y} = 2) = 10 \\times 50\\% \\times 40\\%  = 2$$\n",
    "\n",
    "This means that we only expect the rater A to choose 5 and rater B to choose 2 at the same time only 2 times out of 10 times! But in reality, our observations say that our rater B classified 5 as 2 zero times! \n",
    "\n",
    "\n",
    "We calculate $E_{i,j}$ given by the formula: $$E_{i,j} = n \\times P(Y = i \\text{ and }  \\widehat{Y} = j) = n \\times P(Y = i) \\times P (\\widehat{Y} = j) = n \\times \\dfrac{r_i}{n} \\times \\dfrac{c_j}{n}$$\n",
    "\n",
    "$$E = \\begin{bmatrix}\n",
    "0 & 0 & 0 & 0 & 0\\\\\n",
    "1.2 & 1.2 & 0.6 & 0 & 0 \\\\\n",
    "0.4 & 0.4 & 0.2 & 0 & 0\\\\\n",
    "0.4 & 0.4 & 0.2 & 0 & 0\\\\\n",
    "2 & 2 & 1 & 0 & 0\\\\\n",
    "\\end{bmatrix}$$\n",
    "\n",
    "Note $r_i \\times c_j$ is the $(i,j)$ entry of the outer product between the actual histogram vector of outcomes (actual value counts) and the predicted histogram vector (prediction value counts)."
   ]
  },
  {
   "cell_type": "markdown",
   "metadata": {
    "id": "jIixzJjd790Q"
   },
   "source": [
    "What does the random chance mean here? Simple, it just means that the probability for rater A (actual) to be class i AND for rater B (predicted) to be class j is $p\\%$ (say 10%). Therefore, if we have made 100 predictions, random chance aka the theoratical probability tells us you should only have $100 \\times 10\\% = 10$ predictions to be of this configuration (rater A class i AND rater B class j)."
   ]
  },
  {
   "cell_type": "markdown",
   "metadata": {
    "id": "6o97pIGq790Q"
   },
   "source": [
    "#### Writing out the expected matrix in python\n",
    "\n",
    "So to get the expected matrix, E, is calculated assuming that there is no correlation between values.  This is calculated as the outer product between the actual histogram vector of outcomes and the predicted histogram vector, normalized such that E and C have the same sum. Note carefully below that we do not need to normalize both, we just need to normalize E to the same sum as C."
   ]
  },
  {
   "cell_type": "code",
   "execution_count": null,
   "metadata": {
    "ExecuteTime": {
     "end_time": "2020-04-21T17:19:43.752074Z",
     "start_time": "2020-04-21T17:19:43.74609Z"
    },
    "id": "ilkn3JJ_790Q",
    "outputId": "2f4cfdec-a0d1-4962-d262-8349f7272de9"
   },
   "outputs": [
    {
     "data": {
      "text/plain": [
       "array([[0. , 0. , 0. , 0. , 0. ],\n",
       "       [1.2, 1.2, 0.6, 0. , 0. ],\n",
       "       [0.4, 0.4, 0.2, 0. , 0. ],\n",
       "       [0.4, 0.4, 0.2, 0. , 0. ],\n",
       "       [2. , 2. , 1. , 0. , 0. ]])"
      ]
     },
     "execution_count": 54,
     "metadata": {},
     "output_type": "execute_result"
    },
    {
     "data": {
      "text/plain": [
       "array([[0, 0, 0, 0, 0],\n",
       "       [0, 3, 0, 0, 0],\n",
       "       [0, 0, 1, 0, 0],\n",
       "       [0, 1, 0, 0, 0],\n",
       "       [4, 0, 1, 0, 0]], dtype=int64)"
      ]
     },
     "execution_count": 54,
     "metadata": {},
     "output_type": "execute_result"
    }
   ],
   "source": [
    "E = np.outer(act_hist, pred_hist)/10\n",
    "\n",
    "\n",
    "E\n",
    "C"
   ]
  },
  {
   "cell_type": "markdown",
   "metadata": {
    "id": "CmmQBdQG790Q"
   },
   "source": [
    "## **Step 4: Final Step: Weighted Kappa formula and Its python codes** <a id=\"qwk\"></a>\n",
    " \n",
    "From these three matrices: E, C and weighted, the quadratic weighted kappa is calculated as: \n",
    "\n",
    "$$\\kappa = 1 - \\dfrac{\\sum_{i,j}\\text{weighted}_{i,j}C_{i,j}}{\\sum_{i,j}\\text{weighted}_{i,j}E_{i,j}}$$\n",
    "\n",
    "Note that a higher value generally means your prediction model is way better than a random model, but there is no consensus on which value is really good or bad."
   ]
  },
  {
   "cell_type": "markdown",
   "metadata": {
    "id": "vf2koDPe790Q"
   },
   "source": [
    "$$\\text{Weighted} = \\begin{bmatrix}\n",
    "0 & 0.0625 & 0.25 & 0.5625 & 1\\\\\n",
    "0.0625 & 0 & 0.0625 & 0.25 & 0.5625 \\\\\n",
    "0.25 & 0.0625 & 0 & 0.0625 & 0.25\\\\\n",
    "0.5625 & 0.25 & 0.0625 & 0 & 0.0625\\\\\n",
    "1 & 0.5625 & 0.25 & 0.0625 & 0\\\\\n",
    "\\end{bmatrix}$$"
   ]
  },
  {
   "cell_type": "markdown",
   "metadata": {
    "id": "VuR7P_K_790Q"
   },
   "source": [
    "The notation $\\sum_{i,j}\\text{W}_{i,j}C_{i,j}$ is just $$\\sum_{i=1}^{k}\\sum_{j=1}^{k} W_{i,j} C_{i,j} = (W_{1,1}C_{1,1} + W_{1,2}C_{1,2} + ...+ W_{1,k}C_{1,k}) + (W_{2,1}C_{2,1}+...+W_{2,k}C_{2,k}) +...+(W_{k,1}C_{k,1}+...+W_{k,k}C_{k,k})$$\n",
    "\n",
    "To put our understanding into perspective, consider just one entry $W_{5,1}C_{5,1} = 1 \\times 4 = 4$. This roughly means that our predicted model classified class 5 as class 1 FOUR times (re: $C_{5,1} = 4$), and since class 5 is so far away from class 1, we need to **punish** this wrong prediction more than the others. And we did see that the corresponding weight $W_{5,1} = 1$ is the highest weight.\n",
    "\n",
    "Consequently, the numerator being $\\sum_{i,j}\\text{W}_{i,j}C_{i,j}$ calculates the total \"penalty cost\" for the rater A (our predicted model), and similarly, $\\sum_{i,j}\\text{W}_{i,j}E_{i,j}$ calculates the total \"penalty cost\" for the rater B (our \"expected\" model). Therefore, you can think both values (num and den) as a cost function, and the lesser the better. And kappa formula tells us, if our $\\sum_{i,j}\\text{W}_{i,j}C_{i,j}$ is significantly smaller than $\\sum_{i,j}\\text{W}_{i,j}E_{i,j}$, this will yield a very small value of $$\\dfrac{\\sum_{i,j}\\text{weighted}_{i,j}C_{i,j}}{\\sum_{i,j}\\text{weighted}_{i,j}E_{i,j}}$$ which will yield a very high kappa value - signifying a better model."
   ]
  },
  {
   "cell_type": "code",
   "execution_count": null,
   "metadata": {
    "ExecuteTime": {
     "end_time": "2020-04-21T17:19:43.798949Z",
     "start_time": "2020-04-21T17:19:43.793962Z"
    },
    "id": "BBGm6L2F790R",
    "outputId": "7f578518-4c13-40d6-e616-60e49599ebe9"
   },
   "outputs": [
    {
     "data": {
      "text/plain": [
       "-0.13924050632911378"
      ]
     },
     "execution_count": 55,
     "metadata": {},
     "output_type": "execute_result"
    }
   ],
   "source": [
    "# Method 1\n",
    "# apply the weights to the confusion matrix\n",
    "weighted = weighted_matrix(5)\n",
    "num = np.sum(np.multiply(weighted, C))\n",
    "# apply the weights to the histograms\n",
    "den = np.sum(np.multiply(weighted, E))\n",
    "\n",
    "kappa = 1-np.divide(num,den)\n",
    "kappa"
   ]
  },
  {
   "cell_type": "code",
   "execution_count": null,
   "metadata": {
    "ExecuteTime": {
     "end_time": "2020-04-21T17:19:43.80593Z",
     "start_time": "2020-04-21T17:19:43.799946Z"
    },
    "id": "1vaSSwCv790R",
    "outputId": "2e6cbfb3-6356-4343-8087-06e4b3934d0b"
   },
   "outputs": [
    {
     "data": {
      "text/plain": [
       "-0.13924050632911378"
      ]
     },
     "execution_count": 56,
     "metadata": {},
     "output_type": "execute_result"
    }
   ],
   "source": [
    "# Method 2\n",
    "\n",
    "num=0\n",
    "den=0\n",
    "for i in range(len(weighted)):\n",
    "    for j in range(len(weighted)):\n",
    "        num+=weighted[i][j]*C[i][j]\n",
    "        den+=weighted[i][j]*E[i][j]\n",
    "\n",
    "weighted_kappa = (1 - (num/den)); weighted_kappa"
   ]
  },
  {
   "cell_type": "code",
   "execution_count": null,
   "metadata": {
    "ExecuteTime": {
     "end_time": "2020-04-21T17:19:43.812911Z",
     "start_time": "2020-04-21T17:19:43.806927Z"
    },
    "id": "S-ldwy3U790R",
    "outputId": "db768c6c-0f0c-4dd5-d25f-e8194a748340"
   },
   "outputs": [
    {
     "data": {
      "text/plain": [
       "-0.13924050632911378"
      ]
     },
     "execution_count": 57,
     "metadata": {},
     "output_type": "execute_result"
    }
   ],
   "source": [
    "# Method 3: Just use sk learn library\n",
    "\n",
    "cohen_kappa_score(actual, pred, labels=None, weights= 'quadratic', sample_weight=None)"
   ]
  },
  {
   "cell_type": "markdown",
   "metadata": {
    "id": "0ALGuB_0790R"
   },
   "source": [
    "Just a side note that one can also use SK learn's cohen_kappa_score function calculate the quadratic weighted kappa in this competition, with weights set to quadratic. Also please do refer to [CPMP's discussion topic for fast QWK computation](https://www.kaggle.com/c/prostate-cancer-grade-assessment/discussion/145105)"
   ]
  }
 ],
 "metadata": {
  "colab": {
   "collapsed_sections": [
    "b_bH8bh9790E",
    "oGrNW52c790E",
    "1O0tyNnO790E",
    "t_7SfOSX790F",
    "Kp_Etvvn790F",
    "Ai0pWNkJ790F",
    "4hr_g44n790F",
    "TfZ2Cjvg790G",
    "I8SXvyid790G",
    "AVobSDW2790G",
    "BbJ5yXPs790G",
    "hk6XeDXD790G",
    "0Lvsxbo3790G",
    "PLyejjGl790H",
    "2bpsQ83e790H",
    "hWQBsUaR790H",
    "cCFgJlJd790H",
    "ZMIKeCYk790H",
    "gliCTFqL790H",
    "wzCAvVCs790H",
    "K-smJMNq790H",
    "siY62rat790H",
    "pzPN7VtT790H",
    "8Qj346C-790H",
    "sy9YOAtL790I",
    "E0fouR6J790I",
    "5IdwC6HJ790I",
    "1IyHDmVg790I",
    "HQjDcMvG790I",
    "ZDdBwkdV790I",
    "d1I5AmPC790J",
    "prWMwSLZ790J",
    "NrbeNO5L790J",
    "gmrGcrde790J",
    "q9ZTa-4m790K",
    "rF6pittB790K",
    "__08VHQ5790K",
    "TNVZkEnk790K",
    "gRKeo0-C790L",
    "xBVUctCa790L",
    "B_utDa-Q790L",
    "_Ln2Crsr790L",
    "JiQ-n6TX790L",
    "28TX9ftD790L",
    "7kY8MAOZ790L",
    "DfliqTrA790L",
    "KyyvpGZm790L",
    "jhE0OtmL790L",
    "6jSuTcLA790M",
    "dCGItKBf790M",
    "HXdcSLPS790M",
    "uHl5mzpD790M",
    "Djd555pr790M",
    "_Jvz73rh790M",
    "aAkHdLFK790M",
    "8Lm_GA4C790M",
    "Y5aECx1t790N",
    "AGUw370A790O",
    "MSVZt1Ff790P",
    "uz0jlUI6790P",
    "FIJS0fy_790P",
    "dBqEYazo790P",
    "--svinek790Q",
    "1SPX3QaS790Q",
    "6o97pIGq790Q",
    "CmmQBdQG790Q"
   ],
   "name": "classification_metrics.ipynb",
   "provenance": []
  },
  "interpreter": {
   "hash": "cba03521ddcb891897ede33a27c9b15c5e6b122fbe8b170ce6638d1b58f8735a"
  },
  "kernelspec": {
   "display_name": "Python 3 (ipykernel)",
   "language": "python",
   "name": "python3"
  },
  "language_info": {
   "codemirror_mode": {
    "name": "ipython",
    "version": 3
   },
   "file_extension": ".py",
   "mimetype": "text/x-python",
   "name": "python",
   "nbconvert_exporter": "python",
   "pygments_lexer": "ipython3",
   "version": "3.9.10"
  }
 },
 "nbformat": 4,
 "nbformat_minor": 4
}
