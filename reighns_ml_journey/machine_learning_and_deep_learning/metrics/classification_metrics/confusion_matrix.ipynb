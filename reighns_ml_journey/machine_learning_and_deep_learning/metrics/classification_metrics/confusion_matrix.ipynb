{
 "cells": [
  {
   "cell_type": "code",
   "execution_count": 17,
   "metadata": {
    "id": "gPbdrmx5MbFO"
   },
   "outputs": [],
   "source": [
    "# !pip install -q scikit-learn==1.0.1\n",
    "from typing import List\n",
    "\n",
    "import matplotlib.pyplot as plt\n",
    "import numpy as np\n",
    "import pandas as pd\n",
    "import seaborn as sns\n",
    "from sklearn import metrics, preprocessing\n",
    "import itertools"
   ]
  },
  {
   "cell_type": "code",
   "execution_count": 18,
   "metadata": {
    "id": "RjwVjuf2TY4t"
   },
   "outputs": [],
   "source": [
    "d = {\n",
    "    \"index\": [1, 2, 3, 4, 5, 6, 7, 8, 9, 10],\n",
    "    \"predicted_y\": [\n",
    "        \"malignant\",\n",
    "        \"malignant\",\n",
    "        \"benign\",\n",
    "        \"benign\",\n",
    "        \"benign\",\n",
    "        \"benign\",\n",
    "        \"benign\",\n",
    "        \"benign\",\n",
    "        \"benign\",\n",
    "        \"malignant\",\n",
    "    ],\n",
    "    \"actual_y\": [\n",
    "        \"malignant\",\n",
    "        \"malignant\",\n",
    "        \"malignant\",\n",
    "        \"malignant\",\n",
    "        \"malignant\",\n",
    "        \"benign\",\n",
    "        \"benign\",\n",
    "        \"benign\",\n",
    "        \"benign\",\n",
    "        \"benign\",\n",
    "    ],\n",
    "}\n",
    "tumour = pd.DataFrame(data=d)\n",
    "\n",
    "\n",
    "d = {\n",
    "    \"index\": [1, 2, 3, 4, 5, 6, 7, 8, 9, 10, 11, 12],\n",
    "    \"predicted_y\": [\n",
    "        \"malignant\",\n",
    "        \"malignant\",\n",
    "        \"benign\",\n",
    "        \"benign\",\n",
    "        \"benign\",\n",
    "        \"benign\",\n",
    "        \"benign\",\n",
    "        \"benign\",\n",
    "        \"benign\",\n",
    "        \"malignant\",\n",
    "        \"borderline\",\n",
    "        \"borderline\"\n",
    "    ],\n",
    "    \"actual_y\": [\n",
    "        \"malignant\",\n",
    "        \"malignant\",\n",
    "        \"malignant\",\n",
    "        \"malignant\",\n",
    "        \"malignant\",\n",
    "        \"benign\",\n",
    "        \"benign\",\n",
    "        \"benign\",\n",
    "        \"benign\",\n",
    "        \"benign\",\n",
    "        \"borderline\",\n",
    "        \"malignant\"\n",
    "    ],\n",
    "}\n",
    "tumour_multiclass = pd.DataFrame(data=d)\n",
    "\n",
    "# tumour_multiclass.to_markdown(index=False)"
   ]
  },
  {
   "cell_type": "markdown",
   "metadata": {
    "id": "vf8ii2i679z_"
   },
   "source": [
    "## Confusion Matrix\n",
    "\n",
    "Before we move on to give the definition of Confusion Matrix, we need to understand the below 4 terminologies. We will use the `tumour` table as reference. \n",
    "\n",
    "!!! note\n",
    "    Note that `actual_y` ($y$) and `predicted_y` ($\\hat{y}$) are used interchangeably with `ground_truth` and `predicted_value` respectively.\n",
    "\n",
    "\n",
    "\n"
   ]
  },
  {
   "cell_type": "markdown",
   "metadata": {
    "id": "2uiIBc1BhRLk"
   },
   "source": [
    "|   index | predicted_y   | actual_y   |\n",
    "|--------:|:--------------|:-----------|\n",
    "|       1 | malignant     | malignant  |\n",
    "|       2 | malignant     | malignant  |\n",
    "|       3 | benign        | malignant  |\n",
    "|       4 | benign        | malignant  |\n",
    "|       5 | benign        | malignant  |\n",
    "|       6 | benign        | benign     |\n",
    "|       7 | benign        | benign     |\n",
    "|       8 | benign        | benign     |\n",
    "|       9 | benign        | benign     |\n",
    "|      10 | malignant     | benign     |"
   ]
  },
  {
   "cell_type": "markdown",
   "metadata": {
    "id": "LoVfMWdg790A"
   },
   "source": [
    "### True Positive (TP)\n",
    "\n",
    "!!! success \"Definition\"\n",
    "    The **actual_y** is positive label and the **predicted_y** from the classifier is also positive label."
   ]
  },
  {
   "cell_type": "markdown",
   "metadata": {
    "id": "IGUHnV_q790A"
   },
   "source": [
    "### True Negative (TN)\n",
    "\n",
    "!!! success \"Definition\"\n",
    "    The **actual_y** is negative label and the **predicted_y** from the classifier is also negative label."
   ]
  },
  {
   "cell_type": "markdown",
   "metadata": {
    "id": "pvmKoiaP790B"
   },
   "source": [
    "### False Positive (FP)\n",
    "\n",
    "\n",
    "!!! success \"Definition\"\n",
    "    The **actual_y** is negative label and the **predicted_y** from the classifier is also positive label. This is also called the Type 1 Error."
   ]
  },
  {
   "cell_type": "markdown",
   "metadata": {
    "id": "zD3_U-I8790B"
   },
   "source": [
    "### False Negative (FN)\n",
    "\n",
    "!!! success \"Definition\"\n",
    "    The **actual_y** is positive label and the **predicted_y** from the classifier is also negative label. This is also called the Type 2 Error.\n"
   ]
  },
  {
   "cell_type": "markdown",
   "metadata": {
    "id": "V8r23HwTbvbL"
   },
   "source": [
    "### Confusion Matrix\n",
    "\n",
    "!!! success \"Definition\"\n",
    "    In binary classification, a confusion matrix is a $2 \\times 2$ matrix[^1] which reports the number of false positives, false negatives, true positives, and true negatives. Conventionally, the matrix's first row is made up of TP and FP while the second row is made up of FN and TN.\n",
    "  \n",
    "<figure>\n",
    "    <img src='https://storage.googleapis.com/reighns/reighns_ml_projects/docs/metrics/classification_metrics/binary_confusion_matrix.PNG'/>\n",
    "    <figcaption>Binary Confusion Matrix, by Hongnan G.</figcaption>\n",
    "</figure>\n",
    "\n",
    "This allows more detailed analysis than mere proportion of correct classifications such as Accuracy. As we have seen earlier, Accuracy is not a reliable metric for the real performance of a classifier, because it will yield misleading results if the data set is imbalanced (that is, when the numbers of observations in different classes vary greatly).\n",
    "\n",
    "\n",
    "[^1]: Can be generalized to N by N for multiclass classification.\n",
    "\n",
    "\n",
    "---"
   ]
  },
  {
   "cell_type": "markdown",
   "metadata": {
    "id": "UWRE1_gRyOAU"
   },
   "source": [
    "!!! warning\n",
    "    Based on your use case, it is important to define clearly which is your positive class. In our tumour classification example, I mentioned that is the positive class. \n",
    "    \n",
    "\n",
    "Let us see both in action, in the first figure below, we use scikit-learn's confusion matrix class; take note that the confusion matrix in scikit-learn outputs the opposite direction as what we have mentioned: TN, FP, FN, TP.\n",
    "\n",
    "We input the `labels=[\"benign\", \"malignant\"]` to indicate that malignant is treated as the positive class and vice versa."
   ]
  },
  {
   "cell_type": "code",
   "execution_count": 19,
   "metadata": {
    "id": "jcXmKDJwnWVr"
   },
   "outputs": [],
   "source": [
    "def plot_confusion_matrix(\n",
    "    y_true: np.ndarray,\n",
    "    y_pred: np.ndarray,\n",
    "    title: str,\n",
    "    labels: List[str],\n",
    "    tick_labels: List[str],\n",
    ") -> None:\n",
    "    \"\"\"Plots a Binary Confusion Matrix.\n",
    "\n",
    "    Args:\n",
    "        y_true (np.ndarray): the actual labels.\n",
    "        y_pred (np.ndarray): the predicted labels.\n",
    "        title (str): the title of the plot.\n",
    "        tick_labels (List[str]): The labels for the ticks.\n",
    "    \"\"\"\n",
    "\n",
    "    # Unravel into tn, fp, fn and tp\n",
    "    tn, fp, fn, tp = metrics.confusion_matrix(\n",
    "        y_true, y_pred, labels=labels\n",
    "    ).ravel()\n",
    "\n",
    "    # reshape into tp, fp, fn, tn - this is personal preference\n",
    "    reshaped_cm = np.asarray([[tp, fp], [fn, tn]])\n",
    "\n",
    "    # flatten this 2d array\n",
    "    cm_flattened = reshaped_cm.flatten()\n",
    "\n",
    "    labels = [\n",
    "        \"True Positive\",\n",
    "        \"False Positive\",\n",
    "        \"False Negative\",\n",
    "        \"True Negative\",\n",
    "    ]\n",
    "    annot = (\n",
    "        np.asarray(\n",
    "            [\n",
    "                f\"{label}\\n{cm_count}\"\n",
    "                for label, cm_count in zip(labels, cm_flattened)\n",
    "            ]\n",
    "        )\n",
    "    ).reshape(2, 2)\n",
    "\n",
    "    ax = plt.subplot()\n",
    "    heatmap = sns.heatmap(\n",
    "        reshaped_cm,\n",
    "        annot=annot,\n",
    "        fmt=\"\",\n",
    "        cmap=\"Greens\",\n",
    "        ax=ax,\n",
    "        xticklabels=tick_labels,\n",
    "        yticklabels=tick_labels,\n",
    "    )\n",
    "    ax.set_title(title)\n",
    "    ax.set_xlabel(\"Predicted labels\")\n",
    "    ax.set_ylabel(\"True labels\")\n",
    "    plt.show()"
   ]
  },
  {
   "cell_type": "code",
   "execution_count": 20,
   "metadata": {
    "colab": {
     "base_uri": "https://localhost:8080/",
     "height": 573
    },
    "id": "egW2zqLnTixG",
    "outputId": "ca34ddd3-2bf8-4c67-eda8-48ad0e5cd40e"
   },
   "outputs": [
    {
     "data": {
      "image/png": "[encoded data removed]",
      "text/plain": [
       "<Figure size 432x288 with 2 Axes>"
      ]
     },
     "metadata": {
      "needs_background": "light"
     },
     "output_type": "display_data"
    },
    {
     "data": {
      "image/png": "[encoded data removed]",
      "text/plain": [
       "<Figure size 432x288 with 2 Axes>"
      ]
     },
     "metadata": {
      "needs_background": "light"
     },
     "output_type": "display_data"
    }
   ],
   "source": [
    "y_true = tumour.actual_y\n",
    "y_pred = tumour.predicted_y\n",
    "\n",
    "plot_confusion_matrix(\n",
    "    y_true,\n",
    "    y_pred,\n",
    "    title=\"Confusion Matrix (Malignant as +)\",\n",
    "    labels=[\"benign\", \"malignant\"],\n",
    "    tick_labels=[\"benign\", \"malignant\"],\n",
    ")\n",
    "plot_confusion_matrix(\n",
    "    y_true,\n",
    "    y_pred,\n",
    "    title=\"Confusion Matrix (Benign as +)\",\n",
    "    labels=[\"malignant\", \"benign\"],\n",
    "    tick_labels=[\"malignant\", \"benign\"],\n",
    ")"
   ]
  },
  {
   "cell_type": "markdown",
   "metadata": {
    "id": "v19VWUJx790C"
   },
   "source": [
    "### When to use Confusion Matrix?\n",
    "\n",
    "The Confusion matrix in itself is not a performance measure, but the information that it carries is so valuable that almost all the other classification metrics will need to refer to the confusion matrix. For example, the AUROC score can be calculated from confusion matrix."
   ]
  },
  {
   "cell_type": "markdown",
   "metadata": {
    "id": "nT_iUW5Y2Jmb"
   },
   "source": [
    "### Benefit Structure\n",
    "\n",
    "We may ask ourselves, if we cannot minimize both FN and FP together at the same time due to a tradeoff, which one should we place more emphasis on? In our case study, we note that since our positive class is malignant, then it is apparent that we want to minimize the False Negatives, because misclassifying a cancer patient as benign yields a higher cost than misclassifying a benign patient as cancer. We introduce a benefit structure as follows:\n",
    "\n",
    "- TP: +\\$10000\n",
    "- FN: -\\$10000\n",
    "- FP: -\\$1000\n",
    "- TP+FP: -\\$100\n",
    "\n",
    "The above metrics indicates a cost-benefit structure. The cost of the screening costs \\$100, note that if the doctor say during the visit that you have no cancer, then you won't be send to screen (i.e. TN + FN). Each True Positive will yield us a profit of \\$10000, each False Negative will cost us \\$10000, and each FP costs us \\$1000. Hence, we can easily deduce from the confusion matrix that the cost in our example is:\n",
    "\n",
    "$$2 * 10000 - 3 * 10000 - 1 * 1000 - 3 * 100$$"
   ]
  },
  {
   "cell_type": "markdown",
   "metadata": {
    "id": "i1jxyBBP790C"
   },
   "source": [
    "### Implementation of Confusion Matrix"
   ]
  },
  {
   "cell_type": "code",
   "execution_count": 21,
   "metadata": {
    "id": "1aJgN1TT790C"
   },
   "outputs": [],
   "source": [
    "def confusion_matrix_(y_true: np.ndarray, y_pred: np.ndarray) -> np.ndarray:\n",
    "    \"\"\"Calculates the confusion matrix.\n",
    "    We assume that the inputs are binarized already.\n",
    "    This can be used in both binary and multiclass classification\n",
    "    provided that we label binarized the multiclass labels.\n",
    "\n",
    "    Args:\n",
    "        y_true (np.ndarray): the correct labels, shape (n_samples, )\n",
    "        y_pred (np.ndarray): the predicted labels, shape (n_samples, )\n",
    "\n",
    "    Returns:\n",
    "        cm (np.ndarray): the confusion matrix, shape (n_classes, n_classes)\n",
    "                         with [[tp, fp], [fn, tn]]\n",
    "    \"\"\"\n",
    "    tp, fp, fn, tn = 0, 0, 0, 0\n",
    "\n",
    "    for y_t, y_p in zip(y_true, y_pred):\n",
    "        # if actual and predicted both are positive class\n",
    "        if y_t == y_p == 1:\n",
    "            tp += 1\n",
    "        # if actual and predicted both are negative class\n",
    "        elif y_t == y_p == 0:\n",
    "            tn += 1\n",
    "        # if actual is negative and predicted is positive\n",
    "        elif y_t == 0 and y_p == 1:\n",
    "            fp += 1\n",
    "        # if actual is positive and predicted is negative\n",
    "        elif y_t == 1 and y_p == 0:\n",
    "            fn += 1\n",
    "\n",
    "    cm = np.asarray([[tp, fp], [fn, tn]])\n",
    "    return cm"
   ]
  },
  {
   "cell_type": "code",
   "execution_count": 22,
   "metadata": {
    "colab": {
     "base_uri": "https://localhost:8080/"
    },
    "id": "Pb6ZyDtyPUl2",
    "outputId": "109b1ee0-f3cc-4c48-c127-fac0da92a5e1"
   },
   "outputs": [
    {
     "name": "stdout",
     "output_type": "stream",
     "text": [
      "Outcome values : \n",
      " 4 1 1 2\n",
      "Outcome values : \n",
      " [[4 1]\n",
      " [1 2]]\n",
      "Confusion matrix : \n",
      " [[2 1]\n",
      " [1 4]]\n",
      "Outcome values : \n",
      " 4 1 1 2\n"
     ]
    }
   ],
   "source": [
    "y_true = np.asarray([1, 1, 0, 1, 0, 0, 1, 1])\n",
    "y_pred = np.asarray([1, 1, 1, 0, 0, 0, 1, 1])\n",
    "\n",
    "tp, fp, fn, tn = confusion_matrix_(y_true, y_pred).ravel()\n",
    "print(\"Outcome values : \\n\", tp, fn, fp, tn)\n",
    "print(\"Outcome values : \\n\", confusion_matrix_(y_true, y_pred))\n",
    "\n",
    "# We can check against `sklearn`'s confusion matrix, set positive class to be positive 1.\n",
    "# Note it returns tn, fp, fn and tp and not tp, fp, fn and tn.\n",
    "tn, fp, fn, tp = metrics.confusion_matrix(y_true, y_pred, labels=[0, 1]).ravel()\n",
    "print(\n",
    "    \"Confusion matrix : \\n\",\n",
    "    metrics.confusion_matrix(y_true, y_pred, labels=[0, 1]),\n",
    ")\n",
    "print(\"Outcome values : \\n\", tp, fn, fp, tn)"
   ]
  },
  {
   "cell_type": "markdown",
   "metadata": {
    "id": "X2dlF5xYQkyM"
   },
   "source": [
    "## Multiclass Confusion Matrix"
   ]
  },
  {
   "cell_type": "markdown",
   "metadata": {
    "id": "oWCBSYkVYeAV"
   },
   "source": [
    "??? question\n",
    "    Now suppose we add another class to the dataset, how should we then calculate the confusion matrix? We first use scikit-learn to plot it out.\n",
    "\n",
    "|   index | predicted_y   | actual_y   |\n",
    "|--------:|:--------------|:-----------|\n",
    "|       1 | malignant     | malignant  |\n",
    "|       2 | malignant     | malignant  |\n",
    "|       3 | benign        | malignant  |\n",
    "|       4 | benign        | malignant  |\n",
    "|       5 | benign        | malignant  |\n",
    "|       6 | benign        | benign     |\n",
    "|       7 | benign        | benign     |\n",
    "|       8 | benign        | benign     |\n",
    "|       9 | benign        | benign     |\n",
    "|      10 | malignant     | benign     |\n",
    "|      11 | borderline    | borderline |\n",
    "|      12 | borderline    | malignant  |"
   ]
  },
  {
   "cell_type": "code",
   "execution_count": 23,
   "metadata": {
    "id": "dV2-y_8DZbdY"
   },
   "outputs": [],
   "source": [
    "def plot_multiclass_confusion_matrix(\n",
    "    cm, classes, normalize=False, title=\"Confusion matrix\", cmap=plt.cm.Greens\n",
    "):\n",
    "    \"\"\"\n",
    "    Reference: https://datascience.stackexchange.com/questions/40067/\n",
    "               confusion-matrix-three-classes-python\n",
    "    This function prints and plots the confusion matrix.\n",
    "    Normalization can be applied by setting `normalize=True`.\n",
    "    \"\"\"\n",
    "\n",
    "    if normalize:\n",
    "        cm = cm.astype(\"float\") / cm.sum(axis=1)[:, np.newaxis]\n",
    "        print(\"Normalized confusion matrix\")\n",
    "    else:\n",
    "        print(\"Confusion matrix, without normalization\")\n",
    "\n",
    "    plt.imshow(cm, interpolation=\"nearest\", cmap=cmap)\n",
    "    plt.title(title)\n",
    "    plt.colorbar()\n",
    "    tick_marks = np.arange(len(classes))\n",
    "    plt.xticks(tick_marks, classes, rotation=45)\n",
    "    plt.yticks(tick_marks, classes)\n",
    "\n",
    "    fmt = \".2f\" if normalize else \"d\"\n",
    "    thresh = cm.max() / 2.0\n",
    "    for i, j in itertools.product(range(cm.shape[0]), range(cm.shape[1])):\n",
    "        plt.text(\n",
    "            j,\n",
    "            i,\n",
    "            format(cm[i, j], fmt),\n",
    "            horizontalalignment=\"center\",\n",
    "            color=\"white\" if cm[i, j] > thresh else \"black\",\n",
    "        )\n",
    "\n",
    "    plt.ylabel(\"True label\")\n",
    "    plt.xlabel(\"Predicted label\")\n",
    "    plt.tight_layout()"
   ]
  },
  {
   "cell_type": "code",
   "execution_count": 24,
   "metadata": {
    "colab": {
     "base_uri": "https://localhost:8080/",
     "height": 315
    },
    "id": "pfYbI8MKZmVU",
    "outputId": "e0e3386b-251d-47db-f2fd-45200d28f9d0"
   },
   "outputs": [
    {
     "name": "stdout",
     "output_type": "stream",
     "text": [
      "Confusion matrix, without normalization\n"
     ]
    },
    {
     "data": {
      "image/png": "[encoded data removed]",
      "text/plain": [
       "<Figure size 432x288 with 2 Axes>"
      ]
     },
     "metadata": {
      "needs_background": "light"
     },
     "output_type": "display_data"
    }
   ],
   "source": [
    "y_true = tumour_multiclass.actual_y\n",
    "y_pred = tumour_multiclass.predicted_y\n",
    "cm_multiclass = metrics.confusion_matrix(\n",
    "    y_true, y_pred, labels=[\"benign\", \"borderline\", \"malignant\"]\n",
    ")\n",
    "plot_multiclass_confusion_matrix(\n",
    "    cm_multiclass, classes=[\"benign\", \"borderline\", \"malignant\"]\n",
    ")"
   ]
  },
  {
   "cell_type": "markdown",
   "metadata": {
    "id": "JPEoeruBaXe2"
   },
   "source": [
    "!!! example\n",
    "    Notice that we still can have a \"confusion matrix\" because plotting the above does not require you to define which label is positive or not, we just need labels to plot the values out. \n",
    "\n",
    "!!! note\n",
    "    However, if we were to treat benign as the positive class, and treat both borderline and malignant as the negative class, then we can make sense of the definitions of TP, FP, FN and TN here. In fact, this scheme is called One-vs-Rest and we will have 3 different confusion matrices, parametrized by the number of classes (so if num_classes = n, then there will be n different confusion matrices).\n",
    "    The below image illustrates the three different scenarios.\n",
    "\n",
    "\n",
    "\n",
    "<figure>\n",
    "    <img src='https://storage.googleapis.com/reighns/reighns_ml_projects/docs/metrics/classification_metrics/multiclass_confusion_matrix.PNG' width=\"1250\" height=\"750\"/>\n",
    "    <figcaption>Multiclass Confusion Matrix by Hongnan G.</figcaption>\n",
    "</figure>"
   ]
  },
  {
   "cell_type": "markdown",
   "metadata": {
    "id": "PPkSrhaAfQ7R"
   },
   "source": [
    "The above idea looks simple on paper, but there are a few details that one should know. More specifically, micro-average and macro-average of multiclass evaluation metrics, which we will go through in the next section.\n",
    "\n"
   ]
  },
  {
   "cell_type": "markdown",
   "metadata": {
    "id": "uD5zycGUbNr8"
   },
   "source": [
    "## Multilabel Confusion Matrix\n",
    "\n",
    "TODO: [^1]\n",
    "\n",
    "[^1]: https://scikit-learn.org/stable/modules/generated/sklearn.metrics.multilabel_confusion_matrix.html"
   ]
  }
 ],
 "metadata": {
  "colab": {
   "collapsed_sections": [],
   "name": "confusion_matrix.ipynb",
   "provenance": [],
   "toc_visible": true
  },
  "kernelspec": {
   "display_name": "Python 3 (ipykernel)",
   "language": "python",
   "name": "python3"
  },
  "language_info": {
   "codemirror_mode": {
    "name": "ipython",
    "version": 3
   },
   "file_extension": ".py",
   "mimetype": "text/x-python",
   "name": "python",
   "nbconvert_exporter": "python",
   "pygments_lexer": "ipython3",
   "version": "3.9.10"
  }
 },
 "nbformat": 4,
 "nbformat_minor": 4
}
