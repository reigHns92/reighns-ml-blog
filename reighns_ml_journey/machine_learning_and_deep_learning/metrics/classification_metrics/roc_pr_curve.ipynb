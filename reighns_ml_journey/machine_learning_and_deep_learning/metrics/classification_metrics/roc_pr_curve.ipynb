{
 "cells": [
  {
   "cell_type": "code",
   "execution_count": null,
   "metadata": {
    "id": "yXAr75E8d4nw"
   },
   "outputs": [],
   "source": [
    "!pip install -q scikit-learn==1.0.1"
   ]
  },
  {
   "cell_type": "code",
   "execution_count": 1,
   "metadata": {
    "ExecuteTime": {
     "end_time": "2020-04-22T04:38:04.461975Z",
     "start_time": "2020-04-22T04:38:04.456987Z"
    },
    "executionInfo": {
     "elapsed": 304,
     "status": "ok",
     "timestamp": 1636172292450,
     "user": {
      "displayName": "Hongnan Gao",
      "photoUrl": "https://lh3.googleusercontent.com/a/default-user=s64",
      "userId": "04730584788169020152"
     },
     "user_tz": -480
    },
    "id": "B8TYj5dm79z9"
   },
   "outputs": [],
   "source": [
    "import numpy as np\n",
    "import pandas as pd\n",
    "from sklearn.metrics import confusion_matrix, roc_auc_score, brier_score_loss, cohen_kappa_score, make_scorer\n",
    "import itertools\n",
    "from sklearn import datasets\n",
    "import seaborn as sns\n",
    "import matplotlib.pyplot as plt\n",
    "import random\n",
    "from typing import Dict, List\n",
    "\n",
    "from IPython.core.interactiveshell import InteractiveShell\n",
    "InteractiveShell.ast_node_interactivity = \"all\""
   ]
  },
  {
   "cell_type": "markdown",
   "metadata": {
    "id": "K-smJMNq790H"
   },
   "source": [
    "## Receiver operating characteristic (ROC)"
   ]
  },
  {
   "cell_type": "markdown",
   "metadata": {
    "id": "siY62rat790H"
   },
   "source": [
    "### Intuition\n",
    "\n",
    "Mathematically, ROC graphs are two dimensional graphs in which the x-axis is the False Positive Rate (FPR) and the y-axis, the True Positive Rate (TPR). The curve is parametrized by the parameter $\\vec{thr}$ which represents the threshold of the classifier. The graph also depicts the tradeoffs between TPR and FPR, much like the dilemma of the Bias-Variance tradeoff. Also note that in the ROC space, each point on the graph represents a threshold, and therefore each point can have its own confusion matrix as well.\n",
    "\n",
    "We come up with an example from the [Melanoma Competition](https://www.kaggle.com/c/siim-isic-melanoma-classification) where we denote a malignant cell to be 1, and benign to be 0. If we treat the **malignance class as positive class**, and the model you trained on outputs a probability vector (using softmax here) $[0.7, 0.3]$ corresponding to class 0 and 1 respectively, the value of 0.3 translates to saying that the image is 30% positive that it is malignant; in other words, it is 70% sure that this image is a benign cell. If we choose the default threshold to be the traditional $\\vec{thr}=0.5$, then the classifier will label this image as a $0$. This is because the thresholds defines our **hard label** from the **soft label**, and thus anything above the threshold 0.5, will be classified as a positive class 1, and negative class otherwise.\n",
    "\n",
    "If however, you lower your classification threshold, say from 0.5 to 0.2, then our image will become now become positive class, indicating the image's cell to be malignant. Intuitively, the consequence is that more images will be classified to become positive as lowering the threshold will allow the model to predict true more often. The consequence is that the TPR will go up, and so will the FPR.\n",
    "\n",
    "---\n",
    "\n",
    "<div class=\"alert alert-block alert-warning\">\n",
    "<b>Example:</b> There are 10 ground truth targets of y_true = [1,1,1,0,0,0,0,0,1,0,0] and your model predicts y_pred = [0.6,0.7,0.4,0.6,0.55,0.4,0.3,0.2,0.6,0.1] which if you apply argmax to y_pred, then it will become y_pred_argmax = [1,1,0,1,1,0,0,0,1,0]. The TPR here is given by $\\frac{2}{4}$ since there are 4 positive ground truth, and among the predicted labels, the model correctly classify 2 positives correctly. The FPR is given by $\\frac{3}{6}$ because we gave 3 people the false alarm, predicting them to have cancer whereas they don't. Now if you lower you threshold to 0.2, then you can see that the new predicted label array to be [1,1,1,1,1,1,1,0,1,0] where the new calibrated TPR is $\\frac{3}{4}$ and the FPR is $\\frac{5}{6}$. Therefore, without any proofs, just intuition, one should be convinced that if you lower the threshold, more patients will be classified as positive, consequently, the TPR and FPR both increase. Conversely, if you increase the threshold, then the TPR and FPR will both decrease. This may not hold true in a monotone manner, as wrongly described earlier, as it can jolly well be the TPR or FPR do not change, as can be seen in the diagram in the section Ranking.\n",
    "</div>   \n",
    "\n"
   ]
  },
  {
   "cell_type": "markdown",
   "metadata": {
    "id": "pzPN7VtT790H"
   },
   "source": [
    "### Definition of ROC Curve\n",
    "\n",
    "<div class=\"alert alert-block alert-success\">\n",
    "<b>Definition:</b> The ROC Curve is a graph that plots the True Positive Rate on the y-axis and False Positive Rate on the x-axis, furthermore, this curve is parametrized by a threshold vector $\\vec{t}$.\n",
    "</div>\n",
    "\n",
    "---\n",
    "\n",
    "> From Wikipedia: In binary classification, the class prediction for each instance is often made based on a continuous random variable $X$, which is a \"score\" computed for the instance (e.g. the estimated probability in logistic regression). Given a threshold parameter $T$, the instance is classified as \"positive\" if $X > T$, and \"negative\" otherwise. $X$ follows a probability density $f_1(x)$ if the instance actually belongs to class \"positive\", and $f_0(x)$ if otherwise. Therefore, the true positive rate is given by $TPR(T) = \\int_{T}^{\\infty}f_1(x)dx$ and the false positive rate is given by $FPR(T) = \\int_{T}^{\\infty}f_0(x)dx$. The ROC curve plots parametrically TPR(T) with FPR(T) as the varying parameter.\n",
    "\n",
    "<div class=\"alert alert-block alert-warning\">\n",
    "<b>Example:</b> \n",
    "For example, imagine that the blood protein levels in diseased people and healthy people are normally distributed with means of 2 g/dL and 1 g/dL respectively. A medical test might measure the level of a certain protein in a blood sample and classify any number above a certain threshold as indicating disease. The experimenter can adjust the threshold (black vertical line in the figure), which will in turn change the false positive rate. Increasing the threshold would result in fewer false positives (and more false negatives), corresponding to a leftward movement on the curve. The actual shape of the curve is determined by how much overlap the two distributions have.\n",
    "</div>   \n"
   ]
  },
  {
   "cell_type": "markdown",
   "metadata": {
    "id": "8Qj346C-790H"
   },
   "source": [
    "### Definition of Area under ROC Curve\n",
    "\n",
    "<div class=\"alert alert-block alert-success\">\n",
    "<b>Definition:</b> The AUROC is thus the area under the ROC Curve.\n",
    "</div>\n",
    "\n",
    "More formally, in the [probabilistic perspective of AUC](https://www.alexejgossmann.com/auc/), AUC is the probability of a randomly chosen positive case outranks a randomly chosen negative case based on the classifier.\n",
    "\n",
    "$$\n",
    "\\begin{aligned}\n",
    "AUC &= P(f(x+)>f(x−)|\\text{class}(x+)=1, \\text{class}(x−)=0)\\\\ \n",
    "\t&= \\frac{1}{PN}\\sum_{i=1}^{P}\\sum_{j=1}^{N}1(f(x+)−f(x−))\n",
    "\\end{aligned}\n",
    "$$\n",
    "\n",
    "where \n",
    "\n",
    "- $f(x)$: classifier\n",
    "- P : # of true positive item,\n",
    "- N : # of true negative item\n",
    "\n",
    "---\n",
    "\n",
    "Or expressed in another digestable way:\n",
    "\n",
    "> The AUC of a classifier is equal to the probability that the classifier will rank a randomly chosen positive example higher than a randomly chosen negative example, i.e. $P\\Big(\\text{score}(x^+) > \\text{score}(x^-)\\Big)$\n",
    "\n",
    "> This line above means that if you randomly take two samples, one positive and one negative, the AUC score, say 0.8, says that the probability of your positive sample being ranked higher (means probability higher) than the negative sample is 0.8.\n",
    "\n",
    "In other words, it measures how well the probability ranks based on their true classes. Thus, it is a threshold-invariant and scale-invariant metrics and only the sequence matters in the predicted probabilities. Based on this property, models with higher AUC indicate better discrimination between the two classes. However, the probabilities output from models with higher AUC don’t always generate well-calibrated probabilities. More information can be found here: [Safe Handling Instructions for Probabilistic Classification](https://www.youtube.com/watch?v=RXMu96RJj_s).\n",
    "\n",
    "---\n",
    "\n",
    "Another answer from Stackoverflow, to reference it.\n",
    "\n",
    "Although I'm a bit late to the party, but here's my 5 cents. @FranckDernoncourt (+1) already mentioned possible interpretations of AUC ROC, and my favorite one is the first on his list (I use different wording, but it's the same):\n",
    "\n",
    "> the AUC of a classifier is equal to the probability that the classifier will rank a randomly chosen positive example higher than a randomly chosen negative example, i.e. $P\\Big(\\text{score}(x^+) > \\text{score}(x^-)\\Big)$\n",
    "\n",
    "\n",
    "\n",
    "Consider this example (auc=0.68): \n",
    "\n",
    "![enter image description here][1]\n",
    "\n",
    "Let's try to simulate it: draw random positive and negative examples and then calculate the proportion of cases when positives have greater score than negatives\n",
    "\n",
    "<!-- language: lang-r -->\n",
    "\n",
    "\tcls = c('P', 'P', 'N', 'P', 'P', 'P', 'N', 'N', 'P', 'N', 'P',\n",
    "\t        'N', 'P', 'N', 'N', 'N', 'P', 'N', 'P', 'N')\n",
    "\tscore = c(0.9, 0.8, 0.7, 0.6, 0.55, 0.51, 0.49, 0.43, 0.42, 0.39, 0.33, \n",
    "\t          0.31, 0.23, 0.22, 0.19, 0.15, 0.12, 0.11, 0.04, 0.01)\n",
    "\n",
    "\tpos = score[cls == 'P']\n",
    "\tneg = score[cls == 'N']\n",
    "\n",
    "\tset.seed(14)\n",
    "\tp = replicate(50000, sample(pos, size=1) > sample(neg, size=1))\n",
    "\tmean(p)\n",
    "\n",
    "And we get 0.67926. Quite close, isn't it? \n",
    "\n",
    "&nbsp;\n",
    "\n",
    "By the way, in R I typically use [ROCR][2] package for drawing ROC curves and calculating AUC. \n",
    "\n",
    "<!-- language: lang-r -->\n",
    "\n",
    "\tlibrary('ROCR')\n",
    "\n",
    "\tpred = prediction(score, cls)\n",
    "\troc = performance(pred, \"tpr\", \"fpr\")\n",
    "\n",
    "\tplot(roc, lwd=2, colorize=TRUE)\n",
    "\tlines(x=c(0, 1), y=c(0, 1), col=\"black\", lwd=1)\n",
    "\n",
    "\tauc = performance(pred, \"auc\")\n",
    "\tauc = unlist(auc@y.values)\n",
    "\tauc\n",
    "\n",
    "![enter image description here][3]\n",
    "\n",
    "\n",
    "  [1]: http://i.stack.imgur.com/QY5BJ.png\n",
    "  [2]: https://rocr.bioinf.mpi-sb.mpg.de/\n",
    "  [3]: http://i.stack.imgur.com/Zw4Yw.png"
   ]
  },
  {
   "cell_type": "markdown",
   "metadata": {
    "id": "sy9YOAtL790I"
   },
   "source": [
    "### AUROC as a Ranking \n",
    "\n",
    "One confusing aspect of ROC space is the ranking system. This can be seen in the notebook I created here. Remember, if you code it out yourself from scratch, then it will be more beneficial as you can understand where ranking come into play (without using sklearn). The algorithm starts from the point where threshold is \\infty or in sklearn it starts with some other number. A threshold of infinity will guarantee that the point starts at (0,0). Thus, our very first point MUST start from the origin in this algorithm. Then assuming we do not consider an infinity number of thresholds, as this is too computationally expensive, we consider say 10 threshold values that we want to test (a common number is the number in the dataset). We divide the 10 values into 0.9,0.8,0.7,...,0.1, (for example only). Then we start from 0.9, the highest threshold, and move down to the lowest, in order (ranking). As we have seen just now, as you lower the threshold, both your TPR and FPR go up. Therefore, if you don't want to get your hands dirty, then the intuition is that if you have ground truth [0,1,1,0] and pred_1 = [0.03,0.99,0.05,0.06] and pred_2 = [0.15,0.92,0.89,0.91] then if you then imagine that your thresholds are given by thres_1 = [infinity,0.99,0.06,0.05,0.03] and thres_2 = [infinity, 0.92,0.91,0.89,0.15] , then you can calculate that the TPR and FPR rate at each of the threshold for both predictions are actually the same, consequently, forming the same ROC curve. (Consider plotting it). The idea here is we do not care what your values of the predictions are, in fact, in neural networks, transforming logits through softmax may not be a well calibrated (refer to my calibrated probability notes) probability anyways. We do however, care about the ranking, as you can see our thresholds are sorted in descending order, noticed that we only need that many thresholds for the dataset because only the thresholds at the predictions matter. If you take a number between 0.06 and 0.99 for the first threshold set, you will notice that between this threshold, the TPR and FPR will always be the same. Therefore, we conclude, without proof, that if two arrays of prediction has the exact same relative order, then the AUC for both predictions will be the same, which means that AUC is invariant to the scale of the predictions, and in fact invariant to any sort of transformation, that preserves the order (i.e. a non-negative linear transformation); (you can have numbers greater than 1 and the AUC will be the same try [100,200,150,160]).  A corollary of this is we can’t treat outputs of an AUC-optimized model as the likelihood that it’s true. Some models may be poorly calibrated (eg: its output is always between 0.3 and 0.32) but still achieve a good AUC score because its relative ordering is correct. This is something to look out for when blending together predictions of different models.\n",
    "\n",
    "\n",
    "<img src='https://raw.githubusercontent.com/reigHns/reighns-MLAlgorithms/master/reighns-metrics/data/images/ranking_auc.png' width=\"390\" height=\"200\"/>"
   ]
  },
  {
   "cell_type": "markdown",
   "metadata": {
    "id": "8eElq_sB790I"
   },
   "source": [
    "Furthermore, if you see my notebook example, you can predict wrongly, but still have an AUC of 1. One last thing is about the predictions ordering, there is no rule that your predictions must SORT IN DESCENDING ORDER, for example: This will give you an AUC score of 1, even though it may not seem to predict everything correctly. Because the below order gives rise to the best AUC, which is 1 in this case, and hence this will give you 1 as well. If you switch a few numbers inside y_pred you will notice it can still stay at 1. However, if you reverse the list order, then you will get an AUC of 0 (the opposite of the best).\n",
    "\n",
    "```python\n",
    "y_true = [1, 1, 1, 1, 1, 1, 0, 0, 0, 0]\n",
    "y_pred = [0.99999, 0.98, 0.97, 0.96, 0.95, 0.94, 0.68139, 0.50961, 0.48880, 0.44951]\n",
    "full_score_example = sklearn.metrics.roc_auc_score(y_true, y_pred)  \n",
    "print(full_score_example) -> 1\n",
    "```"
   ]
  },
  {
   "cell_type": "code",
   "execution_count": null,
   "metadata": {
    "id": "8Npjf5lu790I"
   },
   "outputs": [],
   "source": [
    "y_true = [1, 0, 1, 1, 0]\n",
    "y_pred = [0.5, 0.25, 0.2, 0.3, 0.1]\n",
    "y_pred_same_rank = [100, 25, 20, 30, 10]\n",
    "\n",
    "\n",
    "fpr_rank_1, tpr_rank_1, threshold_rank_1 = sklearn.metrics.roc_curve(y_true, y_pred, drop_intermediate=True)\n",
    "fpr_rank_2, tpr_rank_2, threshold_rank_2 = sklearn.metrics.roc_curve(y_true, y_pred_same_rank, drop_intermediate=True)\n",
    "roc_rank_1 = sklearn.metrics.roc_auc_score(y_true=y_true, y_score=y_pred, average=\"macro\", sample_weight=None, max_fpr=None)  # 0.833\n",
    "roc_rank_2 = sklearn.metrics.roc_auc_score(y_true=y_true, y_score=y_pred_same_rank, average=\"macro\", sample_weight=None, max_fpr=None)  # 0.833"
   ]
  },
  {
   "cell_type": "code",
   "execution_count": null,
   "metadata": {
    "id": "EgpKN1tm790I",
    "outputId": "5caf3b65-e07d-4cce-a72f-0800ca28a494"
   },
   "outputs": [
    {
     "data": {
      "image/png": "[encoded data removed]",
      "text/plain": [
       "<Figure size 720x648 with 1 Axes>"
      ]
     },
     "metadata": {},
     "output_type": "display_data"
    }
   ],
   "source": [
    "import matplotlib.pyplot as plt\n",
    "plt.figure(figsize =[10,9])\n",
    "plt.title('Receiver Operating Characteristic')\n",
    "plt.plot(fpr_rank_1, tpr_rank_1, 'b', label = 'AUC = %0.2f' % roc_rank_1)\n",
    "plt.plot(fpr_rank_2, tpr_rank_2, 'b', label = 'AUC = %0.2f' % roc_rank_2)\n",
    "plt.legend(loc = 'lower right')\n",
    "plt.plot([0, 1], [0, 1],'r--')\n",
    "plt.xlim([0, 1])\n",
    "plt.ylim([0, 1])\n",
    "plt.ylabel('True Positive Rate')\n",
    "plt.xlabel('False Positive Rate')\n",
    "plt.show();"
   ]
  },
  {
   "cell_type": "markdown",
   "metadata": {
    "id": "E0fouR6J790I"
   },
   "source": [
    "### ROC as C-Statistic\n",
    "\n",
    "ROC can be interpreted as [c-statistics](https://stats.stackexchange.com/questions/193138/roc-curve-drawbacks).\n",
    "ROC AUC has the property that it coincides with the $c$ statistic. The $c$ statistic measures the probability that a positive example is ranked higher than a negative example. In this sense, the ROC AUC answers the question of how well the model discriminates between the two classes.\n",
    "\n",
    "A model with high discrimination is not necessarily well calibrated. Suppose a logistic regression model predicts probabilities of 0.52 for positives and 0.51 for negatives (imagine 10 ground truth where 6 is positive and 4 is negative, then the author meant the associated probabilities with each of these ground truth is 0.52 and 0.51 respectively, for the positive and negative classes). This model has an AUC of 1 (recall you need not predict everything correctly to get an AUC of 1) but the probabilities aren't helpful in the sense of identifying which purported positives are highest-risk. Because all of the positives are assigned the same posterior probability, they can't be differentiated.\n",
    "\n",
    "Moreover, a well-calibrated model will have its maximum ROC AUC fixed by the ratio of positives to negatives in the data. This means that a model which has some very desirable probabilities (i.e. its posterior probabilities match the true probability) has a cap on its performance, and therefore an **uncalibrated** model could \"dominate\" in terms of ROC AUC.\n",
    "\n",
    "ROC AUC doesn't tell you anything about the costs of different kinds of errors. For example, if you're trying to detect fraud, a 10,000 dollar purchase of uncertain provenance represents a larger potential loss than a 10 dollar purchase. But ROC AUC would treat both events as if they have the same weight -- obviously any reasonable model should be able to distinguish between these two types of error.\n",
    "\n",
    "ROC AUC also tends to be dominated by the \"high FPR\" points. **Depending on the application, these points may be the least relevant.** Consider the case where the model is used to refer high-risk transactions to experts who will conduct further vetting. There may only be enough humans to assess 50 transactions per unit time; since the most highly-ranked transactions occur on the \"left hand\" size of the ROC curve by definition, this is also the region with the lowest area. So by looking at the whole AUC, you're optimistically biasing your results upwards, i.e. ROC AUC is buoyed by the observations \"to the right\" of the actual set of observations which humans will vet. (Illustration is simple. Draw a vertical line at FPR<0.5 on any ROC curve. The area to left is higher for all such vertical lines.) To avoid this, some people use partial ROC AUC, which has its own host of problems, chief among them that software implementations tend to assume that you're interested in truncation *at some value of FPR.* But in the case that you care about the top $n$ transactions, this approach is obviously wrong because the top $n$ transactions will happen at different FPR values for different classifiers. Standardization of partial AUC (to preserve the property that AUC < 0.5 is worse than random, 1 is perfect, 0 is worthless) incurs further difficulties.\n",
    "\n",
    "The ROC curve itself is of little interest. \"Dominating\" classifiers can be assessed by AUC. Stochastic equivalence can be assessed by tests of equivalence of ranks. Prof. Harrell's comment drives at a consistent theme of his work, which is that the real question diagnostics should answer is one of risk assessment and utility optimization. Examining ROC AUC tends to encourage selection of truncation points, which should be avoided because it only provides partial information to decision makers.\n",
    "\n",
    "Alternative measures of performance (e.g. log-likelihood) characterize the calibration of the model and proper scoring rules generally have the quality that they encourage honest forecasts."
   ]
  },
  {
   "cell_type": "markdown",
   "metadata": {
    "id": "5IdwC6HJ790I"
   },
   "source": [
    "### Pros and Cons of AUROC\n",
    "\n",
    "Before we go ham on the [Drawbacks of AUROC](https://stats.stackexchange.com/questions/193138/roc-curve-drawbacks), we first try to think the following:\n",
    "\n",
    "<div class=\"alert alert-block alert-info\">\n",
    "<b>Food For Thought:</b> I think intuitively you can say that if your model needs to perform equally well on the positive class as the negative class (for example, for classifying images between cats and dogs, you would like the model to perform well on the cats as well as on the dogs. For this you would use the AUROC.)<p>\n",
    "\n",
    "On the other hand, if you're not really interested in how the model performs on the negative class, but just want to make sure every positive prediction is correct (precision), and that you get as many of the positives predicted as positives as possible (recall), then you should choose PRAUC (more with it later). For example, for detecting cancer, you don't care how many of the negative predictions are correct, you want to make sure all the positive predictions are correct, and that you don't miss any. (In fact, in this case missing a cancer would be worse than a false positive so you'd want to put more weight towards recall.)\n",
    "</div>"
   ]
  },
  {
   "cell_type": "markdown",
   "metadata": {
    "id": "1IyHDmVg790I"
   },
   "source": [
    "#### Pros: When your classes are more balanced\n",
    "\n",
    "\n",
    "\n",
    "ROC curves are insensitive to changes in class distribution. Quote unquote from \"The analysis of ROC Curves\", we see that the **if the proportion of positive to negative instances changes in a test set, the ROC curves will not change**. This is because the AUC is equals to the probability of ranking a random positive example over a random negative example, and by definition this happens after you have drawn a positive and a negative, which indicates that we do not need to know anything about the original distribution and the class proportions.\n",
    "\n",
    "---\n",
    "\n",
    "AUROC curve better reflects the total amount of False Positives independent of in which class they come up. We can see this by a simple math example:\n",
    "\n",
    "Essentially, AUROC is measuring the TPR vs FPR ratio: We can interpret it as such\n",
    "\n",
    "$$TPR:FPR = \\dfrac{TP}{TP + FN} : \\dfrac{FP}{FP+TN} = \\dfrac{TP}{TP+FN} \\times \\dfrac{FP + TN}{FP} = \\dfrac{TP}{|+|} \\times \\dfrac{|-|}{FP}=\\dfrac{|-|}{|+|} \\times \\dfrac{TP}{FP}$$\n",
    "\n",
    "\n",
    "\n",
    "---\n",
    "\n",
    "<!-- This portion here is important and can be extended into the Cons section as well. In summary, if you notice that AUROC curve is made up by TPR vs FPR, and since FPR = 1- TNR, we can deduce the following:\n",
    "\n",
    "$$FPR = 1 - P(\\hat{Y}=0|Y=0) \\text{ and } TPR = P(\\hat{Y}=1|Y=1)$$\n",
    "\n",
    "Now you may wonder, why did I express them in this format? This is because we should understand it probabilistically. Notice that both TPR and FPR are **probabilities conditioned on the true class label**. As a result, AUROC curves is the same no matter what the baseline probability is. To make it more concrete, consider the sample set $\\mathcal{D}$ to have 100 samples, in which 90 is **negative** and 10 is **positive**. Thus the baseline classifier ZeroR will always predict majority, in this case, it will always predict negative.\n",
    "\n",
    "$$P(Y=1) = 10\\% \\text{ and } P(Y=0) = 90\\%$$ -->"
   ]
  },
  {
   "cell_type": "markdown",
   "metadata": {
    "id": "HQjDcMvG790I"
   },
   "source": [
    "#### Pros: Scale Invariant\n",
    "\n",
    "**See section on AUROC as a Ranking for code example**. \n",
    "\n",
    "AUC measures how well predictions are ranked, rather than their absolute values. **This means that your score from the model need not be calibrated into a strict probability. You can predict any score you want. This allows us to compare different classifiers that predict values on a different scale.**\n",
    "\n",
    "---\n",
    "\n",
    "This can be a con as highlighted in Cons: uncalibrated."
   ]
  },
  {
   "cell_type": "markdown",
   "metadata": {
    "id": "ZDdBwkdV790I"
   },
   "source": [
    "#### Pros: Classification Threshold Invariant\n",
    "\n",
    "AUC measures the quality of the model's predictions irrespective of what classification threshold is chosen. What this means is if you compare an example to accuracy, how do you compute it? You say that if threshold is more than $t$, then you proceed to calculate the accuracy score - and different threshold gives different accuracies. But in ROC, the nuance is that our final metric is area under the ROC curve, over various (all possible) thresholds $t$, so as you see, we do not depend on the threshold to calculate the final score! This may be good in the sense that it gives you an overall performance on the binary classifier.\n",
    "\n",
    "---\n",
    "\n",
    "This can also be a con when you want to specifically minimize one metric like False Negatives or False Positives. For example, in cancer detection where malignant is the positive class, you will likely want to minimize False Negatives, **even if it results in a huge increase in False Positives**, then ROC may not be best suited. So if you only have the ROC curve for analysis, then you can choose your threshold according to the curve, in this case we choose the point which maximizes TPR as maximizing TPR is equivalent to minimizng FN."
   ]
  },
  {
   "cell_type": "markdown",
   "metadata": {
    "id": "d1I5AmPC790J"
   },
   "source": [
    "#### Cons: Imbalanced\n",
    "\n",
    "<div class=\"alert alert-block alert-danger\">\n",
    "<b>Imbalanced Data:</b> We examine the case in which the dataset is imbalanced and further assume that the positive class is the minority, (note if you assume positive class is majority, then ROC may perform very well here, so the assumption is that the minority is of the positive class). We assume further that the negative class is 90% and positive class is 10%. Intuitively, in an imbalanced dataset, the model **usually does not have trouble predicting the majority class**, and this suggests that they will often get the negatives correct in this case, leading to a high TN. By looking at the FPR, we notice that $\\frac{FP}{FP + TN}$ suggests that FP will be low and TN will be high simply because of the aforementioned idea that the model will likely get the TN correct, and if TN is high, then the FP is low. Consequently, FPR is high. <p>\n",
    "\n",
    "The following [on why AUC can be misleading](https://stats.stackexchange.com/questions/360017/when-is-an-auc-score-misleadingly-high/360040#360040)\n",
    "One possible reason you can get high AUROC with what some might consider a mediocre prediction is if you have imbalanced data (in favor of the \"zero\" prediction), high recall, and low precision. That is, you're predicting most of the ones at the higher end of your prediction probabilities, but most of the outcomes at the higher end of your prediction probabilities are still zero. This is because the ROC score still gets most of its \"lift\" at the early part of the plot, i.e., for only a small fraction of the zero-predictions. \n",
    "\n",
    "For example, if 5% of the test set are \"ones\" and all of the ones appear in the top 10% of your predictions, then your AUC will be at least 18/19 because, after 18/19 of the zeroes are predicted, already 100% of the ones were predicted. Even if the top 5% are all zeroes.\n",
    "\n",
    "Whether this is a \"bad\" prediction depends on your priorities. If you think that false negatives are terrible and false positives are tolerable, then this prediction is okay. But if it's the opposite, then this prediction is pretty bad.\n",
    "</div>"
   ]
  },
  {
   "cell_type": "code",
   "execution_count": null,
   "metadata": {
    "id": "8nB8AlZh790J",
    "outputId": "680b890a-9baa-4c06-b769-96270eaf07d4"
   },
   "outputs": [
    {
     "name": "stdout",
     "output_type": "stream",
     "text": [
      "[0.9        0.87333333 0.84666667 0.82       0.79333333 0.76666667\n",
      " 0.74       0.71333333 0.68666667 0.66       0.63333333 0.60666667\n",
      " 0.58       0.55333333 0.52666667 0.5        0.47333333 0.44666667\n",
      " 0.42       0.39333333 0.36666667 0.34       0.31333333 0.28666667\n",
      " 0.26       0.23333333 0.20666667 0.18       0.15333333 0.12666667\n",
      " 0.1       ]\n",
      "\n",
      "roc score: 0.888888888888889\n",
      "\n",
      "fpr: \n",
      "[0.0, 0.037, 0.074, 0.074, 0.111, 0.111, 0.185, 0.185, 1.0]\n",
      "\n",
      "tpr: \n",
      "[0.0, 0.0, 0.0, 0.5, 0.5, 0.75, 0.75, 1.0, 1.0]\n",
      "\n",
      "thresholds: \n",
      "[1.9, 0.9, 0.873, 0.82, 0.793, 0.767, 0.713, 0.687, 0.1]\n",
      "\n"
     ]
    },
    {
     "data": {
      "image/png": "[encoded data removed]",
      "text/plain": [
       "<Figure size 432x288 with 1 Axes>"
      ]
     },
     "metadata": {
      "needs_background": "light"
     },
     "output_type": "display_data"
    }
   ],
   "source": [
    "from sklearn.metrics import roc_auc_score\n",
    "import numpy as np\n",
    "import matplotlib.pyplot as plt\n",
    "\n",
    "yTest = [0,0,1,1,0,1,0,0,1,0,0,0,0,0,0,0,0,0,0,0,0,0,0,0,0,0,0,0,0,0,0]\n",
    "yPredicted = np.linspace(0.9, 0.1, num=len(yTest))\n",
    "print(yPredicted)\n",
    "print()\n",
    "\n",
    "imbalanced_roc = roc_auc_score(yTest, yPredicted) # ~0.89\n",
    "print(f\"roc score: {imbalanced_roc}\")\n",
    "print()\n",
    "\n",
    "fpr_imbalanced, tpr_imbalanced, threshold_imbalanced = sklearn.metrics.roc_curve(yTest, yPredicted, drop_intermediate=True)\n",
    "\n",
    "print(f\"fpr: \\n{list(np.round(fpr_imbalanced,3))}\")\n",
    "print()\n",
    "print(f\"tpr: \\n{list(np.round(tpr_imbalanced,3))}\")\n",
    "print()\n",
    "print(f\"thresholds: \\n{list(np.round(threshold_imbalanced,3))}\")\n",
    "print()\n",
    "\n",
    "plt.plot(fpr_imbalanced, tpr_imbalanced);"
   ]
  },
  {
   "cell_type": "markdown",
   "metadata": {
    "id": "yj_fBHIA790J"
   },
   "source": [
    "This diagram above says a thousand words. Because one perpetual question I had was how does class imbalance really plays a part in giving AUROC an overly optimistic picture. Note that the above I put `drop_intermediate=True`, which means we are only shown meaningful thresholds. In the thresholds above, we can see the fpr consistently is low, with low tpr at first. Then at the second last point, the fpr is 0.185 and tpr is 1, meaning we classified all positive points correctly. We see that this corresponding threshold is 0.687, and indeed, if we check the yTest and yPredicted, all the 1s have HIGHER probability than 0.687, which is the \"trick here\", thus once the threshold is set to > 0.687, all POSITIVE POINTS will be classified correctly, but this does not mean there is no FP, but now the FP is a lot at the expense, because we predict many as positive but it is actually negative, but fpr will be low, because fpr = fp/fp+tn, and even if fp is high, our tn is very big, pulling our denominator big, and as a result, making fpr seem deceptively low."
   ]
  },
  {
   "cell_type": "markdown",
   "metadata": {
    "id": "prWMwSLZ790J"
   },
   "source": [
    "#### Cons: Uncalibrated\n",
    "\n",
    "<div class=\"alert alert-block alert-danger\">\n",
    "<b>Uncalibrated:</b> \n",
    "A model with high AUROC does not necessarily imply a well calibrated model. By this I mean a model with all extreme predictions for of say, it predicts all positive ground truths to be 0.52 and all negative ground truths to be 0.51. This model has an AUC of 1, but the probabilities aren't helpful in the sense of identifying which purported positives are highest-risk. Because all of the positives are assigned the same posterior probability, they can't be differentiated. Note that models like logistic regression are naturally well calibrated, but models like neural networks output logits, and hence we have to apply `sigmoid` or `softmax` to make it probabilities. <p>\n",
    "\n",
    "Below is the \"phenomenon\" that AUC of 1 but the models look bad. Notice that even though we have a perfect AUROC score of 1, the model is not at all confident with the predictions in the sense that we cannot pin point any two positive labels and say that one of them is of higher probability than the other. If you are not convinced, the below code illustrates the point and the plot shows you.\n",
    "</div>"
   ]
  },
  {
   "cell_type": "code",
   "execution_count": null,
   "metadata": {
    "id": "dFqlapoF790J",
    "outputId": "d19b7261-9ad0-4c46-84c9-d23f62d41bac"
   },
   "outputs": [
    {
     "name": "stdout",
     "output_type": "stream",
     "text": [
      "roc score: 1.0\n",
      "[0. 0. 1.] [0. 1. 1.] [1.52 0.52 0.51]\n"
     ]
    }
   ],
   "source": [
    "y_true = [1, 0, 1, 0, 1, 0, 1, 0, 1, 1]\n",
    "\n",
    "y_pred = [0.52, 0.51, 0.52, 0.51, 0.52, 0.51, 0.52, 0.51, 0.52, 0.52]\n",
    "\n",
    "uncalibrated_roc = sklearn.metrics.roc_auc_score(y_true, y_pred)\n",
    "print(f\"roc score: {uncalibrated_roc}\")\n",
    "\n",
    "fpr_uncalibrated, tpr_uncalibrated, threshold_uncalibrated = sklearn.metrics.roc_curve(y_true, y_pred, drop_intermediate=True)\n",
    "\n",
    "print(fpr_uncalibrated, tpr_uncalibrated, threshold_uncalibrated)\n",
    "\n",
    "# Another example\n",
    "# y_true = [1, 1, 1, 1, 1, 1, 0, 0, 0, 0]\n",
    "# y_pred = [0.99999, 0.98, 0.97, 0.96, 0.95, 0.94, 0.68139, 0.50961, 0.48880, 0.44951]\n",
    "# full_score_example = sklearn.metrics.roc_auc_score(y_true, y_pred)  \n",
    "# print(full_score_example) -> 1"
   ]
  },
  {
   "cell_type": "code",
   "execution_count": null,
   "metadata": {
    "id": "bPtFSqWe790J",
    "outputId": "240999a6-f113-4c40-ee98-ab94e2692abb"
   },
   "outputs": [
    {
     "data": {
      "image/png": "[encoded data removed]",
      "text/plain": [
       "<Figure size 1080x504 with 1 Axes>"
      ]
     },
     "metadata": {},
     "output_type": "display_data"
    }
   ],
   "source": [
    "import matplotlib.pyplot as plt\n",
    "import seaborn as sns\n",
    "\n",
    "sns.set()\n",
    "plt.figure(figsize=(15, 7))\n",
    "\n",
    "plt.scatter(fpr_uncalibrated, tpr_uncalibrated, color=\"#0F9D58\", s=100)\n",
    "plt.plot(fpr_uncalibrated, tpr_uncalibrated, color=\"#0F9D58\", label = f\"auc: {uncalibrated_roc}\")\n",
    "plt.title(\"ROC Curve\", fontsize=20)\n",
    "plt.legend(loc=4)\n",
    "plt.xlabel(\"False Positive Rate\", fontsize=16)\n",
    "plt.ylabel(\"True Positive Rate\", fontsize=16);"
   ]
  },
  {
   "cell_type": "markdown",
   "metadata": {
    "id": "NrbeNO5L790J"
   },
   "source": [
    "### Implementation of ROC and AUC\n",
    "\n",
    "This implementation follows closely to [Implementation of ROC - roc-curve-and-auc-from-scratch-in-numpy-visualized - TDS](https://towardsdatascience.com/roc-curve-and-auc-from-scratch-in-numpy-visualized-2612bb9459ab)."
   ]
  },
  {
   "cell_type": "markdown",
   "metadata": {
    "id": "gmrGcrde790J"
   },
   "source": [
    "#### Step 1: Problem Setup\n",
    "\n",
    "```python\n",
    "y_true_binary = np.asarray([0, 0, 1, 1, 0, 0, 1, 1])\n",
    "y_pred_binary = np.asarray([0.1, 0.2, 0.3, 0.4, 0.5, 0.6, 0.7, 0.8])\n",
    "```\n",
    "\n",
    "We have a binary classification problem with the targets and predictions shown above. We further note that the predictions are probabilities output from the **Sigmoid** layer in a logistic classifier."
   ]
  },
  {
   "cell_type": "code",
   "execution_count": null,
   "metadata": {
    "id": "bXS45unK790J"
   },
   "outputs": [],
   "source": [
    "y_true_binary = np.asarray([0, 0, 1, 1, 0, 0, 1, 1])\n",
    "y_pred_binary = np.asarray([0.1, 0.2, 0.3, 0.4, 0.5, 0.6, 0.7, 0.8])"
   ]
  },
  {
   "cell_type": "markdown",
   "metadata": {
    "id": "q9ZTa-4m790K"
   },
   "source": [
    "#### Step 2: Define Threshold Range\n",
    "\n",
    "For our classifier, our usual default threshold is as such:\n",
    "\n",
    "```python\n",
    "if y_pred_binary[i] > 0.5:\n",
    "    assign y_pred_binary as positive class (+)\n",
    "else:\n",
    "    assign y_pred_binary as negative class (-)\n",
    "```\n",
    "\n",
    "Then it follows that different thresholds will result to different TPR and FPR. We can discretize our thresholds uniformly. Note that `scikit-learn` uses a different method to find the thresholds and are more optimized.\n",
    "\n",
    "For starter, we will just set our threshold range from 0 to 1 with uniform interval of 0.1."
   ]
  },
  {
   "cell_type": "code",
   "execution_count": null,
   "metadata": {
    "id": "Tkbin3r3790K",
    "outputId": "c44bbd8f-2447-4ce8-a986-ccf33fb60e81"
   },
   "outputs": [
    {
     "name": "stdout",
     "output_type": "stream",
     "text": [
      "[0.  0.1 0.2 0.3 0.4 0.5 0.6 0.7 0.8 0.9 1. ]\n"
     ]
    }
   ],
   "source": [
    "threshold_range = np.arange(0, 11, 1) / 10\n",
    "print(threshold_range)"
   ]
  },
  {
   "cell_type": "markdown",
   "metadata": {
    "id": "rF6pittB790K"
   },
   "source": [
    "#### Step 3: Classify prediction according to threshold\n",
    "\n",
    "The next step we need to do is to classify our `y_pred_binary` from probabilities into hard labels, a 0 or 1 label. We create a dictionary `y_pred_thresholded` which has the threshold as key, and the value is the corresponding hard labels.\n",
    "\n",
    "```python\n",
    "y_pred_thresholded = {\n",
    "    0.0: [1, 1, 1, 1, 1, 1, 1, 1],\n",
    "    0.1: [1, 1, 1, 1, 1, 1, 1, 1],\n",
    "    0.2: [0, 1, 1, 1, 1, 1, 1, 1],\n",
    "    0.3: [0, 0, 1, 1, 1, 1, 1, 1],\n",
    "    0.4: [0, 0, 0, 1, 1, 1, 1, 1],\n",
    "    0.5: [0, 0, 0, 0, 1, 1, 1, 1],\n",
    "    0.6: [0, 0, 0, 0, 0, 1, 1, 1],\n",
    "    0.7: [0, 0, 0, 0, 0, 0, 1, 1],\n",
    "    0.8: [0, 0, 0, 0, 0, 0, 0, 1],\n",
    "    0.9: [0, 0, 0, 0, 0, 0, 0, 0],\n",
    "    1.0: [0, 0, 0, 0, 0, 0, 0, 0],\n",
    "}\n",
    "```"
   ]
  },
  {
   "cell_type": "code",
   "execution_count": null,
   "metadata": {
    "id": "SZnx8jgM790K"
   },
   "outputs": [],
   "source": [
    "y_pred_thresholded: Dict = {}\n",
    "\n",
    "for threshold in threshold_range:\n",
    "    \n",
    "    if threshold not in y_pred_thresholded:\n",
    "        y_pred_thresholded[threshold] = []\n",
    "\n",
    "    for y_p in y_pred_binary:\n",
    "        if y_p >= threshold:\n",
    "            y_pred_thresholded[threshold].append(1)\n",
    "        else:\n",
    "            y_pred_thresholded[threshold].append(0)\n"
   ]
  },
  {
   "cell_type": "markdown",
   "metadata": {
    "id": "__08VHQ5790K"
   },
   "source": [
    "#### Step 4: Calculate TPR and FPR \n",
    "\n",
    "Now we calculate the respective TPR and FPR for each thresholds's hard labels against the `y_true_binary`. We will make use of our `reighns_confusion_matrix` defined earlier to calculate.\n",
    "\n",
    "```python\n",
    "tpr_fpr = [\n",
    "    [1.0, 1.0],\n",
    "    [1.0, 1.0],\n",
    "    [1.0, 0.75],\n",
    "    [1.0, 0.5],\n",
    "    [0.75, 0.5],\n",
    "    [0.5, 0.5],\n",
    "    [0.5, 0.25],\n",
    "    [0.5, 0.0],\n",
    "    [0.25, 0.0],\n",
    "    [0.0, 0.0],\n",
    "    [0.0, 0.0],\n",
    "]\n",
    "```\n",
    "\n",
    "where the first element of the inner list is `tpr` and the second element is `fpr`."
   ]
  },
  {
   "cell_type": "code",
   "execution_count": null,
   "metadata": {
    "id": "mYU8z-2g790K",
    "outputId": "18eb4728-ae91-4895-c4df-cd07dcdf6461"
   },
   "outputs": [
    {
     "name": "stdout",
     "output_type": "stream",
     "text": [
      "{'tpr': [1.0, 1.0, 1.0, 1.0, 0.75, 0.5, 0.5, 0.5, 0.25, 0.0, 0.0], 'fpr': [1.0, 1.0, 0.75, 0.5, 0.5, 0.5, 0.25, 0.0, 0.0, 0.0, 0.0]}\n"
     ]
    }
   ],
   "source": [
    "tpr_fpr: Dict = {\"tpr\": [], \"fpr\": []}\n",
    "\n",
    "for y_pred in y_pred_thresholded.values():\n",
    "    tp, fp, tn, fn = reighns_confusion_matrix(y_true_binary, y_pred)\n",
    "    tpr = tp / (tp + fn)\n",
    "    fpr = fp / (tn + fp)\n",
    "    tpr_fpr[\"tpr\"].append(tpr)\n",
    "    tpr_fpr[\"fpr\"].append(fpr)\n",
    "\n",
    "print(tpr_fpr)"
   ]
  },
  {
   "cell_type": "markdown",
   "metadata": {
    "id": "TNVZkEnk790K"
   },
   "source": [
    "#### Step 5: Plot the points as ROC Curve\n",
    "\n",
    "The main idea of ROC Curve is to plot various pairs of [TPR, FPR] at different threshold on the graph, as shown below. Note that we **reversed** our tpr and fpr to be in line with Scikit-Learn. It does not affect the end result."
   ]
  },
  {
   "cell_type": "code",
   "execution_count": null,
   "metadata": {
    "id": "B84N6CMt790K",
    "outputId": "312ba6e3-0975-459e-bd82-b94cd1999952"
   },
   "outputs": [
    {
     "data": {
      "image/png": "[encoded data removed]",
      "text/plain": [
       "<Figure size 1080x504 with 1 Axes>"
      ]
     },
     "metadata": {},
     "output_type": "display_data"
    }
   ],
   "source": [
    "import matplotlib.pyplot as plt\n",
    "import seaborn as sns\n",
    "\n",
    "sns.set()\n",
    "plt.figure(figsize=(15, 7))\n",
    "\n",
    "tpr_reighns = tpr_fpr[\"tpr\"][::-1]\n",
    "fpr_reighns = tpr_fpr[\"fpr\"][::-1]\n",
    "\n",
    "plt.scatter(fpr_reighns, tpr_reighns, color=\"#0F9D58\", s=100)\n",
    "plt.title(\"ROC Curve\", fontsize=20)\n",
    "plt.xlabel(\"False Positive Rate\", fontsize=16)\n",
    "plt.ylabel(\"True Positive Rate\", fontsize=16);"
   ]
  },
  {
   "cell_type": "markdown",
   "metadata": {
    "id": "Dx2YS0wm790K"
   },
   "source": [
    "Let us compare to the `scikit-learn's` version!"
   ]
  },
  {
   "cell_type": "code",
   "execution_count": null,
   "metadata": {
    "id": "47Ld2UZx790K",
    "outputId": "f88c3ca9-5298-4b34-db1d-ab3b459aa9d4"
   },
   "outputs": [
    {
     "data": {
      "image/png": "[encoded data removed]",
      "text/plain": [
       "<Figure size 1080x504 with 1 Axes>"
      ]
     },
     "metadata": {},
     "output_type": "display_data"
    }
   ],
   "source": [
    "\n",
    "from sklearn.metrics import roc_curve\n",
    "fpr_sklearn, tpr_sklearn, thresholds_sklearn = roc_curve(y_true_binary, y_pred_binary)\n",
    "\n",
    "plt.figure(figsize=(15, 7))\n",
    "plt.scatter(fpr_sklearn, tpr_sklearn, s=100, alpha=0.5, color=\"blue\", label=\"Scikit-learn\")\n",
    "plt.scatter(fpr_reighns, tpr_reighns, color=\"#0F9D58\", s=100, alpha=0.3, label=\"Our implementation\")\n",
    "plt.title(\"ROC Curve\", fontsize=20)\n",
    "plt.xlabel(\"False Positive Rate\", fontsize=16)\n",
    "plt.ylabel(\"True Positive Rate\", fontsize=16)\n",
    "plt.legend();"
   ]
  },
  {
   "cell_type": "markdown",
   "metadata": {
    "id": "B2fMc7pT790K"
   },
   "source": [
    "Notice that in Scikit-Learn's version, they have 3 less points that us, this is discussed in details in the reference links I appended below. But just know that the end result is the same when we go to AUC!"
   ]
  },
  {
   "cell_type": "markdown",
   "metadata": {
    "id": "rMtKobMM790K"
   },
   "source": [
    "<div class=\"alert alert-block alert-danger\">\n",
    "<b>Starting and Ending Point:</b> \n",
    "Notice that the starting point and ending point of the ROC curve always start with (0, 0) and (1, 1). See the `y_pred_thresholded` we got earlier.\n",
    "</div>\n",
    "\n",
    "```python\n",
    "y_true_binary = np.asarray([0, 0, 1, 1, 0, 0, 1, 1])\n",
    "\n",
    "y_pred_thresholded = {\n",
    "    0.0: [1, 1, 1, 1, 1, 1, 1, 1],\n",
    "    0.1: [1, 1, 1, 1, 1, 1, 1, 1],\n",
    "    0.2: [0, 1, 1, 1, 1, 1, 1, 1],\n",
    "    0.3: [0, 0, 1, 1, 1, 1, 1, 1],\n",
    "    0.4: [0, 0, 0, 1, 1, 1, 1, 1],\n",
    "    0.5: [0, 0, 0, 0, 1, 1, 1, 1],\n",
    "    0.6: [0, 0, 0, 0, 0, 1, 1, 1],\n",
    "    0.7: [0, 0, 0, 0, 0, 0, 1, 1],\n",
    "    0.8: [0, 0, 0, 0, 0, 0, 0, 1],\n",
    "    0.9: [0, 0, 0, 0, 0, 0, 0, 0],\n",
    "    1.0: [0, 0, 0, 0, 0, 0, 0, 0],\n",
    "}\n",
    "```\n",
    "\n",
    "A bit of probing reveals that if you discretize your threshold from 0 to 1 inclusive, then it follows that at the threshold 1, everything is predicted as the negative class as shown, then by definition, TPR is 0 because the numerator of TPR is TP, and there is 0 TP because every single prediction made is of negative class, similarly, FPR is also 0 because the numerator of FPR is FP, and the model did not miss any negatives since it predicted every single one as negative.\n",
    "\n",
    "---\n",
    "\n",
    "The same logic can be applied to when the threshold is 0, we instead have FPR and TPR to be both 1."
   ]
  },
  {
   "cell_type": "markdown",
   "metadata": {
    "id": "gRKeo0-C790L"
   },
   "source": [
    "#### Step 6: Area under ROC Curve\n",
    "\n",
    "In the [Implementation of ROC - roc-curve-and-auc-from-scratch-in-numpy-visualized - TDS](https://towardsdatascience.com/roc-curve-and-auc-from-scratch-in-numpy-visualized-2612bb9459ab) visualization, we understand that we can approximate AUROC score by \"integrating\" over the rectangles. In a way, this is calculating areas of rectangles under the curve, as follows."
   ]
  },
  {
   "cell_type": "code",
   "execution_count": null,
   "metadata": {
    "id": "RN1Kt2Le790L"
   },
   "outputs": [],
   "source": [
    "rectangle_area = 0\n",
    "for k in range(len(threshold_range)):\n",
    "    rectangle_area += (fpr_reighns[k+1] - fpr_reighns[k]) * tpr_reighns[k]\n",
    "    if k == (len(threshold_range) - 2): \n",
    "        break"
   ]
  },
  {
   "cell_type": "code",
   "execution_count": null,
   "metadata": {
    "id": "FugvkA7k790L",
    "outputId": "2d3cad4e-0d98-4f94-b1cb-f1534c4f5d8c"
   },
   "outputs": [
    {
     "name": "stdout",
     "output_type": "stream",
     "text": [
      "reighns roc_auc_score: 0.75\n",
      "sklearn roc_auc_score: 0.75\n"
     ]
    }
   ],
   "source": [
    "print(f\"reighns roc_auc_score: {rectangle_area}\")\n",
    "\n",
    "from sklearn.metrics import roc_auc_score\n",
    "roc_auc_sklearn = roc_auc_score(y_true_binary, y_pred_binary)\n",
    "print(f\"sklearn roc_auc_score: {roc_auc_sklearn}\")"
   ]
  },
  {
   "cell_type": "code",
   "execution_count": null,
   "metadata": {
    "id": "QLP5vcSM790L",
    "outputId": "3bcb01df-a7da-4c0d-f3fb-72509c23aae4"
   },
   "outputs": [
    {
     "name": "stdout",
     "output_type": "stream",
     "text": [
      "0.75\n"
     ]
    }
   ],
   "source": [
    "# alternatively, we can use np.trapz to calculate the area under the curve.\n",
    "roc_area = np.trapz(y=tpr_reighns, x=fpr_reighns)\n",
    "print(roc_area)"
   ]
  },
  {
   "cell_type": "markdown",
   "metadata": {
    "id": "xBVUctCa790L"
   },
   "source": [
    "### Couple ROC with Brier Score\n",
    "\n",
    "https://medium.com/@penggongting/understanding-roc-auc-pros-and-cons-why-is-bier-score-a-great-supplement-c7a0c976b679"
   ]
  },
  {
   "cell_type": "markdown",
   "metadata": {
    "id": "B_utDa-Q790L"
   },
   "source": [
    "### **Summary**\n",
    "\n",
    "1. AUC is a threshold-free metrics capable of measuring the overall performance of binary classifier.\n",
    "2. AUC should be used in binary classification. In multinomial classification, one-to-rest AUC would be an option using the average of each class.\n",
    "3. AUC is a good metric when the rank of output probabilities is of interest.\n",
    "4. Note that if you have 2 classes, then finding the AUROC of the positive class (class 1) is equivalent to 1 minus the AUROC of the negative class (class 0). This is not true when we deal with PR-curve.\n",
    "5. **Although AUC is powerful, it is not a cure-all. AUC is not suitable for heavily imbalanced class distribution and when the goal is to have well-calibrated probabilities.**\n",
    "6. Models with maximized AUC treat the weight between positive and negative class equally.\n",
    "7. AUROC would be the metric to use if the goal of the model is to perform equally well on both classes. Image classification between cats & dogs is a good example because the performance on cats is equally important on dogs. \n",
    "\n",
    "    AUPRC would be the metric to use if the focus of the model is to identify correctly as many **positive** samples as possible. Take spam detectors for example, the goal is to find all the possible spams. Regular emails are not of interest at all — they overshadow the number of positives.\n",
    "\n",
    "    There are no defined rules to select the suitable metrics. It really depends on the data and the application. It is important to think thoroughly about the purpose of the model before jumping into the modeling process.\n",
    "\n",
    "    One thing to note here is that the PR AUC serves as an alternative metric. If the model doesn’t work after the metric is changed, there are still other remedies to deal with imbalanced data, such as downsampling/upsampling. We’ll cover it later in future posts."
   ]
  },
  {
   "cell_type": "markdown",
   "metadata": {
    "id": "_Ln2Crsr790L"
   },
   "source": [
    "\n",
    "\n",
    "### SKLEARN Definition of Binary Classification ROC-AUC\n",
    "\n",
    "\n",
    "    sklearn.metrics.roc_auc_score(y_true, y_score, *, average='macro', sample_weight=None, max_fpr=None, multi_class='raise', labels=None)\n",
    "    \n",
    "    \n",
    "**y_score: array-like of shape (n_samples,) or (n_samples, n_classes)**\n",
    "\n",
    "Target scores. In the binary and multilabel cases, these can be either probability estimates or non-thresholded decision values (as returned by decision_function on some classifiers). In the multiclass case, these must be probability estimates which sum to 1. The binary case expects a shape (n_samples,), and the scores must be the scores of the class with the greater label. The multiclass and multilabel cases expect a shape (n_samples, n_classes). In the multiclass case, the order of the class scores must correspond to the order of labels, if provided, or else to the numerical or lexicographical order of the labels in y_true.\n",
    "\n",
    "Understanding the binary case is important, it says that the binary case expects a list/array of shape `(n_samples,)`, a 1d-array, where the scores inside the 1d-array must be the scores of the **greater label**. In other words, if you have class 0 and 1, then the greater label is `np.argmax(0,1) = 1`. As a consequence, it is important that you should only pass the \"positive class\" which is the \"greater label\" here into the `y_score`. \n",
    "\n",
    "In multiclass, there are two cases, either you provide a `labels` argument in, say `labels = [0,2,1]` or `labels = [0,1,2]`, or if you do not provide, then the `y_score` will necessarily be in the order of the numerical/alphabetical order of the labels in `y_true`. In other words, if `y_true` has 3 unique labels: 0, 1 and 2; then the `y_score` will be a **2d-array** in the form of `y_score = [[0.2, 0.3, 0.5],[...],[...]]` where `y_score[0] = [0.2,0.3,0.5]` must correspond to class 1, 2 and 3 respectively, unless otherwise stated in `labels`.\n",
    "\n",
    "\n",
    "### First Interpretation\n",
    "\n",
    "Now ROC curve is a TPR vs FPR graph, and the AUC is the area under the curve literally. To find the ROC-AUC, we need to plot many different pairs of points on the graph, and compute the area under it.\n",
    "\n",
    "As we can see from the above naive and simple example, there are a total of 6 pairs of points to plot. Those are from `fpr`, `tpr` respectively --> Allow me to further explain with this example where 1 is the positive class:\n",
    "\n",
    "    y_true_1 = [0,0,1,1,0,0,1,1]\n",
    "    y_preds_1 = [0.1,0.2,0.3,0.4,0.5,0.6,0.7,0.8]\n",
    "\n",
    "1. We need to initialize the thresholds with a large number usually - usually `roc_curve` is written so that ROC point corresponding to the highest threshold `(fpr[0], tpr[0])` is always `(0, 0)`. If this is not the case, a new threshold is created with an arbitrary value of `max(y_score)+1`. Therefore, in this case, we get 1.8 as the first threshold. This large number will ensure the `fpr, tpr` starts at (0,0).\n",
    "\n",
    "2. Next, when the threshold is $T=0.8$, then one can see that `y_preds_1` has 1 predictions 1, so `y_preds_1=[0,0,0,0,0,0,0,1]` and hence we can calculate the FPR and TPR: FPR will be 0 because no negative samples 0 are misclassified as 1 in our prediction. TPR will be 0.25 because by definition TPR=TP/TP+FN = 1/1+3=0.25 by definition. Therefore `(fpr, tpr) = (0,0.25)`\n",
    "\n",
    "3. $T=0.7 \\rightarrow$ `y_preds_1 = [0,0,0,0,0,0,1,1]`, same logic, FPR will be 0 cause no negative samples 0 are classified as 1 by our classifier! But TPR will be 0.5 because TPR = TP/TP+FN = 2/2+2 = 0.5. Therefore `(fpr, tpr) = (0,0.5)`\n",
    "\n",
    "4. We continue this way until we exhaust all thresholds given `[array([1.8, 0.8, 0.7, 0.5, 0.3, 0.1])]`. And we plot on the graph. \n",
    "\n",
    "5. How then, do we calculate the area under this curve? One can refer to the source code `auc` in `sklearn.metrics.auc` and see that they used **[Trapezoidal Rule](https://en.wikipedia.org/wiki/Trapezoidal_rule)** to solve it.\n",
    "\n",
    "6. So one have a rough idea, how the `ROC-AUC` area is computed, and one has to bear in mind that the area is calculated over all thresholds (apparently not the case as `sklearn` discretized the thresholds to reduce computing time, so you will not see the full range of thresholds here). \n",
    "\n",
    "\n"
   ]
  },
  {
   "cell_type": "markdown",
   "metadata": {
    "id": "JiQ-n6TX790L"
   },
   "source": [
    "## **Precision-Recall Curve**"
   ]
  },
  {
   "cell_type": "markdown",
   "metadata": {
    "id": "28TX9ftD790L"
   },
   "source": [
    "### Loss function and Decision Function\n",
    "\n",
    "[Loss function and decision Function link](https://stats.stackexchange.com/questions/104988/what-is-the-difference-between-a-loss-function-and-decision-function)\n",
    "\n",
    "A **decision function** is a function which takes a dataset as input and gives a decision as output. What the decision can be depends on the problem at hand. Examples include:\n",
    "\n",
    " - *Estimation problems:* the \"decision\" is the estimate.\n",
    " - *Hypothesis testing problems:* the decision is to reject or not reject the null hypothesis. Think of Linear Regression problems, they are mostly related to hypothesis testing.\n",
    " - *Classification problems:* the decision is to classify a new observation (or observations) into a category.\n",
    " - *Model selection problems:* the decision is to chose one of the candidate models.\n",
    "\n",
    "Typically, there are an infinite number of decision functions available for a problem. If we for instance are interested in estimating the height of Swedish males based on ten observations $\\mathbf{x}=(x_1,x_2,\\ldots,x_{10})$, we can use any of the following decision functions $d(\\mathbf{x})$:\n",
    "\n",
    " - The sample mean: $d(\\mathbf{x})=\\frac{1}{10}\\sum_{i=1}^{10}x_i$.\n",
    " - The median of the sample: $d(\\mathbf{x})=\\mbox{median}(\\mathbf{x})$\n",
    " - The geometric mean of the sample: $d(\\mathbf{x})=\\sqrt[10]{x_1\\cdots x_{10}}$\n",
    " - The function that always returns 1: $d(\\mathbf{x})=1$, regardless of the value of $\\mathbf{x}$. Silly, yes, but it is nevertheless a valid decision function.\n",
    "\n",
    "How then can we determine which of these decision functions to use? One way is to use a **loss function**, which describes the loss (or cost) associated with all possible decisions. Different decision functions will tend to lead to different types of mistakes. The loss function tells us which type of mistakes we should be more concerned about. The best decision function is the function that yields the lowest **expected loss**. What is meant by expected loss depends on the setting (in particular, whether we are talking about [frequentist][1] or [Bayesian][2] statistics).\n",
    "\n",
    "**In summary:** \n",
    "\n",
    " - Decision functions are used to make decisions based on data.\n",
    " - Loss functions are used to determine which decision function to use.\n",
    "\n",
    "\n",
    "  [1]: http://en.wikipedia.org/wiki/Frequentist_inference\n",
    "  [2]: http://en.wikipedia.org/wiki/Bayesian_statistics\n",
    "  \n"
   ]
  },
  {
   "cell_type": "markdown",
   "metadata": {
    "id": "7kY8MAOZ790L"
   },
   "source": [
    "### An extensive study on Precision-Recall Curve\n",
    "\n",
    "Before I start, I will quote [Frank Harrell's first](https://www.fharrell.com/post/classification/) and [his second](http://www.fharrell.com/2017/03/damage-caused-by-classification.html) article. I will also use the links on stack exchange [here](https://stats.stackexchange.com/questions/312780/why-is-accuracy-not-the-best-measure-for-assessing-classification-models) and [here](https://stats.stackexchange.com/questions/368949/example-when-using-accuracy-as-an-outcome-measure-will-lead-to-a-wrong-conclusio) by [Stephan Kolassa](https://stats.stackexchange.com/users/1352/stephan-kolassa). They are really good and the entire intuition is from him, I will almost use his intuition verbatim and everything in this section will be credited to the links above; I just find it too difficult to phrase it in my own words because their answers are perfect.\n",
    "\n",
    "Basically, let me put it up front now: ***Accuracy, Sensitivity and Specificity are one-sided or conditional versions of classification accuracy. As such they are also discontinuous improper accuracy scores, and optimizing them will result in the wrong model.***  \n",
    "\n",
    "\n",
    "\n",
    "The `confusion matrix` and the `classification report` provide a very detailed analysis of a particular set of predictions. However, the predictions themselves already threw away a lot of information that is contained in the model - to explain this statement further: We consider the example of a logistic regression classifier, used to predict whether a patient has cancer (1, positive class) or not (0, negative class). We defined Y as our response variable, outputting only 1 or 0, while $X$ is the set of predictors.\n",
    "\n",
    "In the case of our cancer classification model, (which we assume to be a logistic regression classifier), we remember that the positive class (class = 1) is the patient has cancer, and the negative class (class = 0) is the patient does not have cancer. And to delve a little deeper, our default classification threshold is:\n",
    "    \n",
    "$\\begin{equation}\n",
    " Y=\\begin{cases}\n",
    "1, & \\text{if $P(Y=1 ~|~X) \\geq 0.5$}\\\\\n",
    "0, & \\text{if $P(Y=1~|~X) < 0.5$}\\\\\n",
    "\\end{cases} \\end{equation}$\n",
    "\n",
    "which means that whenever our logistic regression outputs a probability of the patient getting cancer is more than $0.5$, we classify the patient to be in the positive class (predict him/her to have cancer). When we use the `LogisticClassifier()` to fit and predict, we are actually predicting the probability $p(X)$, i.e.the probability of the patient having cancer given predictors X; Consequently, we need to further set a threshold, or to make a decision on whether to classify a patient as cancer or benign based on the probability we get from $$p(X) = \\dfrac{e^{\\beta_0}+\\beta_1X_1+...+\\beta_nX_n}{1+ e^{\\beta_0}+\\beta_1X_1+...+\\beta_nX_n}$$\n",
    "\n",
    "The threshold is defaulted to 0.5 in `predict_proba`. As we discussed earlier, most classifiers provide a `decision_function` or a `predict_proba` method to assess degrees of certainty about predictions. Making predictions can be seen as thresholding the output of `decision_function` or `predict_proba` at a certain fixed point; in binary classification we use 0 for the decision function and 0.5 for predict_proba as default.\n",
    "\n",
    "\n",
    "<br>\n",
    "\n",
    "\n",
    "To fully evaluate the effectiveness of a model, you must examine both precision and recall. Unfortunately, precision and recall are often in tension. That is, improving precision typically reduces recall and vice versa. Explore this notion by looking at the following figure, which shows 30 predictions made by an email classification model. Those to the right of the classification threshold are classified as \"spam\", while those to the left are classified as \"not spam.\"\n",
    "\n",
    "Always remember, do not ever just use a single metric like `recall, precision` to gauge your classifier. This is because your classifier (say `SVM()` may somehow trivially classify everything as the positive class,  and then you will get 100% recall)."
   ]
  },
  {
   "cell_type": "markdown",
   "metadata": {
    "id": "DfliqTrA790L"
   },
   "source": [
    "### When to use Precision-Recall\n",
    "\n",
    "[Precision-Recall curves should be used when there is a moderate to large class imbalance.](http://pages.cs.wisc.edu/~jdavis/davisgoadrichcamera2.pdf). In particular, when the positive class\n",
    "\n",
    "Precision and recall, however, don't consider true negatives and thus won't be affected by the relative imbalance (which is precisely why they're used for imbalanced datasets). \n",
    "\n",
    "\n",
    "[Kaggle Forum](https://www.kaggle.com/general/7517#41179)\n",
    "\n",
    "As goes for any metric, your metric depends entirely on what I you mean to do with the data.\n",
    "\n",
    "I think intuitively you can say that if your model needs to perform equally well on the positive class as the negative class (for example, for classifying images between cats and dogs, you would like the model to perform well on the cats as well as on the dogs. For this you would use the ROC AUC.\n",
    "\n",
    "On the other hand, if you're not really interested in how the model performs on the negative class, but just want to make sure every positive prediction is correct (precision), and that you get as many of the positives predicted as positives as possible (recall), then you should choose PR AUC. For example, for detecting cancer, you don't care how many of the negative predictions are correct, you want to make sure all the positive predictions are correct, and that you don't miss any. (In fact, in this case missing a cancer would be worse then a false positive so you'd want to put more weight towards recall.)\n",
    "\n",
    "True negatives need to be meaningful for ROC to be a good choice of measure. In his example, if we've got 1,000 pictures of cats and dogs and our model determines whether the picture is a cat (target = 0) or a dog (target = 1), we probably care just as much about getting the cats right as the dogs, and so ROC is a good choice of metric.\n",
    "\n",
    "If instead, we've got a collection of 1,000,000 pictures and we build a model to try to identify the 1,000 dog pictures mixed in it, correctly identifying \"not-dog\" pictures is not quite as useful. Instead, it makes more sense to measure how often a picture is a dog when our model says it's a dog (i.e., precision) and how many of the dogs in the picture set we found (i.e., recall).\n",
    "\n",
    "\n",
    "\n",
    "\n",
    "<div class=\"alert alert-block alert-info\">\n",
    "<b>Perspective:</b> In the cancer example above, your AUROC score might be very bad, simply because your False Positives might be high, as a result of minimizing False Negatives, but your AUPRC might be good, because you are maximizing precision!\n",
    "</div>"
   ]
  },
  {
   "cell_type": "markdown",
   "metadata": {
    "id": "KyyvpGZm790L"
   },
   "source": [
    "### When NOT to use Precision-Recall\n",
    "\n",
    "<div class=\"alert alert-block alert-danger\">\n",
    "<b>Majority Negative:</b> \n",
    "Notice that PR curve does not have TN in their equations, and this implies that PR curves are useful when there are minority positive samples and majority negative samples. But if it is the other way round, with minority negative samples, then PR curve will not tell you useful things.\n",
    "</div>"
   ]
  },
  {
   "cell_type": "markdown",
   "metadata": {
    "id": "jhE0OtmL790L"
   },
   "source": [
    "### Implementation of PR-Curve"
   ]
  },
  {
   "cell_type": "markdown",
   "metadata": {
    "id": "6jSuTcLA790M"
   },
   "source": [
    "## The Debate: AUROC vs AUPRC\n",
    "\n",
    "I just finished reading this discussion. They argue that PR AUC is better than ROC AUC on imbalanced dataset.\n",
    "\n",
    "For example, we have 10 samples in test dataset. 9 samples are positive and 1 is negative. We have a terrible model which predicts everything positive. Thus, we will have a metric that TP = 9, FP = 1, TN = 0, FN = 0.\n",
    "\n",
    "Then, Precision = 0.9, Recall = 1.0. The precision and recall are both very high, but we have a poor classifier.\n",
    "\n",
    "On the other hand, TPR = TP/(TP+FN) = 1.0, FPR = FP/(FP+TN) = 1.0. Because the FPR is very high, we can identify that this is not a good classifier.\n",
    "\n",
    "Clearly, ROC is better than PR on imbalanced datasets. Can somebody explain why PR is better?\n",
    "\n",
    "---\n",
    "\n",
    "Usually when I do imbalanced models, even balanced models, I look at PR for ALL my classes.\n",
    "\n",
    "In your example, yes, your positive class has P = 0.9 and R = 1.0. But what you should look at are ALL your classes. So for your negative class, your P = 0 and your R = 0. And you usually don't just look at PR scores individually. You want to look at F1-score (F1 macro or F1 micro, depending on your problem) that is a harmonic average of your PR scores for both class 1 and class 0. Your class 1 PR score is super good, but combine that with your class 0 PR score, your F1-score will be TERRIBLE, which is the correct conclusion for your scenario.\n",
    "\n",
    "TL,DR: Look at PR scores for ALL your classes, and combine them with a metric like F1-score to have a realistic conclusion about your model performance. The F1-score for your scenario will be TERRIBLE, which is the correct conclusion for your scenario."
   ]
  },
  {
   "cell_type": "markdown",
   "metadata": {
    "id": "LWtNRUWw790M"
   },
   "source": [
    "# **Metrics for Multi-Class-Label Classification**\n",
    "\n",
    "Most Metrics discussed in Binary Classification can be extended to Multi-Class Classification."
   ]
  },
  {
   "cell_type": "markdown",
   "metadata": {
    "id": "dCGItKBf790M"
   },
   "source": [
    "## Multi-Class ROC"
   ]
  },
  {
   "cell_type": "markdown",
   "metadata": {
    "id": "HXdcSLPS790M"
   },
   "source": [
    "### Intuition\n",
    "\n",
    "ROC is originally used for Binary Classification only, a natural extension to Multi-Class model is the \n",
    "In multi-class model, we can plot N number of AUC ROC Curves for N number classes using One vs ALL methodology. So for Example, If you have three classes named X, Y and Z, you will have one ROC for X classified against Y and Z, another ROC for Y classified against X and Z, and a third one of Z classified against Y and X.\n",
    "\n",
    "\n",
    "Firstly, you need to make use of the below code in [source](https://github.com/scikit-learn/scikit-learn/blob/0fb307bf3/sklearn/metrics/_ranking.py#L690) where we are using the concept of One-Vs-All (ovr) and first thing first, for all `y_true` labels, we need to `label_binarize` them. As we can see, we must pass in the `y_true` and `classes` in which if our classes are `[0,1,2,3,4,5]` then we need to specify in the `labels` argument of `roc_auc_curve`. If we do not specify, the `_encode` will help us as well, so it is up to one's preference if your labels order matter.\n",
    "\n",
    "```python\n",
    "else:\n",
    "    # ovr is same as multi-label\n",
    "    y_true_multilabel = label_binarize(y_true, classes=classes)\n",
    "    return _average_binary_score(_binary_roc_auc_score, y_true_multilabel,\n",
    "                                 y_score, average,\n",
    "                                 sample_weight=sample_weight)\n",
    "```"
   ]
  },
  {
   "cell_type": "markdown",
   "metadata": {
    "id": "uHl5mzpD790M"
   },
   "source": [
    "### Implementation of OVR Multi-Class ROC"
   ]
  },
  {
   "cell_type": "markdown",
   "metadata": {
    "id": "Djd555pr790M"
   },
   "source": [
    "#### Step 1: Problem Setup\n",
    "\n",
    "- Multi-Class: 3 classes of 0, 1 and 2. \n",
    "- Number of samples: 4 \n",
    "- Predictions: output using Softmax"
   ]
  },
  {
   "cell_type": "code",
   "execution_count": null,
   "metadata": {
    "id": "AJxQTw5p790M"
   },
   "outputs": [],
   "source": [
    "import scipy\n",
    "y_true_multiclass = np.asarray([0, 1, 2, 1])\n",
    "\n",
    "y_logit_multiclass = np.asarray(\n",
    "    [\n",
    "        [0.0802, 0.0347, 0.05],\n",
    "        [0.2640, -0.0701, 0.03],\n",
    "        [-0.0087, 0.0502, 0.0039],\n",
    "        [0.0496, 0.0059, 0.0123],\n",
    "    ]\n",
    ")\n",
    "\n",
    "y_pred_multiclass = scipy.special.softmax(y_logit_multiclass, axis=1)\n",
    "\n",
    "y_pred_multiclass = np.asarray(\n",
    "    [\n",
    "        [0.34, 0.33, 0.33],\n",
    "        [0.4, 0.29, 0.32], \n",
    "        [0.33, 0.35, 0.33], \n",
    "        [0.34, 0.33, 0.33]]\n",
    ")\n"
   ]
  },
  {
   "cell_type": "markdown",
   "metadata": {
    "id": "_Jvz73rh790M"
   },
   "source": [
    "#### Step 2: Binarize \n",
    "\n",
    "We need to binarize the `y_true_multiclass`.\n",
    "\n",
    "```python\n",
    "array([[1, 0, 0],\n",
    "       [0, 1, 0],\n",
    "       [0, 0, 1],\n",
    "       [0, 1, 0]])\n",
    "```\n",
    "\n",
    "where we need to interpret as follows:\n",
    "\n",
    "| Class 1 | Class 2 | Class 3 |\n",
    "| --      | --      | --      |\n",
    "| 1       | 0       | 0       |\n",
    "| 0       | 1       | 0       |\n",
    "| 0       | 0       | 1       |\n",
    "| 0       | 1       | 0       |\n",
    "\n",
    "where [1,0,0,0] (first column) represents the case where class 1 is the **positive class** and class 2 and 3 are considered the negative class (both are class 0). \n",
    "\n",
    "| Class 1 Preds | Class 2 Preds| Class 3 Preds |\n",
    "| --      | --      | --      |\n",
    "| 0.34       | 0.33       | 0.33       |\n",
    "| 0.4       | 0.29       | 0.32       |\n",
    "| 0.33       | 0.35       | 0.33       |\n",
    "| 0.34       | 0.33       | 0.33       |\n",
    "\n",
    "where [0.34, 0.4, 0.33, 0.34] (first column) represents the probability of class 1 being the positive class. And to avoid confusion, the second column [0.33, 0.29, 0.35, 0.33] represents the probability of class 2 being the positive class (class 1).\n",
    "\n",
    "---\n",
    "\n",
    "Note that I labelled the above as class 1, 2 and 3 but in our code it is class 0, 1 and 2. This does not affect the ultimate score but just note in case of confusion."
   ]
  },
  {
   "cell_type": "code",
   "execution_count": null,
   "metadata": {
    "id": "g6UZnMrV790M",
    "outputId": "5c19a361-6145-46b1-a6ff-920d91f6f8fc"
   },
   "outputs": [
    {
     "name": "stdout",
     "output_type": "stream",
     "text": [
      "[[1 0 0]\n",
      " [0 1 0]\n",
      " [0 0 1]\n",
      " [0 1 0]]\n"
     ]
    }
   ],
   "source": [
    "y_binarize=sklearn.preprocessing.label_binarize(y_true_multiclass, classes=[0,1,2])\n",
    "print(y_binarize)"
   ]
  },
  {
   "cell_type": "markdown",
   "metadata": {
    "id": "aAkHdLFK790M"
   },
   "source": [
    "#### Step 3: ROC score for each class\n",
    "\n",
    "At this step, we calculate the ROC score for each class. We have have 3 different scores, one for each class. That is to say, the first score is class 0 vs the rest, where we treated class 0 as the positive class."
   ]
  },
  {
   "cell_type": "code",
   "execution_count": null,
   "metadata": {
    "id": "8rMi0EQy790M",
    "outputId": "e1385ec7-4530-416f-ba98-e5be55265906"
   },
   "outputs": [
    {
     "name": "stdout",
     "output_type": "stream",
     "text": [
      "ROC score for class 0 is 0.5. \n",
      "Note we are considering class 0 as the positive class and treating other classes as negative class.\n",
      "\n",
      "ROC score for class 1 is 0.125. \n",
      "Note we are considering class 1 as the positive class and treating other classes as negative class.\n",
      "\n",
      "ROC score for class 2 is 0.6666666666666667. \n",
      "Note we are considering class 2 as the positive class and treating other classes as negative class.\n",
      "\n",
      "{0: array([0.        , 0.33333333, 0.66666667, 1.        ]), 1: array([0. , 0.5, 1. , 1. ]), 2: array([0.        , 0.66666667, 1.        ])}\n",
      "{0: array([0., 0., 1., 1.]), 1: array([0. , 0. , 0.5, 1. ]), 2: array([0., 1., 1.])}\n",
      "{0: array([1.4 , 0.4 , 0.34, 0.33]), 1: array([1.35, 0.35, 0.33, 0.29]), 2: array([1.33, 0.33, 0.32])}\n"
     ]
    }
   ],
   "source": [
    "num_classes = 3\n",
    "fpr_dict = dict()\n",
    "tpr_dict = dict()\n",
    "threshold_dict = dict()\n",
    "roc_auc_dict = dict()\n",
    "\n",
    "for label_num in range(num_classes):\n",
    "    y_true_for_curr_class = y_binarize[:, label_num]\n",
    "    y_pred_for_curr_class = y_pred_multiclass[:, label_num]\n",
    "    \n",
    "    # calculate fpr,tpr and thresholds across various decision thresholds; pos_label = 1 because one hot encode guarantees it\n",
    "    \n",
    "    fpr_dict[label_num], tpr_dict[label_num], threshold_dict[label_num] = sklearn.metrics.roc_curve(\n",
    "        y_true=y_true_for_curr_class, y_score=y_pred_for_curr_class, pos_label=1\n",
    "    )\n",
    "    roc_auc_dict[label_num] = sklearn.metrics.auc(fpr_dict[label_num], tpr_dict[label_num])\n",
    "    \n",
    "    print(f\"ROC score for class {label_num} is {roc_auc_dict[label_num]}. \\nNote we are considering class {label_num} as the positive class and treating other classes as negative class.\\n\")\n",
    "\n",
    "print(fpr_dict)\n",
    "print(tpr_dict)\n",
    "print(threshold_dict)"
   ]
  },
  {
   "cell_type": "code",
   "execution_count": null,
   "metadata": {
    "id": "k3m7Cvm6790M",
    "outputId": "aa5e56d1-69b7-452b-bee1-5bd836884c78"
   },
   "outputs": [
    {
     "data": {
      "image/png": "[encoded data removed]",
      "text/plain": [
       "<Figure size 432x288 with 1 Axes>"
      ]
     },
     "metadata": {},
     "output_type": "display_data"
    }
   ],
   "source": [
    "# plotting    \n",
    "plt.plot(fpr_dict[0], tpr_dict[0], linestyle='--',color='orange', label='Class 0 vs Rest')\n",
    "plt.plot(fpr_dict[1], tpr_dict[1], linestyle='--',color='green', label='Class 1 vs Rest')\n",
    "plt.plot(fpr_dict[2], tpr_dict[2], linestyle='--',color='blue', label='Class 2 vs Rest')\n",
    "\n",
    "plt.title('Multiclass ROC curve')\n",
    "plt.xlabel('False Positive Rate')\n",
    "plt.ylabel('True Positive rate')\n",
    "plt.legend(loc='best')\n",
    "plt.savefig('Multiclass ROC',dpi=300);    "
   ]
  },
  {
   "cell_type": "markdown",
   "metadata": {
    "id": "8Lm_GA4C790M"
   },
   "source": [
    "#### Step 4: One Vs Rest\n",
    "\n",
    "We will do a arithmetic mean over the scores we get. This concludes the OvR algorithm."
   ]
  },
  {
   "cell_type": "code",
   "execution_count": null,
   "metadata": {
    "id": "xuhJaxjT790M",
    "outputId": "13ce52cd-9a02-4f1b-d810-a4f41d2e14a9"
   },
   "outputs": [
    {
     "name": "stdout",
     "output_type": "stream",
     "text": [
      "0.4305555555555556\n"
     ]
    }
   ],
   "source": [
    "macro_average_roc_score = np.mean(list(roc_auc_dict.values()))\n",
    "print(macro_average_roc_score)"
   ]
  },
  {
   "cell_type": "markdown",
   "metadata": {
    "id": "Y5aECx1t790N"
   },
   "source": [
    "#### Step 5: Modularize"
   ]
  },
  {
   "cell_type": "code",
   "execution_count": null,
   "metadata": {
    "id": "fr0Aylv8790N"
   },
   "outputs": [],
   "source": [
    "# This code belows also WORKS for Binary class if you are using Softmax Predictions!\n",
    "# replicating from https://scikit-learn.org/stable/auto_examples/model_selection/plot_roc.html#multiclass-settings\n",
    "def multiclass_roc(y_true, y_logit, config):\n",
    "    label_dict = dict()\n",
    "    fpr = dict()\n",
    "    tpr = dict()\n",
    "    roc_auc = dict()\n",
    "    roc_scores = []\n",
    "    for label_num in range(len(config.class_list)):\n",
    "\n",
    "        # get y_true_multilabel binarized version for each loop (end of each epoch)\n",
    "        y_true_multiclass_array = sklearn.preprocessing.label_binarize(\n",
    "            y_true, classes=config.class_list\n",
    "        )\n",
    "\n",
    "        y_true_for_curr_class = y_true_multiclass_array[:, label_num]\n",
    "        y_pred_for_curr_class = y_logit[:, label_num]\n",
    "        # calculate fpr,tpr and thresholds across various decision thresholds\n",
    "        # pos_label = 1 because one hot encode guarantees it\n",
    "        fpr[label_num], tpr[label_num], _ = sklearn.metrics.roc_curve(\n",
    "            y_true=y_true_for_curr_class, y_score=y_pred_for_curr_class, pos_label=1\n",
    "        )\n",
    "        roc_auc[label_num] = sklearn.metrics.auc(fpr[label_num], tpr[label_num])\n",
    "        roc_scores.append(roc_auc[label_num])\n",
    "        # if binary class, the one hot encode will (n_samples,1) and therefore will only need to slice [:,0] ONLY.\n",
    "        # that is why usually for binary class, we do not need to use this piece of code, just for testing purposes.\n",
    "        # However, it will now treat our 0 (negative class) as positive, hence returning the roc for 0, in which case\n",
    "        # to get both 0 and 1, you just need to use 1-roc(0)value\n",
    "        if config.num_classes == 2:\n",
    "            roc_auc[config.class_list[1]] = 1 - roc_auc[label_num]\n",
    "            break\n",
    "    avg_roc_score = np.mean(roc_scores)\n",
    "    return roc_auc, avg_roc_score"
   ]
  },
  {
   "cell_type": "markdown",
   "metadata": {
    "id": "AGUw370A790O"
   },
   "source": [
    "## Multi-Label ROC\n",
    "\n",
    "Incidentally, the way we compute OVR Multi-Class ROC can be used in Multi-Label ROC as well."
   ]
  },
  {
   "cell_type": "markdown",
   "metadata": {
    "id": "WdtmSlNS790O"
   },
   "source": [
    "# Quadratic Weighted Kappa\n",
    "\n",
    "The below explanation will correspond to my [notebook during the PANDAS competition](https://www.kaggle.com/reighns/understanding-the-quadratic-weighted-kappa/)."
   ]
  },
  {
   "cell_type": "markdown",
   "metadata": {
    "id": "MSVZt1Ff790P"
   },
   "source": [
    " ## Table of Contents\n",
    "1. [Intuition of QWK](#intuition)\n",
    "2. [Step 1: Create the NxN histogram matrix O](#confusion) <br>\n",
    "3. [Step 2: Create the Weighted Matrix w](#weighted)<br>\n",
    "4. [Step 3: Create the Expected Matrix](#expected) <br>\n",
    "5. [Step 4: Final Step: Weighted Kappa formula and Its python codes](#qwk) \n",
    "\n",
    "    "
   ]
  },
  {
   "cell_type": "markdown",
   "metadata": {
    "id": "uz0jlUI6790P"
   },
   "source": [
    "## **Intuition of QWK** <a id=\"intuition\"></a> <a id=\"intuition\"></a>\n",
    "\n",
    "TLDR: one can skip to the last section on the python code implementation of QWK and also take reference to [CPMP's Fast QWK Computation](https://www.kaggle.com/c/prostate-cancer-grade-assessment/discussion/145105) as well.\n",
    "\n",
    "Kappa or Cohen’s Kappa is like classification accuracy, except that it is normalized at the baseline of random chance on your dataset: It basically tells you how much better your classifier is performing over the performance of a classifier that simply guesses at random according to the frequency of each class."
   ]
  },
  {
   "cell_type": "markdown",
   "metadata": {
    "id": "dYTGJkcC790P"
   },
   "source": [
    "First off, we define the formula exactly as mentioned. Quoting from the evaluation page: **Submissions are scored based on the quadratic weighted kappa, which measures the agreement between two outcomes. This metric typically varies from 0 (random agreement) to 1 (complete agreement). In the event that there is less agreement than expected by chance, the metric may go below 0.** \n",
    "\n",
    "**The quadratic weighted kappa is calculated as follows. First, an N x N histogram matrix O is constructed, such that $O_{i,j}$ corresponds to the number of `isup_grade`'s i (actual) that received a predicted value j. An N-by-N matrix of weights, w, is calculated based on the difference between actual and predicted values:**\n",
    "\n",
    "$$w_{i,j} = \\dfrac{(i-j)^2}{(N-1)^2}$$\n",
    "\n",
    "<br>\n",
    "\n",
    "**An N-by-N histogram matrix of expected outcomes, E, is calculated assuming that there is** ***no correlation*** **between values.This is calculated as the outer product between the actual histogram vector of outcomes and the predicted histogram vector, normalized such that E and O have the same sum. **\n",
    "\n",
    "<br>\n",
    "\n",
    "Finally, from these three matrices, the quadratic weighted kappa is calculated as:\n",
    "\n",
    "\n",
    "$$\\kappa = 1 - \\dfrac{\\sum_{i,j}\\text{w}_{i,j}O_{i,j}}{\\sum_{i,j}\\text{w}_{i,j}E_{i,j}}$$\n",
    "\n",
    "where $w$ is the weighted matrix, $O$ is the histogram matrix and $E$ being the expected matrix."
   ]
  },
  {
   "cell_type": "markdown",
   "metadata": {
    "id": "FIJS0fy_790P"
   },
   "source": [
    "## **Step 1: Create the NxN histogram matrix O** <a id=\"confusion\"></a>"
   ]
  },
  {
   "cell_type": "markdown",
   "metadata": {
    "id": "PjPHlids790P"
   },
   "source": [
    "***Warning: This is a counter example to the wrong usage of Quadratic Weighted Kappa. We shall see why soon.***\n",
    "\n",
    "***Warning: This is a counter example to the wrong usage of Quadratic Weighted Kappa. We shall see why soon.***\n",
    "\n",
    "***Warning: This is a counter example to the wrong usage of Quadratic Weighted Kappa. We shall see why soon.***\n",
    "\n",
    "<br>\n",
    "\n",
    "***Reminder: Although it is a counter example, it still illustrates what a NxN histogram matrix is! We will now call our histogram matrix C instead because in actual fact, the histogram matrix is merely a multi class confusion matrix between actual and predicted values***"
   ]
  },
  {
   "cell_type": "markdown",
   "metadata": {
    "id": "f15mIIMU790P"
   },
   "source": [
    "We use a naive example where there are 5 classes (note our competition is_up grade has 6 classes; but this is just an example. Our `y_true` is the ground truth labels and correspondingly, our `y_pred` is the predicted values."
   ]
  },
  {
   "cell_type": "code",
   "execution_count": null,
   "metadata": {
    "ExecuteTime": {
     "end_time": "2020-04-22T04:15:51.378798Z",
     "start_time": "2020-04-22T04:15:51.372814Z"
    },
    "id": "fy8yfzVu790P",
    "outputId": "0dd19b84-5fec-42f5-8fef-32abbf21db89"
   },
   "outputs": [
    {
     "name": "stdout",
     "output_type": "stream",
     "text": [
      "Ground truth:\n",
      "0    cat\n",
      "1    cat\n",
      "2    dog\n",
      "3    cat\n",
      "4    cat\n",
      "5    cat\n",
      "6    pig\n",
      "7    pig\n",
      "8    hen\n",
      "9    pig\n",
      "Name: Actual, dtype: object\n",
      "----------------------------------------\n",
      "Predicted Values:\n",
      "0    bird\n",
      "1     hen\n",
      "2     pig\n",
      "3    bird\n",
      "4    bird\n",
      "5    bird\n",
      "6     pig\n",
      "7     pig\n",
      "8     hen\n",
      "9     pig\n",
      "Name: Predicted, dtype: object\n"
     ]
    }
   ],
   "source": [
    "y_true = pd.Series(['cat',  'cat', 'dog', 'cat',   'cat',  'cat', 'pig',  'pig', 'hen', 'pig'], name = 'Actual')\n",
    "y_pred   = pd.Series(['bird', 'hen', 'pig','bird',  'bird', 'bird', 'pig', 'pig', 'hen', 'pig'], name = 'Predicted')\n",
    "\n",
    "print(\"Ground truth:\\n{}\".format(y_true))\n",
    "print(\"-\"*40)\n",
    "print(\"Predicted Values:\\n{}\".format(y_pred))"
   ]
  },
  {
   "cell_type": "markdown",
   "metadata": {
    "id": "r3tdBh9M790P"
   },
   "source": [
    "First, an N x N confusion matrix **C** is constructed, such that $\\text{C}_{i,j}$ is the entry that corresponds to the **number of animal i (actual) that received a predicted value j**. "
   ]
  },
  {
   "cell_type": "code",
   "execution_count": null,
   "metadata": {
    "ExecuteTime": {
     "end_time": "2020-04-22T04:17:36.46162Z",
     "start_time": "2020-04-22T04:17:36.288531Z"
    },
    "id": "h2OmdcWj790P",
    "outputId": "dd87d854-5ee0-4803-e862-096bd5e79318"
   },
   "outputs": [
    {
     "data": {
      "text/plain": [
       "<Figure size 432x288 with 0 Axes>"
      ]
     },
     "execution_count": 49,
     "metadata": {},
     "output_type": "execute_result"
    },
    {
     "name": "stdout",
     "output_type": "stream",
     "text": [
      "Confusion matrix, without normalization\n"
     ]
    },
    {
     "data": {
      "image/png": "[encoded data removed]",
      "text/plain": [
       "<Figure size 432x288 with 2 Axes>"
      ]
     },
     "metadata": {},
     "output_type": "display_data"
    }
   ],
   "source": [
    "classes= ['bird','cat','dog','hen', 'pig']\n",
    "\n",
    "# thank you https://datascience.stackexchange.com/questions/40067/confusion-matrix-three-classes-python \n",
    "def plot_confusion_matrix(cm, classes,\n",
    "                          normalize=False,\n",
    "                          title='Confusion matrix',\n",
    "                          cmap=plt.cm.Blues):\n",
    "    \"\"\"\n",
    "    This function prints and plots the confusion matrix.\n",
    "    Normalization can be applied by setting `normalize=True`.\n",
    "    \"\"\"\n",
    "    \n",
    "    if normalize:\n",
    "        cm = cm.astype('float') / cm.sum(axis=1)[:, np.newaxis]\n",
    "        print(\"Normalized confusion matrix\")\n",
    "    else:\n",
    "        print('Confusion matrix, without normalization')\n",
    "\n",
    "    plt.imshow(cm, interpolation='nearest', cmap=cmap)\n",
    "    plt.title(title)\n",
    "    plt.colorbar()\n",
    "    tick_marks = np.arange(len(classes))\n",
    "    plt.xticks(tick_marks, classes, rotation=45)\n",
    "    plt.yticks(tick_marks, classes)\n",
    "\n",
    "    fmt = '.2f' if normalize else 'd'\n",
    "    thresh = cm.max() / 2.\n",
    "    for i, j in itertools.product(range(cm.shape[0]), range(cm.shape[1])):\n",
    "        plt.text(j, i, format(cm[i, j], fmt),\n",
    "                 horizontalalignment=\"center\",\n",
    "                 color=\"white\" if cm[i, j] > thresh else \"black\")\n",
    "\n",
    "    plt.ylabel('True label')\n",
    "    plt.xlabel('Predicted label')\n",
    "    plt.tight_layout()\n",
    "    \n",
    "cnf_matrix = confusion_matrix(y_true, y_pred,labels=['bird','cat','dog','hen', 'pig'],)\n",
    "np.set_printoptions(precision=2)\n",
    "\n",
    "# Plot non-normalized confusion matrix\n",
    "plt.figure()\n",
    "plot_confusion_matrix(cnf_matrix, classes=['bird','cat','dog','hen', 'pig'],\n",
    "                      title='Confusion matrix C, without normalization')"
   ]
  },
  {
   "cell_type": "markdown",
   "metadata": {
    "id": "dBqEYazo790P"
   },
   "source": [
    "### Example using our competition's dataset"
   ]
  },
  {
   "cell_type": "markdown",
   "metadata": {
    "id": "1QIS0qVR790P"
   },
   "source": [
    "The above matrix is a **multi class confusion matrix**. As an example, for the 2nd row, we predicted 4 cats to be birds, and 1 cat to be predicted as hen. More compactly, it can be represented as the matrix $C_{2,1}$ = 4."
   ]
  },
  {
   "cell_type": "markdown",
   "metadata": {
    "id": "zH6Wk7Ba790P"
   },
   "source": [
    "We can easily reconcile our example above to relate back to our competition: **After the biopsy is assigned a Gleason score, it is converted into an ISUP grade on a 1-5 scale**. For now, I will include the label **0** because it is the background/non-tissue. \n",
    "\n",
    "What I do next is to take the ground truth and call it `y_true` which is a series. I then generate a dummy `y_pred` by using `np.random.choice` and randomly generate numbers from 0 to 5."
   ]
  },
  {
   "cell_type": "code",
   "execution_count": null,
   "metadata": {
    "ExecuteTime": {
     "end_time": "2020-04-22T04:43:40.584317Z",
     "start_time": "2020-04-22T04:43:40.566357Z"
    },
    "id": "8tsvJ7WD790P",
    "outputId": "87f9b287-c2cf-477e-9bbc-ae00c1979ec1"
   },
   "outputs": [
    {
     "data": {
      "text/plain": [
       "0        0\n",
       "1        0\n",
       "2        4\n",
       "3        4\n",
       "4        0\n",
       "        ..\n",
       "10611    0\n",
       "10612    5\n",
       "10613    0\n",
       "10614    2\n",
       "10615    4\n",
       "Name: isup_grade, Length: 10616, dtype: int64"
      ]
     },
     "execution_count": 50,
     "metadata": {},
     "output_type": "execute_result"
    },
    {
     "data": {
      "text/plain": [
       "0        2\n",
       "1        2\n",
       "2        4\n",
       "3        1\n",
       "4        5\n",
       "        ..\n",
       "10611    2\n",
       "10612    2\n",
       "10613    1\n",
       "10614    5\n",
       "10615    1\n",
       "Length: 10616, dtype: int32"
      ]
     },
     "execution_count": 50,
     "metadata": {},
     "output_type": "execute_result"
    }
   ],
   "source": [
    "train = pd.read_csv(\"../data/datasets/prostate-cancer-grade-assessment-train.csv\")\n",
    "y_true = train.isup_grade\n",
    "y_true\n",
    "\n",
    "y_pred = np.random.choice(6, 10616, replace=True)\n",
    "y_pred = pd.Series(y_pred)\n",
    "y_pred"
   ]
  },
  {
   "cell_type": "markdown",
   "metadata": {
    "id": "-HOetye5790P"
   },
   "source": [
    "The following confusion matrix, is what we mean by the \"N by N\" (6 by 6) **histogram matrix**. "
   ]
  },
  {
   "cell_type": "code",
   "execution_count": null,
   "metadata": {
    "ExecuteTime": {
     "end_time": "2020-04-22T04:43:43.243947Z",
     "start_time": "2020-04-22T04:43:42.998584Z"
    },
    "id": "wYeGvbpy790Q",
    "outputId": "5f87cc27-81d3-4dc8-f70e-f022f314bd3b"
   },
   "outputs": [
    {
     "name": "stdout",
     "output_type": "stream",
     "text": [
      "Confusion matrix, without normalization\n"
     ]
    },
    {
     "data": {
      "image/png": "[encoded data removed]",
      "text/plain": [
       "<Figure size 432x288 with 2 Axes>"
      ]
     },
     "metadata": {},
     "output_type": "display_data"
    }
   ],
   "source": [
    "cm = confusion_matrix(y_true, y_pred,labels=[0,1,2,3,4,5],)\n",
    "plot_confusion_matrix(cm, classes=[0,1,2,3,4,5],\n",
    "                      title='Confusion matrix C, without normalization')"
   ]
  },
  {
   "cell_type": "markdown",
   "metadata": {
    "id": "OqG7n5VM790Q"
   },
   "source": [
    "***So far we have settled the first portion, construction the histogram matrix.***"
   ]
  },
  {
   "cell_type": "markdown",
   "metadata": {
    "id": "--svinek790Q"
   },
   "source": [
    "## **Step 2: Create the Weighted Matrix w** <a id =\"weighted\"></a>"
   ]
  },
  {
   "cell_type": "markdown",
   "metadata": {
    "id": "0Zq9JwnI790Q"
   },
   "source": [
    "An N-by-N matrix of weights, w, is calculated based on the difference between actual and predicted rating scores. The formula is as follows:  $$w_{i,j} = \\dfrac{(i-j)^2}{(N-1)^2}$$\n",
    "\n",
    "\n",
    "Under Step-2, each element is weighted. Predictions that are further away from actuals are marked harshly than predictions that are closer to actuals. However, I suddenly realized that these animals above have no obvious hierarchy in them. Therefore, it is not correct to say that predicting a cat as a bird is any better/worse off than predicting a cat as hen.\n",
    "\n",
    "**Consequently, this is a realization. Because now I start to understand why certain competitions use metrics like quadratic weighted kappa!** Consider the same example as animals just now, but instead of animals, we change to **isup_grade**). So there is an inherent order within the **isup_grade** 0 - 5 such that 0 and 1 is closer than 0 and 2, 1 and 2 is closer to 1 and 3 etc. $$0 > 1 > 2 > 3 > 4 > 5$$\n",
    "\n",
    "<br>\n",
    "\n",
    "For example, let's use a simplified example:\n",
    "\n",
    "    y_true = [2,2,2,1,2,3,4,5,0,1]\n",
    "    y_pred = [1,2,4,1,2,3,4,5,0,1]\n",
    "    \n",
    "As a result, our purpose of the weighted matrix is to allocate a higher penalty score if our prediction is further away from the actual value. That is, if our **isup_grade** is 2 but we predicted it as 1 (see the example), then based on our formula above, we have i = 2 and j = 1 (entry $C_{2,1}$), the penalty is $$\\dfrac{(2-1)^2}{(5-1)^2}  = 0.0625$$ but if our **isup_grade** is 2 and we predicted it as 4 (see the example), then the penalty involved is higher $$\\dfrac{(2-4)^2}{(5-1)^2} = 0.25$$\n",
    "\n",
    "Indeed, the weight matrix helped us assign a heavier penalty to predicting 2 as 4 than 2 as 1.\n",
    "\n",
    "***Lastly, we also observe that the formula will give us 0 for the diagonals of the weighted matrix. This means penalty is 0 whenever we correctly predict something.***"
   ]
  },
  {
   "cell_type": "markdown",
   "metadata": {
    "id": "lGaEYso2790Q"
   },
   "source": [
    "To calculate weighted matrix in python code, here is the code with reference to [Aman Arora](https://www.kaggle.com/aroraaman/quadratic-kappa-metric-explained-in-5-simple-steps)."
   ]
  },
  {
   "cell_type": "code",
   "execution_count": null,
   "metadata": {
    "ExecuteTime": {
     "end_time": "2020-04-22T05:08:16.156024Z",
     "start_time": "2020-04-22T05:08:16.152037Z"
    },
    "id": "6VzUganj790Q",
    "outputId": "8971d3f0-cb7b-405c-ee4a-9418a3af523d"
   },
   "outputs": [
    {
     "name": "stdout",
     "output_type": "stream",
     "text": [
      "[[0.   0.06 0.25 0.56 1.  ]\n",
      " [0.06 0.   0.06 0.25 0.56]\n",
      " [0.25 0.06 0.   0.06 0.25]\n",
      " [0.56 0.25 0.06 0.   0.06]\n",
      " [1.   0.56 0.25 0.06 0.  ]]\n"
     ]
    }
   ],
   "source": [
    "# We construct the weighted matrix starting from a zero matrix, it is like constructing a \n",
    "# list, we usually start from an empty list and add things inside using loops.\n",
    "\n",
    "def weighted_matrix(N):\n",
    "    weighted = np.zeros((N,N)) \n",
    "    for i in range(len(weighted)):\n",
    "        for j in range(len(weighted)):\n",
    "            weighted[i][j] = float(((i-j)**2)/(N-1)**2) \n",
    "    return weighted\n",
    "        \n",
    "print(weighted_matrix(5))"
   ]
  },
  {
   "cell_type": "markdown",
   "metadata": {
    "id": "s9Z0yYEV790Q"
   },
   "source": [
    "***Remember, the further away from the diagonal you get, the worse off is your prediction and it will be penalized harder by a bigger weight.***  As you can easily infer from the weighted matrix above, we use the first row as an example in case one did not understand. Basically, the weighted matrix's first row's first element is 0, because it means we predicted correctly and no penalty is meted out; but as we move further to the left, you can see that the punishment gets harsher and harsher: $$0 < 0.06 < 0.25 < 0.56 < 1$$"
   ]
  },
  {
   "cell_type": "markdown",
   "metadata": {
    "id": "1SPX3QaS790Q"
   },
   "source": [
    "## **Step 3: Create the Expected Matrix** <a id =\"expected\"></a>"
   ]
  },
  {
   "cell_type": "code",
   "execution_count": null,
   "metadata": {
    "ExecuteTime": {
     "end_time": "2020-04-21T17:19:43.669296Z",
     "start_time": "2020-04-21T17:19:43.664309Z"
    },
    "id": "BS8yYl7b790Q",
    "outputId": "b37957e5-1d2e-4711-bef9-4af5cdf4fc7f"
   },
   "outputs": [
    {
     "name": "stdout",
     "output_type": "stream",
     "text": [
      "Actuals value counts:[0. 3. 1. 1. 5.], \n",
      "Prediction value counts:[4. 4. 2. 0. 0.]\n"
     ]
    }
   ],
   "source": [
    "## dummy example \n",
    "actual = pd.Series([2,2,2,3,4,5,5,5,5,5]) \n",
    "pred   = pd.Series([2,2,2,3,2,1,1,1,1,3]) \n",
    "C = confusion_matrix(actual, pred)\n",
    "\n",
    "N=5\n",
    "act_hist=np.zeros([N])\n",
    "for item in actual: \n",
    "    act_hist[item - 1]+=1\n",
    "    \n",
    "pred_hist=np.zeros([N])\n",
    "for item in pred: \n",
    "    pred_hist[item - 1]+=1\n",
    "    \n",
    "\n",
    "print(f'Actuals value counts:{act_hist}, \\nPrediction value counts:{pred_hist}')"
   ]
  },
  {
   "cell_type": "markdown",
   "metadata": {
    "id": "1fPWfOy_790Q"
   },
   "source": [
    "This part is the most difficult to understand, especially for someone who has little statistic backgrounds (mind you when I was majoring in applied math back then, I only took **one** statistic module in my whole tenure.) Googling the idea of expected matrix is not apparently clear to me, but luckily someone pointed to me to read expected frequency of Chi-Square test and then and, there I start to slowly understand.\n",
    "\n",
    "For the purpose of better understanding, we call our actual values to be rater A and our prediction model to be rater B. We want to quantify the agreement between rater A and rater B. Here are some terminologies to get hold of first.\n",
    "\n",
    "- There are a total number of $k = 5$ classes in this example;\n",
    "- There are a total number of $n = 10$ observations in this example;\n",
    "- Define Y to be the random variable that rater A has chosen (aka our actual classes 1,2,3,4,5);\n",
    "- and $\\widehat{Y}$ be the random variable that rater $B$ has chosen (aka our predicted classes 1,2,3,4,5 by rater B)\n",
    "- $r_i$ be the i-th entry of the column vector for actual value counts shown above, $c_i$ be the i-th entry of the column vector for prediction value counts shown above.\n",
    "<br>\n",
    "\n",
    "Then the probability of rater A choosing class 2 and rater B choosing class 2 for example, is given by $$P(Y = 2 \\text{ and } \\widehat{Y} = 2)  = P(Y = 2) \\cdot P(\\widehat{Y} = 2) = 30\\% \\times 40\\%  = 12\\%$$\n",
    "\n",
    "This is under the assumption that both raters are **independent of each other**. Note that $P(Y = 2) = 30\\%$ because as we see from the actual value counts of rater $A$, there are a total of 3 class 2's and therefore the probability of Y being 2 is just the proportion. Similarly, we calculate $\\widehat{Y}$ the same way.\n",
    "\n",
    "In general, the formula of rater A choosing class i and rater B choosing (predicting) class j is given as follows: $$P(Y = i \\text{ and }  \\widehat{Y} = j) =  P(Y = i) \\times P (\\widehat{Y} = j)$$\n",
    "\n",
    "<br>\n",
    "\n",
    "\n",
    "Now the real question comes: On average, if you have $n$ number of points to predict, how many times (what is the frequency) would you **expect** to see rater A choose class i and rater B choose class j.\n",
    "\n",
    "To reiterate, recall that the probability of the actual class being 1 **and (super important word here, it means a joint distribution)** and the predicted class to be 1 as well is $P(Y = 1 \\text{ and }  \\widehat{Y} = 1)$, similarly, the probability of the actual class being 1 and the predicted class to be 2 is $P(Y = 1 \\text{ and }  \\widehat{Y} = 2)$. Generalizing, the probability of the actual class being $i$ and the predicted class being $j$ is the joint probability $$P(Y = i \\text{ and }  \\widehat{Y} = j)$$\n",
    "\n",
    "So the intuition lies here: based on the joint probability above, what is the expected number of times (frequency) that $Y = i$ and $\\widehat{Y} = j$ happened (this means Y is i but rater B predict $\\widehat{Y}$ as j) out of 10 times? Easy, just use $n \\times P(Y = i \\text{ and }  \\widehat{Y} = j)$. So for rater B, our prediction model, **by just using theoretical probability**, should have $n \\times P(Y = i \\text{ and }  \\widehat{Y} = j)$ for each $i,j$. But in reality, this may not be the case. Reconcile this idea with the classic coin toss example:\n",
    "\n",
    "- **Example on coin toss:** Expected frequency is defined as the number of times that we predict an event will occur based on a calculation using theoretical probabilities. You know how a coin has two sides, heads or tails? That means that the probability of the coin landing on any one side is 50% (or 1/2, because it can land on one side out of two possible sides). If you flip a coin 1,000 times, how many times would you expect to get heads? About half the time, or 500 out of the 1,000 flips. To calculate the expected frequency, all we need to do is multiply the total number of tosses (1,000) by the probability of getting a heads (1/2), and we get 1,000 * 1/2 = 500 heads. if event A has prob of p happening, and sample size of n, then the average or expected number of times that A happens is $np$. The expected frequency of heads is 500 out of 1,000 total tosses. The expected frequency is based on our knowledge of probability - we haven't actually done any coin tossing. However, if we had enough time on our hands, we could actually flip a coin 1,000 times to experimentally test our prediction. If we did this, we would be calculating the experimental frequency. The experimental frequency is defined as the number of times that we observe an event to occur when we actually perform an experiment, test, or trial in real life. If you flipped a coin 1,000 times and it landed on heads 479 times, then the experimental frequency of heads is 479.\n",
    "\n",
    "    But wait - didn't we predict the coin would land on heads 500 times? Why did it actually land on heads only 479 times? Well, the expected frequency was just that - what we expected to happen, based on our knowledge of probability. There are no guarantees when it comes to probability, what we expect to happen might differ from what actually happens. \n",
    "\n",
    "<br>\n",
    "\n",
    "Since we know $$E_{2,2} = 10 \\times P(Y = 2 \\text{ and } \\widehat{Y} = 2)  = 10 \\times P(Y = 2) \\cdot P(\\widehat{Y} = 2) = 10 \\times 30\\% \\times 40\\%  = 1.2$$\n",
    "\n",
    "This $E_{2,2}$ means that we only expect the rater A to choose 2 and rater B to choose 2 at the same time only 1.2 times out of 10 times. In other words, our predicted model classify 2 as 2 1.2 times. However, from our observations in our matrix C (confusion/histogram matrix), rater A choosing 2 and rater B choosing 2 have a frequency of 3! In other words, our predicted model classified 2 as 2 three times! So we kinda exceeded expectation for this particular configuration.\n",
    "\n",
    "$$C = \\begin{bmatrix}\n",
    "0 & 0 & 0 & 0 & 0\\\\\n",
    "0 & 3 & 0 & 0 & 0 \\\\\n",
    "0 & 0 & 1 & 0 & 0\\\\\n",
    "0 & 1 & 0 & 0 & 0\\\\\n",
    "4 & 0 & 1 & 0 & 0\\\\\n",
    "\\end{bmatrix}$$\n",
    "\n",
    "Let me give you one more example, $$E_{5,2} = 10 \\times P(Y = 5 \\text{ and } \\widehat{Y} = 2) = 10 \\times P(Y = 5) \\cdot P(\\widehat{Y} = 2) = 10 \\times 50\\% \\times 40\\%  = 2$$\n",
    "\n",
    "This means that we only expect the rater A to choose 5 and rater B to choose 2 at the same time only 2 times out of 10 times! But in reality, our observations say that our rater B classified 5 as 2 zero times! \n",
    "\n",
    "\n",
    "We calculate $E_{i,j}$ given by the formula: $$E_{i,j} = n \\times P(Y = i \\text{ and }  \\widehat{Y} = j) = n \\times P(Y = i) \\times P (\\widehat{Y} = j) = n \\times \\dfrac{r_i}{n} \\times \\dfrac{c_j}{n}$$\n",
    "\n",
    "$$E = \\begin{bmatrix}\n",
    "0 & 0 & 0 & 0 & 0\\\\\n",
    "1.2 & 1.2 & 0.6 & 0 & 0 \\\\\n",
    "0.4 & 0.4 & 0.2 & 0 & 0\\\\\n",
    "0.4 & 0.4 & 0.2 & 0 & 0\\\\\n",
    "2 & 2 & 1 & 0 & 0\\\\\n",
    "\\end{bmatrix}$$\n",
    "\n",
    "Note $r_i \\times c_j$ is the $(i,j)$ entry of the outer product between the actual histogram vector of outcomes (actual value counts) and the predicted histogram vector (prediction value counts)."
   ]
  },
  {
   "cell_type": "markdown",
   "metadata": {
    "id": "jIixzJjd790Q"
   },
   "source": [
    "What does the random chance mean here? Simple, it just means that the probability for rater A (actual) to be class i AND for rater B (predicted) to be class j is $p\\%$ (say 10%). Therefore, if we have made 100 predictions, random chance aka the theoratical probability tells us you should only have $100 \\times 10\\% = 10$ predictions to be of this configuration (rater A class i AND rater B class j)."
   ]
  },
  {
   "cell_type": "markdown",
   "metadata": {
    "id": "6o97pIGq790Q"
   },
   "source": [
    "#### Writing out the expected matrix in python\n",
    "\n",
    "So to get the expected matrix, E, is calculated assuming that there is no correlation between values.  This is calculated as the outer product between the actual histogram vector of outcomes and the predicted histogram vector, normalized such that E and C have the same sum. Note carefully below that we do not need to normalize both, we just need to normalize E to the same sum as C."
   ]
  },
  {
   "cell_type": "code",
   "execution_count": null,
   "metadata": {
    "ExecuteTime": {
     "end_time": "2020-04-21T17:19:43.752074Z",
     "start_time": "2020-04-21T17:19:43.74609Z"
    },
    "id": "ilkn3JJ_790Q",
    "outputId": "2f4cfdec-a0d1-4962-d262-8349f7272de9"
   },
   "outputs": [
    {
     "data": {
      "text/plain": [
       "array([[0. , 0. , 0. , 0. , 0. ],\n",
       "       [1.2, 1.2, 0.6, 0. , 0. ],\n",
       "       [0.4, 0.4, 0.2, 0. , 0. ],\n",
       "       [0.4, 0.4, 0.2, 0. , 0. ],\n",
       "       [2. , 2. , 1. , 0. , 0. ]])"
      ]
     },
     "execution_count": 54,
     "metadata": {},
     "output_type": "execute_result"
    },
    {
     "data": {
      "text/plain": [
       "array([[0, 0, 0, 0, 0],\n",
       "       [0, 3, 0, 0, 0],\n",
       "       [0, 0, 1, 0, 0],\n",
       "       [0, 1, 0, 0, 0],\n",
       "       [4, 0, 1, 0, 0]], dtype=int64)"
      ]
     },
     "execution_count": 54,
     "metadata": {},
     "output_type": "execute_result"
    }
   ],
   "source": [
    "E = np.outer(act_hist, pred_hist)/10\n",
    "\n",
    "\n",
    "E\n",
    "C"
   ]
  },
  {
   "cell_type": "markdown",
   "metadata": {
    "id": "CmmQBdQG790Q"
   },
   "source": [
    "## **Step 4: Final Step: Weighted Kappa formula and Its python codes** <a id=\"qwk\"></a>\n",
    " \n",
    "From these three matrices: E, C and weighted, the quadratic weighted kappa is calculated as: \n",
    "\n",
    "$$\\kappa = 1 - \\dfrac{\\sum_{i,j}\\text{weighted}_{i,j}C_{i,j}}{\\sum_{i,j}\\text{weighted}_{i,j}E_{i,j}}$$\n",
    "\n",
    "Note that a higher value generally means your prediction model is way better than a random model, but there is no consensus on which value is really good or bad."
   ]
  },
  {
   "cell_type": "markdown",
   "metadata": {
    "id": "vf2koDPe790Q"
   },
   "source": [
    "$$\\text{Weighted} = \\begin{bmatrix}\n",
    "0 & 0.0625 & 0.25 & 0.5625 & 1\\\\\n",
    "0.0625 & 0 & 0.0625 & 0.25 & 0.5625 \\\\\n",
    "0.25 & 0.0625 & 0 & 0.0625 & 0.25\\\\\n",
    "0.5625 & 0.25 & 0.0625 & 0 & 0.0625\\\\\n",
    "1 & 0.5625 & 0.25 & 0.0625 & 0\\\\\n",
    "\\end{bmatrix}$$"
   ]
  },
  {
   "cell_type": "markdown",
   "metadata": {
    "id": "VuR7P_K_790Q"
   },
   "source": [
    "The notation $\\sum_{i,j}\\text{W}_{i,j}C_{i,j}$ is just $$\\sum_{i=1}^{k}\\sum_{j=1}^{k} W_{i,j} C_{i,j} = (W_{1,1}C_{1,1} + W_{1,2}C_{1,2} + ...+ W_{1,k}C_{1,k}) + (W_{2,1}C_{2,1}+...+W_{2,k}C_{2,k}) +...+(W_{k,1}C_{k,1}+...+W_{k,k}C_{k,k})$$\n",
    "\n",
    "To put our understanding into perspective, consider just one entry $W_{5,1}C_{5,1} = 1 \\times 4 = 4$. This roughly means that our predicted model classified class 5 as class 1 FOUR times (re: $C_{5,1} = 4$), and since class 5 is so far away from class 1, we need to **punish** this wrong prediction more than the others. And we did see that the corresponding weight $W_{5,1} = 1$ is the highest weight.\n",
    "\n",
    "Consequently, the numerator being $\\sum_{i,j}\\text{W}_{i,j}C_{i,j}$ calculates the total \"penalty cost\" for the rater A (our predicted model), and similarly, $\\sum_{i,j}\\text{W}_{i,j}E_{i,j}$ calculates the total \"penalty cost\" for the rater B (our \"expected\" model). Therefore, you can think both values (num and den) as a cost function, and the lesser the better. And kappa formula tells us, if our $\\sum_{i,j}\\text{W}_{i,j}C_{i,j}$ is significantly smaller than $\\sum_{i,j}\\text{W}_{i,j}E_{i,j}$, this will yield a very small value of $$\\dfrac{\\sum_{i,j}\\text{weighted}_{i,j}C_{i,j}}{\\sum_{i,j}\\text{weighted}_{i,j}E_{i,j}}$$ which will yield a very high kappa value - signifying a better model."
   ]
  },
  {
   "cell_type": "code",
   "execution_count": null,
   "metadata": {
    "ExecuteTime": {
     "end_time": "2020-04-21T17:19:43.798949Z",
     "start_time": "2020-04-21T17:19:43.793962Z"
    },
    "id": "BBGm6L2F790R",
    "outputId": "7f578518-4c13-40d6-e616-60e49599ebe9"
   },
   "outputs": [
    {
     "data": {
      "text/plain": [
       "-0.13924050632911378"
      ]
     },
     "execution_count": 55,
     "metadata": {},
     "output_type": "execute_result"
    }
   ],
   "source": [
    "# Method 1\n",
    "# apply the weights to the confusion matrix\n",
    "weighted = weighted_matrix(5)\n",
    "num = np.sum(np.multiply(weighted, C))\n",
    "# apply the weights to the histograms\n",
    "den = np.sum(np.multiply(weighted, E))\n",
    "\n",
    "kappa = 1-np.divide(num,den)\n",
    "kappa"
   ]
  },
  {
   "cell_type": "code",
   "execution_count": null,
   "metadata": {
    "ExecuteTime": {
     "end_time": "2020-04-21T17:19:43.80593Z",
     "start_time": "2020-04-21T17:19:43.799946Z"
    },
    "id": "1vaSSwCv790R",
    "outputId": "2e6cbfb3-6356-4343-8087-06e4b3934d0b"
   },
   "outputs": [
    {
     "data": {
      "text/plain": [
       "-0.13924050632911378"
      ]
     },
     "execution_count": 56,
     "metadata": {},
     "output_type": "execute_result"
    }
   ],
   "source": [
    "# Method 2\n",
    "\n",
    "num=0\n",
    "den=0\n",
    "for i in range(len(weighted)):\n",
    "    for j in range(len(weighted)):\n",
    "        num+=weighted[i][j]*C[i][j]\n",
    "        den+=weighted[i][j]*E[i][j]\n",
    "\n",
    "weighted_kappa = (1 - (num/den)); weighted_kappa"
   ]
  },
  {
   "cell_type": "code",
   "execution_count": null,
   "metadata": {
    "ExecuteTime": {
     "end_time": "2020-04-21T17:19:43.812911Z",
     "start_time": "2020-04-21T17:19:43.806927Z"
    },
    "id": "S-ldwy3U790R",
    "outputId": "db768c6c-0f0c-4dd5-d25f-e8194a748340"
   },
   "outputs": [
    {
     "data": {
      "text/plain": [
       "-0.13924050632911378"
      ]
     },
     "execution_count": 57,
     "metadata": {},
     "output_type": "execute_result"
    }
   ],
   "source": [
    "# Method 3: Just use sk learn library\n",
    "\n",
    "cohen_kappa_score(actual, pred, labels=None, weights= 'quadratic', sample_weight=None)"
   ]
  },
  {
   "cell_type": "markdown",
   "metadata": {
    "id": "0ALGuB_0790R"
   },
   "source": [
    "Just a side note that one can also use SK learn's cohen_kappa_score function calculate the quadratic weighted kappa in this competition, with weights set to quadratic. Also please do refer to [CPMP's discussion topic for fast QWK computation](https://www.kaggle.com/c/prostate-cancer-grade-assessment/discussion/145105)"
   ]
  },
  {
   "cell_type": "markdown",
   "metadata": {
    "id": "rkQEM28k790R"
   },
   "source": [
    "# References\n",
    "\n",
    "[Reference I](https://towardsdatascience.com/https-medium-com-abrown004-how-to-ease-the-pain-of-working-with-imbalanced-data-a7f7601f18ba)\n",
    "\n",
    "[Reference II](https://www.knime.com/blog/correcting-predicted-class-probabilities-in-imbalanced-datasets)\n",
    "\n",
    "[Reference III](https://towardsdatascience.com/handling-imbalanced-datasets-in-machine-learning-7a0e84220f28)\n",
    "\n",
    "## **Accuracy**\n",
    "- [Indicator Function - Wikipedia](https://en.wikipedia.org/wiki/Indicator_function)\n",
    "- [Why is accuracy not the best measure for assessing classification models? - StackExchange](https://stats.stackexchange.com/questions/312780/why-is-accuracy-not-the-best-measure-for-assessing-classification-models)\n",
    "- [Example when using accuracy as an outcome measure will lead to a wrong conclusion - StackExchange](https://stats.stackexchange.com/questions/368949/example-when-using-accuracy-as-an-outcome-measure-will-lead-to-a-wrong-conclusio)\n",
    "\n",
    "\n",
    "**Precision-Recall**\n",
    "- [Precision-Recall: Estimations of Probabilities - Wikipedia](https://en.wikipedia.org/wiki/Precision_and_recall)\n",
    "- [Loss function and Decision Function - StatsExchange](https://stats.stackexchange.com/questions/104988/what-is-the-difference-between-a-loss-function-and-decision-function)\n",
    "- [Precision and Recall Tradeoff - Google](https://developers.google.com/machine-learning/crash-course/classification/precision-and-recall)\n",
    "\n",
    "## **Receiver Operating Characteristic (ROC)**\n",
    "\n",
    "### Interpretation of ROC\n",
    "\n",
    "- [Wikipedia has an extensive explanation of the probability behind ROC](https://en.wikipedia.org/wiki/Receiver_operating_characteristic)\n",
    "- [Different Interpretations of AUC - StatsExchange](https://stats.stackexchange.com/questions/132777/what-does-auc-stand-for-and-what-is-it)\n",
    "- [Probabilistic Perspective of AUC](https://www.alexejgossmann.com/auc/)\n",
    "- [AUC - Insider's Guide to the Theory and Applications](https://sinyi-chou.github.io/classification-auc/)\n",
    "- [Safe Handling Instructions for Probabilistic Classification](https://www.youtube.com/watch?v=RXMu96RJj_s).\n",
    "- [c-statistics](https://stats.stackexchange.com/questions/193138/roc-curve-drawbacks).\n",
    "- [SIIM Melanoma ROC](https://www.kaggle.com/c/siim-isic-melanoma-classification/discussion/173020)\n",
    "- [An Introduction to ROC analysis](https://www.sciencedirect.com/science/article/abs/pii/S016786550500303X)\n",
    "\n",
    "### Pros and Cons of AUROC\n",
    "\n",
    "- [The Relationship Between Precision-Recall and ROC Curves](chrome-extension://efaidnbmnnnibpcajpcglclefindmkaj/viewer.html?pdfurl=https%3A%2F%2Fwww.biostat.wisc.edu%2F~page%2Frocpr.pdf&clen=137145&chunk=true)\n",
    "- [Drawbacks of AUROC](https://stats.stackexchange.com/questions/193138/roc-curve-drawbacks).\n",
    "- [ROC vs precision-and-recall curves](https://stats.stackexchange.com/questions/7207/roc-vs-precision-and-recall-curves)\n",
    "- [ROC vs Precision-recall curves on imbalanced dataset](https://stats.stackexchange.com/questions/262616/roc-vs-precision-recall-curves-on-imbalanced-dataset)\n",
    "- [on why AUC can be misleading](https://stats.stackexchange.com/questions/360017/when-is-an-auc-score-misleadingly-high/360040#360040)\n",
    "- [AUC scale and threshold invariant - TDS](https://towardsdatascience.com/an-understandable-guide-to-roc-curves-and-auc-and-why-and-when-to-use-them-92020bc4c5c1)\n",
    "\n",
    "### Implementation\n",
    "\n",
    "- [Implementation of ROC - roc-curve-and-auc-from-scratch-in-numpy-visualized - TDS](https://towardsdatascience.com/roc-curve-and-auc-from-scratch-in-numpy-visualized-2612bb9459ab)\n",
    "- [Trapezoid Rule](https://ece.uwaterloo.ca/~dwharder/NumericalAnalysis/13Integration/comptrap/complete.html)\n",
    "\n",
    "\n",
    "\n",
    "\n",
    "\n",
    "- [On why thresholds return 2 sometimes](https://stackoverflow.com/questions/52358114/why-is-roc-curve-return-an-additional-value-for-the-thresholds-2-0-for-some-cl)(https://stackoverflow.com/questions/23200518/scikit-learn-roc-curve-why-does-it-return-a-threshold-value-2-some-time)\n",
    "- [PR-Curve vs ROC-Curve](https://neptune.ai/blog/f1-score-accuracy-roc-auc-pr-auc#:~:text=ROC%20AUC%20vs%20PR%20AUC&text=What%20is%20different%20however%20is,and%20true%20positive%20rate%20TPR.)\n",
    "- https://stackoverflow.com/questions/59666138/sklearn-roc-auc-score-with-multi-class-ovr-should-have-none-average-available\n",
    "- https://stackoverflow.com/questions/39685740/calculate-sklearn-roc-auc-score-for-multi-class\n",
    "- https://datascience.stackexchange.com/questions/36862/macro-or-micro-average-for-imbalanced-class-problems#:~:text=Micro%2Daverage%20is%20preferable%20if,your%20dataset%20varies%20in%20size.\n",
    "- https://www.google.com/search?q=roc_auc_score+multiclass+site:stackoverflow.com&rlz=1C1CHBF_enSG891SG891&sxsrf=ALeKk018tRSfmKgIUw63SPI8dsdkvJgPuw:1608711331403&sa=X&ved=2ahUKEwjg7NDb1OPtAhUXVH0KHVNHCmwQrQIoBHoECAMQBQ&biw=1280&bih=610\n",
    "- https://stackoverflow.com/questions/56227246/how-to-calculate-roc-auc-score-having-3-classes\n",
    "- https://glassboxmedicine.com/2019/02/23/measuring-performance-auc-auroc/\n",
    "- https://stackoverflow.com/questions/56227246/how-to-calculate-roc-auc-score-having-3-classes\n",
    "\n",
    "---\n",
    "\n",
    "## **Precision-Recall Curve**\n",
    "\n",
    "### Interpretation of PR\n",
    "\n",
    "- [Damage Caused by Classification Accuracy and Other Discontinuous Improper Accuracy Scoring Rules - Frank Harrell](https://www.fharrell.com/post/class-damage/)\n",
    "- [Classification vs. Prediction - Frank Harrell](https://www.fharrell.com/post/classification/)"
   ]
  }
 ],
 "metadata": {
  "colab": {
   "collapsed_sections": [
    "b_bH8bh9790E",
    "oGrNW52c790E",
    "1O0tyNnO790E",
    "t_7SfOSX790F",
    "Kp_Etvvn790F",
    "Ai0pWNkJ790F",
    "4hr_g44n790F",
    "TfZ2Cjvg790G",
    "I8SXvyid790G",
    "AVobSDW2790G",
    "BbJ5yXPs790G",
    "hk6XeDXD790G",
    "0Lvsxbo3790G",
    "PLyejjGl790H",
    "2bpsQ83e790H",
    "hWQBsUaR790H",
    "cCFgJlJd790H",
    "ZMIKeCYk790H",
    "gliCTFqL790H",
    "wzCAvVCs790H",
    "K-smJMNq790H",
    "siY62rat790H",
    "pzPN7VtT790H",
    "8Qj346C-790H",
    "sy9YOAtL790I",
    "E0fouR6J790I",
    "5IdwC6HJ790I",
    "1IyHDmVg790I",
    "HQjDcMvG790I",
    "ZDdBwkdV790I",
    "d1I5AmPC790J",
    "prWMwSLZ790J",
    "NrbeNO5L790J",
    "gmrGcrde790J",
    "q9ZTa-4m790K",
    "rF6pittB790K",
    "__08VHQ5790K",
    "TNVZkEnk790K",
    "gRKeo0-C790L",
    "xBVUctCa790L",
    "B_utDa-Q790L",
    "_Ln2Crsr790L",
    "JiQ-n6TX790L",
    "28TX9ftD790L",
    "7kY8MAOZ790L",
    "DfliqTrA790L",
    "KyyvpGZm790L",
    "jhE0OtmL790L",
    "6jSuTcLA790M",
    "dCGItKBf790M",
    "HXdcSLPS790M",
    "uHl5mzpD790M",
    "Djd555pr790M",
    "_Jvz73rh790M",
    "aAkHdLFK790M",
    "8Lm_GA4C790M",
    "Y5aECx1t790N",
    "AGUw370A790O",
    "MSVZt1Ff790P",
    "uz0jlUI6790P",
    "FIJS0fy_790P",
    "dBqEYazo790P",
    "--svinek790Q",
    "1SPX3QaS790Q",
    "6o97pIGq790Q",
    "CmmQBdQG790Q"
   ],
   "name": "classification_metrics.ipynb",
   "provenance": []
  },
  "interpreter": {
   "hash": "cba03521ddcb891897ede33a27c9b15c5e6b122fbe8b170ce6638d1b58f8735a"
  },
  "kernelspec": {
   "display_name": "Python 3 (ipykernel)",
   "language": "python",
   "name": "python3"
  },
  "language_info": {
   "codemirror_mode": {
    "name": "ipython",
    "version": 3
   },
   "file_extension": ".py",
   "mimetype": "text/x-python",
   "name": "python",
   "nbconvert_exporter": "python",
   "pygments_lexer": "ipython3",
   "version": "3.9.13"
  }
 },
 "nbformat": 4,
 "nbformat_minor": 4
}
