{
 "cells": [
  {
   "cell_type": "markdown",
   "id": "ddc5382e-b2b7-40f3-9111-3e9f63059879",
   "metadata": {},
   "source": [
    "$$\n",
    "\\newcommand{\\F}{\\mathbb{F}}\n",
    "\\newcommand{\\R}{\\mathbb{R}}\n",
    "\\newcommand{\\v}{\\mathbf{v}}\n",
    "\\newcommand{\\a}{\\mathbf{a}}\n",
    "\\newcommand{\\b}{\\mathbf{b}}\n",
    "\\newcommand{\\c}{\\mathbf{c}}\n",
    "\\newcommand{\\x}{\\mathbf{x}}\n",
    "\\newcommand{\\y}{\\mathbf{y}}\n",
    "\\newcommand{\\yhat}{\\mathbf{\\hat{y}}}\n",
    "\\newcommand{\\0}{\\mathbf{0}}\n",
    "\\newcommand{\\1}{\\mathbf{1}}\n",
    "$$"
   ]
  },
  {
   "cell_type": "markdown",
   "id": "b1503c04-abce-4b57-9f48-5be443f154fd",
   "metadata": {},
   "source": [
    "## Mean Absolute Percentage Error\n",
    "\n",
    "This is a metric that measures the relative error and hence an intuitive metric."
   ]
  },
  {
   "cell_type": "markdown",
   "id": "a1f02e34-d909-4e31-8868-f6f71fcfce88",
   "metadata": {},
   "source": [
    "### Definition (Mean Absolute Percentage Error)\n",
    "\n",
    "Given a dataset of $n$ samples indexed by the tuple pair $(x_i, y_i)$, the **mean absolute percentage error (MAPE)** is defined as:\n",
    "\n",
    "$$\n",
    "\\textbf{MAPE} = \\dfrac{1}{n} \\dfrac{\\sum_{i=1}^n |\\hat{y}_i - y_i|}{\\max(\\epsilon, |y_i|)}\n",
    "$$\n",
    "\n",
    "where $\\epsilon$ is an arbitarily small and positive number in case the ground truth $y_i$ is $0$."
   ]
  },
  {
   "cell_type": "markdown",
   "id": "3fee0241-b7af-47a7-8059-0d0215b87ad3",
   "metadata": {},
   "source": [
    "### Implementation of MAPE"
   ]
  },
  {
   "cell_type": "code",
   "execution_count": 6,
   "id": "0a4b4c5f-730f-461f-83f6-41513f3cb112",
   "metadata": {},
   "outputs": [],
   "source": [
    "def mean_absolute_percentage_error_(\n",
    "    y_true: np.ndarray, y_pred: np.ndarray, epsilon: float = 1e-5\n",
    ") -> float:\n",
    "    \"\"\"Mean absolute percentage error (MAPE) regression loss.\n",
    "\n",
    "    Note:\n",
    "        Loss can be extremely high when `y_true` is near 0 since the denominator\n",
    "        will be epislon, and np.abs(y_true - y_pred) / epislon will be very large.\n",
    "\n",
    "    Args:\n",
    "        y_true (np.ndarray): Ground truth (correct) target values.\n",
    "        y_pred (np.ndarray): Estimated target values.\n",
    "        epsilon (float, optional): An arbitrarily small positive number for numerical stability\n",
    "                                   in case y_true is 0 or near 0. Defaults to 1e-5.\n",
    "\n",
    "    Shape:\n",
    "        y_true: (n_samples, )\n",
    "        y_pred: (n_samples, )\n",
    "\n",
    "    Returns:\n",
    "        loss (float): The mean absolute percentage error.\n",
    "\n",
    "    Examples:\n",
    "        >>> y_true = [3, -0.5, 2, 7]\n",
    "        >>> y_pred = [2.5, 0.0, 2, 8]\n",
    "        >>> mean_absolute_percentage_error_(y_true, y_pred)\n",
    "        0.3273...\n",
    "    \"\"\"\n",
    "\n",
    "    y_true = np.asarray(y_true).flatten()\n",
    "    y_pred = np.asarray(y_pred).flatten()\n",
    "    print(np.maximum.outer(y_true, epsilon))\n",
    "    loss = np.mean(\n",
    "        np.abs((y_true - y_pred) / np.maximum.outer(np.abs(y_true), epsilon))\n",
    "    )\n",
    "    return loss\n"
   ]
  },
  {
   "cell_type": "code",
   "execution_count": 7,
   "id": "55e678d7-3246-48d6-b34c-3cfe7abd1b54",
   "metadata": {},
   "outputs": [
    {
     "name": "stdout",
     "output_type": "stream",
     "text": [
      "[3.e+00 1.e-05 2.e+00 7.e+00]\n"
     ]
    },
    {
     "data": {
      "text/plain": [
       "0.3273809523809524"
      ]
     },
     "execution_count": 7,
     "metadata": {},
     "output_type": "execute_result"
    }
   ],
   "source": [
    ">>> y_true = [3, -0.5, 2, 7]\n",
    ">>> y_pred = [2.5, 0.0, 2, 8]\n",
    ">>> mean_absolute_percentage_error_(y_true, y_pred)"
   ]
  }
 ],
 "metadata": {
  "kernelspec": {
   "display_name": "Python 3 (ipykernel)",
   "language": "python",
   "name": "python3"
  },
  "language_info": {
   "codemirror_mode": {
    "name": "ipython",
    "version": 3
   },
   "file_extension": ".py",
   "mimetype": "text/x-python",
   "name": "python",
   "nbconvert_exporter": "python",
   "pygments_lexer": "ipython3",
   "version": "3.9.13"
  }
 },
 "nbformat": 4,
 "nbformat_minor": 5
}
