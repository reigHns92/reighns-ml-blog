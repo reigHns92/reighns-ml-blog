{
 "cells": [
  {
   "cell_type": "markdown",
   "id": "375ed69e-8d5b-4789-91f4-de3d74c5a8e9",
   "metadata": {},
   "source": [
    "This notebook attempts to describe the commonly used Regression Metrics in details; you will find the pros and cons of each metric, alongside with examples to illustrate. I will refer to scikit-learn's official website for reference, specifically, the [section on Model Evaluation](https://scikit-learn.org/stable/modules/model_evaluation.html). I may quote some definitions verbatim, if necessary."
   ]
  },
  {
   "cell_type": "markdown",
   "id": "11d35af0-a366-4588-a0a2-c75858e53a07",
   "metadata": {},
   "source": [
    "## Predicting a scalar \n",
    "\n",
    "Squared error penalizes larger differences more than Absolute error, but it is prone to outliers. \n",
    "\n",
    "\n",
    "If you can about making sense of units, then root mean squared error.\n",
    "\n"
   ]
  },
  {
   "cell_type": "markdown",
   "id": "3b313522-843c-4b66-a6ae-71f1122d884d",
   "metadata": {},
   "source": [
    "## Predicting a vector\n",
    "\n",
    "See Word2Vec."
   ]
  },
  {
   "cell_type": "markdown",
   "id": "a41d3f40-ece0-4e50-a2f1-a053b9d71daf",
   "metadata": {},
   "source": [
    "Cosine Similarity"
   ]
  }
 ],
 "metadata": {
  "kernelspec": {
   "display_name": "Python 3 (ipykernel)",
   "language": "python",
   "name": "python3"
  },
  "language_info": {
   "codemirror_mode": {
    "name": "ipython",
    "version": 3
   },
   "file_extension": ".py",
   "mimetype": "text/x-python",
   "name": "python",
   "nbconvert_exporter": "python",
   "pygments_lexer": "ipython3",
   "version": "3.9.13"
  }
 },
 "nbformat": 4,
 "nbformat_minor": 5
}
