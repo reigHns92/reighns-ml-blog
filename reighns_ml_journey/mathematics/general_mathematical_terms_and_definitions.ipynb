{
 "cells": [
  {
   "cell_type": "markdown",
   "id": "99c40c71-7189-4bf7-8322-41a74b158ccf",
   "metadata": {},
   "source": [
    "## Contour Plots\n",
    "\n",
    "- [Khan's Academy: Watch this first!](https://www.khanacademy.org/math/multivariable-calculus/thinking-about-multivariable-function/visualizing-scalar-valued-functions/v/contour-plots)\n",
    "- [PythonDataScienceHandbook](https://jakevdp.github.io/PythonDataScienceHandbook/04.04-density-and-contour-plots.html)"
   ]
  }
 ],
 "metadata": {
  "kernelspec": {
   "display_name": "Python 3 (ipykernel)",
   "language": "python",
   "name": "python3"
  },
  "language_info": {
   "codemirror_mode": {
    "name": "ipython",
    "version": 3
   },
   "file_extension": ".py",
   "mimetype": "text/x-python",
   "name": "python",
   "nbconvert_exporter": "python",
   "pygments_lexer": "ipython3",
   "version": "3.9.10"
  }
 },
 "nbformat": 4,
 "nbformat_minor": 5
}
