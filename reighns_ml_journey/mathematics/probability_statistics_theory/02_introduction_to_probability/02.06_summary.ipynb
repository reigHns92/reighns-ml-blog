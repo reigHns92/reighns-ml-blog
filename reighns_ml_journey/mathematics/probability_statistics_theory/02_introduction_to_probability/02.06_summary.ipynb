{
 "cells": [
  {
   "cell_type": "markdown",
   "id": "38885844-be8c-4d0c-a77a-1f5e60ba85a3",
   "metadata": {},
   "source": [
    "$$\n",
    "\\newcommand{\\R}{\\mathbb{R}}\n",
    "\\newcommand{\\v}{\\mathbf{v}}\n",
    "\\newcommand{\\a}{\\mathbf{a}}\n",
    "\\newcommand{\\b}{\\mathbf{b}}\n",
    "\\newcommand{\\c}{\\mathbf{c}}\n",
    "\\newcommand{\\w}{\\mathbf{w}}\n",
    "\\newcommand{\\u}{\\mathbf{u}}\n",
    "\\newcommand{\\x}{\\mathbf{x}}\n",
    "\\newcommand{\\y}{\\mathbf{y}}\n",
    "\\newcommand{\\z}{\\mathbf{z}}\n",
    "\\newcommand{\\0}{\\mathbf{0}}\n",
    "\\newcommand{\\1}{\\mathbf{1}}\n",
    "\\newcommand{\\A}{\\mathbf{A}}\n",
    "\\newcommand{\\B}{\\mathbf{B}}\n",
    "\\newcommand{\\rank}{\\textbf{rank}}\n",
    "\\newcommand{\\P}{\\mathbb{P}}\n",
    "\\newcommand{\\E}{\\mathcal{F}}\n",
    "\\newcommand{\\S}{\\Omega}\n",
    "\\newcommand{\\C}{\\mathbf{C}}\n",
    "$$"
   ]
  },
  {
   "cell_type": "markdown",
   "id": "4710b7a8-7a14-4eb5-8bb7-9d0090377658",
   "metadata": {},
   "source": [
    "## Summary\n",
    "\n",
    "For now it is mostly intuition in this section."
   ]
  },
  {
   "cell_type": "markdown",
   "id": "679cd919-e580-43f3-9f29-acd3718f9ff7",
   "metadata": {},
   "source": [
    "### Conditional\n",
    "\n",
    "Therefore, after the intuition, one should not be constantly checking what the formula represents, if we have $\\P(A ~|~ B)$, then it just means given $B$ has happened, what is the probability of $A$ happening? The logic becomes apparent when we reduce the whole sample space $\\S$ to be only $B$ now, and that whatever $A$ overlaps with $B$ will be the probability of this conditional. "
   ]
  },
  {
   "cell_type": "markdown",
   "id": "12a5bdd4-abe4-4560-a8ce-338ecfb014b1",
   "metadata": {},
   "source": [
    "### Independence\n",
    "\n",
    "So the intuition can be understood by using conditional, say $\\P(A ~|~ B)$, if $A$ and $B$ are truly independent, then even if $B$ happened, the probability of $A$ should remain unchanged, which means that $\\P(A ~|~ B) = \\P(A)$, but also recall the definition of conditionals, $\\P(A ~|~ B) = \\dfrac{\\P(A \\cap B)}{B}$, so equating them we have the nice equation of $\\P(A)\\P(B) = \\P(A \\cap B)$."
   ]
  },
  {
   "cell_type": "markdown",
   "id": "f5bd906b-2777-4582-b480-cedb39476880",
   "metadata": {},
   "source": [
    "### Bayes' Theorem\n",
    "\n",
    "The observant reader should find it easy that this formula is deduced by abusing the fact that $\\P(A \\cap B) = \\P(B \\cap A)$, and therefore \n",
    "\n",
    "$$\n",
    "\\P(A|B) = \\dfrac{\\P(A\\cap B)}{\\P(B)} = \\dfrac{\\P(B \\cap A)}{\\P(B)} = \\dfrac{\\P(B ~|~ A)\\P(A)}{\\P(B)}\n",
    "$$\n",
    "\n",
    "since $\\P(B ~|~ A) = \\dfrac{\\P(B \\cap A)}{\\P(A)}$."
   ]
  },
  {
   "cell_type": "markdown",
   "id": "40536384-b7bf-45f4-9aeb-b85811878b3a",
   "metadata": {},
   "source": [
    "### The Law of Total Probability\n",
    "\n",
    "The intuition of this is also apparent after understanding that if a sample space can be broken down into disjoint events $A_1, A_2, \\ldots, A_k$, then any event $B$ that is in the sample space must touch some of these disjoint events, whenever they overlap, we can represent them as $\\P(A_i \\cap B)$, and if we add them up it is just the event $B$ itself. If they don't overlap, we can still add them anyways since $P(A_k \\cap B) = 0$. Note the loose usage of the index here, $i$ means overlap, $k$ means non-overlap."
   ]
  },
  {
   "cell_type": "markdown",
   "id": "91f98ee9-9104-427b-a665-cc1248abd258",
   "metadata": {},
   "source": [
    "### Why do you multiply probabilities? \n",
    "\n",
    "Consider rolling a dice twice, what is the probability that you roll a 5 and 6 respectively.\n",
    "\n",
    "We all know the answer is $\\dfrac{1}{6} \\times \\dfrac{1}{6} = \\dfrac{1}{36}$. But why?\n",
    "\n",
    "This can be first understood that our denominator is the total outcomes in our sample space $\\S$. This is $36$, why? By our counting principle on multiplication, we know that if we have $6$ choices in roll $1$ and $6$ choices in roll 2, then the cross-product is $6 \\times 6 = 36$ total choices. One can enumerate $\\{(1,1), (1,2), \\ldots, (6,6)\\}$ to see why.\n",
    "\n",
    "Now the numerator is also related to the counting principle of multiplication as well! In roll 1, rolling a 5 is 1 choice, rolling a 6 next is 1 choice, so total there is a only one combination choice $1 \\times 1$!\n",
    "\n",
    "Now if we reframe the problem to what is the probability that you roll a 1, 2 or 3 in the first roll and 2 or 3 in the second roll. Then of course our denominator don't change as $36$, but our numerator changes, since in roll 1 we have 3 choices, and roll 2 have 2 choices, by the multiplicative principle we have a total of $3 \\times 2 = 6$ choices, and so our probability is $\\dfrac{6}{36}$ now. You can verify that there are indeed $6$ choices manually.\n",
    "\n",
    "> **Now the most important part is we can use this if both events are independent! If not we need to be careful!**."
   ]
  },
  {
   "cell_type": "markdown",
   "id": "f6060da1-2b3c-4e08-b7d2-a2bb86ad2057",
   "metadata": {},
   "source": [
    "### Conditional, Priori, Posterior"
   ]
  },
  {
   "cell_type": "markdown",
   "id": "155207dc-2fa8-47da-b720-43f461e14d8f",
   "metadata": {},
   "source": [
    "Common terms in ML world.\n",
    "\n",
    "Suppose there are three types of players in a tennis tournament: A, B, and C. Fifty percent of the contestants in the tournament are A players, 25% are B players, and 25% are C players. Your chance of beating the contestants depends on the class of the player, as follows:\n",
    "\n",
    "- 0.3 against an A player\n",
    "- 0.4 against a B player\n",
    "- 0.5 against a C player\n",
    "\n",
    "If you play a match in this tournament, what is the probability of your winning the\n",
    "match? Supposing that you have won a match, what is the probability that you played\n",
    "against an A player?\n",
    "\n",
    "Let $W$ be the event that you win and $A$ be the event that you played vs player $A$, then\n",
    "\n",
    "- Conditional: $\\P(W~|~A)$ = given you played player $A$, what is your probability of winning?\n",
    "- Priori: $\\P(A)$ = **without entering the game**, what is your probability of facing player $A$?\n",
    "- Posterior: $\\P(A~|~W)$ = **after entering the game and winning the match**, what is your probability that you have actually played with $A$?\n",
    "- Machine Learning: In many practical engineering problems, the question of interest is often the last one. That\n",
    "is, supposing that you have observed something, what is the most likely cause of that event?\n",
    "For example, supposing we have observed this particular dataset, what is the best Gaussian\n",
    "model that would fit the dataset? Questions like these require some analysis of conditional\n",
    "probability, prior probability, and posterior probability.\n"
   ]
  }
 ],
 "metadata": {
  "kernelspec": {
   "display_name": "Python 3 (ipykernel)",
   "language": "python",
   "name": "python3"
  },
  "language_info": {
   "codemirror_mode": {
    "name": "ipython",
    "version": 3
   },
   "file_extension": ".py",
   "mimetype": "text/x-python",
   "name": "python",
   "nbconvert_exporter": "python",
   "pygments_lexer": "ipython3",
   "version": "3.9.12"
  }
 },
 "nbformat": 4,
 "nbformat_minor": 5
}
