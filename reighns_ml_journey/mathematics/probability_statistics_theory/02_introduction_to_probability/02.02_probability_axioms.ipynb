{
 "cells": [
  {
   "cell_type": "markdown",
   "id": "98aa06e6-fc07-468e-a1d3-583d5655e08d",
   "metadata": {},
   "source": [
    "$$\n",
    "\\newcommand{\\R}{\\mathbb{R}}\n",
    "\\newcommand{\\v}{\\mathbf{v}}\n",
    "\\newcommand{\\a}{\\mathbf{a}}\n",
    "\\newcommand{\\b}{\\mathbf{b}}\n",
    "\\newcommand{\\c}{\\mathbf{c}}\n",
    "\\newcommand{\\w}{\\mathbf{w}}\n",
    "\\newcommand{\\u}{\\mathbf{u}}\n",
    "\\newcommand{\\x}{\\mathbf{x}}\n",
    "\\newcommand{\\y}{\\mathbf{y}}\n",
    "\\newcommand{\\z}{\\mathbf{z}}\n",
    "\\newcommand{\\0}{\\mathbf{0}}\n",
    "\\newcommand{\\1}{\\mathbf{1}}\n",
    "\\newcommand{\\A}{\\mathbf{A}}\n",
    "\\newcommand{\\B}{\\mathbf{B}}\n",
    "\\newcommand{\\rank}{\\textbf{rank}}\n",
    "\\newcommand{\\P}{\\mathbb{P}}\n",
    "\\newcommand{\\E}{\\mathcal{F}}\n",
    "\\newcommand{\\S}{\\Omega}\n",
    "\\newcommand{\\C}{\\mathbf{C}}$$"
   ]
  },
  {
   "cell_type": "markdown",
   "id": "4bd68bc5-8150-4df4-bab9-0eab506d4871",
   "metadata": {},
   "source": [
    "## Probability Axioms"
   ]
  },
  {
   "cell_type": "markdown",
   "id": "dbb604eb-92c0-4d04-9373-a63c6622d6fd",
   "metadata": {},
   "source": [
    "### Definition (The Three Axioms of Probability (Kolmogorov Axioms))\n",
    "\n",
    "A probability function $\\P$ must satisfy the three axioms below. Recall that the **probability function** in a well defined **experiment** is a function $\\P: \\E \\to [0, 1]$. Informally, for any event $A$, $\\P(A)$ is defined as the probability of event $A$ happening.\n",
    "\n",
    "This function must satisfy the following:\n",
    "\n",
    "1. First axiom (Non - Negativity Axiom): $\\P(A) \\geq 0$ for any event $A \\subseteq \\S$.\n",
    "2. Second Axiom (Normalization Axiom): $\\sum_{i=1}^{n}\\P(A_i) = 1$  where $A_i$ are all possible outcomes for $i = 1, 2,..., n$.\n",
    "3. Third Axiom (Additivity Axiom): Given a countable sequence of **disjoint events** $A_1, A_2, ..., A_n,... \\subset \\S$, we have \n",
    "\n",
    "$$\n",
    "\\P\\left(\\bigsqcup_{i=1}^{\\infty} A_i \\right) = \\sum_{i=1}^{\\infty}\\P[A_i]\n",
    "$$\n",
    "\n",
    "---\n",
    "\n",
    "**Stanley H. Chan: Introduction to Probability for Data Science, 2021. (pp. 74)**"
   ]
  },
  {
   "cell_type": "markdown",
   "id": "5ec11534-c00e-4340-a16b-d653c77d471c",
   "metadata": {},
   "source": [
    "### Corollary (Implications of the Probability Axioms)\n",
    "\n",
    "- Probability of Empty Set: $\\P(\\emptyset) = 0$\n",
    "- Complements: $\\P(A) = 1 - \\P(A^{c})$\n",
    "\n",
    "---\n",
    "\n",
    "**Stanley H. Chan: Introduction to Probability for Data Science, 2021. (pp. 77)**"
   ]
  },
  {
   "cell_type": "markdown",
   "id": "bb5fb80d-8c80-41fd-86f9-6e6b7bf9d8bb",
   "metadata": {},
   "source": [
    "### Corollary (Inclusion-Exclusion - Unions of Two Non-Disjoint Sets)\n",
    "\n",
    "$$\n",
    "\\P(A \\cup B) = \\P(A) + \\P(B) - \\P(A \\cap B)\n",
    "$$\n",
    "\n",
    "---\n",
    "\n",
    "\n",
    "**Stanley H. Chan: Introduction to Probability for Data Science, 2021. (pp. 78)**"
   ]
  },
  {
   "cell_type": "markdown",
   "id": "09f8cc70-6c91-4ca3-bab1-541c14e7833f",
   "metadata": {},
   "source": [
    "### Corollary (Inequality Bounds)\n",
    "\n",
    "- Union Bound: $\\P(A \\cup B) \\leq \\P(A) + P(B)$\n",
    "- Monotonicity: If $A \\subset B$, then $\\P(A) \\leq \\P(B)$\n",
    "- Numeric Bound: It immediately follows that for any event $A$, $\\P(A) \\leq 1$ by Monotonicity and Axiom 2. Because an event $A$ can at most be summed to 1, so any events must be a subset of its summation, so the probability of the summation is 1, hence $\\P(A) \\leq 1$ by Monotonicity.\n",
    "\n",
    "---\n",
    "\n",
    "**Stanley H. Chan: Introduction to Probability for Data Science, 2021. (pp. 79)**"
   ]
  },
  {
   "cell_type": "markdown",
   "id": "7ebb5cd8-01b6-48b2-880b-6f730c6fb448",
   "metadata": {},
   "source": [
    "### Definition (Mutually Exclusive Events)\n",
    "\n",
    "In logic and probability theory, two events (or propositions) are mutually exclusive or disjoint if they cannot both occur at the same time. \n",
    "\n",
    "A clear example is the set of outcomes of a single coin toss, which can result in either heads or tails, but not both. To be concise, let the event of coin landing on head be $A$, the event of coin landing on tails be $B$, event $A$ and $B$ can never occur at the same time, it is the case that one cannot be true if the other one is true, or at least one of them cannot be true. \n",
    "\n",
    "One can draw a venn diagram with event $A$ and $B$ being disjoint to illustrate the idea.\n",
    "\n",
    "Also, by **Unions of Two Non-Disjoint Sets**, it is easy to see that $\\P(A \\cup B) = \\P(A) + \\P(B)$ since $\\P(A \\cap B) = 0$. For the coin toss example, since $A \\cup B$ spans the entire sample space, it is intuitive that $P(A \\cup B)$ (the probability of throwing a head OR a tail) is 1."
   ]
  }
 ],
 "metadata": {
  "kernelspec": {
   "display_name": "Python 3 (ipykernel)",
   "language": "python",
   "name": "python3"
  },
  "language_info": {
   "codemirror_mode": {
    "name": "ipython",
    "version": 3
   },
   "file_extension": ".py",
   "mimetype": "text/x-python",
   "name": "python",
   "nbconvert_exporter": "python",
   "pygments_lexer": "ipython3",
   "version": "3.9.11"
  }
 },
 "nbformat": 4,
 "nbformat_minor": 5
}
