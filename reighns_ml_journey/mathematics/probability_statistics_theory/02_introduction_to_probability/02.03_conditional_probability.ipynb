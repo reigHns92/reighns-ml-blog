{
 "cells": [
  {
   "cell_type": "markdown",
   "id": "98aa06e6-fc07-468e-a1d3-583d5655e08d",
   "metadata": {},
   "source": [
    "$$\n",
    "\\newcommand{\\R}{\\mathbb{R}}\n",
    "\\newcommand{\\v}{\\mathbf{v}}\n",
    "\\newcommand{\\a}{\\mathbf{a}}\n",
    "\\newcommand{\\b}{\\mathbf{b}}\n",
    "\\newcommand{\\c}{\\mathbf{c}}\n",
    "\\newcommand{\\w}{\\mathbf{w}}\n",
    "\\newcommand{\\u}{\\mathbf{u}}\n",
    "\\newcommand{\\x}{\\mathbf{x}}\n",
    "\\newcommand{\\y}{\\mathbf{y}}\n",
    "\\newcommand{\\z}{\\mathbf{z}}\n",
    "\\newcommand{\\0}{\\mathbf{0}}\n",
    "\\newcommand{\\1}{\\mathbf{1}}\n",
    "\\newcommand{\\A}{\\mathbf{A}}\n",
    "\\newcommand{\\B}{\\mathbf{B}}\n",
    "\\newcommand{\\rank}{\\textbf{rank}}\n",
    "\\newcommand{\\P}{\\mathbb{P}}\n",
    "\\newcommand{\\E}{\\mathcal{F}}\n",
    "\\newcommand{\\S}{\\Omega}\n",
    "\\newcommand{\\C}{\\mathbf{C}}$$"
   ]
  },
  {
   "cell_type": "markdown",
   "id": "4bd68bc5-8150-4df4-bab9-0eab506d4871",
   "metadata": {},
   "source": [
    "## Conditional Probability"
   ]
  },
  {
   "cell_type": "markdown",
   "id": "dbb604eb-92c0-4d04-9373-a63c6622d6fd",
   "metadata": {},
   "source": [
    "### Definition (Conditional Probability)\n",
    "\n",
    "Let $\\P$ be a probability function and $A, B \\in \\E$ be events. Then the **conditional probability** of $A$ given that event $B$ has occurred is denoted \n",
    "\n",
    "$$\n",
    "\\P(A|B)\n",
    "$$\n",
    "\n",
    "and is defined by\n",
    "\n",
    "$$\n",
    "\\P(A|B) = \\dfrac{\\P(A\\cap B)}{\\P(B)}\n",
    "$$\n",
    "\n",
    "---\n",
    "\n",
    "**Stanley H. Chan: Introduction to Probability for Data Science, 2021. (pp. 81-84)**"
   ]
  },
  {
   "cell_type": "markdown",
   "id": "dc48808c-073b-4b92-bab6-fda8e61f9bfb",
   "metadata": {},
   "source": [
    "### Intuition (Conditional Probability)\n",
    "\n",
    "The intuition of the conditional probability might not be immediate for those not inclined in statistical ideas. We will follow this [link](https://stats.stackexchange.com/questions/326253/what-is-the-intuition-behind-the-formula-for-conditional-probability) illustrate the intuition[^intuition_conditional_probability].\n",
    "\n",
    "Informally, the below figure 1 gives you an idea: the shaded area belong to both $A$ and $B$, So given $B$ has happened, what then, is the probability of event $A$ occurring? In particular, in the sample space $B$ now, there is only a portion of $A$ there, and one sees that portion is $P(A \\cap B) = P(A)$.\n",
    "\n",
    "A good intuition is given that $B$ occurred—with or without $A$—what is the probability of $A$? I.e, we are now in the universe in which $B$ occurred - which is the full right circle. In that circle, the probability of A is the area of A intersect B divided by the area of the circle - or in other words, the number of outcomes of $A$ in the right circle (which is $n(A \\cap B)$, over the number of outcomes of the reduced sample space $B$.\n",
    "\n",
    "<img src=\"https://storage.googleapis.com/reighns/reighns_ml_projects/docs/probability_and_statistics/02_introduction_to_probability/conditional.png\" style=\"margin-left:auto; margin-right:auto\"/>\n",
    "<p style=\"text-align: center\">\n",
    "    <b>Fig 1</b>\n",
    "</p>\n",
    "\n",
    "[^intuition_conditional_probability]: https://stats.stackexchange.com/questions/326253/what-is-the-intuition-behind-the-formula-for-conditional-probability"
   ]
  },
  {
   "cell_type": "markdown",
   "id": "c68938f3-989b-4ba3-ac01-525d70237e9f",
   "metadata": {},
   "source": [
    "> Therefore, after the intuition, one should not be constantly checking what the formula represents, if we have $\\P(A ~|~ B)$, then it just means given $B$ has happened, what is the probability of $A$ happening? The logic becomes apparent when we reduce the whole sample space $\\S$ to be only $B$ now, and that whatever $A$ overlaps with $B$ will be the probability of this conditional. "
   ]
  },
  {
   "cell_type": "markdown",
   "id": "20a73178-44ce-4f9b-bdcb-a5c57c74671d",
   "metadata": {},
   "source": [
    "### Proposition (Conditional Probability)\n",
    "\n",
    "- If $\\P(A) < \\P(B)$, then $\\P(A|B) < \\P(B|A)$\n",
    "    \n",
    "- If $\\P(A) > \\P(B)$, then $\\P(A|B) > \\P(B|A)$\n",
    "\n",
    "- If $\\P(A) = \\P(B)$, then $\\P(A|B) = \\P(B|A)$"
   ]
  }
 ],
 "metadata": {
  "kernelspec": {
   "display_name": "Python 3 (ipykernel)",
   "language": "python",
   "name": "python3"
  },
  "language_info": {
   "codemirror_mode": {
    "name": "ipython",
    "version": 3
   },
   "file_extension": ".py",
   "mimetype": "text/x-python",
   "name": "python",
   "nbconvert_exporter": "python",
   "pygments_lexer": "ipython3",
   "version": "3.9.12"
  }
 },
 "nbformat": 4,
 "nbformat_minor": 5
}
