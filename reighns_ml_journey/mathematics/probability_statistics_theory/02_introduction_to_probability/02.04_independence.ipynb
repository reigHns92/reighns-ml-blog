{
 "cells": [
  {
   "cell_type": "markdown",
   "id": "98aa06e6-fc07-468e-a1d3-583d5655e08d",
   "metadata": {},
   "source": [
    "$$\n",
    "\\newcommand{\\R}{\\mathbb{R}}\n",
    "\\newcommand{\\v}{\\mathbf{v}}\n",
    "\\newcommand{\\a}{\\mathbf{a}}\n",
    "\\newcommand{\\b}{\\mathbf{b}}\n",
    "\\newcommand{\\c}{\\mathbf{c}}\n",
    "\\newcommand{\\w}{\\mathbf{w}}\n",
    "\\newcommand{\\u}{\\mathbf{u}}\n",
    "\\newcommand{\\x}{\\mathbf{x}}\n",
    "\\newcommand{\\y}{\\mathbf{y}}\n",
    "\\newcommand{\\z}{\\mathbf{z}}\n",
    "\\newcommand{\\0}{\\mathbf{0}}\n",
    "\\newcommand{\\1}{\\mathbf{1}}\n",
    "\\newcommand{\\A}{\\mathbf{A}}\n",
    "\\newcommand{\\B}{\\mathbf{B}}\n",
    "\\newcommand{\\rank}{\\textbf{rank}}\n",
    "\\newcommand{\\P}{\\mathbb{P}}\n",
    "\\newcommand{\\E}{\\mathcal{F}}\n",
    "\\newcommand{\\S}{\\Omega}\n",
    "\\newcommand{\\C}{\\mathbf{C}}$$"
   ]
  },
  {
   "cell_type": "markdown",
   "id": "4bd68bc5-8150-4df4-bab9-0eab506d4871",
   "metadata": {},
   "source": [
    "## Independence"
   ]
  },
  {
   "cell_type": "markdown",
   "id": "dbb604eb-92c0-4d04-9373-a63c6622d6fd",
   "metadata": {},
   "source": [
    "### Definition (Independent Events)\n",
    "\n",
    "Two events $A, B \\in \\E$ are **statiscally independent** if\n",
    "\n",
    "$$\n",
    "\\P(A \\cap B) = \\P(A)P(B)\n",
    "$$\n",
    "\n",
    "---\n",
    "\n",
    "**Stanley H. Chan: Introduction to Probability for Data Science, 2021. (pp. 85)**"
   ]
  },
  {
   "cell_type": "markdown",
   "id": "dc48808c-073b-4b92-bab6-fda8e61f9bfb",
   "metadata": {
    "tags": []
   },
   "source": [
    "### Intuition (Independence) [^intuition_independence] [^**Stanley H. Chan: Introduction to Probability for Data Science, 2021. (pp. 85-88)**]\n",
    "\n",
    "The formula above is not at all intuitive.\n",
    "\n",
    "A more intuitive way to think about it is to think that two events $A$ and $B$ are **independent** if the occurrence of $B$ does not affect the probability of the occurrence of $A$. This can be illustrated further with the following narrative.\n",
    "\n",
    "Let us assume the scenario: given that $B$ occurred (with or without event $A$ occurring), what is the probability of event $A$ occurring? In other words, we are now in the universe in which $B$ occurred - which is the full right circle. In that right hand side circle ($B$), the probability of $A$ is the area of $A$ intersect $B$ divided by the area of the circle - or in other words, the probability of $A$ is the number of outcomes of $A$ in the right circle (which is $n(A \\cap B)$, over the number of outcomes of the reduced sample space $B$. Therefore, if we think of independence as event $B$ occuring not affecting event $A$ occurring, then it means that the probability of $A$ occurring is still the probability of $A$ occurring. i.e $\\P(A|B) = \\P(A)$\n",
    "\n",
    "It follows immediately that $$P(A) = P(A|B) = \\dfrac{P(A \\cap B)}{P(B)} \\Longrightarrow P(A) P(B) = P(A \\cap B)$$\n",
    "\n",
    "<img src=\"https://storage.googleapis.com/reighns/reighns_ml_projects/docs/probability_and_statistics/02_introduction_to_probability/conditional.png\" style=\"margin-left:auto; margin-right:auto\"/>\n",
    "<p style=\"text-align: center\">\n",
    "    <b>Fig 1</b>\n",
    "</p>\n",
    "\n",
    "> So the intuition can be understood by using conditional, say $\\P(A ~|~ B)$, if $A$ and $B$ are truly independent, then even if $B$ happened, the probability of $A$ should remain unchanged, which means that $\\P(A ~|~ B) = \\P(A)$, but also recall the definition of conditionals, $\\P(A ~|~ B) = \\dfrac{\\P(A \\cap B)}{B}$, so equating them we have the nice equation of $\\P(A)\\P(B) = \\P(A \\cap B)$.\n",
    "\n",
    "[^intuition_independence]: [The definition of independence is not intuitive](https://math.stackexchange.com/questions/123192/the-definition-of-independence-is-not-intuitive)\n",
    "[^**Stanley H. Chan: Introduction to Probability for Data Science, 2021. (pp. 85-88)**]: **Stanley H. Chan: Introduction to Probability for Data Science, 2021. (pp. 85-88)**"
   ]
  },
  {
   "cell_type": "markdown",
   "id": "20a73178-44ce-4f9b-bdcb-a5c57c74671d",
   "metadata": {},
   "source": [
    "### Definition (Equivalent Independence Definition) \n",
    "\n",
    "We have stated this in the previous intuition section. Now we formally state it:\n",
    "\n",
    "Let $A$ nad $B$ be two events such that $\\P(A)$ and $\\P(B)$ are more than $0$, then $A$ and $B$ are **independent** if\n",
    "\n",
    "$$\n",
    "\\P(A|B) = \\P(A) \\quad \\P(B|A) = \\P(B)\n",
    "$$"
   ]
  },
  {
   "cell_type": "markdown",
   "id": "2480c6f3-68fc-42a6-81cd-240e5bbab9c9",
   "metadata": {},
   "source": [
    "### Definition (Disjoint vs Independence)\n",
    "\n",
    "Given two events $A$ and $B$. The only condition when $\\textbf{Disjoint} \\iff \\textbf{Independence}$ if that if $\\P(A) = 0$ or $\\P(B) = 0$.\n",
    "\n",
    "---\n",
    "\n",
    "**Stanley H. Chan: Introduction to Probability for Data Science, 2021. (pp. 86-87)**"
   ]
  },
  {
   "cell_type": "markdown",
   "id": "b8cc8aac-233a-471f-95ec-b26315920c23",
   "metadata": {},
   "source": [
    "### Exercise (Independence) [^**Stanley H. Chan: Introduction to Probability for Data Science, 2021. (pp. 87-88)**]\n",
    "\n",
    "Consider the experiment of throwing a die twice. One should be clear from the context that the outcomes are in the form of a tuple $(\\textbf{dice_1}, \\textbf{dice_2})$ and the sample space is:\n",
    "\n",
    "$$\n",
    "\\S = \\left\\{(1, 1), (1, 2), \\ldots, (6, 6)\\right\\}\n",
    "$$\n",
    "\n",
    "\n",
    "Define the three events below:\n",
    "\n",
    "$$\n",
    "A = \\{\\textbf{1st dice is 3}\\} \\quad B = \\{\\textbf{sum of two die is 7}\\} \\quad C = \\{\\textbf{sum of two die is 8}\\}\n",
    "$$\n",
    "\n",
    "We want to find out if events $A$ and $B$ are independent? How about $A$ and $C$?\n",
    "\n",
    "We focus on the independence of $A$ and $C$ first. The author said that intuitively, given that event $C$ has happened, will this affect the **probability of $A$** happening? I assume that this means we do have to know the probability of event $A$ without $C$ first.\n",
    "\n",
    "We can enumerate and see that event $A$ has the following set representation:\n",
    "\n",
    "$$\n",
    "A = \\{(3, 1), (3, 2), (3, 3), (3, 4), (3, 5), (3, 6)\\}\n",
    "$$\n",
    "\n",
    "which amounts to $\\P(A) = \\frac{6}{36} = \\frac{1}{6}$. Now if $C$ happened, we know that the two rolls have a sum of $8$, and we cannot construct a sum of $8$ with a roll of $1$. To me, I immediately know that event $A$ cannot have the outcome that has a $1$ in the second roll, and thus the outcomes should only be limited to $5$ instead of $6$ and hence dependence is established.\n",
    "\n",
    "I believe somewhere my intuition is flawed, the author mentioned that:\n",
    "\n",
    "> If you like a more intuitive argument, you can imagine that C has happened, i.e., the sum is 8. Then the probability for the first die to be 1 is 0 because there is no way to construct 8 when the first die is 1. As a result, we have eliminated one choice for the first die, leaving only five options. Therefore, since C has influenced the probability of A, they are dependent.\n",
    "\n",
    "I think I cannot understand why the author mentioned about \"first die\" when in event $A$, the first die is already a $3$.\n",
    "\n",
    "One can find more explanation here[^mathstack1] and here[^mathstack2].\n",
    "\n",
    "\n",
    "[^**Stanley H. Chan: Introduction to Probability for Data Science, 2021. (pp. 87-88)**]: **Stanley H. Chan: Introduction to Probability for Data Science, 2021. (pp. 87-88)**\n",
    "[^mathstack1]: [Intuition on independence of two events](https://math.stackexchange.com/questions/4403684/intuition-on-independence-of-two-events/)\n",
    "[^mathstack2]: [Dartboard paradox and understanding independence](https://math.stackexchange.com/questions/3897127/dartboard-paradox-and-understanding-independence)"
   ]
  }
 ],
 "metadata": {
  "kernelspec": {
   "display_name": "Python 3 (ipykernel)",
   "language": "python",
   "name": "python3"
  },
  "language_info": {
   "codemirror_mode": {
    "name": "ipython",
    "version": 3
   },
   "file_extension": ".py",
   "mimetype": "text/x-python",
   "name": "python",
   "nbconvert_exporter": "python",
   "pygments_lexer": "ipython3",
   "version": "3.9.12"
  }
 },
 "nbformat": 4,
 "nbformat_minor": 5
}
