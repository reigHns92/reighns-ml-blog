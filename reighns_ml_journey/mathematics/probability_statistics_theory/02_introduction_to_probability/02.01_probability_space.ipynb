{
 "cells": [
  {
   "cell_type": "markdown",
   "id": "98aa06e6-fc07-468e-a1d3-583d5655e08d",
   "metadata": {},
   "source": [
    "$$\n",
    "\\newcommand{\\R}{\\mathbb{R}}\n",
    "\\newcommand{\\v}{\\mathbf{v}}\n",
    "\\newcommand{\\a}{\\mathbf{a}}\n",
    "\\newcommand{\\b}{\\mathbf{b}}\n",
    "\\newcommand{\\c}{\\mathbf{c}}\n",
    "\\newcommand{\\w}{\\mathbf{w}}\n",
    "\\newcommand{\\u}{\\mathbf{u}}\n",
    "\\newcommand{\\x}{\\mathbf{x}}\n",
    "\\newcommand{\\y}{\\mathbf{y}}\n",
    "\\newcommand{\\z}{\\mathbf{z}}\n",
    "\\newcommand{\\0}{\\mathbf{0}}\n",
    "\\newcommand{\\1}{\\mathbf{1}}\n",
    "\\newcommand{\\A}{\\mathbf{A}}\n",
    "\\newcommand{\\B}{\\mathbf{B}}\n",
    "\\newcommand{\\rank}{\\textbf{rank}}\n",
    "\\newcommand{\\P}{\\mathbb{P}}\n",
    "\\newcommand{\\E}{\\mathcal{F}}\n",
    "\\newcommand{\\S}{\\Omega}\n",
    "\\newcommand{\\C}{\\mathbf{C}}$$"
   ]
  },
  {
   "cell_type": "markdown",
   "id": "4bd68bc5-8150-4df4-bab9-0eab506d4871",
   "metadata": {},
   "source": [
    "## Probability Space"
   ]
  },
  {
   "cell_type": "markdown",
   "id": "536017c9-e804-4399-8658-89b5adea9407",
   "metadata": {},
   "source": [
    "### Definition (Sample Space $\\mathbf{\\Omega}$)\n",
    "\n",
    "**Stanley H. Chan: Introduction to Probability for Data Science, 2021. (pp. 59)**"
   ]
  },
  {
   "cell_type": "markdown",
   "id": "b5192a77-6053-41cc-a95b-2404c6021ee9",
   "metadata": {},
   "source": [
    "### Definition (Event space $\\mathcal{F}$)\n",
    "\n",
    "**Stanley H. Chan: Introduction to Probability for Data Science, 2021. (pp. 61)**"
   ]
  },
  {
   "cell_type": "markdown",
   "id": "09e2073f-7690-4bc5-ad95-de2526d60d46",
   "metadata": {},
   "source": [
    "#### Definition (Events $E$)\n",
    "\n",
    "**Stanley H. Chan: Introduction to Probability for Data Science, 2021. (pp. 61)**"
   ]
  },
  {
   "cell_type": "markdown",
   "id": "811c3683-15fb-4e56-ad1b-a315d4750624",
   "metadata": {},
   "source": [
    "### Definition (Probability Law and Function $\\mathbb{P}$)\n",
    "\n",
    "**Stanley H. Chan: Introduction to Probability for Data Science, 2021. (pp. 66)**"
   ]
  },
  {
   "cell_type": "markdown",
   "id": "bf2cfaf1-3ebf-4a3c-ad0b-336dfd74b573",
   "metadata": {},
   "source": [
    "### Definition (Probability Law is a Measure)\n",
    "\n",
    "\n",
    "The notion of measure is important for us to understand.\n",
    "\n",
    "**Stanley H. Chan: Introduction to Probability for Data Science, 2021. (pp. 68)**"
   ]
  },
  {
   "cell_type": "markdown",
   "id": "8a06deb9-29d1-4b8c-b586-a891514d36c2",
   "metadata": {},
   "source": [
    "### Definition (Measure Zero Sets)\n",
    "\n",
    "This definition here will be more obvious when we visit **continuous distributions** where it does not make sense to ask the question of the probability of a single point as it will always be zero.\n",
    "\n",
    "**Stanley H. Chan: Introduction to Probability for Data Science, 2021. (pp. 71)**"
   ]
  },
  {
   "cell_type": "markdown",
   "id": "2ecedbf5-9723-462a-ac30-f058f423de24",
   "metadata": {},
   "source": [
    "### Definition (Probability Space)\n",
    "\n",
    "Real-world scenarios often involve chance. We can model such scenarios mathematically. For this purpose, we'll use a mathematical object named the **experiment** $\\textbf{EXP}$ (probability space), typically denoted as an ordered triplet:\n",
    "\n",
    "$$\\text{Experiment} = (\\S, \\E, \\P)$$\n",
    "\n",
    "defined as such:\n",
    "\n",
    "- **Sample Space $\\S$:** This is simply the set of all possible outcomes. And an outcome is defined as a result of an experiment.\n",
    "    \n",
    "- **Event Space $\\E$:** This is the collection of all possible events. An event $E$ is simply any set of possible outcomes, which means that an event is a subset of the **sample space**. In turn, the event space $\\F$ is simply the set of all events.\n",
    "    \n",
    "- **Probability Function $\\P$:** A mapping function from an event $E$ to a number $\\P(E)$ which ideally measures the size of the event; usually, $\\P$ simply assigns to each event some probability between $0$ and $1$. This probability is interpreted as the likelihood of that particular event occurring.\n",
    "\n",
    "---\n",
    "\n",
    "More readings here[^Stanley H. Chan: Introduction to Probability for Data Science, 2021. (pp. 74)].\n",
    "\n",
    "\n",
    "[^Stanley H. Chan: Introduction to Probability for Data Science, 2021. (pp. 74)]: **Stanley H. Chan: Introduction to Probability for Data Science, 2021. (pp. 74)**"
   ]
  },
  {
   "cell_type": "markdown",
   "id": "16a6c7f9-148e-4185-b617-b74999a144a5",
   "metadata": {},
   "source": [
    "#### Example (Probability Space)"
   ]
  },
  {
   "cell_type": "markdown",
   "id": "c0c7c93a-bca3-4f98-9e30-9b07a314966c",
   "metadata": {},
   "source": [
    "| Definition      | Example |\n",
    "| ----------- | ----------- |\n",
    "| An Experiment is a scenario involving chance or probability      | Throwing a coin       |\n",
    "| Outcome: Result of an experiment/Probability Space       |   When you toss a coin, only outcomes are **Heads (H) or Tails (T)**  |\n",
    "| Sample Space: Set of all possible outcomes   |     $\\S = \\{\\text{Heads, Tails}\\}$    |\n",
    "| Event Space: Set of all possible events     | $\\E = \\{\\emptyset, \\{\\text{Heads}\\}, \\{\\text{Tails}\\}, \\{\\text{Heads, Tails}\\}\\}$  |\n",
    "| Events: Subset of the Sample Space  |  An event A can be getting a heads = $\\{\\text{Heads}\\}$        |\n",
    "| Probability Function: $\\P: \\E  \\to \\R$ assigns to each event a $\\textbf{probability}$ which is a number between 0 and 1     |$\\P(\\{\\text{Heads}\\}) = \\frac{1}{2}$       |"
   ]
  },
  {
   "cell_type": "markdown",
   "id": "d5f3ca9a-b3cc-4371-b6d1-dd5afdd3035c",
   "metadata": {},
   "source": [
    "**Probability (Important!):** If the sample space $\\S$ consists of a finite number of equally likely outcomes, the probability of an event $A$, denoted by $\\P(A)$, is given by:\n",
    "\n",
    "$$\n",
    "\\P(A) = \\dfrac{n(A)}{n(\\S)}\n",
    "$$ \n",
    "\n",
    "where $n(A)$ denotes the number of outcomes in the event $A$. So if event $A$ is the event where you pick a red ball, we consider $n(A)$ to be 6. This will be more formally stated later, but for now, understand the probability function as a frequency counter."
   ]
  },
  {
   "cell_type": "markdown",
   "id": "cfca6a4e-044e-4c37-be95-adf5c8e5d096",
   "metadata": {},
   "source": [
    "### The Notion of Experiments and Defining the Probability Space\n",
    "\n",
    "Consider the following example:\n",
    "\n",
    "> We have 10 balls, 6 red and 4 black. We also know that 3 of the red balls is round, and only 1 of the black balls is round. The rest of the balls which are not round are assumed to be square (may not be important here). So we were asked, what is the probability of picking one of the ball that is round, given that the ball is red? What is our sample space $\\S$, event space $\\F$?\n",
    "\n",
    "The beginner in probability (me) might not immediately see what the experiment is, and therefore cannot construct the sample space $\\S$ immediately.\n",
    "\n",
    "In this context, we can define our **experiment** to be the action of picking a ball from the $10$ balls. Notice that we did not mention any adjectives on the ball - we did not specify if the ball is red, blue or round. This can be specified here, but can also be mentioned in the sample space later.\n",
    "\n",
    "Now to define the sample space $\\S$, it is necessarily for us to know what **outcomes** are there from the **experiment**? Well, from the problem, we know that the balls we pick can be red, black, round or square (not round). So our naive construction can be:\n",
    "\n",
    "$$\n",
    "\\S = \\{\\text{red}, \\text{black}, \\text{round}, \\text{not round}\\}\n",
    "$$\n",
    "\n",
    "but this soon does not make sense because this **sample space** does not obey the **Probability Axioms (which we will go in depth in the next section)**, a simple inspection tells us that if we add the probability of drawing a red and a black ball, it sums up to $1$, but when we also sum up the probability of drawing a round ball and non-round ball, the probability gives us $1$ again, when you sum these outcomes it becomes $2$, violating the fact that the probability of observing all possible outcomes is $1$. Hence, we cannot have such a $\\S$.\n",
    "\n",
    "With some thought, we can define our sample space $\\S$ to be a set of tuples, where each tuple is **parametrized** by the balls' **color and shape**. We now denote red and black to be r and b respectively, and round and not round to be c and d respectively. We thus have:\n",
    "\n",
    "$$\n",
    "\\S = \\{(r, c), (r, d), (b, c), (b, d)\\}\n",
    "$$\n",
    "\n",
    "as our sample space. Then the rest should follow, just like the experiment of rolling 2 die.\n",
    "\n",
    "---\n",
    "\n",
    "However, what's more provoking is that this is the only way to define our sample space $\\S$, which may be confusing. A well known user on [mathstackexchange](https://math.stackexchange.com/questions/3382903/misconception-in-sample-space-event-space-of-a-picking-a-ball-question) has the following reply.\n",
    "\n",
    "Sometimes probability is so much more confusing than the rest of the fields in math - intuition is totally not there for me, notwithstanding the fact that most textbooks go straight into the axioms and formulas, which make me only want to rote learn the subject. One major hurdle that I find myself stuck in at first was how to define a sample space, a event and subsequently an event space. The textbooks examples seem too simple and when further questions present themselves, one tends to be overwhelmed.\n",
    "\n",
    "One should know that given an experiment, the sample space is entirely up to you to define it, as long as it satisfies the below:\n",
    "\n",
    "- In the sample space, the outcomes $s_1,s_2,...,s_n$ must be \\textbf{mutually exclusive.}\n",
    "- The outcomes must be collectively exhaustive  \n",
    "- The sample space must have the right granularity depending on what we are interested in. We must remove irrelevant information from the sample space. In other words, we must choose the right abstraction (forget some irrelevant information).\n",
    "    \n",
    "It is entirely up to us so long as the events that we are interested in discussing the probabilities of are subsets of the sample space that we chose and each result of an experiment is described uniquely by exactly one of the outcomes in the sample space. But looking carefully at our experiment, it says we want to pick a ball that is in a sense, both red and round. So it is important that in our outcome, there should and must be one unique outcome that describes this. In my previous attempt of coming up with a sample space pertaining to this experiment, I claimed that \n",
    "\n",
    "$$\n",
    "\\S = \\{\\text{red}, \\text{black}, \\text{round}, \\text{not round}\\}\n",
    "$$\n",
    "\n",
    "The problem is there is no unique outcome in the sample space that **desribes my red and round ball**. We can say that 2 of the outcomes (red) and (round) describes my red and round ball, but we need one unique outcome to describe this red and round ball. Hence we have to tweak a little.\n",
    "\n",
    "There are some**suggestions, not compulsory**, however when choosing a sample space. First is simplicity. For instance, in the trial of tossing a coin, we could have as a sample space \n",
    "\n",
    "$$\n",
    "\\S_1 = \\{H,T\\}\n",
    "$$\n",
    "\n",
    "Another possible sample space that we can come up with could be \n",
    "\n",
    "$$\n",
    "\\S_2= \\{H\\&R,H\\&NR,T\\&R,T\\&NR\\}\n",
    "$$ \n",
    "\n",
    "Here, $R$ stands for rains and $NR$ not rains. Obviously, $\\S_1$ is a better choice than $\\S_2$ as we do not care about how the weather affects the tossing of a coin.\n",
    "\n",
    "Secondly, we also tend to prefer sample spaces in which the outcomes are equiprobable, that is, each outcome in the sample space being equally likely to occur.  We like these choices of sample spaces since in such a scenario we can use counting techniques to calculate probabilities by taking the ratio of the size of the event compared to the size of the sample space, something which cannot be done in general.\n",
    "\n",
    "Finally,  back to our specific problem, we may *temporarily assume the balls are uniquely numbered*!  Yes, the balls might not have been numbered in reality, but by temporarily assuming they were numbered you should be able to convince yourself that the probabilities of selecting a ball of a certain type would stay the same as if they weren't and this now allows us to describe the problem with an equiprobable sample space.\n",
    "\n",
    "Here, we can let the balls be numbered $1,2,3,\\dots,10$.  The three red round balls being labeled $1,2,3$, the not round red balls being $4,5,6$, the black round ball being $7$, and the black not round balls being $8,9,10$.\n",
    "\n",
    "Our sample space then is \n",
    "\n",
    "$$\n",
    "\\S = \\{1,2,3,4,5,6,7,8,9,10\\}\n",
    "$$\n",
    "\n",
    "And our event space is the set of all subsets of our sample space. \n",
    "\n",
    "$$\n",
    "\\Sigma = \\{\\emptyset, \\{1\\},\\{2\\},..,\\{10\\},\\{1,2\\},\\{1,3\\},..,\\{9,10\\},...,\\{1,2,3,...,10\\}\\}\n",
    "$$\n",
    "\n",
    "and of course any element of the event space is considered an event. For example, let $A$ be the event such that the ball is round, and correspondingly, $A = \\{1,2,3,7\\}$. Let $B$ be the event such that the ball is red, and the correspondingly, $B = \\{1,2,3,4,5,6\\}$."
   ]
  }
 ],
 "metadata": {
  "kernelspec": {
   "display_name": "Python 3 (ipykernel)",
   "language": "python",
   "name": "python3"
  },
  "language_info": {
   "codemirror_mode": {
    "name": "ipython",
    "version": 3
   },
   "file_extension": ".py",
   "mimetype": "text/x-python",
   "name": "python",
   "nbconvert_exporter": "python",
   "pygments_lexer": "ipython3",
   "version": "3.9.11"
  }
 },
 "nbformat": 4,
 "nbformat_minor": 5
}
