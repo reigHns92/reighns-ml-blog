{
 "cells": [
  {
   "cell_type": "markdown",
   "id": "2eddaafd-1f3c-48a6-a436-449526713dea",
   "metadata": {},
   "source": [
    "$$\n",
    "\\newcommand{\\R}{\\mathbb{R}}\n",
    "\\newcommand{\\v}{\\mathbf{v}}\n",
    "\\newcommand{\\a}{\\mathbf{a}}\n",
    "\\newcommand{\\b}{\\mathbf{b}}\n",
    "\\newcommand{\\c}{\\mathbf{c}}\n",
    "\\newcommand{\\w}{\\mathbf{w}}\n",
    "\\newcommand{\\u}{\\mathbf{u}}\n",
    "\\newcommand{\\x}{\\mathbf{x}}\n",
    "\\newcommand{\\y}{\\mathbf{y}}\n",
    "\\newcommand{\\z}{\\mathbf{z}}\n",
    "\\newcommand{\\0}{\\mathbf{0}}\n",
    "\\newcommand{\\1}{\\mathbf{1}}\n",
    "\\newcommand{\\A}{\\mathbf{A}}\n",
    "\\newcommand{\\B}{\\mathbf{B}}\n",
    "\\newcommand{\\rank}{\\textbf{rank}}\n",
    "\\newcommand{\\P}{\\mathbb{P}}\n",
    "\\newcommand{\\E}{\\mathcal{F}}\n",
    "\\newcommand{\\S}{\\Omega}\n",
    "\\newcommand{\\C}{\\mathbf{C}}\n",
    "$$"
   ]
  },
  {
   "cell_type": "markdown",
   "id": "f34818ba-07f1-45d7-a0b7-71ef1df41875",
   "metadata": {},
   "source": [
    "## Permutations and Combinations"
   ]
  },
  {
   "cell_type": "markdown",
   "id": "f11c744d-57bb-4805-89ef-ef63e6b8468b",
   "metadata": {},
   "source": [
    "### The Couting Principles\n",
    "\n",
    "To fill in by referring to Choo Yan Min's book on Counting Principles."
   ]
  },
  {
   "cell_type": "markdown",
   "id": "fdb5e763-ea4b-4a34-a76e-8d525dc6a046",
   "metadata": {},
   "source": [
    "#### The Multiplication Principle (MP)\n",
    "\n",
    "We start off with a simple example. Let us assume we have to choose lunch and dinner on an airplane. We were offered 2 choices in lunch menu and 3 choices in dinner menu which we denote $l_1, l_2$ and $d_1, d_2, d_3$ respectively. \n",
    "\n",
    "We claim that there are a total of $2 \\times 3 = 6$ choices. We first convince ourselves this is true by enumerating manually:\n",
    "\n",
    "$$\n",
    "\\left|\\left\\{(l_1, d_1), (l_1, d_2), (l_1, d_3), (l_2, d_1), (l_2, d_2), (l_2, d_3)\\right\\}\\right| = 6\n",
    "$$\n",
    "\n",
    "Recall **Multiplication** is nothing but **Addition**, and $2 \\times 3$ can be understood as $3 + 3$, where we can understood it as if we choose $l_1$ and fix it as it is, how many choices can we have for dinner, the answer is 3 choices and therefore we have a total of $3 + 3$ since we have 2 lunch choices, so we add twice. The same can be said if we see $2 \\times 3$ as $2 + 2 + 2$, as we can fix dinner as $d_1$ and ask, how many choices do we have now? The answer is 2, and we see that there are 3 dinner, so add them thrice."
   ]
  },
  {
   "cell_type": "markdown",
   "id": "6f76c8f2-3215-4b1f-bad0-96d062156103",
   "metadata": {},
   "source": [
    "### Why do you multiply probabilities? \n",
    "\n",
    "Also appear in Chapter 2 summary.\n",
    "\n",
    "Consider rolling a dice twice, what is the probability that you roll a 5 and 6 respectively.\n",
    "\n",
    "We all know the answer is $\\dfrac{1}{6} \\times \\dfrac{1}{6} = \\dfrac{1}{36}$. But why?\n",
    "\n",
    "This can be first understood that our denominator is the total outcomes in our sample space $\\S$. This is $36$, why? By our counting principle on multiplication, we know that if we have $6$ choices in roll $1$ and $6$ choices in roll 2, then the cross-product is $6 \\times 6 = 36$ total choices. One can enumerate $\\{(1,1), (1,2), \\ldots, (6,6)\\}$ to see why.\n",
    "\n",
    "Now the numerator is also related to the counting principle of multiplication as well! In roll 1, rolling a 5 is 1 choice, rolling a 6 next is 1 choice, so total there is a only one combination choice $1 \\times 1$!\n",
    "\n",
    "Now if we reframe the problem to what is the probability that you roll a 1, 2 or 3 in the first roll and 2 or 3 in the second roll. Then of course our denominator don't change as $36$, but our numerator changes, since in roll 1 we have 3 choices, and roll 2 have 2 choices, by the multiplicative principle we have a total of $3 \\times 2 = 6$ choices, and so our probability is $\\dfrac{6}{36}$ now. You can verify that there are indeed $6$ choices manually.\n",
    "\n",
    "> **Now the most important part is we can use this if both events are independent! If not we need to be careful!**."
   ]
  },
  {
   "cell_type": "code",
   "execution_count": null,
   "id": "3e120646-ae9d-4b04-9ff4-b48e8a029b8d",
   "metadata": {},
   "outputs": [],
   "source": []
  }
 ],
 "metadata": {
  "kernelspec": {
   "display_name": "Python 3 (ipykernel)",
   "language": "python",
   "name": "python3"
  },
  "language_info": {
   "codemirror_mode": {
    "name": "ipython",
    "version": 3
   },
   "file_extension": ".py",
   "mimetype": "text/x-python",
   "name": "python",
   "nbconvert_exporter": "python",
   "pygments_lexer": "ipython3",
   "version": "3.9.11"
  }
 },
 "nbformat": 4,
 "nbformat_minor": 5
}
