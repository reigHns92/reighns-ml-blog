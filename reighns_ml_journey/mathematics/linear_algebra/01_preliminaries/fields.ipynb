{
 "cells": [
  {
   "cell_type": "markdown",
   "id": "62ee0323-72dd-4c08-ad8d-e05a6fa9e63e",
   "metadata": {},
   "source": [
    "$$\n",
    "\\newcommand{\\F}{\\mathbb{F}}\n",
    "\\newcommand{\\R}{\\mathbb{R}}\n",
    "\\newcommand{\\v}{\\mathbf{v}}\n",
    "\\newcommand{\\a}{\\mathbf{a}}\n",
    "\\newcommand{\\b}{\\mathbf{b}}\n",
    "\\newcommand{\\c}{\\mathbf{c}}\n",
    "\\newcommand{\\w}{\\mathbf{w}}\n",
    "\\newcommand{\\u}{\\mathbf{u}}\n",
    "\\newcommand{\\0}{\\mathbf{0}}\n",
    "\\newcommand{\\1}{\\mathbf{1}}\n",
    "$$"
   ]
  },
  {
   "cell_type": "markdown",
   "id": "5530bbd4-0c65-4136-849f-05b9e9368296",
   "metadata": {},
   "source": [
    "The following notes use reference from **Mike X Cohen: Linear Algebra: Theory, Intuition, Code, 2021.**, **Sheldon Axler: Linear Algebra Done Right, 2015.** and **Wikipedia** for intuitions, examples, formal definitions and theorems. Since I am at the introductory chapters, I will breeze through them until vector spaces."
   ]
  },
  {
   "cell_type": "markdown",
   "id": "5106653a-3c43-457c-bebe-175225e3b111",
   "metadata": {},
   "source": [
    "## Table of Contents\n",
    "\n",
    "* [Learning Objectives](#1)\n",
    "* [Field](#1)\n",
    "    * [Definition (Field)](#Import_modules_offline)\n",
    "    * [Examples of Fields](#Import_other_modules)\n",
    "    * [Notation of Fields](#11)\n",
    "    * [Summary of Fields](#11)"
   ]
  },
  {
   "cell_type": "markdown",
   "id": "94e795ee-d38d-487a-90a3-eda00f33d7f6",
   "metadata": {},
   "source": [
    "!!! summary \"Learning Objectives\"\n",
    "    - Definition of a Field"
   ]
  },
  {
   "cell_type": "markdown",
   "id": "66b27718-f14b-4fe8-a56d-30e748f5007b",
   "metadata": {
    "tags": []
   },
   "source": [
    "## Field\n",
    "\n",
    "!!! info\n",
    "    The treatment of the idea (definition) of a **field** is stated first. As we venture into the vector spaces, we can connect back with the idea of a field.\n",
    "\n",
    "### Definition (Field)\n",
    "\n",
    "!!! success \"Definition\"\n",
    "    A field[^field_def] is an ordered quintuple, $(\\F,+,0;\\times,1)$, where $\\F$ is a set, $+\\colon \\F\\times \\F \\to \\F$ and $\\times\\colon \\F \\times \\F\\to \\F$ are well defined binary operations[^well_defined] such that:\n",
    "   \n",
    "    - $\\textbf{Well Defined}$: For all $a, b \\in \\F$, we have $a + b \\in \\F$ and $a \\times b \\in \\F$. \n",
    "\n",
    "    - $\\textbf{Commutative Law for Addition}$: For all $a,b \\in \\F$, $a+b = b+a$.\n",
    "\n",
    "    - $\\textbf{Associative Law for Addition}$: For all $a,b,c \\in \\F$, $(a+b)+c = a+(b+c)$.\n",
    "\n",
    "    - $\\textbf{Existence of the Additive Identity}$: There exists $\\mathbf{0} \\in \\F$ such that $\\mathbf{0}+a=a+\\mathbf{0}=a$ for all $a\\in \\F$.\n",
    "\n",
    "        In other words, an additive identity for the set $\\F$ is any element $e$ such that for any element $x \\in \\F$, we have $e + x = x = x + e$. In familiar fields like the Real Numbers $\\R$, the additive identity is $\\mathbf{0}$.\n",
    "\n",
    "    - $\\textbf{Existence of Additive Inverse}$: For every $a \\in \\F$ there exists $b\\in \\F$ such that $a+b=b+a=0$. We call $b$ the additive inverse and denote $b$ by $-a$.\n",
    "\n",
    "    - $\\textbf{Commutative Law for Multiplication}$: For all $a,b \\in \\F$, $ab = ba$.\n",
    "\n",
    "    - $\\textbf{Associative Law for Multiplication}$: For all $a,b,c \\in \\F$, $(ab)c = a(bc)$\n",
    "\n",
    "    - $\\textbf{Existence of the Multiplicative Identity}$: There exists $\\mathbf{1}\\in \\F$ such that $\\mathbf{1} \\times a = a\\times \\mathbf{1} = a$ for all $a\\in \\F$.\n",
    "\n",
    "    - $\\textbf{Existence of Multiplicative Inverse}$: For every $a\\in \\F$, $a\\neq 0$, there exists $b\\in \\F$ such that $a\\times b = b\\times a = 1$. We call $b$ the multiplicative inverse of $a$ and denote $b$ to be $a^{-1}$.\n",
    "\n",
    "    - $\\textbf{Distributive Law}$:\n",
    "        - $\\times$ distributes over $+$ on the left: for all $a,b,c\\in \\F$, $a\\times(b+c) = (a\\times b)+(a\\times c)$.\n",
    "        - $\\times$ distributes over $+$ on the right: for all $a,b,c\\in \\F$, $(b+c)\\times a = (b\\times a)+(c\\times a)$.\n",
    "\n",
    "\n",
    "    [^field_def]: [https://en.wikipedia.org/wiki/Field_(mathematics)](https://en.wikipedia.org/wiki/Field_(mathematics))\n",
    "    [^well_defined]: [https://en.wikipedia.org/wiki/Closure_(mathematics)](https://en.wikipedia.org/wiki/Closure_(mathematics)); Well defined means closure for addition and multiplication is satisfied.\n",
    "\n",
    "---\n",
    "\n",
    "### Examples of Fields\n",
    "\n",
    "!!! example \"Example\"\n",
    "    For the number system, $\\mathbb{Q}, \\mathbb{R}, \\mathbb{C}$ are all fields while $\\mathbb{N}, \\mathbb{Z}$ are not fields. \n",
    "\n",
    "    - One can easily verify that $\\mathbb{R}$ is a field by the definition above.\n",
    "    - To show that a set is not a field, $\\mathbb{N}$ for example, it suffices to find one single counter example that do not fulfill the definition, in this case, $\\textbf{Existence of Additive Inverse}$ is not fulfilled, as there **does not exist** any element in the natural number system that has an additive inverse, i.e. pick a natural number, say number 1, the additive inverse is $-1$ but $-1$ is not in $\\mathbb{N}$.\n",
    "\n",
    "    There is a particular field called $\\F_2 = \\{0,1\\}$. Where $0$ is the additive identity and $1$ is the multiplicative identity.\n",
    "    \n",
    "---\n",
    "\n",
    "### Notation of Fields\n",
    "\n",
    "Following the book [Linear Algebra Done Right](https://linear.axler.net/), we will also claim the following:\n",
    "\n",
    "!!! note \"Notation\"\n",
    "    $\\F$ will stand for either $\\R$ or $\\mathbb{C}$ throughout.\n",
    "    \n",
    "---\n",
    "\n",
    "### Summary of Fields\n",
    "\n",
    "!!! summary \"Summary\"\n",
    "    - We can think of **Field** as a \"space\" (read: Real Numbers) where operations such as **addition and multiplication** are **well defined** (read: makes sense). **Elements** residing in a **Field** has to obey some rules.\n",
    "    - **Elements** in a **Field** are called **scalars** (keep a mental note here the distinction of a **scalar** and later, **vector**)."
   ]
  }
 ],
 "metadata": {
  "kernelspec": {
   "display_name": "Python 3 (ipykernel)",
   "language": "python",
   "name": "python3"
  },
  "language_info": {
   "codemirror_mode": {
    "name": "ipython",
    "version": 3
   },
   "file_extension": ".py",
   "mimetype": "text/x-python",
   "name": "python",
   "nbconvert_exporter": "python",
   "pygments_lexer": "ipython3",
   "version": "3.9.10"
  }
 },
 "nbformat": 4,
 "nbformat_minor": 5
}
