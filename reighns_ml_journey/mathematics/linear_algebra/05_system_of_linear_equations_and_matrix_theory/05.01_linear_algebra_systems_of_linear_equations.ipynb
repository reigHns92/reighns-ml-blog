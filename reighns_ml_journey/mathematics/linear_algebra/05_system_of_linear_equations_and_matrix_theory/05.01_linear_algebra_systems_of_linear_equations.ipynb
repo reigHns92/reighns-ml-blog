{
 "cells": [
  {
   "cell_type": "markdown",
   "id": "3fdda7e6-8fa1-4ec7-8cdf-6de4a111b46c",
   "metadata": {
    "id": "3fdda7e6-8fa1-4ec7-8cdf-6de4a111b46c"
   },
   "source": [
    "$$\\newcommand{\\F}{\\mathbb{F}}\n",
    "\\newcommand{\\R}{\\mathbb{R}}\n",
    "\\newcommand\\aug{\\fboxsep=-\\fboxrule\\!\\!\\!\\fbox{\\strut}\\!\\!\\!}\n",
    "\\newcommand{\\v}{\\mathbf{v}}\n",
    "\\newcommand{\\a}{\\mathbf{a}}\n",
    "\\newcommand{\\b}{\\mathbf{b}}\n",
    "\\newcommand{\\c}{\\mathbf{c}}\n",
    "\\newcommand{\\d}{\\mathbf{d}}\n",
    "\\newcommand{\\p}{\\mathbf{p}}\n",
    "\\newcommand{\\r}{\\mathbf{r}}\n",
    "\\newcommand{\\w}{\\mathbf{w}}\n",
    "\\newcommand{\\u}{\\mathbf{u}}\n",
    "\\newcommand{\\x}{\\mathbf{x}}\n",
    "\\newcommand{\\y}{\\mathbf{y}}\n",
    "\\newcommand{\\z}{\\mathbf{z}}\n",
    "\\newcommand{\\0}{\\mathbf{0}}\n",
    "\\newcommand{\\1}{\\mathbf{1}}\n",
    "\\newcommand{\\A}{\\mathbf{A}}\n",
    "\\newcommand{\\B}{\\mathbf{B}}\n",
    "\\newcommand{\\C}{\\mathbf{C}}\n",
    "\\newcommand{\\E}{\\mathbf{E}}\n",
    "\\newcommand{\\P}{\\mathbf{P}}$$"
   ]
  },
  {
   "cell_type": "markdown",
   "id": "3676f3f4-9c63-4e92-93b6-5a381dbef1a9",
   "metadata": {},
   "source": [
    "## General Form of Linear Equations"
   ]
  },
  {
   "cell_type": "markdown",
   "id": "552a9dd8-0820-4004-bc65-3f1fd5493f50",
   "metadata": {},
   "source": [
    "### Algebraic Definition (System of Linear Equations)\n",
    "\n",
    "A general system of $m$ linear equations with $n$ unknowns can be written as:\n",
    "\n",
    "$$\n",
    "\\begin{align}\n",
    "a_{11} x_1 + a_{12} x_2  + \\cdots + a_{1n} x_n  &= b_1 \\\\\n",
    "a_{21} x_1 + a_{22} x_2  + \\cdots + a_{2n} x_n  &= b_2 \\\\\n",
    "& \\ \\ \\vdots\\\\\n",
    "a_{m1} x_1 + a_{m2} x_2  + \\cdots + a_{mn} x_n  &= b_m,\n",
    "\\end{align}\n",
    "$$\n",
    "\n",
    "where $x_1, x_2,\\ldots,x_n$ are the unknowns, $a_{11},a_{12},\\ldots,a_{mn}$ are the coefficients of the system, and $b_1,b_2,\\ldots,b_m$ are the constant terms."
   ]
  },
  {
   "cell_type": "markdown",
   "id": "efd6a1f5-be6e-4cc5-a906-7f1cf3944ba0",
   "metadata": {},
   "source": [
    "### Matrix Definition (System of Linear Equations)\n",
    "\n",
    "The vector equation is equivalent to a matrix equation of the form $\\A\\x = \\b$, where $\\A \\in \\F^{m \\times n}$, $\\x$ a column vector in $\\F^n$ and $\\b$ a column vector in $\\F^m$.\n",
    "\n",
    "$$\n",
    "\\A =\n",
    "\\begin{bmatrix}\n",
    "a_{11} & a_{12} & \\cdots & a_{1n} \\\\\n",
    "a_{21} & a_{22} & \\cdots & a_{2n} \\\\\n",
    "\\vdots & \\vdots & \\ddots & \\vdots \\\\\n",
    "a_{m1} & a_{m2} & \\cdots & a_{mn}\n",
    "\\end{bmatrix},\\quad\n",
    "\\mathbf{x}=\n",
    "\\begin{bmatrix}\n",
    "x_1 \\\\\n",
    "x_2 \\\\\n",
    "\\vdots \\\\\n",
    "x_n\n",
    "\\end{bmatrix},\\quad\n",
    "\\mathbf{b}=\n",
    "\\begin{bmatrix}\n",
    "b_1 \\\\\n",
    "b_2 \\\\\n",
    "\\vdots \\\\\n",
    "b_m\n",
    "\\end{bmatrix}\n",
    "$$"
   ]
  },
  {
   "cell_type": "markdown",
   "id": "c1347ef8-4560-4837-b603-46e09830485e",
   "metadata": {},
   "source": [
    "### Vector Definition (System of Linear Equations)\n",
    "\n",
    "Recall in the chapter on Matrix Multiplication, we note that $\\A\\x = \\b$ is a right multiplication of a matrix $\\A$ on the vector $\\b$, and thus $\\b$ can be represented as the **linear combination of columns of $\\A$ with $x_i$ as coefficients**.\n",
    "\n",
    "$$\n",
    "\\b = x_1 \\a_1 + x_2 \\a_2 + ... + x_n \\a_n \\implies \n",
    "\\begin{bmatrix}\n",
    "b_1 \\\\\n",
    "b_2 \\\\\n",
    "\\vdots \\\\\n",
    "b_m\n",
    "\\end{bmatrix} = x_1 \\begin{bmatrix} a_{11} \\\\ a_{21} \\\\ \\vdots \\\\ a_{m1} \\end{bmatrix} + x_2 \\begin{bmatrix} a_{12} \\\\ a_{22} \\\\ \\vdots \\\\ a_{m2} \\end{bmatrix} + ... + x_n \\begin{bmatrix} a_{1n} \\\\ a_{2n} \\\\ \\vdots \\\\ a_{mn} \\end{bmatrix}\n",
    "$$"
   ]
  },
  {
   "cell_type": "markdown",
   "id": "8308f1fc-6a1a-4d79-818e-871e5775d75d",
   "metadata": {},
   "source": [
    "### Definition (Homogeneous System of Equations)\n",
    "\n",
    "A system of equations is called **homogeneous** if each equation in the system is equal to $0$ . A homogeneous system has the form:\n",
    "\n",
    "$$\n",
    "\\begin{align}\n",
    "a_{11} x_1 + a_{12} x_2  + \\cdots + a_{1n} x_n  &= 0 \\\\\n",
    "a_{21} x_1 + a_{22} x_2  + \\cdots + a_{2n} x_n  &= 0 \\\\\n",
    "& \\ \\ \\vdots\\\\\n",
    "a_{m1} x_1 + a_{m2} x_2  + \\cdots + a_{mn} x_n  &= 0,\n",
    "\\end{align}\n",
    "$$\n",
    "\n",
    "where $x_1, x_2,\\ldots,x_n$ are the unknowns, $a_{11},a_{12},\\ldots,a_{mn}$ are the coefficients of the system.\n",
    "\n",
    "> Note that this definition can be similarly translated in terms of Matrix and Vector definitions."
   ]
  },
  {
   "cell_type": "markdown",
   "id": "f97db861-a166-4377-9620-9688d43e0acd",
   "metadata": {},
   "source": [
    "### Definition (Inconsistent and Consistent Systems)\n",
    "\n",
    "- **Consistent**: A system of linear equations are called **consistent** if there exists at least one solution.\n",
    "- **Inconsistent**: A system of linear equations are called **inconsistent** if there exists no solution."
   ]
  },
  {
   "cell_type": "markdown",
   "id": "4a10a013-6155-4bc0-9f02-9e8b38886b69",
   "metadata": {},
   "source": [
    "## Elementary Row Operations\n",
    "\n",
    "Elementarty row operations provide us a way to find out if a system of linear equations is **consistent or not**."
   ]
  },
  {
   "cell_type": "markdown",
   "id": "5c6887ce-0d2b-44cb-8cf4-2090b4b3e9d0",
   "metadata": {},
   "source": [
    "### Definition (Elementary Row Operations)\n",
    "\n",
    "In order to enable us to convert a system of linear equations to an **equivalent** system, we define the following **elementary row operations**:\n",
    "\n",
    "- **Row Permutation:** Interchange any two rows of a matrix: $\\r_i \\iff \\r_j$\n",
    "- **Row Multiply:** Replace any row of a matrix with a non-zero scalar multiple of itself: $\\r_i \\to \\lambda\\r_i$\n",
    "- **Row Addition:** Replace any row of a matrix with the sum of itself and a non-zero scalar multiple of any other row: $\\r_i \\to \\r_i + \\lambda \\r_j$.\n",
    "\n",
    "**$\\r_i$ refers to row $i$ of the matrix.**"
   ]
  },
  {
   "cell_type": "markdown",
   "id": "29bc825d-3461-4f2c-b6f0-428ca44e1b10",
   "metadata": {},
   "source": [
    "### Definition (Elementary Column Operations)\n",
    "\n",
    "By replacing the word *row* to *column*, we recover the definition of **elementary column operations**."
   ]
  },
  {
   "cell_type": "markdown",
   "id": "c46452f2-bfa8-4065-8625-ad1c8b14842c",
   "metadata": {},
   "source": [
    "### Theorem (Elementary Row Operations Preserve Solution Set of Linear Systems)\n",
    "\n",
    "This theorem will be proven again later in the context of matrices. Here, I highly recommend reading the proof (without the context of matrices) from [A First Course in Linear Algebra by Ken Kuttler](https://math.libretexts.org/Bookshelves/Linear_Algebra/A_First_Course_in_Linear_Algebra_(Kuttler)/01%3A_Systems_of_Equations/1.02%3A_Elementary_Operations) where he showed that these 3 operations will not change the solution set of the original system of\n",
    "linear equations."
   ]
  },
  {
   "cell_type": "markdown",
   "id": "957604a2-a0b0-4b4c-aa52-43e40e5c5b50",
   "metadata": {},
   "source": [
    "## Gauss Elimination"
   ]
  },
  {
   "cell_type": "markdown",
   "id": "79a2eba1-0e8d-4cbe-9113-c231eedad1a1",
   "metadata": {},
   "source": [
    "### Definition (Augmented Matrix of a System of Linear Equations)\n",
    "\n",
    "We usually combine $\\A\\x = \\b$ into one system (matrix) for ease of computing elementary row operations, after all, row operations are always applied to the **whole system**.\n",
    "\n",
    "Given the general form of the linear equations, the **augmented matrix** of the system of equations is:\n",
    "\n",
    "$$\n",
    "[\\A ~|~ \\b] = \\begin{bmatrix}\n",
    "a_{11} & a_{12} & \\cdots & a_{1n} & b_1 \\\\\n",
    "a_{21} & a_{22} & \\cdots & a_{2n} & b_2 \\\\\n",
    "\\vdots & \\vdots & \\ddots & \\vdots \\\\\n",
    "a_{m1} & a_{m2} & \\cdots & a_{mn} & b_m\n",
    "\\end{bmatrix}\n",
    "$$"
   ]
  },
  {
   "cell_type": "markdown",
   "id": "4a149514-8926-4a46-987b-830b89125d28",
   "metadata": {},
   "source": [
    "### Theorem (Solving Augmented Matrix Solves the System of Linear Equations)\n",
    "\n",
    "We established that row operations on a system of linear equations preserve the orginal solution set, therefore we can apply row operations on the augmented matrix to solve the solution."
   ]
  },
  {
   "cell_type": "markdown",
   "id": "f2cd3fbe-bd88-463b-9650-f3efd2c769fa",
   "metadata": {},
   "source": [
    "### Definition (Row Echolon Form)\n",
    "\n",
    "Given a matrix $\\A \\in \\F^{m \\times n}$ and $\\b \\in \\F^{m}$, then we say the augmented matrix $[\\A ~|~ \\b]$ is in its **row echolon form** if:\n",
    "\n",
    "- Any rows that are all **zeros** must be at the bottom of the matrix, that is to say, all **zero row vectors** are grouped at the bottom.\n",
    "- The **leading coefficient (also called the pivot)** of a non-zero row is always strictly to the right of the leading coefficient of the row above it.\n",
    "- All entries in a column below a pivot are zeros.\n",
    "- Some textbooks require the leading coefficient to be 1."
   ]
  },
  {
   "cell_type": "markdown",
   "id": "e94b592e-2108-4bc0-8020-f32b614f130e",
   "metadata": {},
   "source": [
    "### Definition (Reduced Row Echolon Form)\n",
    "\n",
    "Given a matrix $\\A \\in \\F^{m \\times n}$ and $\\b \\in \\F^{m}$, then we say the augmented matrix $[\\A ~|~ \\b]$ is in its **reduced row echolon form** if:\n",
    "\n",
    "- Any rows that are all **zeros** must be at the bottom of the matrix, that is to say, all **zero row vectors** are grouped at the bottom.\n",
    "- The **leading coefficient (also called the pivot)** of a non-zero row is always strictly to the right of the leading coefficient of the row above it.\n",
    "- All entries in a column below a pivot are zeros.\n",
    "- The leading coefficient to be 1.\n",
    "- All entries in a column above and below a leading entry are zero."
   ]
  },
  {
   "cell_type": "markdown",
   "id": "5701d637-65fa-4f74-ab7e-f3e8af0d631f",
   "metadata": {},
   "source": [
    "### Definition (Pivot Position and Pivot Column)\n",
    "\n",
    "- **Pivot Position:** A **pivot position** in a matrix is the location of a leading entry in the row-echelon form of a matrix.\n",
    "\n",
    "- **Pivot Column:**  A **pivot column** is a column that contains a pivot position."
   ]
  },
  {
   "cell_type": "markdown",
   "id": "6279647b-8baa-48b1-a6eb-274acb13cd67",
   "metadata": {},
   "source": [
    "### Algorithm (Gaussian and Gaussian-Jordan Elimination)\n",
    "\n",
    "> Entirely taken from [A First Course in Linear Algebra by Ken Kuttler](https://math.libretexts.org/Bookshelves/Linear_Algebra/A_First_Course_in_Linear_Algebra_(Kuttler)).\n",
    "\n",
    "This algorithm provides a method for using row operations to take a matrix to its reduced row-echelon form. We begin with the matrix in its original form.\n",
    "\n",
    "1. Starting from the left, find the first nonzero column. This is the first pivot column, and the position at the top of this column is the first pivot position. Switch rows if necessary to place a nonzero number in the first pivot position.\n",
    "2. Use row operations to make the entries below the first pivot position (in the first pivot column) equal to zero.\n",
    "3. Ignoring the row containing the first pivot position, repeat steps 1 and 2 with the remaining rows. Repeat the process until there are no more rows to modify.\n",
    "4. Divide each nonzero row by the value of the leading entry, so that the leading entry becomes  1 . The matrix will then be in row-echelon form.\n",
    "\n",
    "> The following step will carry the matrix from row-echelon form to reduced row-echelon form.\n",
    "\n",
    "5. Moving from right to left, use row operations to create zeros in the entries of the pivot columns which are above the pivot positions. The result will be a matrix in reduced row-echelon form."
   ]
  },
  {
   "cell_type": "markdown",
   "id": "9b68df82-834f-420f-9dee-b2672821723f",
   "metadata": {},
   "source": [
    "### Definition (Types of Solutions)\n",
    "\n",
    "> Modified from [A First Course in Linear Algebra by Ken Kuttler](https://math.libretexts.org/Bookshelves/Linear_Algebra/A_First_Course_in_Linear_Algebra_(Kuttler))."
   ]
  },
  {
   "cell_type": "markdown",
   "id": "c7af368f-ca5c-4658-8e94-213e7da755e4",
   "metadata": {},
   "source": [
    "#### Definition (No Solution)\n",
    "\n",
    "In the case where the system of equations has no solution, the row-echelon form of the augmented matrix will have a row of the form:\n",
    "\n",
    "$$\n",
    "\\left[\\begin{array}{@{}ccc|c@{}}\n",
    "0 & 0 & \\cdots & b_i \\\\\n",
    "\\end{array}\\right]\n",
    "$$\n",
    "\n",
    "That is to say, there exists a row with entirely zeros in $\\A$ but the corresponding output $\\b_i \\neq 0$."
   ]
  },
  {
   "cell_type": "markdown",
   "id": "f56e3de2-73de-4d9e-9904-14549fbfc21e",
   "metadata": {},
   "source": [
    "#### Definition (One Unique Solution)\n",
    "\n",
    "We use a small example as follows:\n",
    "\n",
    "$$\n",
    "\\left[\\begin{array}{@{}ccc|c@{}}\n",
    "1 & 0 & 0 & b_1 \\\\\n",
    "0 & 1 & 0 & b_2 \\\\\n",
    "0 & 0 & 1 & b_3 \\\\\n",
    "\\end{array}\\right]\n",
    "$$\n",
    "\n",
    "This system has unique solution as every column of the coefficient matrix is a pivot column."
   ]
  },
  {
   "cell_type": "markdown",
   "id": "9ae98f8a-c556-4c6f-8a14-4be3f543a811",
   "metadata": {},
   "source": [
    "#### Definition (Infinitely Many Solutions)\n",
    "\n",
    "We use a small example as follows.\n",
    "\n",
    "In the case where the system of equations has infinitely many solutions, the solution contains parameters. There will be columns of the coefficient matrix which are not pivot columns. The following are examples of augmented matrices in reduced row-echelon form for systems of equations with infinitely many solutions.\n",
    "\n",
    "$$\n",
    "\\left[\\begin{array}{@{}ccc|c@{}}\n",
    "1 & 0 & 0 & b_1 \\\\\n",
    "0 & 1 & 0 & b_2 \\\\\n",
    "0 & 0 & 0 & 0 \\\\\n",
    "\\end{array}\\right]\n",
    "$$"
   ]
  },
  {
   "cell_type": "markdown",
   "id": "ae23814c-2a1a-4e70-9e10-57c4d1b5de9a",
   "metadata": {},
   "source": [
    "## Uniqueness of Reduced Row-Echolon Form"
   ]
  },
  {
   "cell_type": "markdown",
   "id": "b75fb65c-5cd4-4e59-a0fa-d9075c74cdbf",
   "metadata": {},
   "source": [
    "### Definition (Basis Variable)\n",
    "\n",
    "Assume a augmented matrix system $[\\A ~|~ \\b]$ in **rref**, then the variables (unknowns) $x_i$ is a **basic variable** if $[\\A ~|~ \\b]$ has a leading 1 in column number $i$, in this case, column $i$ is also a **pivot column**."
   ]
  },
  {
   "cell_type": "markdown",
   "id": "4ff600b6-90c8-4e30-8444-1a278d7bb275",
   "metadata": {},
   "source": [
    "### Definition (Free Variable)\n",
    "\n",
    "If the variable $x_i$ is not **basis**, then it is **free**."
   ]
  },
  {
   "cell_type": "markdown",
   "id": "0df36951-2baf-435a-824e-049abc842e9d",
   "metadata": {},
   "source": [
    "### Definition (Free Column)\n",
    "\n",
    "A **free column** is a column that does not contains a pivot position."
   ]
  },
  {
   "cell_type": "markdown",
   "id": "373d60d2-c17b-4be4-8802-1555b8006df8",
   "metadata": {},
   "source": [
    "### Example (Basic and Free Variable)\n",
    "\n",
    "This is best understood from an [example taken from A First Course in Linear Algebra by Ken Kuttler](https://math.libretexts.org/Bookshelves/Linear_Algebra/A_First_Course_in_Linear_Algebra_(Kuttler)).\n",
    "\n",
    "Consider the system:\n",
    "\n",
    "$$\n",
    "\\begin{align}\n",
    "x + 2y - z + w = 3 \\\\\n",
    "x + y - z + w = 1 \\\\\n",
    "x + 3y - z + w = 5\n",
    "\\end{align}\n",
    "$$\n",
    "\n",
    "we know that the augmented matrix is:\n",
    "\n",
    "$$\n",
    "\\left[\\begin{array}{@{}cccc|c@{}}\n",
    "1 & 2 & -1 & 1 & 3 \\\\\n",
    "0 & 1 & 0  & 0 & 2 \\\\\n",
    "0 & 0 & 0 & 0 & 0\\\\\n",
    "\\end{array}\\right]\n",
    "$$\n",
    "\n",
    "---\n",
    "\n"
   ]
  },
  {
   "cell_type": "markdown",
   "id": "e7d306f5-0cc8-4ad5-b477-81e1eb49420a",
   "metadata": {},
   "source": [
    "**Solution**\n",
    "\n",
    "- We always look out for the row with 1 variable to one solution (if it exists). In this case, it is $y = 2$. The perks of **rref** allows us to do this easily.\n",
    "- In the first row, it has $x + 2y - z + w = 3 \\implies x + 4 - z + w = 3 \\implies x = -1 + z - w$.\n",
    "    - Since the solution of $x$ depends on $z$ and $w$, we call $z$ and $w$ the free variable and parameters as $z$ and $w$ can actually take on any value.\n",
    "    - Set $z = s$\n",
    "    - Set $w = t$\n",
    "\n",
    "So the solution set can be described as:\n",
    "\n",
    "$$\n",
    "\\begin{bmatrix}\n",
    "x \\\\ y \\\\ z \\\\ w\n",
    "\\end{bmatrix} \n",
    "=\n",
    "\\begin{bmatrix}\n",
    "-1 + s - t \\\\ 2 \\\\ s \\\\ t\n",
    "\\end{bmatrix} \n",
    "$$\n",
    "\n",
    "and has **infinitely number of solutions**.\n",
    "\n",
    "Here, the **free variables** are the parameters $z = s$ and $w = t$, and **basic variables**."
   ]
  },
  {
   "cell_type": "markdown",
   "id": "b7700661-f8e8-40b2-b9a1-0f5ce421ea25",
   "metadata": {},
   "source": [
    "### Sorting out the confusion (Basic and Free Variables)\n",
    "\n",
    "From the example above, we can clearly see that free variables allow us to assign any values to them. The above example seems obvious, but it isn't that much if we have:\n",
    "\n",
    "$$\n",
    "\\left[\\begin{array}{@{}cccc|c@{}}\n",
    "1 & 2 & 0 & -2 & 0 \\\\\n",
    "0 & 0 & 1 & 2 & 0 \\\\\n",
    "0 & 0 & 0 & 0 & 0\\\\\n",
    "\\end{array}\\right]\n",
    "$$\n",
    "\n",
    "which translates to:\n",
    "\n",
    "$$\n",
    "\\begin{aligned}\n",
    "x_1 + 2x_2 + 0x_3 - 2x_4 = 0 \\\\\n",
    "0 x_1 + 0x_2 + x_3 + 2x_4 = 0\n",
    "\\end{aligned}\n",
    "$$\n",
    "\n",
    "By definition $x_2$ and $x_4$ are free variables, and if you ever wonder why $x_4$ is free (even though it is by definition), then you did not understand the basics.\n",
    "\n",
    "Consider simply:\n",
    "\n",
    "$$\n",
    "\\begin{aligned}\n",
    "x + y = 0 \\\\\n",
    "2x + 2y = 0\n",
    "\\end{aligned}\n",
    "$$\n",
    "\n",
    "then it is obvious that this system reduces to only solving $x + y = 0$, in which if you do **RREF**, the free variable is $y$. If you plot out the solution set, this is just a straight line $x + y = 0$ that passes through the origin. Then if you write it as $x = -y$, then this means $x$ depends on $y$, in which $y$ can be any point on the line. Similarly, if we ignore the definition of free variable, we can also write $y = -x$ and recover our favourite high school equation of a line where $y$ depends on $x$ and $x$ being independent is allowed to take on any values. But matrix theory now gives us a systematic way to approach things, we just need to know that if our unknowns is more than the equations, we are usually bound to have free variables."
   ]
  },
  {
   "cell_type": "markdown",
   "id": "a3e13746-38e2-42c8-aec7-f7062e8dfecb",
   "metadata": {},
   "source": [
    "### Word of Caution (Basic and Free Variables)\n",
    "\n",
    "Note that since normal Gaussian Elimination **REF** is not unique, there can be different free and basic variables for different **REF**. But you will see that **RREF** guarantees uniqueness."
   ]
  },
  {
   "cell_type": "markdown",
   "id": "ebe60556-48e7-4912-876d-3c12421cde3e",
   "metadata": {},
   "source": [
    "### Proposition (Basic and Free Variables)\n",
    "\n",
    "If $x_i$  is a basic variable of a homogeneous system of linear equations, then any solution of the system with $x_j=0$ for all those free variables $x_j$ with $j>i$ must also have $x_i=0$.\n",
    "\n",
    "> This is best understood by the previous example, note that we can denote:\n",
    "\n",
    "$$\n",
    "x = x_1, y = x_2, z = x_3, w = x_4\n",
    "$$\n",
    "\n",
    "and see that the free variables below $x_1$ cannot have $x_1 \\neq 0$ inside."
   ]
  },
  {
   "cell_type": "markdown",
   "id": "9d02e790-968b-4e2e-a625-5e01921c18de",
   "metadata": {},
   "source": [
    "### Lemma (Solutions and the Reduced Row-Echelon Form of a Matrix)\n",
    "\n",
    "Let $\\A$ and $\\B$ be two distinct augmented matrices for two homogeneous systems of $m$ equations in $n$ variables, such that $A$ and $B$ are each in reduced row-echelon. Then, the two systems do not have exactly the same solutions."
   ]
  },
  {
   "cell_type": "markdown",
   "id": "51110ffe-6a8a-4437-abd9-96a89fcadd5a",
   "metadata": {},
   "source": [
    "### Definition (Row Equivalence)\n",
    "\n",
    "Two matrices $\\A$ and $\\B$ are **row equivalent** if one matrix can be obtained from the other matrix by a **finite sequence of elementary row operations**.\n",
    "\n",
    "> Note that if $\\A$ can be obtained by applying a sequence of elementary row operations on $\\B$, then it follows that we just need to apply the sequence in reverse for $\\B$ to get to $\\A$."
   ]
  },
  {
   "cell_type": "markdown",
   "id": "572fb280-c663-41df-a7c7-71e37ae4b1fb",
   "metadata": {},
   "source": [
    "### Theorem (Every Matrix is row equivalent to its RREF)\n",
    "\n",
    "Every matrix $\\A \\in \\F^{m \\times n}$ is row equivalent to its **RREF**."
   ]
  },
  {
   "cell_type": "markdown",
   "id": "228cfe5f-ed70-4021-8889-fb73e44db146",
   "metadata": {},
   "source": [
    "### Theorem (Row Equivalent Augmented Matrices have the same solution set)\n",
    "\n",
    "Given $[\\A ~|~ \\b]$ and $[\\C ~|~ \\d]$, if both are **row equivalent** to each other, then the two linear systems have the same solution sets."
   ]
  },
  {
   "cell_type": "markdown",
   "id": "62fbc51f-c3ba-4d2c-a1b9-446494be3eba",
   "metadata": {},
   "source": [
    "### Theorem (RREF is Unique)\n",
    "\n",
    "Every matrix $\\A$ has a **RREF** and it is unique. To prove it one should use **Lemma (Solutions and the Reduced Row-Echelon Form of a Matrix)** and **Theorem (Row Equivalent Augmented Matrices have the same solution set)**. See [A First Course in Linear Algebra by Ken Kuttler](https://math.libretexts.org/Bookshelves/Linear_Algebra/A_First_Course_in_Linear_Algebra_(Kuttler))."
   ]
  },
  {
   "cell_type": "markdown",
   "id": "33a2a40d-6aed-4459-a50d-8c5e166a9729",
   "metadata": {},
   "source": [
    "## Rank and Homogeneous Systems\n",
    "\n",
    "The section talks about matrix rank in homogeneous systems. I felt it is better mentioned again in matrix theory. So do visit there."
   ]
  },
  {
   "cell_type": "markdown",
   "id": "61c111d1-e4f2-468d-9462-c1b25bec0878",
   "metadata": {},
   "source": [
    "## Elementary Matrices"
   ]
  },
  {
   "cell_type": "markdown",
   "id": "112ff07f-6262-48fd-af92-3a68470d364b",
   "metadata": {},
   "source": [
    "### Permutation Matrix\n",
    "\n",
    "Row Exchange:\n",
    "$$\n",
    "\\begin{align}\n",
    "x_1- 2x_2+x_3&=0\\\\\n",
    "2x_2-8x_3&=8\\\\\n",
    "-4x_1+5x_2+9x_3&=-9\n",
    "\\end{align}\n",
    "$$\n",
    "\n",
    "vs\n",
    "\n",
    "$$\n",
    "\\begin{align}\n",
    "2x_2-8x_3&=8\\\\\n",
    "x_1- 2x_2+x_3&=0\\\\\n",
    "-4x_1+5x_2+9x_3&=-9\n",
    "\\end{align}\n",
    "$$\n",
    "\n",
    "has no difference, we just swapped row 1 and 2. We can do the same in matrix for conveince.\n",
    "\n",
    "Also, given\n",
    "\n",
    "$$\n",
    "\\P = \\begin{bmatrix} 0 & 1 & 0 \\\\ 1 & 0 & 0 \\\\ 0 & 0 & 1 \\\\ \\end{bmatrix}\n",
    ",\\quad\n",
    "\\A = \\begin{bmatrix} 1 & 2 & 3 \\\\ 4 & 5 & 6 \\\\ 7 & 8 & 9 \\\\ \\end{bmatrix}\n",
    "$$\n",
    "\n",
    "then \n",
    "\n",
    "$$\\P\\A = \\begin{bmatrix} 0 & 1 & 0 \\\\ 1 & 0 & 0 \\\\ 0 & 0 & 1 \\\\ \\end{bmatrix} \\begin{bmatrix} 1 & 2 & 3 \\\\ 4 & 5 & 6 \\\\ 7 & 8 & 9 \\\\ \\end{bmatrix} = \\begin{bmatrix} 4 & 5 & 6 \\\\ 1 & 2 & 3 \\\\ 7 & 8 & 9 \\\\ \\end{bmatrix}$$\n",
    "\n",
    "and notice that row 1 and 2 are swapped by the left multiplication of the permutation matrix $\\P$. Why did it worked?\n",
    "\n",
    "Recall now\n",
    "\n",
    "$$\\P\\A = \\begin{bmatrix}\\ \\p_1 \\\\ \\p_2 \\\\  \\p_3 \\end{bmatrix}\\A = \\begin{bmatrix}\\p_1\\A \\\\ \\p_2\\A \\\\ \\p_3\\A \\end{bmatrix}$$\n",
    "\n",
    "We just look at the first row of $\\P\\A$ given by $\\p_1\\A$ which maps to the first row of $\\P\\A$.\n",
    "\n",
    "$$\\p_1\\A = 0 \\begin{bmatrix} 1 & 2 & 3 \\end{bmatrix} + 1 \\begin{bmatrix} 4 & 5 & 6 \\end{bmatrix} + 0 \\begin{bmatrix} 7 & 8 & 9 \\end{bmatrix} = \\begin{bmatrix} 4 & 5 & 6 \\end{bmatrix}$$\n",
    "\n",
    "Then the rest is the same logic:\n",
    "\n",
    "$$\\p_2\\A = 1 \\begin{bmatrix} 1 & 2 & 3 \\end{bmatrix} + 0 \\begin{bmatrix} 4 & 5 & 6  \\end{bmatrix} + 0 \\begin{bmatrix} 7 & 8 & 9 \\end{bmatrix} = \\begin{bmatrix} 1 & 2 & 3 \\end{bmatrix}$$\n",
    "\n",
    "$$\\p_3\\A = 0 \\begin{bmatrix} 1 & 2 & 3 \\end{bmatrix} + 0 \\begin{bmatrix} 4 & 5 & 6  \\end{bmatrix} + 1 \\begin{bmatrix} 7 & 8 & 9  \\end{bmatrix} = \\begin{bmatrix} 7 & 8 & 9 \\end{bmatrix}$$\n",
    "\n",
    "We now see why through **Matrix Multiplication (Left row wise)** that the **Permutation Matrix** works the way it is!"
   ]
  },
  {
   "cell_type": "markdown",
   "id": "800c8a89-659e-4c96-94ad-473fa8d83457",
   "metadata": {},
   "source": [
    "## References\n",
    "\n",
    "- [A First Course in Linear Algebra by Ken Kuttler](https://math.libretexts.org/Bookshelves/Linear_Algebra/A_First_Course_in_Linear_Algebra_(Kuttler))\n",
    "- https://math.stackexchange.com/questions/1634411/why-adding-or-subtracting-linear-equations-finds-their-intersection-point"
   ]
  }
 ],
 "metadata": {
  "colab": {
   "collapsed_sections": [],
   "name": "04_linear_algebra_vector_spaces_vector_span.ipynb",
   "provenance": []
  },
  "kernelspec": {
   "display_name": "Python 3 (ipykernel)",
   "language": "python",
   "name": "python3"
  },
  "language_info": {
   "codemirror_mode": {
    "name": "ipython",
    "version": 3
   },
   "file_extension": ".py",
   "mimetype": "text/x-python",
   "name": "python",
   "nbconvert_exporter": "python",
   "pygments_lexer": "ipython3",
   "version": "3.9.10"
  }
 },
 "nbformat": 4,
 "nbformat_minor": 5
}
