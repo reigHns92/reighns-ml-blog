{
 "cells": [
  {
   "cell_type": "markdown",
   "id": "62ee0323-72dd-4c08-ad8d-e05a6fa9e63e",
   "metadata": {},
   "source": [
    "$$\n",
    "\\newcommand{\\F}{\\mathbb{F}}\n",
    "\\newcommand{\\R}{\\mathbb{R}}\n",
    "\\newcommand{\\v}{\\mathbf{v}}\n",
    "\\newcommand{\\a}{\\mathbf{a}}\n",
    "\\newcommand{\\b}{\\mathbf{b}}\n",
    "\\newcommand{\\c}{\\mathbf{c}}\n",
    "\\newcommand{\\w}{\\mathbf{w}}\n",
    "\\newcommand{\\u}{\\mathbf{u}}\n",
    "\\newcommand{\\0}{\\mathbf{0}}\n",
    "\\newcommand{\\1}{\\mathbf{1}}\n",
    "$$"
   ]
  },
  {
   "cell_type": "markdown",
   "id": "5530bbd4-0c65-4136-849f-05b9e9368296",
   "metadata": {},
   "source": [
    "The following notes use reference from **Mike X Cohen: Linear Algebra: Theory, Intuition, Code, 2021.**, **Sheldon Axler: Linear Algebra Done Right, 2015.** and **Wikipedia** for intuitions, examples, formal definitions and theorems. Since I am at the introductory chapters, I will breeze through them until vector spaces."
   ]
  },
  {
   "cell_type": "markdown",
   "id": "5106653a-3c43-457c-bebe-175225e3b111",
   "metadata": {},
   "source": [
    "## Table of Contents\n",
    "\n",
    "* [Learning Objectives](#1)\n",
    "* [Vectors](#2)\n",
    "    * [Geometric Definition (Vectors)](#11)\n",
    "        * [Vector is Invariant under Coordinates](#11)\n",
    "    * [Algebraic Definition (Vectors)](#11)\n",
    "    * [Equality of Vectors](#11)\n",
    "    * [Vector Orientation](#11)\n",
    "        * [Example of Column and Row Vectors](#11)\n",
    "    * [Transposed Vector](#11)\n",
    "        * [Definition (Transposed Vector)](#11)\n",
    "    * [Vector Addition and Subtraction](#11)\n",
    "        * [Algebraic Definition](#11)\n",
    "        * [Geometric Definition](#11)\n",
    "        * [Vector Addition is Commutative](#11)\n",
    "    * [Vector-Scalar Multiplication](#11)\n",
    "        * [Algebraic Definition](#11)\n",
    "        * [Geometric Definition](#11)\n",
    "        * [Vector-Scalar Multiplication is Invariant under Rotation](#11)\n",
    "        * [Vector-Scalar Multiplication is Commutative](#11)\n",
    "    * [Norm of a Vector](#11)\n",
    "    * [Exercises](#11)"
   ]
  },
  {
   "cell_type": "markdown",
   "id": "94e795ee-d38d-487a-90a3-eda00f33d7f6",
   "metadata": {},
   "source": [
    "!!! summary \"Learning Objectives\"\n",
    "    - Definition of a Vector\n",
    "        - Vector Operations with both Algebraic and Geometric understanding."
   ]
  },
  {
   "cell_type": "markdown",
   "id": "a0146520-e508-4a7b-b1e3-6b15a777c2dc",
   "metadata": {},
   "source": [
    "## Vectors"
   ]
  },
  {
   "cell_type": "markdown",
   "id": "3407398e-a721-4100-aa98-89e33ebd9021",
   "metadata": {},
   "source": [
    "### Geometric Definition (Vectors)\n",
    "\n",
    "!!! success \"Definition\"\n",
    "    A **vector** can be interpretated as an geometric object (line) that are determined by **magnitude** and **direction**.\n",
    "\n",
    "\n",
    "!!! example \"Example (Vector vs Coordinate)\"\n",
    "    One thing to note is that a **vector** is different from a **coordinate/point**:\n",
    "\n",
    "    > Consider the following diagram 2.3, the three coordinates (circles) are distinct, but the three vectors (lines) are the same, that is because all 3 vectors can be **described** by \"move from the start 1 unit to the right, and 2 units down\" (read: all 3 vectors have the same magnitude and direction and can be represented by the vector $[1 -2]$). When the vector is in its standard position (the black vector), the head of the vector $[1 -2]$ overlaps with the coordinate $[1 -2]$. - **Mike X Cohen: Linear Algebra: Theory, Intuition, Code, 2021. (pp. 25)**"
   ]
  },
  {
   "cell_type": "markdown",
   "id": "66507376-c5b7-4fc8-9735-bff28564f50f",
   "metadata": {},
   "source": [
    "<img src=\"https://storage.googleapis.com/reighns/reighns_ml_projects/docs/linear_algebra/linear_algebra_theory_intuition_code_chap2_fig_2.3.svg\" style=\"margin-left:auto; margin-right:auto\"/>\n",
    "<p style=\"text-align: center\">\n",
    "    <b>Fig 2.3: 3 of the same vectors with different starting coordinates; By Hongnan G.</b>\n",
    "</p>"
   ]
  },
  {
   "cell_type": "markdown",
   "id": "ba1f4632-4a89-4b8b-a4d4-a42390f9ce75",
   "metadata": {},
   "source": [
    "#### Vector is Invariant under Coordinates\n",
    "\n",
    "The **geometric interpretation** is important and it deserves a spot of its own, we often say that a **vector is invariant under coordinates**[^Vector is Invariant under Coordinates].\n",
    "\n",
    "> A given vector is the same vector, regardless of how we identify its coordinates with respect to a particular basis. The vector is pointing in a certain direction, with a certain length, in space. If you \"moved space around the vector\" but left the vector alone, its coordinates would change, but it would still be the same vector. That's just another way of looking at expressing a vector in a different basis. At this stage, going deep into basis will be too much, but just think of basis of our point of reference, and in our case, we are using the origin as our point of reference.\n",
    "\n",
    "[^Vector is Invariant under Coordinates]: [What does it mean for a vector to remain invariant under coordinate transformation?](https://www.physicsforums.com/threads/what-does-it-mean-for-a-vector-to-remain-invariant-under-coordinate-transformation.517681/)"
   ]
  },
  {
   "cell_type": "markdown",
   "id": "5434109b-98bd-47a6-a4bb-28e1eff5a951",
   "metadata": {},
   "source": [
    "### Algebraic Definition (Vectors)\n",
    "\n",
    "!!! warning\n",
    "    The algebraic definition of **vectors** vary from different texts, though the idea is organically the same. We will pick one and stick to it!\n",
    "\n",
    "!!! success \"Definition\"\n",
    "    For a field $\\F$ and a positive integer $n$, a **vector** $\\v$ with $n$ entries $v_1, v_2, \\cdots, v_n$, each $v_i$ belonging to $\\F$, is called an $n$-vector over $\\F$. In particular, $\\v$ is **ordered** and can be represented mathematically as:\n",
    "    \n",
    "    $$\\v = \\{(v_1, v_2, \\cdots, v_n) ~|~ v_i \\in \\F\\}$$\n",
    "    \n",
    "    The set of $n$-vectors over $\\F$ is denoted $\\F^n$. We will deal with this more in vector spaces, just keep a mental note here."
   ]
  },
  {
   "cell_type": "markdown",
   "id": "eadc09a7-fd67-451b-8225-9e863b06c1e4",
   "metadata": {},
   "source": [
    "### Equality of Vectors\n",
    "\n",
    "!!! success \"Definition\"\n",
    "    - By definition of the geometrical interpretation of vectors, two vectors are **equal if and only if they have the same magnitude in the same direction**, which is why even though figure 2.3's 3 vectors look visually different, but are actually the same vector. \n",
    "    - By definition of the algebraical interpretation of vectors, two vectors $\\v_1$ and $\\v_2$ are **equal if and only if each elements of** $\\v_1$ is equal to $\\v_2$."
   ]
  },
  {
   "cell_type": "markdown",
   "id": "06fa16ed-877b-4dda-9e5e-a9ecaab49bd0",
   "metadata": {},
   "source": [
    "### Vector Orientation\n",
    "\n",
    "A **column vector** $\\v \\in \\R^n$ is defined as:\n",
    "\n",
    "$$\\v = \\begin{bmatrix}v_1 \\\\ v_2 \\\\ \\vdots \\\\ v_n \\\\ \\end{bmatrix}$$\n",
    "\n",
    "and a **row vector** $\\v \\in \\R^n$:\n",
    "\n",
    "$$\n",
    "\\v = \n",
    "\\begin{bmatrix}\n",
    "v_1 & v_2 & \\cdots & v_n\n",
    "\\end{bmatrix}\n",
    "$$\n",
    "\n",
    "---\n",
    "\n",
    "!!! info\n",
    "    By convention, a vector $\\v$ is a column vector unless stated otherwise."
   ]
  },
  {
   "cell_type": "markdown",
   "id": "d68cc418-6423-43c1-83fa-c5ab3b2fb697",
   "metadata": {},
   "source": [
    "#### Example of Column and Row Vectors\n",
    "\n",
    "The author from [Linear Algebra: Theory, Intuition, Code](https://www.amazon.com/Linear-Algebra-Theory-Intuition-Code/dp/9083136604) gave some examples in python, I've added my own comments below."
   ]
  },
  {
   "cell_type": "code",
   "execution_count": 8,
   "id": "77516b3a-06c1-45bd-b4ee-27f11935e8a7",
   "metadata": {},
   "outputs": [
    {
     "name": "stdout",
     "output_type": "stream",
     "text": [
      "v: [1 2 3]\n",
      "v shape: (3,)\n",
      "col_v: \n",
      "[[1]\n",
      " [2]\n",
      " [3]]\n",
      "col_v shape: (3, 1)\n",
      "row_v: [[1 2 3]]\n",
      "row_v shape: (1, 3)\n"
     ]
    }
   ],
   "source": [
    "import numpy as np\n",
    "\n",
    "# array, no orientation\n",
    "v = np.array([1, 2, 3])\n",
    "print(f\"v: {v}\")\n",
    "print(f\"v shape: {v.shape}\")\n",
    "\n",
    "# col. vector, note that the shape is (3, 1), means a 3 by 1 vector\n",
    "col_v = np.array([[1], [2], [3]])\n",
    "print(f\"col_v: \\n{col_v}\")\n",
    "print(f\"col_v shape: {col_v.shape}\")\n",
    "\n",
    "# row vector, note that the shape is (1, 3), means a 1 by 3 vector\n",
    "row_v = np.array([[1, 2, 3]])\n",
    "print(f\"row_v: {row_v}\")\n",
    "print(f\"row_v shape: {row_v.shape}\")"
   ]
  },
  {
   "cell_type": "markdown",
   "id": "a415d3bd-ab08-422c-9757-06514a756529",
   "metadata": {},
   "source": [
    "### Transposed Vector"
   ]
  },
  {
   "cell_type": "markdown",
   "id": "7bc6de73-d480-4a26-9104-2bb125f267e5",
   "metadata": {},
   "source": [
    "#### Definition (Transposed Vector)\n",
    "\n",
    "!!! success \"Definition\"\n",
    "    By definition, the transpose of a row vector $\\v$ is defined as:\n",
    "\n",
    "    $$\\begin{bmatrix} v_1 \\; v_2 \\; \\dots \\; v_n \\end{bmatrix}^{\\rm T} = \\begin{bmatrix} v_1 \\\\ v_2 \\\\ \\vdots \\\\ v_n \\end{bmatrix}$$\n",
    "\n",
    "    We can also tranpose a column vector to get the row vector. Worth mentioning that for any $\\v \\in \\R^n$, $\\v^\\top = (\\v^\\top)^\\top$."
   ]
  },
  {
   "cell_type": "markdown",
   "id": "ceb4c0b6-46a2-4b28-8832-b43c47859429",
   "metadata": {},
   "source": [
    "### Vector Addition and Subtraction"
   ]
  },
  {
   "cell_type": "markdown",
   "id": "677d3601-4b37-49ac-a001-105f6a383eab",
   "metadata": {},
   "source": [
    "#### Algebraic Definition (Vector Addition and Subtraction)\n",
    "\n",
    "We will go through the algebra definition first as it is easier to understand.\n",
    "\n",
    "!!! success \"Definition\"\n",
    "    For any vector $\\mathbf{a}, \\mathbf{b} \\in \\R^n$, the vector addition and subtraction can be defined as follows:\n",
    "\n",
    "    $$\\mathbf{a} \\pm \\mathbf{b} =  \\begin{bmatrix} a_1 \\pm b_1 \\; a_2 \\pm b_2 \\; \\dots \\; a_n \\pm b_n \\end{bmatrix}^{\\rm T}$$"
   ]
  },
  {
   "cell_type": "markdown",
   "id": "3a41bf23-8417-44b0-b218-38ab203a12d7",
   "metadata": {},
   "source": [
    "#### Geometric Definition (Vector Addition and Subtraction)\n",
    "\n",
    "The geometry intuition is best done with examples, with some reference from [Linear Algebra: Theory, Intuition, Code](https://www.amazon.com/Linear-Algebra-Theory-Intuition-Code/dp/9083136604). Consider the vector \n",
    "\n",
    "$$\n",
    "\\u = \n",
    "\\begin{bmatrix}\n",
    "4 & 7\n",
    "\\end{bmatrix}^\\top, \\v = \n",
    "\\begin{bmatrix}\n",
    "8 & 4\n",
    "\\end{bmatrix}^\\top\n",
    "$$\n",
    "\n",
    "corresponding to $\\u$ and $\\v$ in the diagram respectively.\n",
    "\n",
    "\n",
    "!!! example \"Vector Addition\"\n",
    "    On the left of figure 2.5:\n",
    "    \n",
    "    > To add two vectors $\\u$ and $\\v$, we first draw out vector $\\u$ and $\\v$ using $0$ as the origin point. Then, the first way is to just look at one of the vector, say $\\u$, and adding $\\v$ just means at the head of the vector $\\u$, move $8$ units to the right on the x-axis, and $4$ units upwards on the y-axis to reach $\\u+\\v = \\begin{bmatrix} 12 & 11 \\end{bmatrix}^\\top$.\n",
    "\n",
    "    > Another way is to put the start (tail) of vector $\\v$ at the end (head) of vector $\\u$. But in the diagram, the head of $\\u$ does not \"directly connect to\" the tail of $\\v$. This is where we revisit our **definition of vectors interpreted geometrically**. Remember that vectors are defined by their direction and magnitude, so if one moves vector $\\v$ from $\\begin{bmatrix} 4 & 7 \\end{bmatrix}^\\top$ to exactly where the head of $\\u$ is, then this is the head-to-tail method detailed in the previous paragraph. Note that to be exact, we shifted the blue vector $\\v$ up to the head of $\\u$, as shown in the diagram's legend. We can do this because we are not actually changing the direction and the magnitude of the vector $\\v$.\n",
    "\n",
    "---\n",
    "\n",
    "!!! example \"Vector Subtraction\"\n",
    "    There are two ways to look at subtraction. We first distinct to the readers the red vector is $\\u$ and blue vector is $\\v$, both starting from the origin.\n",
    "\n",
    "    > **First way:** we know that $\\u - \\v = \\u + (-\\v)$ and thus we can translate the subtraction problem to addition by multiplying one of the vector, here we multiply $\\v$ by $-1$. Note that $-1 \\cdot \\v = \\begin{bmatrix} -8 & -4 \\end{bmatrix}^\\top$. And then we can use back vector addition. Note that we should bear in mind that we can \"move\" the vectors freely so that the head-to-tail rules can be applied. This method corresponds to \"bottom left side of the diagram\".\n",
    "\n",
    "    > **Second way:** The second way to think about vector subtraction is to keep both vectors in their standard position, and draw the line that goes from the head of the subtracted vector (the one with the minus sign) to the head of the other vector (the one without the minus sign) (This method corresponds to \"upper right side of the diagram\"). That resulting vector is the difference. It’s not in standard position, but that doesn’t matter.  - **Mike X Cohen: Linear Algebra: Theory, Intuition, Code, 2021. (pp. 32)** \n",
    "\n",
    "---\n",
    "\n",
    "!!! info \n",
    "    Something worth noting is $\\u - \\v = -(\\v - \\u)$. Geometrically, this means that $\\u - \\v$ flips $\\v - \\u$ 180 degrees."
   ]
  },
  {
   "cell_type": "markdown",
   "id": "66cedd58-47dd-438f-8e96-c3d1452022cf",
   "metadata": {},
   "source": [
    "<img src=\"https://storage.googleapis.com/reighns/reighns_ml_projects/docs/linear_algebra/linear_algebra_theory_intuition_code_chap2_fig_2.52.svg\" style=\"margin-left:auto; margin-right:auto\"/>\n",
    "<p style=\"text-align: center\">\n",
    "    <b>Fig 2.52: Vector Addition and Subtraction; Courtesy of <a href=\"https://github.com/MacroAnalyst/Linear_Algebra_With_Python\">Macro Analyst</a>.</b>\n",
    "</p>"
   ]
  },
  {
   "cell_type": "markdown",
   "id": "80a9d141-3386-47f6-8d29-054524a6d632",
   "metadata": {
    "tags": []
   },
   "source": [
    "#### Vector Addition is Commutative\n",
    "\n",
    "!!! info\n",
    "    Although we have not formally define a **vector space over a field**, we can chime in now and say that if a set of vectors $V$ are defined over a field $\\F$, then all vectors in $V$ are **commutative** by definition of a **Field**. Therefore, the vector addition example can be done from $\\b$ to $\\a$ instead of $\\a$ to $\\b$. The power of defining objects over a field is that any vectors over this $\\F$ must obey all the rules/laws above, and commutative is one of them."
   ]
  },
  {
   "cell_type": "markdown",
   "id": "3037eb17-4ee3-4c77-86ec-7f6ad2bc9c39",
   "metadata": {},
   "source": [
    "### Vector-Scalar Multiplication"
   ]
  },
  {
   "cell_type": "markdown",
   "id": "959248cb-6452-420f-878c-94baef7d82df",
   "metadata": {},
   "source": [
    "#### Algebraic Definition (Vector-Scalar Multiplication)\n",
    "\n",
    "We go through the algebra definition first as it is easier to understand.\n",
    "\n",
    "!!! success \"Definition\"\n",
    "    For any vector $\\v \\in \\R^n$ and scalar $\\lambda \\in \\R$, the vector expression $\\lambda \\v$, \n",
    "\n",
    "    $$\\lambda \\v=  \\begin{bmatrix} \\lambda v_1 \\; \\lambda v_2 \\; \\dots \\; \\lambda v_n \\end{bmatrix}^{\\rm T}$$\n",
    "\n",
    "    is called the **Vector-Scalar Multiplication**."
   ]
  },
  {
   "cell_type": "markdown",
   "id": "0ec90697-2d8b-48c0-a78f-7edd555985f1",
   "metadata": {},
   "source": [
    "#### Geometrical Definition (Vector-Scalar Multiplication)\n",
    "\n",
    "##### Positive Scaling\n",
    "\n",
    "The easiest part is to scale a vector positively. For example, a vector $\\begin{bmatrix}1 & 2 \\end{bmatrix}^{\\rm T}$ when scaled with a scalar $\\lambda = 3$ gives $3\\begin{bmatrix}1 & 2 \\end{bmatrix}^{\\rm T} = \\begin{bmatrix}3 & 6\\end{bmatrix}^{\\rm T}$, and the diagram below illustrates the relationship. Notice that the orientation of the vector did not change, in other words, the magnitude of the scaled vector changed by a factor of $3$, but the direction did not change. \n",
    "\n",
    "##### Negative Scaling\n",
    "\n",
    "The more confusing part is to scale a vector negatively. For example, a vector $\\begin{bmatrix}1 & 2 \\end{bmatrix}^{\\rm T}$ when scaled with a scalar $\\lambda = -1$ gives $-1\\begin{bmatrix}1 & 2 \\end{bmatrix}^{\\rm T} = \\begin{bmatrix}-1 & 2\\end{bmatrix}^{\\rm T}$, diagram 2.6 below illustrates the relationship. \n",
    "\n",
    "> Note that even though the negatively scaled vector will point to the opposite direction, the \"orientation\" of the scaled vector did not change. Imagine $\\begin{bmatrix}1 & 2 \\end{bmatrix}^{\\rm T}$ is extended infinitely long both sides, then all **scaling of this vector will still be on this line**."
   ]
  },
  {
   "cell_type": "markdown",
   "id": "90aa682e-2de2-425d-a0e6-db6e60099e5f",
   "metadata": {},
   "source": [
    "<img src=\"https://storage.googleapis.com/reighns/reighns_ml_projects/docs/linear_algebra/linear_algebra_theory_intuition_code_chap2_fig_2.61.svg\" style=\"margin-left:auto; margin-right:auto\"/>\n",
    "<p style=\"text-align: center\">\n",
    "    <b>Fig 2.6: Vector-Scalar Multiplication; By Hongnan G.</b>\n",
    "</p>"
   ]
  },
  {
   "cell_type": "markdown",
   "id": "8019c102-8d1c-4aa5-b454-9eca96679991",
   "metadata": {},
   "source": [
    "#### Key Properties (Vector-Scalar Multiplication is Invariant under Rotation)\n",
    "\n",
    "!!! note \"Vector-Scalar Multiplication Invariance\"\n",
    "    Vector-scalar multiplication is conceptually and computationally simple, but do not underestimate its importance: Stretching a vector without rotating it is fundamental to many applications in linear algebra, including eigendecomposition. Sometimes, the simple things (in mathematics and in life) are the most powerful.  - **Mike X Cohen: Linear Algebra: Theory, Intuition, Code, 2021. (pp. 36)** "
   ]
  },
  {
   "cell_type": "markdown",
   "id": "16b10528-02cf-4e0f-9984-19f3a85b3eb0",
   "metadata": {},
   "source": [
    "#### Vector-Scalar Multiplication is Commutative\n",
    "\n",
    "!!! info\n",
    "    Similar to the commutative property in vector addition, **vector-scalar** multiplication is commutative as well. Therefore, the vector-scalar multiplication $\\lambda \\v = \\v \\lambda$."
   ]
  },
  {
   "cell_type": "markdown",
   "id": "a62891df-0384-44b8-b473-4e51e660babe",
   "metadata": {},
   "source": [
    "### Norm (Magnitude) of a Vector"
   ]
  },
  {
   "cell_type": "markdown",
   "id": "29df7bc9-b7ef-406f-9e84-71a1655cae27",
   "metadata": {},
   "source": [
    "#### Definition (Norm of a Vector)\n",
    "\n",
    "!!! success \"Definition\"\n",
    "    The length or the magnitude of a vector $\\v \\in \\R^n$ with elements $v_1, v_2, \\cdots, v_n$ is defined as:\n",
    "\n",
    "    $$\\|\\v\\| = \\sqrt{v_1^2 + v_2^2 + \\cdots + v_n^2}$$"
   ]
  },
  {
   "cell_type": "markdown",
   "id": "b77fc14e-a0e1-4869-905a-3653509415e5",
   "metadata": {},
   "source": [
    "### Exercise (pp. 41 of Linear Algebra: Theory, Intuition, Code, 2021.)\n",
    "\n",
    "Create a 2D vector v, 10 scalars that are drawn at random from a normal (Gaussian) distribution, and plot all 10 scalar-vector multiplications on top of each other. What do you notice?"
   ]
  },
  {
   "cell_type": "markdown",
   "id": "84dc651a-755c-4145-a128-699a09ad157c",
   "metadata": {},
   "source": [
    "You'll notice that all scaled versions of the vector form a line."
   ]
  },
  {
   "cell_type": "code",
   "execution_count": 5,
   "id": "f568386c-a69e-4c8b-b735-a9192e24f839",
   "metadata": {},
   "outputs": [
    {
     "data": {
      "image/png": "[encoded data removed]",
      "text/plain": [
       "<Figure size 432x288 with 1 Axes>"
      ]
     },
     "metadata": {
      "needs_background": "light"
     },
     "output_type": "display_data"
    }
   ],
   "source": [
    "import numpy as np\n",
    "import matplotlib.pyplot as plt\n",
    "\n",
    "# 2d col vector\n",
    "v = np.array([1, 2])\n",
    "\n",
    "# plot it\n",
    "plt.plot([0, v[0]], [0, v[1]]);"
   ]
  },
  {
   "cell_type": "code",
   "execution_count": 14,
   "id": "0e00bc82-979b-46cb-ba4b-3a2860af618f",
   "metadata": {},
   "outputs": [
    {
     "data": {
      "image/png": "[encoded data removed]",
      "text/plain": [
       "<Figure size 648x648 with 1 Axes>"
      ]
     },
     "metadata": {
      "needs_background": "light"
     },
     "output_type": "display_data"
    }
   ],
   "source": [
    "import matplotlib.font_manager as font_manager\n",
    "from numpy.random import default_rng\n",
    "rng = default_rng()\n",
    "\n",
    "fig, ax = plt.subplots(figsize=(9, 9))\n",
    "# and then plot scaled versions on top\n",
    "legends = []\n",
    "for i in range(100):\n",
    "    # random scalar\n",
    "    s = rng.standard_normal(1)[0]\n",
    "    # scaled vector\n",
    "    sv = s * v\n",
    "    plt.plot([0, sv[0]], [0, sv[1]])\n",
    "    legends.append(f\"{i+1}th vector\")\n",
    "\n",
    "\n",
    "font = font_manager.FontProperties(\n",
    "    family=\"Comic Sans MS\", weight=\"bold\", style=\"normal\", size=10\n",
    ")\n",
    "\n",
    "# only show first 10 legends!\n",
    "plt.legend(legends[0:10], loc=\"upper left\", prop=font)\n",
    "\n",
    "plt.grid(\"on\")\n",
    "plt.axis(\"square\")\n",
    "plt.axis([-6, 6, -6, 6])\n",
    "plt.show();"
   ]
  }
 ],
 "metadata": {
  "kernelspec": {
   "display_name": "Python 3 (ipykernel)",
   "language": "python",
   "name": "python3"
  },
  "language_info": {
   "codemirror_mode": {
    "name": "ipython",
    "version": 3
   },
   "file_extension": ".py",
   "mimetype": "text/x-python",
   "name": "python",
   "nbconvert_exporter": "python",
   "pygments_lexer": "ipython3",
   "version": "3.9.12"
  }
 },
 "nbformat": 4,
 "nbformat_minor": 5
}
