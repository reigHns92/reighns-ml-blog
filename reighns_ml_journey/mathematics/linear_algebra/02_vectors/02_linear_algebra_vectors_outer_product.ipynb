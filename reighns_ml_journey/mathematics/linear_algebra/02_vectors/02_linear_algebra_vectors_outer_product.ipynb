{
 "cells": [
  {
   "cell_type": "markdown",
   "metadata": {
    "id": "NSaRDt7XpiIR"
   },
   "source": [
    "$$\\newcommand{\\F}{\\mathbb{F}}\n",
    "\\newcommand{\\R}{\\mathbb{R}}\n",
    "\\newcommand{\\v}{\\mathbf{v}}\n",
    "\\newcommand{\\a}{\\mathbf{a}}\n",
    "\\newcommand{\\b}{\\mathbf{b}}\n",
    "\\newcommand{\\c}{\\mathbf{c}}\n",
    "\\newcommand{\\p}{\\mathbf{p}}\n",
    "\\newcommand{\\w}{\\mathbf{w}}\n",
    "\\newcommand{\\u}{\\mathbf{u}}\n",
    "\\newcommand{\\x}{\\mathbf{x}}\n",
    "\\newcommand{\\y}{\\mathbf{y}}\n",
    "\\newcommand{\\z}{\\mathbf{z}}\n",
    "\\newcommand{\\0}{\\mathbf{0}}\n",
    "\\newcommand{\\1}{\\mathbf{1}}\n",
    "\\newcommand{\\A}{\\mathbf{A}}\n",
    "\\newcommand{\\B}{\\mathbf{B}}\n",
    "\\newcommand{\\C}{\\mathbf{C}}\n",
    "\\newcommand{\\E}{\\mathbf{E}}\n",
    "\\newcommand{\\P}{\\mathbf{P}}$$"
   ]
  },
  {
   "cell_type": "markdown",
   "metadata": {
    "id": "V3yaLCx2pd9f"
   },
   "source": [
    "### Algebraic Definition (Outer Product)\n",
    "\n",
    "\n",
    "Given two vectors of size $m \\times 1$ and $n \\times 1$ respectively\n",
    "\n",
    "$$\n",
    "\\mathbf{u} = \\begin{bmatrix} u_1 \\\\ u_2 \\\\ \\vdots \\\\ u_m \\end{bmatrix},\n",
    "\\quad\n",
    "\\mathbf{v} = \\begin{bmatrix} v_1 \\\\ v_2 \\\\ \\vdots \\\\ v_n \\end{bmatrix}\n",
    "$$\n",
    "\n",
    "their outer product, denoted $\\mathbf{u} \\otimes \\mathbf{v}$ is defined as the $m \\times n$ matrix $\\mathbf{A}$ obtained by multiplying each element of $\\mathbf{u}$ by each element of $\\v$.\n",
    "\n",
    "$$\n",
    "\\mathbf{u} \\otimes \\mathbf{v} = \\mathbf{A} = \n",
    "\\begin{bmatrix}\n",
    "u_1v_1 & u_1v_2 &  \\dots & u_1v_n \\\\\n",
    "u_2v_1 & u_2v_2 &  \\dots & u_2v_n \\\\\n",
    "\\vdots & \\vdots & \\ddots & \\vdots \\\\\n",
    "u_mv_1 & u_mv_2 &  \\dots & u_mv_n\n",
    "\\end{bmatrix}\n",
    "$$\n",
    "\n",
    "Or in index notation:\n",
    "\n",
    "$$(\\mathbf{u} \\otimes \\mathbf{v})_{ij} = u_i v_j$$\n",
    "\n",
    "---\n",
    "\n",
    "Denoting the dot product by $\\cdot$, if given an $n \\times 1$ vector $\\w$ then \n",
    "\n",
    "$$\n",
    "(\\mathbf{u} \\otimes \\mathbf{v}) \\mathbf{w} = (\\mathbf{v} \\cdot \\mathbf{w}) \\mathbf{u}\n",
    "$$\n",
    "\n",
    "\n",
    "If given a $1 \\times m$ vector $\\x$ then \n",
    "\n",
    "$$\n",
    "\\mathbf{x} (\\mathbf{u} \\otimes \\mathbf{v}) = (\\mathbf{x} \\cdot \\mathbf{u}) \\mathbf{v}^{\\operatorname{T}}\n",
    "$$\n",
    "\n",
    "If $\\u$ and $\\v$ are vectors of the same dimension, then $\\det (\\mathbf{u} \\otimes\\mathbf{v}) = 0$.\n",
    "\n",
    "---\n",
    "\n",
    "The outer product $\\mathbf{u} \\otimes \\mathbf{v}$ is equivalent to a matrix multiplication $\\mathbf{u} \\mathbf{v}^{\\operatorname{T}}$ provided that $\\mathbf{u}$ is represented as a $m \\times 1$ column vector and $\\mathbf{v}$ as a $n \\times 1$ column vector (which makes $\\mathbf{v}^{\\operatorname{T}}$ a row vector). For instance, if $m = 4$ and $n = 3,$ then\n",
    "\n",
    "$$\n",
    "  \\mathbf{u} \\otimes \\mathbf{v} = \\mathbf{u}\\mathbf{v}^\\textsf{T} =\n",
    "  \\begin{bmatrix}u_1 \\\\ u_2 \\\\ u_3 \\\\ u_4\\end{bmatrix}\n",
    "    \\begin{bmatrix}v_1 & v_2 & v_3\\end{bmatrix} =\n",
    "  \\begin{bmatrix}\n",
    "    u_1 v_1 & u_1 v_2 & u_1 v_3 \\\\\n",
    "    u_2 v_1 & u_2 v_2 & u_2 v_3 \\\\\n",
    "    u_3 v_1 & u_3 v_2 & u_3 v_3 \\\\\n",
    "    u_4 v_1 & u_4 v_2 & u_4 v_3\n",
    "  \\end{bmatrix}.\n",
    "$$"
   ]
  },
  {
   "cell_type": "markdown",
   "metadata": {
    "id": "vpBdQWJ5tNhs"
   },
   "source": [
    "### Column Wise Interpretation\n",
    "\n",
    "Especially from the matrix example in the previous section, one can see that the following holds:\n",
    "\n",
    "$$\n",
    "  \\mathbf{u} \\otimes \\mathbf{v} = \\mathbf{u}\\mathbf{v}^\\textsf{T} =\n",
    "  \\begin{bmatrix}u_1 \\\\ u_2 \\\\ u_3 \\\\ u_4\\end{bmatrix}\n",
    "    \\begin{bmatrix}v_1 & v_2 & v_3\\end{bmatrix} =\n",
    "  \\begin{bmatrix}\n",
    "    u_1 v_1 & u_1 v_2 & u_1 v_3 \\\\\n",
    "    u_2 v_1 & u_2 v_2 & u_2 v_3 \\\\\n",
    "    u_3 v_1 & u_3 v_2 & u_3 v_3 \\\\\n",
    "    u_4 v_1 & u_4 v_2 & u_4 v_3\n",
    "  \\end{bmatrix}\n",
    "  =\n",
    "  \\begin{bmatrix}\n",
    "    v_1 \\u & v_2 \\u & v_3 \\u\n",
    "  \\end{bmatrix}\n",
    "$$\n",
    "\n",
    "What this means is that in our example our column vector is $\\u$. Then when we do an outer product of $\\u$ on $\\v$, then notice each of the resultant matrix's columns is a scaled version of the column vector $\\u$, scaled none other by the elements of the row vector $\\v$ itself."
   ]
  },
  {
   "cell_type": "markdown",
   "metadata": {
    "id": "DQlGW1MLumwK"
   },
   "source": [
    "### Row Wise Interpretation\n",
    "\n",
    "Especially from the matrix example in the previous section, one can see that the following holds:\n",
    "\n",
    "$$\n",
    "  \\mathbf{u} \\otimes \\mathbf{v} = \\mathbf{u}\\mathbf{v}^\\textsf{T} =\n",
    "  \\begin{bmatrix}u_1 \\\\ u_2 \\\\ u_3 \\\\ u_4\\end{bmatrix}\n",
    "    \\begin{bmatrix}v_1 & v_2 & v_3\\end{bmatrix} =\n",
    "  \\begin{bmatrix}\n",
    "    u_1 v_1 & u_1 v_2 & u_1 v_3 \\\\\n",
    "    u_2 v_1 & u_2 v_2 & u_2 v_3 \\\\\n",
    "    u_3 v_1 & u_3 v_2 & u_3 v_3 \\\\\n",
    "    u_4 v_1 & u_4 v_2 & u_4 v_3\n",
    "  \\end{bmatrix}\n",
    "  =\n",
    "  \\begin{bmatrix}\n",
    "    u_1 \\v \\\\ u_2 \\v \\\\ u_3 \\v\n",
    "  \\end{bmatrix}\n",
    "$$\n",
    "\n",
    "What this means is that in our example our row vector is $\\v$. Then when we do an outer product of $\\u$ on $\\v$, then notice each of the resultant matrix's rows is a scaled version of the row vector $\\v$, scaled none other by the elements of the row vector $\\u$ itself."
   ]
  },
  {
   "cell_type": "markdown",
   "metadata": {
    "id": "4wU4790SvD4H"
   },
   "source": [
    "### Transpose Property\n",
    "\n",
    "$\\u\\v^\\top$ and $\\v\\u^\\top$. What can you deduce from this? Actually if you do an example, you will notice that the resulting matrices are the same with rows and columns swapped. That is,\n",
    "\n",
    "$$(\\u\\v^\\top)^\\top = \\v\\u^\\top$$\n",
    "\n",
    "The author Mike said that this is an important property later."
   ]
  },
  {
   "cell_type": "markdown",
   "metadata": {
    "id": "dk-AnlvIxIGE"
   },
   "source": [
    "### Applications of Outer Product\n",
    "\n",
    "Put a mental note that Outer Product has areas of applications in Machine Learning."
   ]
  }
 ],
 "metadata": {
  "colab": {
   "authorship_tag": "ABX9TyNZp8r8A41ojoVJO2Cgl9Y2",
   "collapsed_sections": [],
   "name": "Outer Product.ipynb",
   "provenance": []
  },
  "kernelspec": {
   "display_name": "Python 3 (ipykernel)",
   "language": "python",
   "name": "python3"
  },
  "language_info": {
   "codemirror_mode": {
    "name": "ipython",
    "version": 3
   },
   "file_extension": ".py",
   "mimetype": "text/x-python",
   "name": "python",
   "nbconvert_exporter": "python",
   "pygments_lexer": "ipython3",
   "version": "3.9.10"
  }
 },
 "nbformat": 4,
 "nbformat_minor": 4
}
